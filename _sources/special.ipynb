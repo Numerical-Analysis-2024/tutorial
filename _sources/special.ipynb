{
 "cells": [
  {
   "cell_type": "markdown",
   "id": "5872cf9d-21a0-4b85-a5a2-dc776296c350",
   "metadata": {},
   "source": [
    "# Sistemas de Ecuaciones Lineales Especiales"
   ]
  },
  {
   "cell_type": "code",
   "execution_count": 1,
   "id": "43b6f9c7-1a49-4969-90a4-c82b1078072e",
   "metadata": {},
   "outputs": [],
   "source": [
    "import numpy as np\n",
    "import numpy.linalg as la"
   ]
  },
  {
   "cell_type": "code",
   "execution_count": 2,
   "id": "7dc316cd",
   "metadata": {},
   "outputs": [
    {
     "name": "stdout",
     "output_type": "stream",
     "text": [
      "Help on class range in module builtins:\n",
      "\n",
      "class range(object)\n",
      " |  range(stop) -> range object\n",
      " |  range(start, stop[, step]) -> range object\n",
      " |  \n",
      " |  Return an object that produces a sequence of integers from start (inclusive)\n",
      " |  to stop (exclusive) by step.  range(i, j) produces i, i+1, i+2, ..., j-1.\n",
      " |  start defaults to 0, and stop is omitted!  range(4) produces 0, 1, 2, 3.\n",
      " |  These are exactly the valid indices for a list of 4 elements.\n",
      " |  When step is given, it specifies the increment (or decrement).\n",
      " |  \n",
      " |  Methods defined here:\n",
      " |  \n",
      " |  __bool__(self, /)\n",
      " |      True if self else False\n",
      " |  \n",
      " |  __contains__(self, key, /)\n",
      " |      Return key in self.\n",
      " |  \n",
      " |  __eq__(self, value, /)\n",
      " |      Return self==value.\n",
      " |  \n",
      " |  __ge__(self, value, /)\n",
      " |      Return self>=value.\n",
      " |  \n",
      " |  __getattribute__(self, name, /)\n",
      " |      Return getattr(self, name).\n",
      " |  \n",
      " |  __getitem__(self, key, /)\n",
      " |      Return self[key].\n",
      " |  \n",
      " |  __gt__(self, value, /)\n",
      " |      Return self>value.\n",
      " |  \n",
      " |  __hash__(self, /)\n",
      " |      Return hash(self).\n",
      " |  \n",
      " |  __iter__(self, /)\n",
      " |      Implement iter(self).\n",
      " |  \n",
      " |  __le__(self, value, /)\n",
      " |      Return self<=value.\n",
      " |  \n",
      " |  __len__(self, /)\n",
      " |      Return len(self).\n",
      " |  \n",
      " |  __lt__(self, value, /)\n",
      " |      Return self<value.\n",
      " |  \n",
      " |  __ne__(self, value, /)\n",
      " |      Return self!=value.\n",
      " |  \n",
      " |  __reduce__(...)\n",
      " |      Helper for pickle.\n",
      " |  \n",
      " |  __repr__(self, /)\n",
      " |      Return repr(self).\n",
      " |  \n",
      " |  __reversed__(...)\n",
      " |      Return a reverse iterator.\n",
      " |  \n",
      " |  count(...)\n",
      " |      rangeobject.count(value) -> integer -- return number of occurrences of value\n",
      " |  \n",
      " |  index(...)\n",
      " |      rangeobject.index(value) -> integer -- return index of value.\n",
      " |      Raise ValueError if the value is not present.\n",
      " |  \n",
      " |  ----------------------------------------------------------------------\n",
      " |  Static methods defined here:\n",
      " |  \n",
      " |  __new__(*args, **kwargs) from builtins.type\n",
      " |      Create and return a new object.  See help(type) for accurate signature.\n",
      " |  \n",
      " |  ----------------------------------------------------------------------\n",
      " |  Data descriptors defined here:\n",
      " |  \n",
      " |  start\n",
      " |  \n",
      " |  step\n",
      " |  \n",
      " |  stop\n",
      "\n"
     ]
    }
   ],
   "source": [
    "help(range)"
   ]
  },
  {
   "cell_type": "markdown",
   "id": "c694f501-d91d-45e0-a1e4-42e17d5c437b",
   "metadata": {},
   "source": [
    "## Sustitución hacia adelante"
   ]
  },
  {
   "cell_type": "code",
   "execution_count": 3,
   "id": "f0ae4d3b-c01a-45de-98a9-ab1531bd20b4",
   "metadata": {},
   "outputs": [],
   "source": [
    "def forsub(L, bs):\n",
    "    \"\"\"\n",
    "    n: size de x\n",
    "    \"\"\"\n",
    "    n = bs.size\n",
    "    xs = np.zeros(n)\n",
    "    for i in range(n):\n",
    "        # i recorre desde 0 hasta n-1\n",
    "        xs[i] = (bs[i] - L[i, :i] @ xs[:i]) / L[i, i]\n",
    "    return xs"
   ]
  },
  {
   "cell_type": "code",
   "execution_count": 4,
   "id": "79679307-b930-4d15-8431-fe62c7c34887",
   "metadata": {},
   "outputs": [
    {
     "name": "stdout",
     "output_type": "stream",
     "text": [
      "Help on _ArrayFunctionDispatcher in module numpy:\n",
      "\n",
      "tril(m, k=0)\n",
      "    Lower triangle of an array.\n",
      "    \n",
      "    Return a copy of an array with elements above the `k`-th diagonal zeroed.\n",
      "    For arrays with ``ndim`` exceeding 2, `tril` will apply to the final two\n",
      "    axes.\n",
      "    \n",
      "    Parameters\n",
      "    ----------\n",
      "    m : array_like, shape (..., M, N)\n",
      "        Input array.\n",
      "    k : int, optional\n",
      "        Diagonal above which to zero elements.  `k = 0` (the default) is the\n",
      "        main diagonal, `k < 0` is below it and `k > 0` is above.\n",
      "    \n",
      "    Returns\n",
      "    -------\n",
      "    tril : ndarray, shape (..., M, N)\n",
      "        Lower triangle of `m`, of same shape and data-type as `m`.\n",
      "    \n",
      "    See Also\n",
      "    --------\n",
      "    triu : same thing, only for the upper triangle\n",
      "    \n",
      "    Examples\n",
      "    --------\n",
      "    >>> np.tril([[1,2,3],[4,5,6],[7,8,9],[10,11,12]], -1)\n",
      "    array([[ 0,  0,  0],\n",
      "           [ 4,  0,  0],\n",
      "           [ 7,  8,  0],\n",
      "           [10, 11, 12]])\n",
      "    \n",
      "    >>> np.tril(np.arange(3*4*5).reshape(3, 4, 5))\n",
      "    array([[[ 0,  0,  0,  0,  0],\n",
      "            [ 5,  6,  0,  0,  0],\n",
      "            [10, 11, 12,  0,  0],\n",
      "            [15, 16, 17, 18,  0]],\n",
      "           [[20,  0,  0,  0,  0],\n",
      "            [25, 26,  0,  0,  0],\n",
      "            [30, 31, 32,  0,  0],\n",
      "            [35, 36, 37, 38,  0]],\n",
      "           [[40,  0,  0,  0,  0],\n",
      "            [45, 46,  0,  0,  0],\n",
      "            [50, 51, 52,  0,  0],\n",
      "            [55, 56, 57, 58,  0]]])\n",
      "\n"
     ]
    }
   ],
   "source": [
    "help(np.tril)"
   ]
  },
  {
   "cell_type": "code",
   "execution_count": 5,
   "id": "42e86f3e-e467-4d4b-b14c-ded2b0c1a4dc",
   "metadata": {},
   "outputs": [],
   "source": [
    "L = np.array([[1, 3, 8], [-2, np.pi, 0], [2, -1, 1]])"
   ]
  },
  {
   "cell_type": "code",
   "execution_count": 6,
   "id": "147a7029-8288-4c93-b007-59567468fa2b",
   "metadata": {},
   "outputs": [
    {
     "data": {
      "text/plain": [
       "array([[ 1.        ,  3.        ,  8.        ],\n",
       "       [-2.        ,  3.14159265,  0.        ],\n",
       "       [ 2.        , -1.        ,  1.        ]])"
      ]
     },
     "execution_count": 6,
     "metadata": {},
     "output_type": "execute_result"
    }
   ],
   "source": [
    "L"
   ]
  },
  {
   "cell_type": "code",
   "execution_count": 7,
   "id": "fe934a52-3818-48ec-96ed-e5005f8e59d3",
   "metadata": {},
   "outputs": [],
   "source": [
    "L = np.tril(L)"
   ]
  },
  {
   "cell_type": "code",
   "execution_count": 8,
   "id": "d1fbd4de-7267-445d-a92d-59614d594408",
   "metadata": {},
   "outputs": [
    {
     "data": {
      "text/plain": [
       "array([[ 1.        ,  0.        ,  0.        ],\n",
       "       [-2.        ,  3.14159265,  0.        ],\n",
       "       [ 2.        , -1.        ,  1.        ]])"
      ]
     },
     "execution_count": 8,
     "metadata": {},
     "output_type": "execute_result"
    }
   ],
   "source": [
    "L"
   ]
  },
  {
   "cell_type": "code",
   "execution_count": 9,
   "id": "29e0f889-1c79-4ca0-aef6-82766f4af28c",
   "metadata": {},
   "outputs": [
    {
     "data": {
      "text/plain": [
       "array([ 2., -1.])"
      ]
     },
     "execution_count": 9,
     "metadata": {},
     "output_type": "execute_result"
    }
   ],
   "source": [
    "i = 2\n",
    "L[i, :i]  # desde 0 hasta i - 1"
   ]
  },
  {
   "cell_type": "code",
   "execution_count": 10,
   "id": "880fd9bb-fc32-4276-b162-10b9aca33707",
   "metadata": {},
   "outputs": [],
   "source": [
    "b = np.array([1, 2, 3])"
   ]
  },
  {
   "cell_type": "code",
   "execution_count": 11,
   "id": "2e07d691-c7b8-4c65-993b-2a19737db8aa",
   "metadata": {},
   "outputs": [
    {
     "data": {
      "text/plain": [
       "array([1, 2, 3])"
      ]
     },
     "execution_count": 11,
     "metadata": {},
     "output_type": "execute_result"
    }
   ],
   "source": [
    "b"
   ]
  },
  {
   "cell_type": "code",
   "execution_count": 12,
   "id": "ac2c6f78-3e3b-4690-94bf-bc8d2613da16",
   "metadata": {},
   "outputs": [
    {
     "data": {
      "text/plain": [
       "array([1, 2])"
      ]
     },
     "execution_count": 12,
     "metadata": {},
     "output_type": "execute_result"
    }
   ],
   "source": [
    "b[:2]"
   ]
  },
  {
   "cell_type": "code",
   "execution_count": 13,
   "id": "828ac24b-2571-49b7-860f-40e1870478fb",
   "metadata": {},
   "outputs": [],
   "source": [
    "x = np.zeros(3)"
   ]
  },
  {
   "cell_type": "code",
   "execution_count": 14,
   "id": "20958307-57e3-4fe3-9a69-8e74a1f6df5e",
   "metadata": {},
   "outputs": [],
   "source": [
    "i = 1\n",
    "x[i] = (b[i] - L[i, :i] @ x[:i]) / L[i, i]"
   ]
  },
  {
   "cell_type": "code",
   "execution_count": 15,
   "id": "b2a6cabf-1652-4b59-80fb-650f8159932b",
   "metadata": {},
   "outputs": [
    {
     "data": {
      "text/plain": [
       "array([-2.])"
      ]
     },
     "execution_count": 15,
     "metadata": {},
     "output_type": "execute_result"
    }
   ],
   "source": [
    "L[i, :i]"
   ]
  },
  {
   "cell_type": "code",
   "execution_count": 16,
   "id": "d468c36d-ac51-4c88-b1ca-82abc1096862",
   "metadata": {},
   "outputs": [
    {
     "data": {
      "text/plain": [
       "array([0.])"
      ]
     },
     "execution_count": 16,
     "metadata": {},
     "output_type": "execute_result"
    }
   ],
   "source": [
    "x[:1]"
   ]
  },
  {
   "cell_type": "code",
   "execution_count": 17,
   "id": "24fcb061-a314-496a-89a5-ba012245012f",
   "metadata": {},
   "outputs": [
    {
     "data": {
      "text/plain": [
       "array([0.        , 0.63661977, 0.        ])"
      ]
     },
     "execution_count": 17,
     "metadata": {},
     "output_type": "execute_result"
    }
   ],
   "source": [
    "x"
   ]
  },
  {
   "cell_type": "code",
   "execution_count": 18,
   "id": "67531a9f-99ee-4910-9880-36dce064efe9",
   "metadata": {},
   "outputs": [
    {
     "name": "stdout",
     "output_type": "stream",
     "text": [
      "1.0\n",
      "3.141592653589793\n",
      "1.0\n"
     ]
    }
   ],
   "source": [
    "for i in range(0, 3):\n",
    "    print(L[i, i])"
   ]
  },
  {
   "cell_type": "code",
   "execution_count": 19,
   "id": "f349152d-c31d-4acf-9fe8-71deec67d393",
   "metadata": {},
   "outputs": [],
   "source": [
    "B = np.tril(np.random.rand(3, 3))"
   ]
  },
  {
   "cell_type": "code",
   "execution_count": 20,
   "id": "9164c65d-8a51-405d-a49a-b26805d07fd2",
   "metadata": {},
   "outputs": [
    {
     "data": {
      "text/plain": [
       "array([[0.97186357, 0.        , 0.        ],\n",
       "       [0.51832   , 0.8011707 , 0.        ],\n",
       "       [0.6552698 , 0.74590637, 0.72895521]])"
      ]
     },
     "execution_count": 20,
     "metadata": {},
     "output_type": "execute_result"
    }
   ],
   "source": [
    "B"
   ]
  },
  {
   "cell_type": "markdown",
   "id": "a3aec42c-5f50-4ad5-8d1a-8d6ef7962e0c",
   "metadata": {},
   "source": [
    "## Sustitución hacia atrás"
   ]
  },
  {
   "cell_type": "code",
   "execution_count": 21,
   "id": "a1645d15-2f09-41b7-b92f-d5cbe0e844ce",
   "metadata": {},
   "outputs": [],
   "source": [
    "def backsub(U, bs):\n",
    "    n = bs.size\n",
    "    xs = np.zeros(n)\n",
    "    for i in reversed(range(n)):\n",
    "        xs[i] = (bs[i] - U[i, i + 1 :] @ xs[i + 1 :]) / U[i, i]\n",
    "    return xs"
   ]
  },
  {
   "cell_type": "code",
   "execution_count": 22,
   "id": "1c53155e-6cc6-498c-8eba-373ecc086274",
   "metadata": {},
   "outputs": [
    {
     "name": "stdout",
     "output_type": "stream",
     "text": [
      "4\n",
      "3\n",
      "2\n",
      "1\n",
      "0\n"
     ]
    }
   ],
   "source": [
    "for i in reversed(range(5)):\n",
    "    print(i)"
   ]
  },
  {
   "cell_type": "code",
   "execution_count": 23,
   "id": "df295a68-2149-4031-a5c8-1c9ead116ec0",
   "metadata": {},
   "outputs": [
    {
     "name": "stdout",
     "output_type": "stream",
     "text": [
      "Help on _ArrayFunctionDispatcher in module numpy:\n",
      "\n",
      "triu(m, k=0)\n",
      "    Upper triangle of an array.\n",
      "    \n",
      "    Return a copy of an array with the elements below the `k`-th diagonal\n",
      "    zeroed. For arrays with ``ndim`` exceeding 2, `triu` will apply to the\n",
      "    final two axes.\n",
      "    \n",
      "    Please refer to the documentation for `tril` for further details.\n",
      "    \n",
      "    See Also\n",
      "    --------\n",
      "    tril : lower triangle of an array\n",
      "    \n",
      "    Examples\n",
      "    --------\n",
      "    >>> np.triu([[1,2,3],[4,5,6],[7,8,9],[10,11,12]], -1)\n",
      "    array([[ 1,  2,  3],\n",
      "           [ 4,  5,  6],\n",
      "           [ 0,  8,  9],\n",
      "           [ 0,  0, 12]])\n",
      "    \n",
      "    >>> np.triu(np.arange(3*4*5).reshape(3, 4, 5))\n",
      "    array([[[ 0,  1,  2,  3,  4],\n",
      "            [ 0,  6,  7,  8,  9],\n",
      "            [ 0,  0, 12, 13, 14],\n",
      "            [ 0,  0,  0, 18, 19]],\n",
      "           [[20, 21, 22, 23, 24],\n",
      "            [ 0, 26, 27, 28, 29],\n",
      "            [ 0,  0, 32, 33, 34],\n",
      "            [ 0,  0,  0, 38, 39]],\n",
      "           [[40, 41, 42, 43, 44],\n",
      "            [ 0, 46, 47, 48, 49],\n",
      "            [ 0,  0, 52, 53, 54],\n",
      "            [ 0,  0,  0, 58, 59]]])\n",
      "\n"
     ]
    }
   ],
   "source": [
    "help(np.triu)"
   ]
  },
  {
   "cell_type": "markdown",
   "id": "de11a1a5-2569-468b-ac19-e2ca52564ef6",
   "metadata": {},
   "source": [
    "## Eliminación Gaussiana"
   ]
  },
  {
   "cell_type": "code",
   "execution_count": 24,
   "id": "06f0fcf3-426b-4a90-b1c9-8fc878280f64",
   "metadata": {},
   "outputs": [],
   "source": [
    "def gauelim(inA, inbs):\n",
    "    A = np.copy(inA)\n",
    "    bs = np.copy(inbs)\n",
    "    n = bs.size\n",
    "\n",
    "    for j in range(n - 1):\n",
    "        for i in range(j + 1, n):\n",
    "            coeff = A[i, j] / A[j, j]\n",
    "            A[i, j:] -= coeff * A[j, j:]\n",
    "            bs[i] -= coeff * bs[j]\n",
    "\n",
    "    xs = backsub(A, bs)\n",
    "    return xs"
   ]
  },
  {
   "cell_type": "code",
   "execution_count": 25,
   "id": "3dd925ec-de07-4c89-b59b-48ef224a1224",
   "metadata": {},
   "outputs": [],
   "source": [
    "A = np.array([[1, 3, 8], [-2, np.pi, 0], [2, -1, 1]])"
   ]
  },
  {
   "cell_type": "code",
   "execution_count": 26,
   "id": "b22bcf24-dd86-4bfb-a288-903177c5e750",
   "metadata": {},
   "outputs": [
    {
     "data": {
      "text/plain": [
       "array([[ 1.        ,  3.        ,  8.        ],\n",
       "       [-2.        ,  3.14159265,  0.        ],\n",
       "       [ 2.        , -1.        ,  1.        ]])"
      ]
     },
     "execution_count": 26,
     "metadata": {},
     "output_type": "execute_result"
    }
   ],
   "source": [
    "A"
   ]
  },
  {
   "cell_type": "code",
   "execution_count": 27,
   "id": "23043194-07d0-4a6d-8a89-cc0d075f95fd",
   "metadata": {},
   "outputs": [],
   "source": [
    "b = np.array([1, 2, 3])"
   ]
  },
  {
   "cell_type": "code",
   "execution_count": 28,
   "id": "242b25ae-bd68-4b86-ad89-aa564a73c7d8",
   "metadata": {},
   "outputs": [
    {
     "data": {
      "text/plain": [
       "array([1, 2, 3])"
      ]
     },
     "execution_count": 28,
     "metadata": {},
     "output_type": "execute_result"
    }
   ],
   "source": [
    "b"
   ]
  },
  {
   "cell_type": "code",
   "execution_count": 29,
   "id": "c8fdd119-0c0f-460f-b69d-30e93fbc4512",
   "metadata": {},
   "outputs": [],
   "source": [
    "x_solution = gauelim(A, b)"
   ]
  },
  {
   "cell_type": "code",
   "execution_count": 30,
   "id": "382d30f3-dbc4-46b2-b3d0-2887c64bdc95",
   "metadata": {},
   "outputs": [
    {
     "data": {
      "text/plain": [
       "array([ 3.6887277 ,  2.98493676, -1.45544225])"
      ]
     },
     "execution_count": 30,
     "metadata": {},
     "output_type": "execute_result"
    }
   ],
   "source": [
    "x_solution"
   ]
  },
  {
   "cell_type": "code",
   "execution_count": 31,
   "id": "6ba16285-9d69-4aa0-bfc2-55a6cc54a77d",
   "metadata": {},
   "outputs": [
    {
     "data": {
      "text/plain": [
       "array([1.        , 2.        , 2.93707639])"
      ]
     },
     "execution_count": 31,
     "metadata": {},
     "output_type": "execute_result"
    }
   ],
   "source": [
    "A @ x_solution"
   ]
  },
  {
   "cell_type": "code",
   "execution_count": 32,
   "id": "b2b2fe5c-6547-4d45-bfa4-3bd32bc4ac1b",
   "metadata": {},
   "outputs": [
    {
     "data": {
      "text/plain": [
       "array([1, 2, 3])"
      ]
     },
     "execution_count": 32,
     "metadata": {},
     "output_type": "execute_result"
    }
   ],
   "source": [
    "b"
   ]
  },
  {
   "cell_type": "code",
   "execution_count": 33,
   "id": "c2137e0f-e62f-4472-b691-d6c7c728dea5",
   "metadata": {},
   "outputs": [],
   "source": [
    "x_numpy_solution = la.solve(A, b)"
   ]
  },
  {
   "cell_type": "code",
   "execution_count": 34,
   "id": "1f77a584-45bd-40ff-bf77-2ec18a439f4c",
   "metadata": {},
   "outputs": [
    {
     "data": {
      "text/plain": [
       "array([ 3.75167348,  3.02500929, -1.47833767])"
      ]
     },
     "execution_count": 34,
     "metadata": {},
     "output_type": "execute_result"
    }
   ],
   "source": [
    "x_numpy_solution"
   ]
  },
  {
   "cell_type": "markdown",
   "id": "b368806a-14d5-4525-9655-128ab53fa1fe",
   "metadata": {},
   "source": [
    "## Descomposición LU"
   ]
  },
  {
   "cell_type": "code",
   "execution_count": 35,
   "id": "a79d65a5-09f4-4b02-81d8-901b2d780ef2",
   "metadata": {},
   "outputs": [],
   "source": [
    "def ludec(A):\n",
    "    n = A.shape[0]\n",
    "    U = np.copy(A)\n",
    "    L = np.identity(n)\n",
    "\n",
    "    for j in range(n - 1):\n",
    "        for i in range(j + 1, n):\n",
    "            coeff = U[i, j] / U[j, j]\n",
    "            U[i, j:] -= coeff * U[j, j:]\n",
    "            L[i, j] = coeff\n",
    "\n",
    "    return L, U"
   ]
  },
  {
   "cell_type": "markdown",
   "id": "2782b59f-eea6-4a17-835a-ae4669c16f1c",
   "metadata": {},
   "source": [
    "## Resolución de un sistema lineal vía LU"
   ]
  },
  {
   "cell_type": "code",
   "execution_count": 36,
   "id": "eee4e737-94df-443f-bba5-6e4037edb5c2",
   "metadata": {},
   "outputs": [],
   "source": [
    "def lusolve(A, bs):\n",
    "    L, U = ludec(A)\n",
    "    ys = forsub(L, bs)\n",
    "    xs = backsub(U, ys)\n",
    "    return xs"
   ]
  },
  {
   "cell_type": "code",
   "execution_count": 37,
   "id": "a54f60ab-0823-4831-97c2-749f3f64dbc7",
   "metadata": {},
   "outputs": [],
   "source": [
    "x_lu = lusolve(A, b)"
   ]
  },
  {
   "cell_type": "code",
   "execution_count": 38,
   "id": "4182dec0-3776-4d74-b749-d15e555ec9d6",
   "metadata": {},
   "outputs": [
    {
     "data": {
      "text/plain": [
       "array([ 3.75167348,  3.02500929, -1.47833767])"
      ]
     },
     "execution_count": 38,
     "metadata": {},
     "output_type": "execute_result"
    }
   ],
   "source": [
    "x_lu"
   ]
  },
  {
   "cell_type": "code",
   "execution_count": 39,
   "id": "ae6c6b70-00a6-44b9-9201-cdf318fd46cf",
   "metadata": {},
   "outputs": [
    {
     "name": "stdout",
     "output_type": "stream",
     "text": [
      "CPU times: user 3 µs, sys: 1 µs, total: 4 µs\n",
      "Wall time: 7.39 µs\n"
     ]
    }
   ],
   "source": [
    "%time\n",
    "y = [i for i in range(1000000)]"
   ]
  }
 ],
 "metadata": {
  "kernelspec": {
   "display_name": "Python 3 (ipykernel)",
   "language": "python",
   "name": "python3"
  },
  "language_info": {
   "codemirror_mode": {
    "name": "ipython",
    "version": 3
   },
   "file_extension": ".py",
   "mimetype": "text/x-python",
   "name": "python",
   "nbconvert_exporter": "python",
   "pygments_lexer": "ipython3",
   "version": "3.11.6"
  }
 },
 "nbformat": 4,
 "nbformat_minor": 5
}
