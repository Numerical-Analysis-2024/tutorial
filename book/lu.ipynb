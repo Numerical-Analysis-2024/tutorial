{
 "cells": [
  {
   "cell_type": "markdown",
   "id": "b9814342-886f-419a-927d-456d0b7874f1",
   "metadata": {},
   "source": [
    "# Factorización LU"
   ]
  },
  {
   "cell_type": "code",
   "execution_count": 7,
   "id": "818d92eb-be94-44b6-a164-08e2473a2157",
   "metadata": {},
   "outputs": [
    {
     "name": "stdout",
     "output_type": "stream",
     "text": [
      "\u001b[?2004l\n",
      "8.4.0\n",
      "\u001b[?2004h"
     ]
    }
   ],
   "source": [
    "disp(version)"
   ]
  },
  {
   "cell_type": "code",
   "execution_count": 6,
   "id": "ebeb9292-7cdd-4d14-9149-bd4ed6abbbc3",
   "metadata": {},
   "outputs": [
    {
     "name": "stdout",
     "output_type": "stream",
     "text": [
      "\u001b[?2004l\n",
      "I =\n",
      "\n",
      "Diagonal Matrix\n",
      "\n",
      "   1   0   0   0   0   0   0   0   0   0\n",
      "   0   1   0   0   0   0   0   0   0   0\n",
      "   0   0   1   0   0   0   0   0   0   0\n",
      "   0   0   0   1   0   0   0   0   0   0\n",
      "   0   0   0   0   1   0   0   0   0   0\n",
      "   0   0   0   0   0   1   0   0   0   0\n",
      "   0   0   0   0   0   0   1   0   0   0\n",
      "   0   0   0   0   0   0   0   1   0   0\n",
      "   0   0   0   0   0   0   0   0   1   0\n",
      "   0   0   0   0   0   0   0   0   0   1\n",
      "\n",
      "\u001b[?2004h"
     ]
    }
   ],
   "source": [
    "I = eye(10)"
   ]
  },
  {
   "cell_type": "code",
   "execution_count": null,
   "id": "bd33ffa4-c530-4147-bea2-31eb29dac945",
   "metadata": {},
   "outputs": [],
   "source": []
  }
 ],
 "metadata": {
  "kernelspec": {
   "display_name": "Octave",
   "language": "octave",
   "name": "octave"
  },
  "language_info": {
   "file_extension": ".m",
   "help_links": [
    {
     "text": "GNU Octave",
     "url": "https://www.gnu.org/software/octave/support.html"
    },
    {
     "text": "Octave Kernel",
     "url": "https://github.com/Calysto/octave_kernel"
    },
    {
     "text": "MetaKernel Magics",
     "url": "https://metakernel.readthedocs.io/en/latest/source/README.html"
    }
   ],
   "mimetype": "text/x-octave",
   "name": "octave",
   "version": "8.4.0"
  }
 },
 "nbformat": 4,
 "nbformat_minor": 5
}
