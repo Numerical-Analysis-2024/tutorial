{
 "cells": [
  {
   "cell_type": "markdown",
   "metadata": {
    "id": "7Q9C4Tq0HGku"
   },
   "source": [
    "# Manejo de vectores y matrices en Python: Módulo Numpy Parte 1\n",
    "\n",
    "![numpy_img.png](https://raw.githubusercontent.com/numpy/numpy/main/branding/logo/primary/numpylogodark.png)\n",
    "\n",
    "## Introducción\n",
    "\n",
    "Los vectores o arrays multidimensionales y matrices constituyen un pilar fundamental en el desarrollo de soluciones computacionales relacionadas con operaciones numéricas. Cuando la información es representada en esta forma entonces se dice que está \"*vectorizada*\".\n",
    "Una de las grandes ventajas de la computación vectorial es que en gran medida elimina la necesidad de usar ciclos *explícitamente*. O sea, las operaciones entre vectores son realizadas en un nivel más bajo de programación el cual suele ser mucho más eficiente. Esto evita utilizar una de las grandes desventajas de un lenguaje *interpretado* como lo es Python: estructuras de control iterativas. \n",
    "\n",
    "Por ejemplo, supongamos que se desea realizar la suma de dos vectores (*seudo-código*):\n",
    "```python\n",
    "a = [1, 2, 3, 4, 5]\n",
    "b = [5, 4, 3, 2, 1]\n",
    "```\n",
    "\n",
    "La suma podría realizarse iterando por cada uno de los correspondientes elementos de los vectores utilizando un ciclo:\n",
    "```c\n",
    "c = [0, 0, 0, 0, 0]\n",
    "for i=0 to i=len(a) do i+= 1:\n",
    "    c[i] = a[i] + b[i]\n",
    "print c\n",
    "```\n",
    "El resultado es:\n",
    "```python\n",
    "c = [6, 6, 6, 6, 6]\n",
    "```\n",
    "En este caso ```a, b, c``` no tienen por que ser vectores. Podían ser listas u otra estructura de datos secuencial mutable.\n",
    "\n",
    "El hecho de haber iterado por cada uno de los elementos implica que las instrucciones que se encuentran dentro del ciclo son interpretadas por el compilador de Python en cada iteración, realizando el proceso de compilación pertinente en cada caso. Esto es verdaderamente lento pero necesario en un lenguaje interpretado como este.\n",
    "\n",
    "Ahora, usando operationes vectorizadas entonces el pseudo-código quedaría de la siguiente forma:\n",
    "```python\n",
    "c = a + b\n",
    "```\n",
    "El resultado es el mismo que en el caso anterior pero\n",
    "1.   el código muestra de forma más clara cuál es la operación que se está realizando;\n",
    "2.   el operador suma no realiza directamente la suma por cada iteración como en el primer ejemplo porque se encuentra redefinido para que la misma se realice an un nivel más bajo y de forma más eficiente;\n",
    "3.   el resultado de la operación es directamente un nuevo vector que contiene los valores de la suma por elementos. \n",
    "\n",
    "Luego, una regla importante para realizar operaciones vectoriales es:\n",
    " \n",
    "**evitar los ciclos explícitos**.\n",
    "\n",
    "## Módulo NumPy\n",
    "\n",
    "En el ambiente de computación científica en Python ya existen estructuras de datos vectorizadas y eficientes para el trabajo con vectores y matrices, las cuales son proporcionadas por la biblioteca **NumPy**. Su núcleo se encuentra implementado en lenguaje C y provee de herramientas eficientes para el manejo de vectores y matrices. \n",
    "\n",
    "Una de las razones por las que sus operaciones con vectores y matrices son más eficientes es que, por ejemplo, en el caso de los vectores, estos son estructuras de datos homogéneas y tipadas de tamaño fijo. Esto quiere decir que los elementos que lo conforman tienen que ser del mismo tipo de dato y el tamaño del vector no puede ser cambiado sin tener que obligatoriamente crear uno nuevo. Esto le permite ser mucho más eficiente que las lsitas de Python. Adicionalmente, NumPy provee operaciones más complejas de forma eficiente para resolver problemas del Álgebra Lineal o la Transformada Rápida de Fourier entre otros.\n",
    "\n",
    "Para hacer uso del la biblioteca NumPy se debe importar de la siguiente forma:"
   ]
  },
  {
   "cell_type": "code",
   "execution_count": 2,
   "metadata": {
    "id": "o9EZ2RhgGmkA"
   },
   "outputs": [],
   "source": [
    "import numpy as np"
   ]
  },
  {
   "cell_type": "markdown",
   "metadata": {
    "id": "U9BNansBGWu1"
   },
   "source": [
    "Para más referencias acerca de esta biblioteca puede consultar el sitio [https://numpy.org](https://numpy.org).\n",
    "\n",
    "## El objeto Array del módulo NumPy\n",
    "\n",
    "La estructura de dato ```ndarray``` es implementada en NumPy para representar vectores multidimensionales. Es una de las estructuras de datos más importantes y básicas para desarrollar soluciones computacionales numéricas.\n",
    "\n",
    "La misma contiene importante metadata acerca del vector en la forma de los siguientes atributos:\n",
    "\n",
    "Atributos     |    Descripción\n",
    "--------------|-------------------------------------\n",
    "```shape```   | Retorna una Tupla que contiene el tamaño de cada dimensión del array\n",
    "```size```    | Cantidad total de elementos que contiene el vector\n",
    "```ndim```    | Número de dimensiones definidas en el vector\n",
    "```nbytes```  | Número de bytes utilizados para almacenar el vetor en memoria\n",
    "```dtype```   | El tipo de datos de sus elementos\n",
    "\n",
    "Véase el siguiente ejemplo:\n"
   ]
  },
  {
   "cell_type": "code",
   "execution_count": 3,
   "metadata": {
    "colab": {
     "base_uri": "https://localhost:8080/"
    },
    "id": "BLu4NoDfMXd-",
    "outputId": "cbfda833-48ed-42b3-885b-4ba0718ebc6e"
   },
   "outputs": [
    {
     "name": "stdout",
     "output_type": "stream",
     "text": [
      "El nombre de la clase es:  <class 'numpy.ndarray'>\n"
     ]
    }
   ],
   "source": [
    "matrix = np.array([[1, 2, 3], [4, 5, 6], [7, 8, 9]])\n",
    "print(\"El nombre de la clase es: \", type(matrix))"
   ]
  },
  {
   "cell_type": "code",
   "execution_count": 4,
   "metadata": {
    "colab": {
     "base_uri": "https://localhost:8080/"
    },
    "id": "dcZf5CFZMrML",
    "outputId": "907fc938-0df9-4cc3-e66a-6c5be157b539"
   },
   "outputs": [
    {
     "data": {
      "text/plain": [
       "array([[1, 2, 3],\n",
       "       [4, 5, 6],\n",
       "       [7, 8, 9]])"
      ]
     },
     "execution_count": 4,
     "metadata": {},
     "output_type": "execute_result"
    }
   ],
   "source": [
    "matrix"
   ]
  },
  {
   "cell_type": "code",
   "execution_count": 5,
   "metadata": {
    "colab": {
     "base_uri": "https://localhost:8080/"
    },
    "id": "aU6nTmbRNBcb",
    "outputId": "0590532d-d428-4b2b-c729-8fcb9fd072e6"
   },
   "outputs": [
    {
     "data": {
      "text/plain": [
       "2"
      ]
     },
     "execution_count": 5,
     "metadata": {},
     "output_type": "execute_result"
    }
   ],
   "source": [
    "matrix.ndim"
   ]
  },
  {
   "cell_type": "code",
   "execution_count": 6,
   "metadata": {
    "colab": {
     "base_uri": "https://localhost:8080/"
    },
    "id": "XT_f25sqNJ75",
    "outputId": "6c3b8cc1-8d3e-478e-b4c1-dda3426d94aa"
   },
   "outputs": [
    {
     "data": {
      "text/plain": [
       "(3, 3)"
      ]
     },
     "execution_count": 6,
     "metadata": {},
     "output_type": "execute_result"
    }
   ],
   "source": [
    "matrix.shape"
   ]
  },
  {
   "cell_type": "code",
   "execution_count": 7,
   "metadata": {
    "colab": {
     "base_uri": "https://localhost:8080/"
    },
    "id": "ScGQVbkkNOKh",
    "outputId": "6b38ad89-c52a-49c1-d6b2-62f5d408f040"
   },
   "outputs": [
    {
     "data": {
      "text/plain": [
       "9"
      ]
     },
     "execution_count": 7,
     "metadata": {},
     "output_type": "execute_result"
    }
   ],
   "source": [
    "matrix.size"
   ]
  },
  {
   "cell_type": "code",
   "execution_count": 8,
   "metadata": {
    "colab": {
     "base_uri": "https://localhost:8080/"
    },
    "id": "avqqpirWNSTK",
    "outputId": "111282ec-ec14-4ea9-99f8-d515f020fd46"
   },
   "outputs": [
    {
     "data": {
      "text/plain": [
       "dtype('int64')"
      ]
     },
     "execution_count": 8,
     "metadata": {},
     "output_type": "execute_result"
    }
   ],
   "source": [
    "matrix.dtype"
   ]
  },
  {
   "cell_type": "code",
   "execution_count": 9,
   "metadata": {
    "colab": {
     "base_uri": "https://localhost:8080/"
    },
    "id": "eDOlM6cJNZFR",
    "outputId": "d673dd76-5783-475a-f36f-dd04a00d4653"
   },
   "outputs": [
    {
     "data": {
      "text/plain": [
       "72"
      ]
     },
     "execution_count": 9,
     "metadata": {},
     "output_type": "execute_result"
    }
   ],
   "source": [
    "matrix.nbytes"
   ]
  },
  {
   "cell_type": "markdown",
   "metadata": {
    "id": "YmSUa4uHNgcT"
   },
   "source": [
    "* Note que el tamaño en memoria ```matrix.nbytes = 72``` corresponde con 8 bytes por cada uno de los elementos de la matriz dado que el tipo ```int64``` requiere 8 bytes.\n",
    "\n",
    "### Tipos de datos\n",
    "\n",
    "Como fue ilustrado en el ejemplo, cada elemento de un vector está representado en un tipo de dato determinado cumpliendo que es exactamente el mismo para todos en el mismo vector. Seguidamente presentamos los tipos de datos existentes y sus variantes:\n",
    "\n",
    "```dtype```       | Variante                            | Descripción\n",
    "------------------|-------------------------------------|----------------------------\n",
    "**int**           | int8, int16, int32, int64           | Números enteros\n",
    "**uint**          | uint8, uint16, uint32, uint64       | Números enteros sin signo(No negativos)\n",
    "**bool**          | bool                                | Tipo booleano (Sí o No)\n",
    "**float**         | float16, float32, float64, float128 | Números reales (de punto flotante) \n",
    "**complex**       | complex64, complex128, complex256   | Numeros complejos (de punto flotante)\n",
    "\n",
    "En dependencia del grado de precisión con que se desee trabajar se pueden escoger los tipos de datos adecuados para los vectores. Los tipos de datos por defecto son: ```int64, uint64, float64, complex128```.\n",
    "\n",
    "Veamos algunos ejemplos:"
   ]
  },
  {
   "cell_type": "code",
   "execution_count": 10,
   "metadata": {
    "colab": {
     "base_uri": "https://localhost:8080/"
    },
    "id": "5-TQTbUhQh8k",
    "outputId": "0df4c7e9-373a-480c-8dc0-ed27bdd47745"
   },
   "outputs": [
    {
     "name": "stdout",
     "output_type": "stream",
     "text": [
      "[1 2 3 4] int8\n",
      "[1. 2. 3. 4.] float64\n",
      "[1.+0.j 2.+0.j 3.+0.j] complex128\n"
     ]
    }
   ],
   "source": [
    "a = np.array([1, 2, 3, 4], dtype=\"int8\")\n",
    "b = np.array([1, 2, 3, 4], dtype=\"float\")\n",
    "c = np.array([1.0 + 0.0j, 2.0 + 0.0j, 3.0 + 0.0j], dtype=\"complex\")\n",
    "\n",
    "print(a, a.dtype)\n",
    "print(b, b.dtype)\n",
    "print(c, c.dtype)"
   ]
  },
  {
   "cell_type": "markdown",
   "metadata": {
    "id": "nsMiRxlGXD8o"
   },
   "source": [
    "También existen escenarios en los que es conveniente especificar correctamente los tipos de los datos de acuerdo a los conjuntos numéricos sobre los que estén soportadas las operaciones de su solución computacional.\n",
    "\n",
    "Cuando existe un error donde no se puede definir cuál es el número resultante de la operación, en este caso por indefinición de la función, se utiliza el valor ```nan```, el cual significa \"Non a Number\" (No es un número)."
   ]
  },
  {
   "cell_type": "code",
   "execution_count": 11,
   "metadata": {
    "colab": {
     "base_uri": "https://localhost:8080/"
    },
    "id": "n4fpjYv5Xaby",
    "outputId": "22014f35-0025-41fe-f77b-07745b72fbee"
   },
   "outputs": [
    {
     "name": "stderr",
     "output_type": "stream",
     "text": [
      "/tmp/ipykernel_23510/2452778485.py:2: RuntimeWarning: invalid value encountered in sqrt\n",
      "  np.sqrt(np.array([-10, 0, 10]))\n"
     ]
    },
    {
     "data": {
      "text/plain": [
       "array([       nan, 0.        , 3.16227766])"
      ]
     },
     "execution_count": 11,
     "metadata": {},
     "output_type": "execute_result"
    }
   ],
   "source": [
    "# La función raíz cuadrada no se encuentra definida para números negativos:\n",
    "np.sqrt(np.array([-10, 0, 10]))"
   ]
  },
  {
   "cell_type": "markdown",
   "metadata": {
    "id": "yPbEjXTgBCeD"
   },
   "source": [
    "Sin embargo, si se extiende el dominio al conjunto de los números enteros entonces:"
   ]
  },
  {
   "cell_type": "code",
   "execution_count": 12,
   "metadata": {
    "colab": {
     "base_uri": "https://localhost:8080/"
    },
    "id": "iW4PUuKDYfVl",
    "outputId": "097f806d-f1a1-4d50-a820-cfa0435cea04"
   },
   "outputs": [
    {
     "name": "stdout",
     "output_type": "stream",
     "text": [
      "números complejos: [0.        +3.16227766j 0.        +0.j         3.16227766+0.j        ]\n",
      "Parte real: [0.         0.         3.16227766]\n",
      "Parte imaginaria: [3.16227766 0.         0.        ]\n"
     ]
    }
   ],
   "source": [
    "comp = np.sqrt(np.array([-10, 0, 10], dtype=\"complex\"))\n",
    "\n",
    "print(\"números complejos:\", comp)\n",
    "print(\"Parte real:\", comp.real)\n",
    "print(\"Parte imaginaria:\", comp.imag)"
   ]
  },
  {
   "cell_type": "markdown",
   "metadata": {
    "id": "ffVUJqg_aTGx"
   },
   "source": [
    "### Generando vectores\n",
    "\n",
    "Esta sección se enfocará en la creación/generación de vectores, instancias de la clase ```ndarray```.\n",
    "\n",
    "Como ya se ha mostrado previamente se puede crear un nuevo vector usando explícitamente una lista de elementos como entrada. Esta es la forma más directa y sencilla de crear un nuevo vector pero posiblemente limitada a pocos elementos. Por supuesto que crear un vector a partir de otro vector también sería posible aunque podría pensarse que no muy útil.\n",
    "\n",
    "Además de la mencionada vía explícita existe una forma implícita de crear o más bien generar vectores. Existen multiples situaciones en las que será deseable generar un vector cuyos elementos sigan una regla determinada, o sean igual a una constante o una secuencia de números monotonamente creciente o sean definidos con un espacio equidistantes entre ellos, etc. para ello Numpy contiene una serie de funciones que lo permiten.\n",
    "\n",
    "Nombre           | Tipo de vector resultante\n",
    "-----------------|-----------------------------------------------------------\n",
    "**np.array**         | Crea un vector cuyos elementos son dados por una lista (o listas anidadas en caso de multiples dimensiones), otro vector o una secuencia iterable.  \n",
    "**np.zeros**         | Crea un vector de ceros a partir de unas dimensiones dadas.\n",
    "**np.ones**          | Crea un vector de unos a partir de unas dimensiones dadas.\n",
    "np.diag          | Crea un vector n-dimensional donde especificando los elementos de la diagonal y el resto igualado a 0.\n",
    "**np.arange**       | Crea un vector de elementos $x$ igualmente distribuidos en un intervalo $[a, b), a < b$ con espaciamiento $\\Delta t$.\n",
    "np.linspace      | Crea un vector con una cantidad $n$ de elementos $x$ igualmente separados en un intervalo $[a, b], a < b$.\n",
    "np.logspace      | Crea un vector de elementos $x$ que se encuentran distribuidos de forma logaritmica en un intervalo $[10^a, 10^b], a < b$.\n",
    "**np.meshgrid**      | Genera matrices de coordenadas (vectores n-dimensionales) a partir de vectores de coordenadas 1-dimensionales.\n",
    "np.fromfunction  | Crea un vector evaluando para cada uno de sus elementos todas las combinaciones posibles de índices dados en una función.\n",
    "np.loadtxt       | Crea un vector a partir de un fichero csv (texto de valores separados por coma).\n",
    "np.random.rand   | Crea un vector de elementos aleatorios uniformemente distribuidos $x ∼ U(0, 1)$. Existen otras distribuciones que pueden ser consultadas en el módulo np.random.\n",
    "**np.tile**          | Crea un vector que contiene otro vector x repetido una cantidad de veces n.\n",
    "**np.concatenate**   | Devuelve la concatenación de una lista de varios vectores.\n",
    "\n",
    "Otras funciones existentes irán siendo discutidas a lo largo del curso."
   ]
  },
  {
   "cell_type": "markdown",
   "metadata": {
    "id": "GAFff9NRhwkm"
   },
   "source": [
    "Veamos algunos ejemplos"
   ]
  },
  {
   "cell_type": "code",
   "execution_count": 13,
   "metadata": {
    "colab": {
     "base_uri": "https://localhost:8080/"
    },
    "id": "OYOUvNGLh2uP",
    "outputId": "e513bca9-91b8-4542-e9ea-d2cbf8322be2"
   },
   "outputs": [
    {
     "name": "stdout",
     "output_type": "stream",
     "text": [
      "Vector:\n",
      "[[1 2]\n",
      " [3 4]]\n",
      "Dimensión: 2\n",
      "Estructura: (2, 2)\n"
     ]
    }
   ],
   "source": [
    "# Creando array 2D\n",
    "m = np.array([[1, 2], [3, 4]])\n",
    "print(\"Vector:\")\n",
    "print(m)\n",
    "print(\"Dimensión:\", m.ndim)\n",
    "print(\"Estructura:\", m.shape)"
   ]
  },
  {
   "cell_type": "code",
   "execution_count": 14,
   "metadata": {
    "colab": {
     "base_uri": "https://localhost:8080/"
    },
    "id": "4cAmx0K4irKh",
    "outputId": "69d18515-b569-425b-8676-2016b3738d94"
   },
   "outputs": [
    {
     "name": "stdout",
     "output_type": "stream",
     "text": [
      "Array de ceros:\n",
      "[[0. 0. 0.]\n",
      " [0. 0. 0.]]\n",
      "Array de unos:\n",
      "[1. 1. 1. 1.]\n",
      "de tipo: float64\n"
     ]
    }
   ],
   "source": [
    "# Generando array con funciones\n",
    "\n",
    "# Array de ceros\n",
    "m = np.zeros((2, 3))\n",
    "print(\"Array de ceros:\")\n",
    "print(m)\n",
    "\n",
    "# Array de unos\n",
    "m = np.ones(4)\n",
    "print(\"Array de unos:\")\n",
    "print(m)\n",
    "print(\"de tipo:\", m.dtype)"
   ]
  },
  {
   "cell_type": "markdown",
   "metadata": {
    "id": "IIraJQxmkCHh"
   },
   "source": [
    "Supongamos que se quiere inicializar un array con una constante distinta de 0 o 1. Entonces, de acuerdo a lo aprendido hasta ahora, podría escribirse"
   ]
  },
  {
   "cell_type": "code",
   "execution_count": 16,
   "metadata": {
    "colab": {
     "base_uri": "https://localhost:8080/"
    },
    "id": "VT7VD8bdkiET",
    "outputId": "439b42dc-ffc8-4a0d-b4af-14002186faaa"
   },
   "outputs": [
    {
     "name": "stdout",
     "output_type": "stream",
     "text": [
      "[3.6 3.6 3.6 3.6 3.6]\n"
     ]
    }
   ],
   "source": [
    "x = np.ones(5) * 3.6\n",
    "print(x)"
   ]
  },
  {
   "cell_type": "markdown",
   "metadata": {
    "id": "_Q5_ajQZks4S"
   },
   "source": [
    "pero de hecho existe la función ```np.full``` que permite generar el mismo vector de constantes sin necesidad de la operación de multiplicación adicional."
   ]
  },
  {
   "cell_type": "code",
   "execution_count": 17,
   "metadata": {
    "colab": {
     "base_uri": "https://localhost:8080/"
    },
    "id": "55ttytn_lCeE",
    "outputId": "a5aee4c2-5b6f-4db7-ecb2-1388bbb04018"
   },
   "outputs": [
    {
     "name": "stdout",
     "output_type": "stream",
     "text": [
      "[3.6 3.6 3.6 3.6 3.6]\n"
     ]
    }
   ],
   "source": [
    "x = np.full(5, 3.6)\n",
    "print(x)"
   ]
  },
  {
   "cell_type": "markdown",
   "metadata": {
    "id": "UyG7RCNBlpQr"
   },
   "source": [
    "En el siguiente ejemplo se utilizarán la funciones ```np.fill``` y ```np.empty```. La primera sustituye los valores de un vector ya creado por valores constantes. En el caso de la segunda, esta crea un vector en la memoria pero no modifica los espacios de la memoria que ahora pertenecen al mismo. En ese sentido, es la forma más eficiente de crear un array pero a su vez debe de asegurarse de que posteriormente los elementos serán modificados."
   ]
  },
  {
   "cell_type": "code",
   "execution_count": 23,
   "metadata": {
    "colab": {
     "base_uri": "https://localhost:8080/"
    },
    "id": "CbvCqqHDm3VR",
    "outputId": "08c5eb89-aa74-4e7d-b052-c2d77515c176"
   },
   "outputs": [
    {
     "name": "stdout",
     "output_type": "stream",
     "text": [
      "Vector sin inicializar: [4.68279294e-310 0.00000000e+000 6.92463004e-310 6.92462698e-310\n",
      " 6.92463004e-310 6.92462698e-310 6.92463004e-310 6.92462698e-310\n",
      " 6.92463004e-310 6.92462698e-310 6.92463004e-310 6.92462698e-310\n",
      " 6.92463004e-310 6.92462698e-310 6.92463004e-310 6.92462698e-310\n",
      " 6.92463004e-310 6.92462698e-310 6.92463004e-310 6.92462698e-310\n",
      " 6.92463004e-310 6.92462698e-310 6.92463004e-310 6.92462698e-310\n",
      " 6.92463004e-310 6.92462698e-310 6.92463004e-310 6.92462698e-310\n",
      " 6.92463004e-310 6.92462698e-310 6.92463004e-310 6.92462698e-310\n",
      " 6.92463004e-310 6.92462698e-310 6.92463004e-310 6.92462698e-310\n",
      " 6.92463004e-310 6.92462698e-310 6.92463004e-310 6.92462698e-310\n",
      " 6.92463004e-310 6.92462698e-310 6.92463003e-310 6.92462698e-310\n",
      " 6.92463003e-310 6.92463004e-310 6.92463003e-310 6.92462698e-310\n",
      " 6.92463003e-310 6.92463004e-310]\n"
     ]
    }
   ],
   "source": [
    "x = np.empty(50)\n",
    "print(\n",
    "    \"Vector sin inicializar:\", x\n",
    ")  # Muestra lo que existía en los bytes de memoria que fueron escogidos para el vector x."
   ]
  },
  {
   "cell_type": "code",
   "execution_count": 24,
   "metadata": {},
   "outputs": [],
   "source": [
    "np.ndarray.fill?"
   ]
  },
  {
   "cell_type": "code",
   "execution_count": 25,
   "metadata": {
    "colab": {
     "base_uri": "https://localhost:8080/"
    },
    "id": "B9MhTohDnQkC",
    "outputId": "1c37b4d9-e054-49ab-eddf-6435a1e82a97"
   },
   "outputs": [
    {
     "name": "stdout",
     "output_type": "stream",
     "text": [
      "Vector modificado [8. 8. 8. 8. 8. 8. 8. 8. 8. 8. 8. 8. 8. 8. 8. 8. 8. 8. 8. 8. 8. 8. 8. 8.\n",
      " 8. 8. 8. 8. 8. 8. 8. 8. 8. 8. 8. 8. 8. 8. 8. 8. 8. 8. 8. 8. 8. 8. 8. 8.\n",
      " 8. 8.]\n"
     ]
    }
   ],
   "source": [
    "x.fill(8.0)\n",
    "print(\"Vector modificado\", x)"
   ]
  },
  {
   "cell_type": "markdown",
   "metadata": {
    "id": "qZWpsdttnkZn"
   },
   "source": [
    "Vectores creados por secuencias incrementales:"
   ]
  },
  {
   "cell_type": "code",
   "execution_count": 26,
   "metadata": {
    "colab": {
     "base_uri": "https://localhost:8080/"
    },
    "id": "mPZa7jeLntGq",
    "outputId": "bc6c00a7-f8d6-470b-f40b-93a826e6cc38"
   },
   "outputs": [
    {
     "name": "stdout",
     "output_type": "stream",
     "text": [
      "Equidistantes en el intervalo [a, b) separados por dx: [0.  0.5 1.  1.5 2.  2.5 3.  3.5 4.  4.5 5.  5.5 6.  6.5 7.  7.5 8.  8.5\n",
      " 9.  9.5]\n",
      "N equidistantes en el intervalo [a, b] [ 0.   2.5  5.   7.5 10. ]\n",
      "N logaritmicamente separados en el intervalo [a, b] [1.00000000e+00 3.16227766e+02 1.00000000e+05 3.16227766e+07\n",
      " 1.00000000e+10]\n"
     ]
    }
   ],
   "source": [
    "dx = 0.5\n",
    "a = 0.0\n",
    "b = 10\n",
    "n = 5\n",
    "\n",
    "# Equidistantes en el intervalo [a, b) separados por dx\n",
    "vec1 = np.arange(a, b, dx)\n",
    "# N equidistantes en el intervalo [a, b]\n",
    "vec2 = np.linspace(a, b, n)\n",
    "# N logaritmicamente separados en el intervalo [10^a, 10^b]\n",
    "vec3 = np.logspace(a, b, n)\n",
    "\n",
    "print(\"Equidistantes en el intervalo [a, b) separados por dx:\", vec1)\n",
    "print(\"N equidistantes en el intervalo [a, b]\", vec2)\n",
    "print(\"N logaritmicamente separados en el intervalo [a, b]\", vec3)"
   ]
  },
  {
   "cell_type": "markdown",
   "metadata": {
    "id": "ZEAeUN3Tp8By"
   },
   "source": [
    "Para la creación de mallas o rejillas regulares se puede utilizar ```meshgrid```. Los parámetros de entrada consistirán en dos vectores 1-dimensionales que especificarán los valores deseados en cada uno de los ejes (x, y). El resultado es una tupla que contiene dos vectores 2-dimensionales con la siguiente estructuración: X contiene el vector x como filas, repetido una cantidad de veces igual al tamaño de y; en el caso de Y se repite el vector y en forma de columnas una cantidad de veces igual al tamaño de X. \n",
    "\n",
    "De esta forma, al seleccionar un valor en la fila i, columna j de la malla o rejilla obtenida, los valores de las coordenadas pueden ser tomados de la forma ```x_ij = X[i, j]``` y ```y_ij = Y[i, j]```."
   ]
  },
  {
   "cell_type": "code",
   "execution_count": 29,
   "metadata": {
    "colab": {
     "base_uri": "https://localhost:8080/"
    },
    "id": "G-x3CQ04qT7w",
    "outputId": "44a92c40-6982-453e-eddf-00298861ab5c"
   },
   "outputs": [
    {
     "name": "stdout",
     "output_type": "stream",
     "text": [
      "x=\n",
      " (10,)\n",
      "y=\n",
      " (10,)\n",
      "X=\n",
      " (10, 10)\n",
      "Y=\n",
      " (10, 10)\n"
     ]
    }
   ],
   "source": [
    "x = np.arange(0, 1, 0.1)\n",
    "y = np.arange(0, 1, 0.1)\n",
    "\n",
    "X, Y = np.meshgrid(x, y)\n",
    "\n",
    "print(\"x=\\n\", x.shape)\n",
    "print(\"y=\\n\", y.shape)\n",
    "print(\"X=\\n\", X.shape)\n",
    "print(\"Y=\\n\", Y.shape)"
   ]
  },
  {
   "cell_type": "markdown",
   "metadata": {
    "id": "ufX6eNjdszmC"
   },
   "source": [
    "Luego, si se desea evaluar la función $f(x, y) = (x + y)^2$ sobre la malla $[X, Y]$ entonces $f(x, y) = z_{ij} = (x_{ij} + y_{ij})^2$:"
   ]
  },
  {
   "cell_type": "code",
   "execution_count": 30,
   "metadata": {
    "colab": {
     "base_uri": "https://localhost:8080/"
    },
    "id": "0dnTIYGEtLcS",
    "outputId": "a1a409a4-45fd-4306-8871-c8dc7c6592da"
   },
   "outputs": [
    {
     "name": "stdout",
     "output_type": "stream",
     "text": [
      "f(x, y) =\n",
      " [[0.   0.01 0.04 0.09 0.16 0.25 0.36 0.49 0.64 0.81]\n",
      " [0.01 0.04 0.09 0.16 0.25 0.36 0.49 0.64 0.81 1.  ]\n",
      " [0.04 0.09 0.16 0.25 0.36 0.49 0.64 0.81 1.   1.21]\n",
      " [0.09 0.16 0.25 0.36 0.49 0.64 0.81 1.   1.21 1.44]\n",
      " [0.16 0.25 0.36 0.49 0.64 0.81 1.   1.21 1.44 1.69]\n",
      " [0.25 0.36 0.49 0.64 0.81 1.   1.21 1.44 1.69 1.96]\n",
      " [0.36 0.49 0.64 0.81 1.   1.21 1.44 1.69 1.96 2.25]\n",
      " [0.49 0.64 0.81 1.   1.21 1.44 1.69 1.96 2.25 2.56]\n",
      " [0.64 0.81 1.   1.21 1.44 1.69 1.96 2.25 2.56 2.89]\n",
      " [0.81 1.   1.21 1.44 1.69 1.96 2.25 2.56 2.89 3.24]]\n",
      "dimensiones de Z: (10, 10)\n"
     ]
    }
   ],
   "source": [
    "Z = np.power(X + Y, 2)\n",
    "print(\"f(x, y) =\\n\", Z)\n",
    "print(\"dimensiones de Z:\", Z.shape)"
   ]
  },
  {
   "cell_type": "markdown",
   "metadata": {
    "id": "OWxyXTtpts9P"
   },
   "source": [
    "Creación de vectores \"*like*\" (como...) otro vector. O sea, crear un vector con las mismas dimensiones y tamaño que otro. Para ellos se suele añadir el postfijo ```_like``` al final del nombre de la función."
   ]
  },
  {
   "cell_type": "code",
   "execution_count": 31,
   "metadata": {
    "colab": {
     "base_uri": "https://localhost:8080/"
    },
    "id": "ar-wvMAMuQIa",
    "outputId": "ff4a1995-7f16-4da3-876c-282575b20540",
    "scrolled": true
   },
   "outputs": [
    {
     "name": "stdout",
     "output_type": "stream",
     "text": [
      "X =\n",
      " [[0.  0.1 0.2 0.3 0.4 0.5 0.6 0.7 0.8 0.9]\n",
      " [0.  0.1 0.2 0.3 0.4 0.5 0.6 0.7 0.8 0.9]\n",
      " [0.  0.1 0.2 0.3 0.4 0.5 0.6 0.7 0.8 0.9]\n",
      " [0.  0.1 0.2 0.3 0.4 0.5 0.6 0.7 0.8 0.9]\n",
      " [0.  0.1 0.2 0.3 0.4 0.5 0.6 0.7 0.8 0.9]\n",
      " [0.  0.1 0.2 0.3 0.4 0.5 0.6 0.7 0.8 0.9]\n",
      " [0.  0.1 0.2 0.3 0.4 0.5 0.6 0.7 0.8 0.9]\n",
      " [0.  0.1 0.2 0.3 0.4 0.5 0.6 0.7 0.8 0.9]\n",
      " [0.  0.1 0.2 0.3 0.4 0.5 0.6 0.7 0.8 0.9]\n",
      " [0.  0.1 0.2 0.3 0.4 0.5 0.6 0.7 0.8 0.9]] de tamaño (10, 10)\n",
      "X1 =\n",
      " [[1. 1. 1. 1. 1. 1. 1. 1. 1. 1.]\n",
      " [1. 1. 1. 1. 1. 1. 1. 1. 1. 1.]\n",
      " [1. 1. 1. 1. 1. 1. 1. 1. 1. 1.]\n",
      " [1. 1. 1. 1. 1. 1. 1. 1. 1. 1.]\n",
      " [1. 1. 1. 1. 1. 1. 1. 1. 1. 1.]\n",
      " [1. 1. 1. 1. 1. 1. 1. 1. 1. 1.]\n",
      " [1. 1. 1. 1. 1. 1. 1. 1. 1. 1.]\n",
      " [1. 1. 1. 1. 1. 1. 1. 1. 1. 1.]\n",
      " [1. 1. 1. 1. 1. 1. 1. 1. 1. 1.]\n",
      " [1. 1. 1. 1. 1. 1. 1. 1. 1. 1.]] de tamaño (10, 10)\n"
     ]
    }
   ],
   "source": [
    "X1 = np.ones_like(X)\n",
    "print(\"X =\\n\", X, \"de tamaño\", X.shape)\n",
    "print(\"X1 =\\n\", X1, \"de tamaño\", X1.shape)"
   ]
  },
  {
   "cell_type": "markdown",
   "metadata": {
    "id": "GL_I_8gIXcYs"
   },
   "source": [
    "### Selección de elementos\n",
    "\n",
    "Al igual que en las listas de Python en los vectores también es posible usar índices de los elementos para seleccionarlos y modificarlos, pero en este caso existen expresiones mucho más ricas que permitirán realizar otras operaciones sobre ellos."
   ]
  },
  {
   "cell_type": "code",
   "execution_count": 32,
   "metadata": {
    "colab": {
     "base_uri": "https://localhost:8080/"
    },
    "id": "PlbRu-ftYEp1",
    "outputId": "74f2184f-bb06-417c-d99d-074f982583c0"
   },
   "outputs": [
    {
     "name": "stdout",
     "output_type": "stream",
     "text": [
      "índices: [ 0  1  2  3  4  5  6  7  8  9 10 11 12 13 14 15 16 17 18]\n",
      "vector : [ 1  2  3  4  5  6  7  8  9 10 11 12 13 14 15 16 17 18 19]\n"
     ]
    }
   ],
   "source": [
    "idx = np.arange(0, 19, 1)\n",
    "vec = np.arange(1, 20, 1)\n",
    "print(\"índices:\", idx)\n",
    "print(\"vector :\", vec)"
   ]
  },
  {
   "cell_type": "markdown",
   "metadata": {
    "id": "6GIrHAXcYRFm"
   },
   "source": [
    "**El primero de los elementos de un vector está indexado con el 0**, el segundo con 1 y así sucesívamente hasta el último. Por lo tanto es importante destacar que **el último elemento de un vector de tamaño n está indexado con el número n-1**.\n",
    "\n",
    "Para seleccionar uno de los elementos se utiliza el operador ```[ ]``` especificando entre los corchetes cuál es el índice que se desea seleccionar."
   ]
  },
  {
   "cell_type": "code",
   "execution_count": 33,
   "metadata": {
    "colab": {
     "base_uri": "https://localhost:8080/"
    },
    "id": "pO2Hjs-GY1Ey",
    "outputId": "200e9093-6ecb-48ac-a79a-3f17fdf63f53"
   },
   "outputs": [
    {
     "name": "stdout",
     "output_type": "stream",
     "text": [
      "Primer elemento: 1\n",
      "Segundo elemento: 2\n",
      "Tamaño del vector: 19\n",
      "Último elemento: 19\n"
     ]
    }
   ],
   "source": [
    "print(\"Primer elemento:\", vec[0])\n",
    "print(\"Segundo elemento:\", vec[1])\n",
    "\n",
    "print(\"Tamaño del vector:\", vec.size)\n",
    "print(\"Último elemento:\", vec[vec.size - 1])  # El último índice del vector es n-1!"
   ]
  },
  {
   "cell_type": "markdown",
   "metadata": {
    "id": "8a6XZiLNZeLg"
   },
   "source": [
    "Python posee una forma partícular de indexar de forma inversa que hace más fácil de seleccionar elementos de atrás hacia adelante. Para seleccionar un elemento con índices inversos se toma como referencia **el último elemento del vector el cual es indexado con el número -1**. De esta forma **el elemento penúltimo es indezado con el -2** y así sucesivamente."
   ]
  },
  {
   "cell_type": "code",
   "execution_count": 34,
   "metadata": {},
   "outputs": [
    {
     "data": {
      "text/plain": [
       "19"
      ]
     },
     "execution_count": 34,
     "metadata": {},
     "output_type": "execute_result"
    }
   ],
   "source": [
    "vec[-1]"
   ]
  },
  {
   "cell_type": "code",
   "execution_count": 24,
   "metadata": {
    "colab": {
     "base_uri": "https://localhost:8080/"
    },
    "id": "UJSq37idck6u",
    "outputId": "a3635b8a-ab9d-4721-9278-49ed5e965a5f"
   },
   "outputs": [
    {
     "name": "stdout",
     "output_type": "stream",
     "text": [
      "índices: [-19 -18 -17 -16 -15 -14 -13 -12 -11 -10  -9  -8  -7  -6  -5  -4  -3  -2\n",
      "  -1]\n",
      "vector : [ 1  2  3  4  5  6  7  8  9 10 11 12 13 14 15 16 17 18 19]\n"
     ]
    }
   ],
   "source": [
    "inv_idx = np.arange(-19, 0, 1)\n",
    "print(\"índices:\", inv_idx)\n",
    "print(\"vector :\", vec)"
   ]
  },
  {
   "cell_type": "code",
   "execution_count": 25,
   "metadata": {
    "colab": {
     "base_uri": "https://localhost:8080/"
    },
    "id": "bsgxsVEtZdow",
    "outputId": "6bee2aab-487d-4e81-a3b6-858665388394"
   },
   "outputs": [
    {
     "name": "stdout",
     "output_type": "stream",
     "text": [
      "Último elemento: 19\n",
      "Penúltimo elemento: 18\n",
      "Ante-penúltimo elemento: 17\n"
     ]
    }
   ],
   "source": [
    "print(\"Último elemento:\", vec[-1])\n",
    "print(\"Penúltimo elemento:\", vec[-2])\n",
    "print(\"Ante-penúltimo elemento:\", vec[-3])"
   ]
  },
  {
   "cell_type": "markdown",
   "metadata": {
    "id": "SGSlNeUfbdK6"
   },
   "source": [
    "¿Cómo sería seleccionar el primero de los elementos usando el indexación inversa?"
   ]
  },
  {
   "cell_type": "code",
   "execution_count": 26,
   "metadata": {
    "colab": {
     "base_uri": "https://localhost:8080/"
    },
    "id": "bt_rGLtmbm-b",
    "outputId": "bb5baf09-81e5-4518-c9f5-0d52a0b3e011"
   },
   "outputs": [
    {
     "name": "stdout",
     "output_type": "stream",
     "text": [
      "Primer elemento: 1\n",
      "Índice: -19\n"
     ]
    }
   ],
   "source": [
    "print(\"Primer elemento:\", vec[-vec.size])\n",
    "print(\"Índice:\", -vec.size)"
   ]
  },
  {
   "cell_type": "markdown",
   "metadata": {
    "id": "qQPLTBx6dYVl"
   },
   "source": [
    "*Resumen de expresiones para selección de elementos:*\n",
    "\n",
    "Expresión                  | Descripción\n",
    "---------------------------|---------------------------------------------------\n",
    "```v[i]```                 | Selección del elemento i-ésimo del vector considerando que comienza en el índice 0.\n",
    "```v[-j]```                | Seleccionar el elemento (n-j) del vector considerando n como el total de elementos.\n",
    "```v[i:j]```               | Seleccionar los elementos comprendidos en el intervalo de índices $[i, j)$.\n",
    "```v[:]```                 | Seleccionar todos los elementos.\n",
    "```v[:j]```                | Seleccionar todos los elementos ubicados antes del índice j-ésimo : $x_i \\in [0, j)$.\n",
    "```v[i:]``` o ```v[i:-1]```| Selecciar todos los elementos ubicados a partir del índice i-ésimo: $x_j \\in [i, n)$.\n",
    "```v[i:j:k]```             | Seleccionar los elementos entre el i-ésimo y j-ésimo índice considerando solo los índices múltiplos de k. En otras palabras son aquellos elementos $x_q \\in [i, j)$ tales que $p - i ≡ 0(k)$.\n",
    "```v[::-1]```              | Seleccionar todos los elementos en orden inverso.\n",
    "\n",
    "Veamos algunos ejemplos de selecciones de elementos:\n",
    "\n",
    "Intervalo del 3er elemento al 6to:"
   ]
  },
  {
   "cell_type": "code",
   "execution_count": 36,
   "metadata": {},
   "outputs": [
    {
     "data": {
      "text/plain": [
       "array([1.        , 0.97959184, 0.95918367, 0.93877551, 0.91836735,\n",
       "       0.89795918, 0.87755102, 0.85714286, 0.83673469, 0.81632653,\n",
       "       0.79591837, 0.7755102 , 0.75510204, 0.73469388, 0.71428571,\n",
       "       0.69387755, 0.67346939, 0.65306122, 0.63265306, 0.6122449 ,\n",
       "       0.59183673, 0.57142857, 0.55102041, 0.53061224, 0.51020408,\n",
       "       0.48979592, 0.46938776, 0.44897959, 0.42857143, 0.40816327,\n",
       "       0.3877551 , 0.36734694, 0.34693878, 0.32653061, 0.30612245,\n",
       "       0.28571429, 0.26530612, 0.24489796, 0.2244898 , 0.20408163,\n",
       "       0.18367347, 0.16326531, 0.14285714, 0.12244898, 0.10204082,\n",
       "       0.08163265, 0.06122449, 0.04081633, 0.02040816, 0.        ])"
      ]
     },
     "execution_count": 36,
     "metadata": {},
     "output_type": "execute_result"
    }
   ],
   "source": [
    "np.linspace(0, 1)[::-1]"
   ]
  },
  {
   "cell_type": "code",
   "execution_count": 27,
   "metadata": {
    "colab": {
     "base_uri": "https://localhost:8080/"
    },
    "id": "QQAmUy5umcqw",
    "outputId": "9ce7fc53-0acb-42ea-aa90-ce569861a9ac"
   },
   "outputs": [
    {
     "name": "stdout",
     "output_type": "stream",
     "text": [
      "Índices seleccionados: [2 3 4 5]\n",
      "Elementos:             [3 4 5 6]\n"
     ]
    }
   ],
   "source": [
    "print(\"Índices seleccionados:\", idx[2:6])\n",
    "print(\"Elementos:            \", vec[2:6])"
   ]
  },
  {
   "cell_type": "markdown",
   "metadata": {
    "id": "XM26Yjh3qUjL"
   },
   "source": [
    "¿Cuáles serían los resultados obtenidos de la siguientes selecciones de elementos?"
   ]
  },
  {
   "cell_type": "code",
   "execution_count": 28,
   "metadata": {
    "colab": {
     "base_uri": "https://localhost:8080/"
    },
    "id": "KlvtDz8BqhyE",
    "outputId": "3543b3bc-970b-4862-faf6-1847cabbe9f0"
   },
   "outputs": [
    {
     "data": {
      "text/plain": [
       "array([10, 11, 12, 13, 14, 15])"
      ]
     },
     "execution_count": 28,
     "metadata": {},
     "output_type": "execute_result"
    }
   ],
   "source": [
    "vec[9:15]"
   ]
  },
  {
   "cell_type": "code",
   "execution_count": 29,
   "metadata": {
    "colab": {
     "base_uri": "https://localhost:8080/"
    },
    "id": "KGQwdFexqrP8",
    "outputId": "efdc043e-2d64-4a9f-ef20-9bf53b669a1a"
   },
   "outputs": [
    {
     "data": {
      "text/plain": [
       "array([ 3,  6,  9, 12, 15, 18])"
      ]
     },
     "execution_count": 29,
     "metadata": {},
     "output_type": "execute_result"
    }
   ],
   "source": [
    "vec[2:-1:3]"
   ]
  },
  {
   "cell_type": "code",
   "execution_count": 30,
   "metadata": {
    "colab": {
     "base_uri": "https://localhost:8080/"
    },
    "id": "3ykGLqUCrCr8",
    "outputId": "c951259f-4c3a-4100-8098-2f2df1fe2925"
   },
   "outputs": [
    {
     "data": {
      "text/plain": [
       "array([18, 16, 14, 12, 10])"
      ]
     },
     "execution_count": 30,
     "metadata": {},
     "output_type": "execute_result"
    }
   ],
   "source": [
    "vec[-2:-12:-2]"
   ]
  },
  {
   "cell_type": "code",
   "execution_count": 31,
   "metadata": {
    "colab": {
     "base_uri": "https://localhost:8080/"
    },
    "id": "5XLKFTBmrf3s",
    "outputId": "196d2d78-4d99-4fa1-ebf4-9e3acfebee00"
   },
   "outputs": [
    {
     "data": {
      "text/plain": [
       "array([10,  8,  6,  4,  2])"
      ]
     },
     "execution_count": 31,
     "metadata": {},
     "output_type": "execute_result"
    }
   ],
   "source": [
    "vec[9:0:-2]"
   ]
  },
  {
   "cell_type": "markdown",
   "metadata": {
    "id": "iaBygc5ttbnB"
   },
   "source": [
    "#### Vectores ndimensionales\n",
    "\n",
    "En el caso de querer seleccionar elementos en vectores ndimensionales entonces es necesario especificar las expresiones de selección en los ejes correspondientes separados por coma. Seguidamente se muestran algunos ejemplos:"
   ]
  },
  {
   "cell_type": "code",
   "execution_count": 32,
   "metadata": {
    "colab": {
     "base_uri": "https://localhost:8080/"
    },
    "id": "14v2nCsTUd-S",
    "outputId": "0684b4ad-2e59-478b-8318-625146f67d53"
   },
   "outputs": [
    {
     "name": "stdout",
     "output_type": "stream",
     "text": [
      "Matriz_ej:\n",
      " [[11 12 13 14 15]\n",
      " [21 22 23 24 25]\n",
      " [31 32 33 34 35]\n",
      " [41 42 43 44 45]\n",
      " [51 52 53 54 55]]\n"
     ]
    }
   ],
   "source": [
    "m = np.array(\n",
    "    [\n",
    "        [11, 12, 13, 14, 15],\n",
    "        [21, 22, 23, 24, 25],\n",
    "        [31, 32, 33, 34, 35],\n",
    "        [41, 42, 43, 44, 45],\n",
    "        [51, 52, 53, 54, 55],\n",
    "    ]\n",
    ")\n",
    "print(\"Matriz_ej:\\n\", m)"
   ]
  },
  {
   "cell_type": "markdown",
   "metadata": {
    "id": "mJZIcViEuA4x"
   },
   "source": [
    "Selección de todos los elementos de la matriz m"
   ]
  },
  {
   "cell_type": "code",
   "execution_count": 33,
   "metadata": {
    "colab": {
     "base_uri": "https://localhost:8080/"
    },
    "id": "6bFOGKS2t5Gn",
    "outputId": "9d803375-db06-4ada-e5ad-17f7b14d7d98"
   },
   "outputs": [
    {
     "data": {
      "text/plain": [
       "array([[11, 12, 13, 14, 15],\n",
       "       [21, 22, 23, 24, 25],\n",
       "       [31, 32, 33, 34, 35],\n",
       "       [41, 42, 43, 44, 45],\n",
       "       [51, 52, 53, 54, 55]])"
      ]
     },
     "execution_count": 33,
     "metadata": {},
     "output_type": "execute_result"
    }
   ],
   "source": [
    "m[:, :]"
   ]
  },
  {
   "cell_type": "markdown",
   "metadata": {
    "id": "WiRU7V0DuI-Q"
   },
   "source": [
    "Selección de una submatriz de la matriz m:"
   ]
  },
  {
   "cell_type": "code",
   "execution_count": 34,
   "metadata": {
    "colab": {
     "base_uri": "https://localhost:8080/"
    },
    "id": "TbHPcxQruIdv",
    "outputId": "74092e43-9383-4ff9-ddee-a1c6aa0e7270"
   },
   "outputs": [
    {
     "data": {
      "text/plain": [
       "array([[11, 12],\n",
       "       [21, 22]])"
      ]
     },
     "execution_count": 34,
     "metadata": {},
     "output_type": "execute_result"
    }
   ],
   "source": [
    "m[:2, :2]"
   ]
  },
  {
   "cell_type": "markdown",
   "metadata": {
    "id": "VIBKxwylvZrs"
   },
   "source": [
    "Seleccionando una fila de la matriz"
   ]
  },
  {
   "cell_type": "code",
   "execution_count": 35,
   "metadata": {
    "colab": {
     "base_uri": "https://localhost:8080/"
    },
    "id": "VGIudoyovdvD",
    "outputId": "a4d4005e-335f-4911-b076-2e19e0e9ef06"
   },
   "outputs": [
    {
     "data": {
      "text/plain": [
       "array([31, 32, 33, 34, 35])"
      ]
     },
     "execution_count": 35,
     "metadata": {},
     "output_type": "execute_result"
    }
   ],
   "source": [
    "m[2, :]"
   ]
  },
  {
   "cell_type": "markdown",
   "metadata": {
    "id": "u-5SZ2_dvj39"
   },
   "source": [
    "Seleccionando una columna de la matriz"
   ]
  },
  {
   "cell_type": "code",
   "execution_count": 36,
   "metadata": {
    "colab": {
     "base_uri": "https://localhost:8080/"
    },
    "id": "AeOFAn7yvoiM",
    "outputId": "ec68eb42-cb4d-4a1d-c7d2-4a446267d720"
   },
   "outputs": [
    {
     "data": {
      "text/plain": [
       "array([13, 23, 33, 43, 53])"
      ]
     },
     "execution_count": 36,
     "metadata": {},
     "output_type": "execute_result"
    }
   ],
   "source": [
    "m[:, 2]"
   ]
  },
  {
   "cell_type": "markdown",
   "metadata": {
    "id": "Q4sam8N8xMUX"
   },
   "source": [
    "# Ejercicios de la clase"
   ]
  },
  {
   "cell_type": "markdown",
   "metadata": {
    "id": "K9P3TiavgWa0"
   },
   "source": [
    "## Ejercicio #1: Es bisiesto\n",
    "\n",
    "Un año es bisiesto si es divisible entre 4 pero no divisible entre 100 a excepción que sea divisible entre 400.\n",
    "\n",
    "Implemente el siguiente método:"
   ]
  },
  {
   "cell_type": "code",
   "execution_count": 37,
   "metadata": {
    "colab": {
     "base_uri": "https://localhost:8080/"
    },
    "id": "HoefK8DHi2JX",
    "outputId": "7b533a13-9d4e-40d7-f27c-7cba200208da"
   },
   "outputs": [
    {
     "name": "stdout",
     "output_type": "stream",
     "text": [
      "2000 es bisiesto? True\n",
      "2100 es bisiesto? False\n",
      "1988 es bisiesto? True\n",
      "2022 es bisiesto? False\n"
     ]
    }
   ],
   "source": [
    "def es_bisiesto(a):\n",
    "    return a % 400 == 0 or a % 4 == 0 and a % 100 != 0\n",
    "\n",
    "\n",
    "print(\"2000 es bisiesto?\", es_bisiesto(2000))\n",
    "print(\"2100 es bisiesto?\", es_bisiesto(2100))\n",
    "print(\"1988 es bisiesto?\", es_bisiesto(1988))\n",
    "print(\"2022 es bisiesto?\", es_bisiesto(2022))"
   ]
  },
  {
   "cell_type": "markdown",
   "metadata": {
    "id": "01Gb7302mlBl"
   },
   "source": [
    "## Ejercicio #2: Imprimir los primeros 10 números enteros\n",
    "\n",
    "Imprima en la consola los primeros diéz números enteros."
   ]
  },
  {
   "cell_type": "code",
   "execution_count": 38,
   "metadata": {
    "colab": {
     "base_uri": "https://localhost:8080/"
    },
    "id": "ELxXEObQnW9T",
    "outputId": "b1d027ef-4ecf-4745-d4b1-c5a31483cd8a"
   },
   "outputs": [
    {
     "name": "stdout",
     "output_type": "stream",
     "text": [
      "1 2 3 4 5 6 7 8 9 10 "
     ]
    }
   ],
   "source": [
    "for k in range(1, 11):\n",
    "    print(\n",
    "        k, end=\" \"\n",
    "    )  # El parámetro end especifica el último caracter de la secuencia de caracteres que usualmente es el cambio de linea \\n.\n",
    "    # Cambiando el mensionado parámetro se puede imprimir en consola sin cambiar de línea."
   ]
  },
  {
   "cell_type": "markdown",
   "metadata": {
    "id": "uRzGRD20pEa7"
   },
   "source": [
    "## Ejercicio #3: Patrón creciente\n",
    "\n",
    "Escriba un código que imprima en la consola el siguiente patrón creciente:\n",
    "\n",
    "```\n",
    "1\n",
    "1  2\n",
    "1  2  3\n",
    "1  2  3  4\n",
    ".          .\n",
    ".             .\n",
    ".                .\n",
    "1 ...................N\n",
    "```"
   ]
  },
  {
   "cell_type": "code",
   "execution_count": 39,
   "metadata": {
    "colab": {
     "base_uri": "https://localhost:8080/"
    },
    "id": "hsI4NJ4ypohw",
    "outputId": "fbb24877-fb26-4b2c-c679-977e27246bd2"
   },
   "outputs": [
    {
     "name": "stdout",
     "output_type": "stream",
     "text": [
      "1 \n",
      "\n",
      "1 2 \n",
      "\n",
      "1 2 3 \n",
      "\n",
      "1 2 3 4 \n",
      "\n",
      "1 2 3 4 5 \n",
      "\n",
      "1 2 3 4 5 6 \n",
      "\n",
      "1 2 3 4 5 6 7 \n",
      "\n",
      "1 2 3 4 5 6 7 8 \n",
      "\n",
      "1 2 3 4 5 6 7 8 9 \n",
      "\n",
      "1 2 3 4 5 6 7 8 9 10 \n",
      "\n"
     ]
    }
   ],
   "source": [
    "N = 10\n",
    "\n",
    "for m in range(1, N + 1):\n",
    "    for k in range(1, m + 1):\n",
    "        print(k, end=\" \")\n",
    "    print(\"\\n\")"
   ]
  },
  {
   "cell_type": "markdown",
   "metadata": {
    "id": "lVhost_MviMD"
   },
   "source": [
    "## Ejercicio #4: Suma elementos de la lista\n",
    "\n",
    "Dada una lista de elementos numérios implemente el siguiente método que devuelva la suma de estos:"
   ]
  },
  {
   "cell_type": "code",
   "execution_count": 40,
   "metadata": {
    "colab": {
     "base_uri": "https://localhost:8080/"
    },
    "id": "Ms7ssQNZvzIn",
    "outputId": "c5f1c7e5-ee1e-40bc-da19-162ecf2a2121"
   },
   "outputs": [
    {
     "data": {
      "text/plain": [
       "15.0"
      ]
     },
     "execution_count": 40,
     "metadata": {},
     "output_type": "execute_result"
    }
   ],
   "source": [
    "def suma_lista(l):\n",
    "    s = 0.0\n",
    "    for i in range(len(l)):\n",
    "        s += l[i]\n",
    "    return s\n",
    "\n",
    "\n",
    "l = [1, 2, 3, 4, 5]\n",
    "suma_lista(l)"
   ]
  },
  {
   "cell_type": "markdown",
   "metadata": {
    "id": "Nb2b94UAqTU_"
   },
   "source": [
    "## Ejercicio #5: Contar ocurrencias de un número entero en una lista\n",
    "\n",
    "Dada una lista de números enteros cuente la cantidad de elementos iguales al dado."
   ]
  },
  {
   "cell_type": "code",
   "execution_count": 41,
   "metadata": {
    "colab": {
     "base_uri": "https://localhost:8080/"
    },
    "id": "6UqDkMLUrLs9",
    "outputId": "494967b4-a226-40a3-a02a-7dac28f174ae"
   },
   "outputs": [
    {
     "name": "stdout",
     "output_type": "stream",
     "text": [
      "5\n",
      "2\n",
      "5\n"
     ]
    }
   ],
   "source": [
    "def ocurrencias(l, c):\n",
    "    cont = 0\n",
    "    for i in range(len(l)):\n",
    "        if l[i] == c:\n",
    "            cont += 1\n",
    "    return cont\n",
    "\n",
    "\n",
    "l = [1, 2, 4, 6, 3, 4, 3, 2, 4, 5, 5, 4, 43, 2, 2, 2, 4]\n",
    "\n",
    "print(ocurrencias(l, 2))\n",
    "print(ocurrencias(l, 3))\n",
    "print(ocurrencias(l, 4))"
   ]
  },
  {
   "cell_type": "markdown",
   "metadata": {
    "id": "mCicaRfCuQ5B"
   },
   "source": [
    "## Ejercicio #6: Trabajando con vectores\n",
    "\n",
    "Cree una discretización regular del intervalo $[0, 1]$ con un paso $\\Delta x = 0.1$."
   ]
  },
  {
   "cell_type": "code",
   "execution_count": 42,
   "metadata": {
    "colab": {
     "base_uri": "https://localhost:8080/"
    },
    "id": "ufQeb48kuapl",
    "outputId": "e05eb86a-2499-4a7b-ecc5-faa6a7e4db37"
   },
   "outputs": [
    {
     "name": "stdout",
     "output_type": "stream",
     "text": [
      "[-10.          -9.59183673  -9.18367347  -8.7755102   -8.36734694\n",
      "  -7.95918367  -7.55102041  -7.14285714  -6.73469388  -6.32653061\n",
      "  -5.91836735  -5.51020408  -5.10204082  -4.69387755  -4.28571429\n",
      "  -3.87755102  -3.46938776  -3.06122449  -2.65306122  -2.24489796\n",
      "  -1.83673469  -1.42857143  -1.02040816  -0.6122449   -0.20408163\n",
      "   0.20408163   0.6122449    1.02040816   1.42857143   1.83673469\n",
      "   2.24489796   2.65306122   3.06122449   3.46938776   3.87755102\n",
      "   4.28571429   4.69387755   5.10204082   5.51020408   5.91836735\n",
      "   6.32653061   6.73469388   7.14285714   7.55102041   7.95918367\n",
      "   8.36734694   8.7755102    9.18367347   9.59183673  10.        ]\n"
     ]
    }
   ],
   "source": [
    "x = np.linspace(-10, 10.0)\n",
    "print(x)"
   ]
  },
  {
   "cell_type": "markdown",
   "metadata": {
    "id": "hv0A7GiDyBU4"
   },
   "source": [
    "Evalúe la función $f(x) = x * x$ y utilice la función ```plotear``` para visualizarla en una figura."
   ]
  },
  {
   "cell_type": "code",
   "execution_count": 43,
   "metadata": {
    "id": "flTi2wIdza-c"
   },
   "outputs": [],
   "source": [
    "def plotear(x, y):\n",
    "    import matplotlib.pyplot as plt\n",
    "\n",
    "    plt.plot(x, y, \"-b\")\n",
    "    plt.grid()\n",
    "    plt.show()\n",
    "    plt.close()"
   ]
  },
  {
   "cell_type": "code",
   "execution_count": 44,
   "metadata": {
    "colab": {
     "base_uri": "https://localhost:8080/",
     "height": 265
    },
    "id": "lgAWJWDYztIc",
    "outputId": "3a4083cd-82ba-4612-d311-67bcef81061a"
   },
   "outputs": [
    {
     "data": {
      "image/png": "[encoded data removed]",
      "text/plain": [
       "<Figure size 432x288 with 1 Axes>"
      ]
     },
     "metadata": {
      "needs_background": "light"
     },
     "output_type": "display_data"
    }
   ],
   "source": [
    "plotear(x, x * x)"
   ]
  },
  {
   "cell_type": "markdown",
   "metadata": {
    "id": "_ibDYpgG9aUE"
   },
   "source": [
    "evalúe también la función ```valor absoluto de x``` ($f(x)=|x|$) para el mismo dominio y ploteelo."
   ]
  },
  {
   "cell_type": "code",
   "execution_count": 45,
   "metadata": {
    "colab": {
     "base_uri": "https://localhost:8080/",
     "height": 265
    },
    "id": "bS4D1bgL9vGv",
    "outputId": "4b672f42-d923-4d8d-9b77-9b6e354c7f8d"
   },
   "outputs": [
    {
     "data": {
      "image/png": "[encoded data removed]",
      "text/plain": [
       "<Figure size 432x288 with 1 Axes>"
      ]
     },
     "metadata": {
      "needs_background": "light"
     },
     "output_type": "display_data"
    }
   ],
   "source": [
    "plotear(x, np.abs(x))"
   ]
  },
  {
   "cell_type": "markdown",
   "metadata": {
    "id": "21ZAbnVl91ky"
   },
   "source": [
    "¿Qué ha sucedido en $x=0$? Inténtelo nuevamente pero haciendo un refinamiento de la discretización del dominio en el intervalo $[-1, 1]$ de tal forma que $\\Delta x = 1e-2$."
   ]
  },
  {
   "cell_type": "code",
   "execution_count": 46,
   "metadata": {
    "colab": {
     "base_uri": "https://localhost:8080/",
     "height": 265
    },
    "id": "altWZBaX-K8Z",
    "outputId": "07ec8e3c-0e81-4cbd-8183-53615aa2b1ff"
   },
   "outputs": [
    {
     "data": {
      "image/png": "[encoded data removed]",
      "text/plain": [
       "<Figure size 432x288 with 1 Axes>"
      ]
     },
     "metadata": {
      "needs_background": "light"
     },
     "output_type": "display_data"
    }
   ],
   "source": [
    "xl = np.linspace(-10, -1, 25)\n",
    "dx = 1e-2\n",
    "xref = np.arange(-1 + dx, 1, dx)\n",
    "xr = np.linspace(1, 10, 25)\n",
    "\n",
    "x = np.concatenate([xl, xref, xr])\n",
    "\n",
    "plotear(x, np.abs(x))"
   ]
  },
  {
   "cell_type": "markdown",
   "metadata": {
    "id": "t61mgxy0xzcZ"
   },
   "source": [
    "Sea la matriz m:"
   ]
  },
  {
   "cell_type": "code",
   "execution_count": 47,
   "metadata": {
    "colab": {
     "base_uri": "https://localhost:8080/"
    },
    "id": "2pK_uH_axyRP",
    "outputId": "09c7d639-1271-4007-e032-22d03212f492"
   },
   "outputs": [
    {
     "name": "stdout",
     "output_type": "stream",
     "text": [
      "Matriz_ej:\n",
      " [[11 12 13 14 15]\n",
      " [21 22 23 24 25]\n",
      " [31 32 33 34 35]\n",
      " [41 42 43 44 45]\n",
      " [51 52 53 54 55]]\n"
     ]
    }
   ],
   "source": [
    "m = np.array(\n",
    "    [\n",
    "        [11, 12, 13, 14, 15],\n",
    "        [21, 22, 23, 24, 25],\n",
    "        [31, 32, 33, 34, 35],\n",
    "        [41, 42, 43, 44, 45],\n",
    "        [51, 52, 53, 54, 55],\n",
    "    ]\n",
    ")\n",
    "print(\"Matriz_ej:\\n\", m)"
   ]
  },
  {
   "cell_type": "markdown",
   "metadata": {
    "id": "gIJYtDtKu7il"
   },
   "source": [
    "Invertir los elementos de las filas de la matriz"
   ]
  },
  {
   "cell_type": "code",
   "execution_count": 48,
   "metadata": {
    "colab": {
     "base_uri": "https://localhost:8080/"
    },
    "id": "WRKTc8mtu_0M",
    "outputId": "98c94fc3-39c4-462d-dfbd-a43886b35155"
   },
   "outputs": [
    {
     "data": {
      "text/plain": [
       "array([[15, 14, 13, 12, 11],\n",
       "       [25, 24, 23, 22, 21],\n",
       "       [35, 34, 33, 32, 31],\n",
       "       [45, 44, 43, 42, 41],\n",
       "       [55, 54, 53, 52, 51]])"
      ]
     },
     "execution_count": 48,
     "metadata": {},
     "output_type": "execute_result"
    }
   ],
   "source": [
    "m[::, ::-1]"
   ]
  },
  {
   "cell_type": "markdown",
   "metadata": {
    "id": "5YlqEnQVwE_r"
   },
   "source": [
    "Seleccinar solo las columnas impares"
   ]
  },
  {
   "cell_type": "code",
   "execution_count": 49,
   "metadata": {
    "colab": {
     "base_uri": "https://localhost:8080/"
    },
    "id": "ArhoFekiwLMh",
    "outputId": "3208c841-6833-47aa-8f6a-2ea9558984f9"
   },
   "outputs": [
    {
     "data": {
      "text/plain": [
       "array([[11, 13, 15],\n",
       "       [21, 23, 25],\n",
       "       [31, 33, 35],\n",
       "       [41, 43, 45],\n",
       "       [51, 53, 55]])"
      ]
     },
     "execution_count": 49,
     "metadata": {},
     "output_type": "execute_result"
    }
   ],
   "source": [
    "m[:, ::2]"
   ]
  },
  {
   "cell_type": "markdown",
   "metadata": {
    "id": "Z7l7OEW6wchr"
   },
   "source": [
    "¿Cuál sería el resultado de seleccionar solo las columnas pares, las filas impares a partir ```i>1``` y ```1<=j<=4```?"
   ]
  },
  {
   "cell_type": "code",
   "execution_count": 50,
   "metadata": {
    "colab": {
     "base_uri": "https://localhost:8080/"
    },
    "id": "g7jGmWlYw5pb",
    "outputId": "1015ca73-f018-4ba8-ae10-1bea97f08197"
   },
   "outputs": [
    {
     "data": {
      "text/plain": [
       "array([[32, 34],\n",
       "       [52, 54]])"
      ]
     },
     "execution_count": 50,
     "metadata": {},
     "output_type": "execute_result"
    }
   ],
   "source": [
    "m[2::2, 1::2]"
   ]
  },
  {
   "cell_type": "markdown",
   "metadata": {
    "id": "HjU4FIZN1c5b"
   },
   "source": [
    "Implemente la regla de Cramer para la resolución de sistemas de ecuaciones compatibles determinados de tamaño $2\\times2$.\n",
    "\n",
    "Sea un sistema $A x = b$ entonces la regla de Cramer señala que la solución a la incógnita $x_k$ del sistema, cuyos coeficientes están en la columna $k$-ésima de $A$ es:\n",
    "\n",
    "$\n",
    "x_k = \\frac{|A_k|}{|A|}\n",
    "$\n",
    "donde $|.|$ denota el determinante de una matriz y $A_k$ la matriz $A$ *sustituyendo* la columna $k$-ésima por el vector b."
   ]
  },
  {
   "cell_type": "code",
   "execution_count": 51,
   "metadata": {
    "id": "23RCrGOe2y0e"
   },
   "outputs": [],
   "source": [
    "def Cramer(A, b):\n",
    "    detA = A[0, 0] * A[1, 1] - A[1, 0] * A[0, 1]\n",
    "    if detA == 0:\n",
    "        print(\"ERROR! El sistema no es compatible determinado.\")\n",
    "        return np.nan\n",
    "\n",
    "    xk = np.empty(2)\n",
    "\n",
    "    Ak0 = np.empty(A.shape)\n",
    "    Ak0[:, 0] = b\n",
    "    Ak0[:, 1] = A[:, 1]\n",
    "\n",
    "    detAk0 = Ak0[0, 0] * Ak0[1, 1] - Ak0[1, 0] * Ak0[0, 1]\n",
    "    xk[0] = detAk0 / detA\n",
    "\n",
    "    Ak1 = np.empty(A.shape)\n",
    "    Ak1[:, 0] = A[:, 0]\n",
    "    Ak1[:, 1] = b\n",
    "\n",
    "    detAk1 = Ak1[0, 0] * Ak1[1, 1] - Ak1[1, 0] * Ak1[0, 1]\n",
    "    xk[1] = detAk1 / detA\n",
    "\n",
    "    return xk"
   ]
  },
  {
   "cell_type": "markdown",
   "metadata": {
    "id": "G7FgWdu9203c"
   },
   "source": [
    "Resuelva el sistema de ecuaciones:\n",
    "\n",
    "$\n",
    "\\begin{cases}\n",
    "      x - 3 y &= 2  \\\\\n",
    "      x + 5 y &= 10 \\\\ \n",
    "     \\end{cases}\n",
    "$\n",
    "\n",
    "cuyas soluciones son: $x=5$ y $y=1$."
   ]
  },
  {
   "cell_type": "code",
   "execution_count": 52,
   "metadata": {
    "colab": {
     "base_uri": "https://localhost:8080/"
    },
    "id": "C1gPXC4n3WvO",
    "outputId": "3525b26b-fd2f-499b-db65-0ef0a633576a"
   },
   "outputs": [
    {
     "name": "stdout",
     "output_type": "stream",
     "text": [
      "[5. 1.]\n"
     ]
    }
   ],
   "source": [
    "A = np.array([[1, -3], [1, 5]])\n",
    "b = np.array([2, 10])\n",
    "\n",
    "x = Cramer(A, b)\n",
    "print(x)"
   ]
  },
  {
   "cell_type": "markdown",
   "metadata": {
    "id": "blU-iXKy6VrS"
   },
   "source": [
    "¿Que pasaría si el sistema fuese:\n",
    "$\n",
    "\\begin{cases}\n",
    "      -x + 3 y &= 2  \\\\\n",
    "      x + 5 y &= 10 \\\\ \n",
    "     \\end{cases}\n",
    "$\n",
    "?"
   ]
  },
  {
   "cell_type": "code",
   "execution_count": 53,
   "metadata": {
    "colab": {
     "base_uri": "https://localhost:8080/"
    },
    "id": "-v4YcTzX6Q72",
    "outputId": "5b0ebf41-51bb-4587-d29b-10ad3c809e57"
   },
   "outputs": [
    {
     "name": "stdout",
     "output_type": "stream",
     "text": [
      "[2.5 1.5]\n"
     ]
    }
   ],
   "source": [
    "A = np.array([[-1, 3], [1, 5]])\n",
    "b = np.array([2, 10])\n",
    "\n",
    "x = Cramer(A, b)\n",
    "print(x)"
   ]
  }
 ],
 "metadata": {
  "celltoolbar": "Slideshow",
  "colab": {
   "collapsed_sections": [],
   "include_colab_link": true,
   "name": "Clase#2 - Módulo Numpy Parte1(Completa).ipynb",
   "provenance": []
  },
  "kernelspec": {
   "display_name": "Python 3 (ipykernel)",
   "language": "python",
   "name": "python3"
  },
  "language_info": {
   "codemirror_mode": {
    "name": "ipython",
    "version": 3
   },
   "file_extension": ".py",
   "mimetype": "text/x-python",
   "name": "python",
   "nbconvert_exporter": "python",
   "pygments_lexer": "ipython3",
   "version": "3.11.6"
  }
 },
 "nbformat": 4,
 "nbformat_minor": 0
}
