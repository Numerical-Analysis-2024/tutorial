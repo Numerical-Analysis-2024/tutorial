{
 "cells": [
  {
   "cell_type": "code",
   "execution_count": 1,
   "id": "7500bf20-7978-44f2-b3c1-5d06c694e383",
   "metadata": {},
   "outputs": [],
   "source": [
    "import numpy as np"
   ]
  },
  {
   "cell_type": "code",
   "execution_count": 2,
   "id": "d14fa079-449c-4486-9070-0bb3dd09c85b",
   "metadata": {},
   "outputs": [],
   "source": [
    "def backsub(U,bs):\n",
    "    n = bs.size\n",
    "    xs = np.zeros(n)\n",
    "    for i in reversed(range(n)):\n",
    "        xs[i] = (bs[i] - U[i,i+1:]@xs[i+1:])/U[i,i]\n",
    "    return xs"
   ]
  },
  {
   "cell_type": "code",
   "execution_count": 3,
   "id": "c5620995-0f8d-4142-a113-a0b3cb649b81",
   "metadata": {},
   "outputs": [],
   "source": [
    "def gauelim_pivot(inA,inbs):\n",
    "    A = np.copy(inA)\n",
    "    bs = np.copy(inbs)\n",
    "    n = bs.size\n",
    "\n",
    "    for j in range(n-1):\n",
    "        k = np.argmax(np.abs(A[j:,j])) + j\n",
    "        if k != j:\n",
    "            A[j,:], A[k,:] = A[k,:], A[j,:].copy()\n",
    "            bs[j], bs[k] = bs[k], bs[j]\n",
    "\n",
    "        for i in range(j+1,n):\n",
    "            coeff = A[i,j]/A[j,j]\n",
    "            A[i,j:] -= coeff*A[j,j:]\n",
    "            bs[i] -= coeff*bs[j]\n",
    "\n",
    "    xs = backsub(A,bs)\n",
    "    return xs"
   ]
  },
  {
   "cell_type": "code",
   "execution_count": 4,
   "id": "bc3b9157-799f-4ff1-b739-1b9ebe41d326",
   "metadata": {},
   "outputs": [],
   "source": [
    "def termcrit(xolds,xnews):\n",
    "    errs = np.abs((xnews - xolds)/xnews)\n",
    "    return np.sum(errs)"
   ]
  },
  {
   "cell_type": "code",
   "execution_count": 5,
   "id": "a2894e9e-0623-417b-89b5-48d2de06544c",
   "metadata": {},
   "outputs": [],
   "source": [
    "def fs(xs):\n",
    "    x0, x1 = xs\n",
    "    f0 = x0**2 - 2*x0 + x1**4 - 2*x1**2 + x1\n",
    "    f1 = x0**2 + x0 + 2*x1**3 - 2*x1**2 - 1.5*x1 - 0.05\n",
    "    return np.array([f0,f1])"
   ]
  },
  {
   "cell_type": "code",
   "execution_count": 6,
   "id": "d3069fe3-62ad-4dd9-ab7c-db937245b438",
   "metadata": {},
   "outputs": [],
   "source": [
    "def jacobian(fs,xs,h=1.e-4):\n",
    "    n = xs.size\n",
    "    iden = np.identity(n)\n",
    "    Jf = np.zeros((n,n))\n",
    "    fs0 = fs(xs)\n",
    "    for j in range(n):\n",
    "        fs1 = fs(xs+iden[:,j]*h)\n",
    "        Jf[:,j] = (fs1 - fs0)/h\n",
    "    return Jf, fs0"
   ]
  },
  {
   "cell_type": "code",
   "execution_count": 7,
   "id": "f57441a8-1190-46a1-b26c-1bdffa85fa77",
   "metadata": {},
   "outputs": [],
   "source": [
    "def multi_newton(fs,jacobian,xolds,kmax=200,tol=1.e-8):\n",
    "    for k in range(1,kmax):\n",
    "        Jf, fs_xolds = jacobian(fs, xolds)\n",
    "        xnews = xolds + gauelim_pivot(Jf, -fs_xolds)\n",
    "\n",
    "        err = termcrit(xolds,xnews)\n",
    "        print(k, xnews, err)\n",
    "        if err < tol:\n",
    "            break\n",
    "\n",
    "        xolds = np.copy(xnews)\n",
    "    else:\n",
    "        xnews = None\n",
    "    return xnews"
   ]
  },
  {
   "cell_type": "code",
   "execution_count": 8,
   "id": "d71ffc17-884b-481b-b833-a90b48895f0d",
   "metadata": {},
   "outputs": [],
   "source": [
    "xolds = np.array([1.,1.])"
   ]
  },
  {
   "cell_type": "code",
   "execution_count": 9,
   "id": "cc2f568b-062d-40a4-8fa0-da3104891e66",
   "metadata": {},
   "outputs": [
    {
     "name": "stdout",
     "output_type": "stream",
     "text": [
      "1 [0.68327197 1.99963178] 0.9634539886260238\n",
      "2 [0.38286992 1.62816875] 1.0127537609121247\n",
      "3 [0.56358881 1.4144802 ] 0.4717294772974023\n",
      "4 [0.5900614  1.32693341] 0.11084089956296016\n",
      "5 [0.59215596 1.3126421 ] 0.014424613090514531\n",
      "6 [0.59218625 1.31228241] 0.00032525133774643014\n",
      "7 [0.59218627 1.31228212] 2.5249741194196077e-07\n",
      "8 [0.59218627 1.31228212] 4.335881037833639e-11\n"
     ]
    }
   ],
   "source": [
    "xnews = multi_newton(fs,jacobian,xolds)"
   ]
  }
 ],
 "metadata": {
  "kernelspec": {
   "display_name": "Python 3 (ipykernel)",
   "language": "python",
   "name": "python3"
  },
  "language_info": {
   "codemirror_mode": {
    "name": "ipython",
    "version": 3
   },
   "file_extension": ".py",
   "mimetype": "text/x-python",
   "name": "python",
   "nbconvert_exporter": "python",
   "pygments_lexer": "ipython3",
   "version": "3.11.7"
  }
 },
 "nbformat": 4,
 "nbformat_minor": 5
}
