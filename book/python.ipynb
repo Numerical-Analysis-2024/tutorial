{
 "cells": [
  {
   "cell_type": "markdown",
   "metadata": {
    "id": "jTW2b0qafzXA"
   },
   "source": [
    "# Introducción a la programación en lenguaje Python\n",
    "\n",
    "<img src=\"https://www.heise.de/select/ct/2022/5/2135510023934602155/ct0522pythonfur_118376_pmk_a_digital.jpeg\">\n",
    "\n",
    "Imagen creada por Andreas Martini. Tomada del sitio [Python für alle](https://www.heise.de/select/ct/2022/5/2135510023934602155).\n",
    "\n",
    "En esta clase usted aprenderá las características lexicográficas, sintácticas y semánticas básicas del lenguaje Python.\n",
    "\n",
    "Sitio oficial del curso [Computación científica en Python](https://www.pec3.org/index.php?show=events_scientificcomputinginpython&lang=es).\n",
    "\n",
    "## ¿Qué es Python?\n",
    "\n",
    "Python, la \"nueva ola en la computación científica\".\n",
    "Esta es la afirmación plasmada en el artículo \"[Why Python Is the Next Wave in Earth Sciences Computing](https://journals.ametsoc.org/view/journals/bams/93/12/bams-d-12-00148.1.xml) publicado en el [volumen 100 No. 1 del boletín de la American Meteorological Society](https://journals.ametsoc.org/view/journals/bams/103/6/bams.103.issue-6.xml).\n",
    "\n",
    "<img src=\"https://journals.ametsoc.org/coverimage?doc=%2Fjournals%2Fbams%2F93%2F12%2Fbams.93.issue-12.xml&width=200&type=webp\">\n",
    "\n",
    "```\n",
    "<< Entonces, ¿por qué tanto alboroto por Python? Tal vez haya escuchado acerca de Python por parte de un compañero de trabajo, \n",
    "escuchó una referencia a este lenguaje de programación en una presentación en una conferencia, \n",
    "o siguió un enlace desde una página sobre computación científica, pero se preguntará qué beneficios adicionales ofrece \n",
    "el lenguaje Python dado el conjunto de potentes funciones computacionales.\n",
    "\n",
    " Herramientas que ya tienen las ciencias de la tierra. Este artículo expondrá el caso de que Python \n",
    "es la próxima ola en la computación de ciencias de la Tierra por una sencilla razón: \n",
    "Python permite a los usuarios hacer más y mejor ciencia. Veremos las características del \n",
    "lenguaje y los beneficios de esas características.\n",
    "Este artículo describirá cómo estas características proporcionan habilidades en computación científica \n",
    "que actualmente tienen menos probabilidades de estar disponibles con las herramientas existentes, y destacarán \n",
    "el creciente apoyo para Python en las ciencias de la Tierra,...>>\n",
    "```\n",
    "\n",
    "Python es un lenguaje que tiene un diseño y soporte por parte de la comunidad científica tal que,\n",
    "se ajusta muy bien a las necesidades de desarrollo de soluciones computacionales.\n",
    "\n",
    "En el artículo [\"10 Reasons Python Rocks for Research (And a Few Reasons it Doesn’t)\"](https://web.archive.org/web/20190403064043/https://www.stat.washington.edu/~hoytak/blog/whypython.html) podrán encontrar algunas ventajas y desventajas que tiene este lenguaje para este fin.\n",
    "Incluso, la revista Nature dedicó uno de sus artículos al uso de Python en la ciencia titulado [Interactive notebooks: Sharing the code](https://www.dulvy.com/uploads/2/1/0/4/21048414/shen_2014_nature.pdf). \n",
    "\n",
    "<img src=\"https://github.com/Numerical-Analysis-2024/tutorial/assets/21283014/f9df015c-2e62-460e-a8c1-5e86b9a125a1\" width=300 height=400>\n",
    "\n",
    "Está claro que un solo lenguaje de programación por si solo no puede resolver todos los problemas, pero uno de los\n",
    "puntos positivos que tiene Python es su capacidad de trabajar de forma cooperativa con otros lenguajes.\n",
    "O sea, no es un lenguaje cerrado sino integrador.\n",
    "Este es el espíritu que nos motiva para el curso: introducirnos en el uso de esta herramienta de manera que todos\n",
    "podamos en conjunto hacer más ciencia y mejor.\n",
    "\n",
    "## Lenguaje compilado vs interpretado\n",
    "\n",
    "Proceso de compilación de un lenguaje compilado (C, C++, Fortran):\n",
    "\n",
    "<img src=\"https://github.com/Numerical-Analysis-2024/tutorial/assets/21283014/91c73900-e020-4e67-963d-4472ab03dc17\" width=800 height=780>\n",
    "\n",
    "<img src=\"https://hackingcpp.com/cpp/slides/cpp_separate_compilation_03.svg\" width=800 height=780>\n",
    "\n",
    "Al compilar un lenguaje el compilador recibe una secuencia de líneas de código de forma íntegra usualmente en un\n",
    "fichero a través del IDE de programación utilizado. \n",
    "\n",
    "El proceso de compilación puede ser descrito en los siguientes pasos sucesivos, en este caso para un lenguaje dependiente del contexto:\n",
    "\n",
    "1.   **Análisis lexicográfico**: Permite analizar el código línea por línea aislando los conjuntos de caracteres que tengan algún sentido para el lenguaje definido. Estos pueden ser números, etiquetas, palabras clave, signos de creación de ambiente etc.\n",
    "2. **Análisis sintáctico**: Cada lenguaje tiene definida una gramática. Esto se refiere a una serie de reglas que deben seguirse al escribir los números, etiquetas, palabras clave, etc. En este punto el compilador analiza si lo que está escrito lexicográficamente correcto también hace un uso correcto de dicha gramática.\n",
    "3. **Análisis semántico**: En este caso se asume que el código está bien escrito de acuerdo al lenguaje por lo que el próximo paso es analizar si además tiene sentido. Este es el caso en el que se verifican los tipos de los objetos definidos, no inicializaciones de variables, etc.\n",
    "4. **Generación del código de máquina**: Llegado a este punto el programa escrito es un programa válido del lenguaje. Como implicación se traduce cada una de las partes del código (lenguaje de alto nivel) a un lenguaje que la computadora puede entender con instrucciones precisas directamente especificadas para la arquitectura de hardware de la misma. Usualmente este lenguaje de bajo nivel es llamado \"Ensamblador\".\n",
    "\n",
    "Proceso de compilación de lenguaje interpretado:\n",
    "\n",
    "<img src=\"https://github.com/Numerical-Analysis-2024/tutorial/assets/21283014/70dffb14-9d28-482c-b19a-4879f3741541\" width=700 height=510>\n",
    "\n",
    "<img src=\"https://www.c-sharpcorner.com/article/why-learn-python-an-introduction-to-python/Images/last2.png\" width=700 height=510>\n",
    "\n",
    "En le caso de un lenguaje interpretado el intérprete hace los análisis y generación de código antes mencionados\n",
    "en *tiempo real* línea de código por línea de código.\n",
    "\n",
    "Python es un lenguaje interpretado, pero en lugar de compilar el código directamente a código de máquina lo hace\n",
    "a un lenguaje intermedio llamado *bytecode*.\n",
    "Por ejemplo, la siguiente instrucción \n",
    "```python\n",
    "a = b.c()\n",
    "```\n",
    "es transformada a una cadena de bytes que cuando es desensamblada se escribe de la siguiente forma:\n",
    "```nasm\n",
    "load 0 (b);\n",
    "load_str 'c';\n",
    "get_attr;\n",
    "call_function 0;\n",
    "store 1 (a);\n",
    "```\n",
    "Pudiera parece que el lenguaje bytecode es más ineficiente dado que requiere más código, pero de hecho es mucho más eficiente.\n",
    "La clave está en que es mucho más simple y fácil de entender por la máquina virtual de Python.\n",
    "\n",
    "El hecho de utilizar un lenguaje intermedio y una máquina virtual hace que el lenguaje Python sea\n",
    "multi-plataforma siguiendo un concepto parecido al de lenguajes como Java y C#.\n",
    "\n",
    "Si le da curiosidad saber cómo se ven los códigos de Python en bytecode puede usted usar la biblioteca estándar\n",
    "de Python implementada en el módulo [dis](https://docs.python.org/3/library/dis.html).\n",
    "\n",
    "## Lenguaje estáticamente vs dinámicamente tipado\n",
    "\n",
    "Un lenguaje estáticamente tipado se distingue porque el tipo de todas las variables es conocido en tiempo de ejecución.\n",
    "Lo usual en este tipo de lenguajes es que el programador tenga que especificar claramente cuál es el tipo correspondiente a cada variable en el código.\n",
    "Como ejemplo pudiéramos mencionar lenguajes como Java, C, C++, C#, Fortran, etc. \n",
    "\n",
    "Existen otros lenguajes que también son estáticamente tipados, pero que el propio compilador aplica una *inferencia de tipo* con la cual es capaz de deducir el tipo de las variables. Por ejemplo, OCaml, Haskell, Scala, Kotlin, etc.\n",
    "\n",
    "En el caso de los lenguajes dinámicamente tipados los tipos son asociados con valores en tiempo de corrida (tiempo real) y no con variables o campos. Esto implica que es posible que una variable tome diferentes tipos a lo largo de la ejecución del programa de forma **dinámica**. Ejemplos de estos lenguajes son Perl, Ruby, PHP, JavaScript, Python, MATLAB, Octave, etc.\n",
    "\n",
    "Casi todos los lenguajes basados en scripts son dinámicos.\n",
    "Esto también tiene el inconveniente de que no es posible en la mayoría de los casos para el\n",
    "intérprete detectar errores en el código hasta que el mismo es ejecutado.\n",
    "\n",
    "## Léxico, sintaxis y semántica\n",
    "\n",
    "*   Números, booleanos y cadenas.\n",
    "*   Asignación de valores a variables.\n",
    "*   Operaciones aritméticas.\n",
    "*   Condicioneales.\n",
    "*   Indentación del lenguaje.\n",
    "*   Estructuras de control\n",
    "\n",
    "### Los tipos de datos de Python\n",
    "\n",
    "Python como todo lenguaje de programación consta con *tipos de datos* para representar la información.\n",
    "Aunque es un *lenguaje fuertemente tipado* hace uso de un *tipado dinámico*.\n",
    "\n",
    "Que sea fuertemente tipado implica que casi todo lo que está implementado en Python posee un tipo de dato o de objeto asignado.\n",
    "\n",
    "En el caso de tipado dinámico se refiere a que las variables no poseen un tipo estático,\n",
    "sino que el mismo puede cambiar de acuerdo a los intereses del programador.\n",
    "\n",
    "Estas características hacen que Python sea relativamente fácil de usar y flexible.\n",
    "\n",
    "Los tipos de datos de Python más importantes son:\n",
    "\n",
    "Tipo de dato      | Descripción\n",
    "------------------|-------------------\n",
    "`str`             | Representa cadenas de caracteres (string).\n",
    "`int`             | Representa a un número entero (integer).\n",
    "`float`           | Representa un número de punto flotante.\n",
    "`complex`         | Representa un número complejo.\n",
    "`bool`            | Representa un valor booleano verdadero o falso.\n",
    "`None`            | Representa un valor nulo.\n",
    "\n",
    "Una cadena de caracteres se define usando ```' '``` o ```\" \"```.\n",
    "Aunque no es posible mezclarlos."
   ]
  },
  {
   "cell_type": "code",
   "execution_count": 1,
   "metadata": {
    "colab": {
     "base_uri": "https://localhost:8080/",
     "height": 36
    },
    "id": "w6BSzDRMogcQ",
    "outputId": "86b90775-82f1-4b4e-fd4e-9390752d80e9"
   },
   "outputs": [
    {
     "data": {
      "text/plain": [
       "'Hola!'"
      ]
     },
     "execution_count": 1,
     "metadata": {},
     "output_type": "execute_result"
    }
   ],
   "source": [
    "\"Hola!\""
   ]
  },
  {
   "cell_type": "code",
   "execution_count": 2,
   "metadata": {
    "colab": {
     "base_uri": "https://localhost:8080/",
     "height": 36
    },
    "id": "am5Xa_TookXV",
    "outputId": "028d2064-925b-44c8-e2cd-d1d29ef5ee00"
   },
   "outputs": [
    {
     "data": {
      "text/plain": [
       "'Hola'"
      ]
     },
     "execution_count": 2,
     "metadata": {},
     "output_type": "execute_result"
    }
   ],
   "source": [
    "\"Hola\""
   ]
  },
  {
   "cell_type": "markdown",
   "metadata": {},
   "source": [
    "```python\n",
    ">>> \"Hola'\n",
    "  File \"<ipython-input-3-269476aa49fa>\", line 1\n",
    "    \"Hola'\n",
    "          ^\n",
    "SyntaxError: EOL while scanning string literal\n",
    "```"
   ]
  },
  {
   "cell_type": "markdown",
   "metadata": {
    "id": "PeCczPHHoqWd"
   },
   "source": [
    "Existen ambas formas para poder expresar cadenas como la siguiente"
   ]
  },
  {
   "cell_type": "code",
   "execution_count": 3,
   "metadata": {
    "colab": {
     "base_uri": "https://localhost:8080/"
    },
    "id": "hvirdwxzovZb",
    "outputId": "aece2598-4f72-4683-96bf-cd301bec9388"
   },
   "outputs": [
    {
     "name": "stdout",
     "output_type": "stream",
     "text": [
      "Hola en inglés se escribe \"Hello\"!\n"
     ]
    }
   ],
   "source": [
    "print('Hola en inglés se escribe \"Hello\"!')"
   ]
  },
  {
   "cell_type": "markdown",
   "metadata": {
    "id": "18NxMN-lpFC2"
   },
   "source": [
    "En el caso de los números enteros y de punto flotante se tienen que"
   ]
  },
  {
   "cell_type": "code",
   "execution_count": 4,
   "metadata": {
    "colab": {
     "base_uri": "https://localhost:8080/"
    },
    "id": "35btg93lpJMY",
    "outputId": "be67b7a4-e4fe-476b-dcbe-45b8bec43d3d"
   },
   "outputs": [
    {
     "data": {
      "text/plain": [
       "int"
      ]
     },
     "execution_count": 4,
     "metadata": {},
     "output_type": "execute_result"
    }
   ],
   "source": [
    "type(2)"
   ]
  },
  {
   "cell_type": "code",
   "execution_count": 5,
   "metadata": {
    "colab": {
     "base_uri": "https://localhost:8080/"
    },
    "id": "WF6maeuEpRAi",
    "outputId": "2d5b5be4-d441-47df-f10f-64185032ee56"
   },
   "outputs": [
    {
     "data": {
      "text/plain": [
       "float"
      ]
     },
     "execution_count": 5,
     "metadata": {},
     "output_type": "execute_result"
    }
   ],
   "source": [
    "type(12.45)"
   ]
  },
  {
   "cell_type": "code",
   "execution_count": 6,
   "metadata": {
    "colab": {
     "base_uri": "https://localhost:8080/"
    },
    "id": "IvaZXk7zpUE-",
    "outputId": "bec2fbd7-bdea-46f9-c495-0cfdba30639b"
   },
   "outputs": [
    {
     "name": "stdout",
     "output_type": "stream",
     "text": [
      "Entero 2 <class 'int'>\n",
      "Flotante 1e-45 <class 'float'>\n"
     ]
    }
   ],
   "source": [
    "print(\"Entero\", 2, type(2))\n",
    "print(\"Flotante\", 1e-45, type(1e-45))"
   ]
  },
  {
   "cell_type": "markdown",
   "metadata": {
    "id": "5aOr2_mCpvlP"
   },
   "source": [
    "El caso de los números complejos será tratado en la [clase #2](https://colab.research.google.com/drive/1d5T9fcnaIvKOELRXUNE2PjVKHMVdmdeA#scrollTo=7Q9C4Tq0HGku), pero como adelanto:"
   ]
  },
  {
   "cell_type": "code",
   "execution_count": 7,
   "metadata": {
    "colab": {
     "base_uri": "https://localhost:8080/"
    },
    "id": "DXLcDp8ap4Cp",
    "outputId": "af73102b-8ba0-4d9c-b02a-565e4224fe54"
   },
   "outputs": [
    {
     "name": "stdout",
     "output_type": "stream",
     "text": [
      "(2+4j) <class 'complex'>\n"
     ]
    }
   ],
   "source": [
    "print(2 + 4j, type(2 + 4j))"
   ]
  },
  {
   "cell_type": "markdown",
   "metadata": {
    "id": "xN9V-s-EqcdJ"
   },
   "source": [
    "El valor booleano es muy simple:"
   ]
  },
  {
   "cell_type": "code",
   "execution_count": 8,
   "metadata": {
    "colab": {
     "base_uri": "https://localhost:8080/"
    },
    "id": "mRpscSFDqgcC",
    "outputId": "9d000331-daa9-41ae-c6b5-fef0c0005404"
   },
   "outputs": [
    {
     "data": {
      "text/plain": [
       "True"
      ]
     },
     "execution_count": 8,
     "metadata": {},
     "output_type": "execute_result"
    }
   ],
   "source": [
    "True"
   ]
  },
  {
   "cell_type": "code",
   "execution_count": 9,
   "metadata": {
    "colab": {
     "base_uri": "https://localhost:8080/"
    },
    "id": "2clf9h-SqjbR",
    "outputId": "80c873f3-3bc4-46a1-a8a3-d3e0c80f8b1f"
   },
   "outputs": [
    {
     "name": "stdout",
     "output_type": "stream",
     "text": [
      "False <class 'bool'>\n"
     ]
    }
   ],
   "source": [
    "print(False, type(False))"
   ]
  },
  {
   "cell_type": "markdown",
   "metadata": {
    "id": "q63LJ5L-rE-q"
   },
   "source": [
    "Por último se tiene el valor nulo"
   ]
  },
  {
   "cell_type": "code",
   "execution_count": 10,
   "metadata": {
    "id": "Lw9FvdyIrIpD"
   },
   "outputs": [],
   "source": [
    "None"
   ]
  },
  {
   "cell_type": "code",
   "execution_count": 11,
   "metadata": {
    "colab": {
     "base_uri": "https://localhost:8080/"
    },
    "id": "UntJukjJrKr4",
    "outputId": "3fc74cea-7325-48e9-ab8a-fbd828c52a68"
   },
   "outputs": [
    {
     "name": "stdout",
     "output_type": "stream",
     "text": [
      "None <class 'NoneType'>\n"
     ]
    }
   ],
   "source": [
    "print(None, type(None))"
   ]
  },
  {
   "cell_type": "markdown",
   "metadata": {
    "id": "F73Mfl6s9oRe"
   },
   "source": [
    "### Variables y asignación de valores\n",
    "\n",
    "Las variables se crean nombrándolas con una etiqueta y asignándole un valor.\n",
    "\n",
    "```var = <valor>```\n",
    "\n",
    "Como es un lenguaje dinámico entonces no es necesario declarar la variable de un tipo determinado\n",
    "aunque esto no significa que no tenga tipo.\n",
    "De hecho, siempre se encuentra tipada."
   ]
  },
  {
   "cell_type": "code",
   "execution_count": 12,
   "metadata": {
    "colab": {
     "base_uri": "https://localhost:8080/"
    },
    "id": "LpjeIABesISf",
    "outputId": "e06c412c-4fad-417c-eccc-717e7276c00f"
   },
   "outputs": [
    {
     "data": {
      "text/plain": [
       "str"
      ]
     },
     "execution_count": 12,
     "metadata": {},
     "output_type": "execute_result"
    }
   ],
   "source": [
    "a = \"texto\"\n",
    "type(a)"
   ]
  },
  {
   "cell_type": "code",
   "execution_count": 13,
   "metadata": {
    "colab": {
     "base_uri": "https://localhost:8080/"
    },
    "id": "4BjOi3p9sMdL",
    "outputId": "3066cddb-2093-4962-c348-6b81a19e5933"
   },
   "outputs": [
    {
     "data": {
      "text/plain": [
       "int"
      ]
     },
     "execution_count": 13,
     "metadata": {},
     "output_type": "execute_result"
    }
   ],
   "source": [
    "a = 2\n",
    "type(a)"
   ]
  },
  {
   "cell_type": "code",
   "execution_count": 14,
   "metadata": {
    "colab": {
     "base_uri": "https://localhost:8080/"
    },
    "id": "R1AY-vy0sVtK",
    "outputId": "618bd87f-3095-43bb-d300-9a8c50040465"
   },
   "outputs": [
    {
     "name": "stdout",
     "output_type": "stream",
     "text": [
      "2 <class 'int'>\n"
     ]
    }
   ],
   "source": [
    "b = a\n",
    "print(b, type(b))"
   ]
  },
  {
   "cell_type": "markdown",
   "metadata": {
    "id": "5AdpWQ0rsr1U"
   },
   "source": [
    "También se puede hacer una multi-asignación de valores a diferentes variables como sigue"
   ]
  },
  {
   "cell_type": "code",
   "execution_count": 15,
   "metadata": {
    "colab": {
     "base_uri": "https://localhost:8080/"
    },
    "id": "WVFuHW3osoiU",
    "outputId": "ec8b31fd-1077-4a10-8b7f-db6f8198f3fa"
   },
   "outputs": [
    {
     "name": "stdout",
     "output_type": "stream",
     "text": [
      "2\n",
      "3\n"
     ]
    }
   ],
   "source": [
    "c, d = 2, 3\n",
    "\n",
    "print(c)\n",
    "print(d)"
   ]
  },
  {
   "cell_type": "markdown",
   "metadata": {
    "id": "XFOjn9Xn91PO"
   },
   "source": [
    "### Expresiones aritméticas y booleanas"
   ]
  },
  {
   "cell_type": "markdown",
   "metadata": {
    "id": "dszyfPC_s5OD"
   },
   "source": [
    "A partir de la mezcla de variables y constantes es posible crear expresiones aritméticas o booleanas. Veamos algunos ejemplos"
   ]
  },
  {
   "cell_type": "code",
   "execution_count": 16,
   "metadata": {
    "colab": {
     "base_uri": "https://localhost:8080/"
    },
    "id": "yGXxm87wtGob",
    "outputId": "67c3b4fc-8de7-48c3-b950-2d14bb60ff43"
   },
   "outputs": [
    {
     "name": "stdout",
     "output_type": "stream",
     "text": [
      "4\n"
     ]
    }
   ],
   "source": [
    "a = 2 + 2\n",
    "print(a)"
   ]
  },
  {
   "cell_type": "code",
   "execution_count": 17,
   "metadata": {
    "colab": {
     "base_uri": "https://localhost:8080/"
    },
    "id": "ClSHrcY6tTTX",
    "outputId": "73499228-4d48-4636-9c06-6235ab03e956"
   },
   "outputs": [
    {
     "name": "stdout",
     "output_type": "stream",
     "text": [
      "5.0\n"
     ]
    }
   ],
   "source": [
    "b = 20 / a\n",
    "print(b)"
   ]
  },
  {
   "cell_type": "markdown",
   "metadata": {
    "id": "SGbb-w3et3Ta"
   },
   "source": [
    "El operador ```%``` permite obtener el resto de la división del primer operando entre el segundo."
   ]
  },
  {
   "cell_type": "code",
   "execution_count": 18,
   "metadata": {
    "colab": {
     "base_uri": "https://localhost:8080/"
    },
    "id": "dnyaIi9MtbpO",
    "outputId": "893d747c-642c-4237-bb83-548c2460b7f1"
   },
   "outputs": [
    {
     "name": "stdout",
     "output_type": "stream",
     "text": [
      "0\n",
      "1\n",
      "2\n",
      "0\n"
     ]
    }
   ],
   "source": [
    "print(3 % 3)\n",
    "print(4 % 3)\n",
    "print(5 % 3)\n",
    "print(6 % 3)"
   ]
  },
  {
   "cell_type": "markdown",
   "metadata": {
    "id": "k5i5B2KAuJJh"
   },
   "source": [
    "También se pueden combinar. En el siguiente ejemplo se verifica si la expresión aritmética del miembro izquierdo es divisible entre 0.\n",
    "\n",
    "Destacar el operador ```==``` el cual establece una comparación booleana entre dos operandos."
   ]
  },
  {
   "cell_type": "code",
   "execution_count": 19,
   "metadata": {
    "colab": {
     "base_uri": "https://localhost:8080/"
    },
    "id": "cQ8N6SmBuPQB",
    "outputId": "29eda8cc-90c4-45e5-c3ae-e4036bd32008"
   },
   "outputs": [
    {
     "data": {
      "text/plain": [
       "False"
      ]
     },
     "execution_count": 19,
     "metadata": {},
     "output_type": "execute_result"
    }
   ],
   "source": [
    "23 + 7 * 2 % 2 == 0"
   ]
  },
  {
   "cell_type": "markdown",
   "metadata": {
    "id": "-fs-EFxmuvI8"
   },
   "source": [
    "Otros operadores lógicos y de comparación son \n",
    "\n",
    "Operador      | Descripción\n",
    "--------------| -----------------\n",
    "```and```     | Realiza la operación lógica **y** que resulta positiva solo en el caso en que ambos operandos sean positivos.\n",
    "```or```      | Realiza la operación lógica **o** que resulta negativa solo si ambos operandos son negativos.\n",
    "```not```       | Invierte el valor de verdad de la expresión.\n",
    "```!=```      | Resulta positivo si los dos operandos que compara son diferentes.\n",
    "```>```       | Operador \"mayor que\".\n",
    "```>=```      | Operador \"mayor igual que\".\n",
    "```<```       | Operador \"menor que\".\n",
    "```<=```      | Operador \"menor igual que\".\n",
    "```==```      | Operador de igualdad."
   ]
  },
  {
   "cell_type": "markdown",
   "metadata": {
    "id": "R3pU5MI62oeG"
   },
   "source": [
    "### Indentación de espacios en Python"
   ]
  },
  {
   "cell_type": "markdown",
   "metadata": {
    "id": "MNqzVBOI2uBy"
   },
   "source": [
    "En lenguajes como ```C++``` o ```C``` el código es ordenado de forma que los *ambientes* (*scopes* en inglés) son en su mayoría establecidos por las definiciones de partes del lenguaje (*features* en inglés) como funciones y clases, y delimitadores como ```{}```. \n",
    "\n",
    "En el lenguaje Python también se utilizan las definiciones de funciones aunque hace uso de los espacios de forma particular. Los *ambientes* de código se encuentra cuidadosamente indentados de forma jerárquica y anidada. De esta manera el código queda estrictamente ordenado y estéticamente \"lindo\". Normalmente el compilador reconoce 4 espacios o 1 tab como la creación del nuevo ambiente. \n",
    "\n",
    "Veamos un ejemplo:\n",
    "```python\n",
    ">>> 1 print('1 espacio inicial => ERROR de sintáxis!')\n",
    "  File \"<ipython-input-21-28de08d8f4fe>\", line 1\n",
    "    1 print('1 espacio inicial => ERROR de sintáxist!')\n",
    "          ^\n",
    "SyntaxError: invalid syntax\n",
    "```\n",
    "\n",
    "Por otra parte, no es posible crear ambientes vacíos (sin código efectivo contenido en ellos)\n",
    "\n",
    "```python\n",
    "    print(\"4 Espacios al inicio => Nuevo ambiente vacío => ERROR de sintáxis!\")\n",
    "File \"a.py\", line 1\n",
    "    print('4 Espacios al inicio => Nuevo ambiente vacío => ERROR de sintáxis!')\n",
    "    ^\n",
    "IndentationError: unexpected indent\n",
    "```\n",
    "\n",
    "¿Cuándo utilizar la indentación?\n",
    "\n",
    "Precisamente las estructuras de control definidas en el lenguaje crean nuevos ambientes para los cuáles se utilizará la indentación.\n",
    "\n",
    "### Estructuras de control\n",
    "\n",
    "Las estructuras de control permiten controlar el flujo de ejecución del código.\n",
    "Las más utilizadas son las estructuras condicionales, los bucles y los métodos, además de las clases,\n",
    "pero este contenido no será tratado en este curso.\n",
    "\n",
    "#### Estructuras condicionales\n",
    "\n",
    "Para establecer una condición en lenguaje Python se utiliza la siguiente sintaxis:\n",
    "\n",
    "```python\n",
    "if <expresión booleana 1>:\n",
    "....<código 1>\n",
    "elif <expresión booleana 2>:\n",
    "....<código 2>\n",
    "else:\n",
    "....<código 3>\n",
    "```\n",
    "\n",
    "En el caso en que la `expresión booleana #1` sea verdadera entonces se ejecuta el bloque de `código #1` y luego continúa el flujo del programa.\n",
    "En caso contrario, entonces se evalúa la `expresión booleana #2`.\n",
    "De ser verdadera entonces se ejecuta el bloque de `código #2`.\n",
    "En caso de no ser verdaderas las dos primeras condiciones entonces se ejecuta el `código #3`.\n",
    "\n",
    "Veamos un ejemplo:\n",
    "\n",
    "Sea la función $|x| = \\begin{cases} \n",
    "      x   ,& x ≡ 0 (3) \\\\\n",
    "      x^2 ,& x \\equiv 1 (3) \\\\\n",
    "      x^3 ,& x \\equiv 2 (3) \n",
    "   \\end{cases}$\n",
    "\n",
    "entonces podría representarse en código de la siguiente forma"
   ]
  },
  {
   "cell_type": "code",
   "execution_count": 20,
   "metadata": {
    "colab": {
     "base_uri": "https://localhost:8080/"
    },
    "id": "SxwPQjtTZK-h",
    "outputId": "9ac7b208-0d28-4219-e053-48fda94766e2"
   },
   "outputs": [
    {
     "name": "stdout",
     "output_type": "stream",
     "text": [
      "54\n"
     ]
    }
   ],
   "source": [
    "x = 54\n",
    "\n",
    "if x % 3 == 0:\n",
    "    result = x\n",
    "elif x % 3 == 1:\n",
    "    result = x**2\n",
    "else:\n",
    "    result = x**3\n",
    "\n",
    "print(result)"
   ]
  },
  {
   "cell_type": "markdown",
   "metadata": {
    "id": "zB-1eBWjZ7RY"
   },
   "source": [
    "Una manera abreviada de reprentar una condición es en forma de operador ternario:\n",
    "\n",
    "```python\n",
    "<variable 1> = <expresión 1> if <expresión booleana> else <expresión 2>\n",
    "```\n",
    "\n",
    "En este caso, la asignación del valor a la  ```variable #1``` está condicionada por la ```expresión booleana```. Si es verdadera entonces se asignará el valor resultante de la ```expresión #1``` y de lo contrario el valor resultante de la ```expresión #2```."
   ]
  },
  {
   "cell_type": "code",
   "execution_count": 21,
   "metadata": {
    "colab": {
     "base_uri": "https://localhost:8080/"
    },
    "id": "qMHUnfbGbE8s",
    "outputId": "08de4741-e1a5-4dc5-c98b-193d544af611"
   },
   "outputs": [
    {
     "name": "stdout",
     "output_type": "stream",
     "text": [
      "3.5\n"
     ]
    }
   ],
   "source": [
    "x = 3.5\n",
    "x_bound = x if 0 <= x <= 5 else 0.0\n",
    "\n",
    "print(x_bound)"
   ]
  },
  {
   "cell_type": "markdown",
   "metadata": {
    "id": "BCzh_XiUSoX-"
   },
   "source": [
    "#### Estructuras iterativas\n",
    "\n",
    "Las estructuras iterativas que están definidas en el lenguaje Python son los bucles ```while``` y el ```for```.\n",
    "\n",
    "El bucle ```while``` tiene la siguiente sintaxis:\n",
    "```python\n",
    "while <expresión booleana>:\n",
    "....<código>\n",
    "```\n",
    "\n",
    "En este caso se repite el bloque de ```código``` interno siempre que la ```expresión booleana``` sea verdadera.\n",
    "\n",
    "Es importante asegurarse de que en algún momento el cíclo terminará ya sea a causa de que la ```expresión booleana``` sea falsa o que imperativamente se ordene hacerlo desde dentro del bloque de ```código```. De no hacerlo seguirá repitiendo el bloque de ```código``` de forma infinita o hasta que agote la memoria.\n",
    "\n",
    "Veamos en el siguiente ejemplo cómo utilizar este tipo de bucle para calcular el MCD de dos números"
   ]
  },
  {
   "cell_type": "code",
   "execution_count": 22,
   "metadata": {
    "colab": {
     "base_uri": "https://localhost:8080/"
    },
    "id": "Ouv-Po4zUZcH",
    "outputId": "a3e682f0-9fde-48c0-c070-9de4ba8e4c75"
   },
   "outputs": [
    {
     "name": "stdout",
     "output_type": "stream",
     "text": [
      "4\n"
     ]
    }
   ],
   "source": [
    "m = 32\n",
    "n = 12\n",
    "\n",
    "d = min(m, n)\n",
    "\n",
    "while m % d != 0 or n % d != 0:\n",
    "    d -= 1  # Atención con esta instrucción!\n",
    "\n",
    "print(d)"
   ]
  },
  {
   "cell_type": "markdown",
   "metadata": {
    "id": "f9JBzMkleebU"
   },
   "source": [
    "El bucle ```for``` tiene la siguiente sintaxis:\n",
    "\n",
    "```python\n",
    "for <e> in <iterador>:\n",
    "....<código>\n",
    "```\n",
    "\n",
    "Es importante destacar que esta estructura a pesar de que se parece mucho a su análoga deinida para lenguajes como ```C++``` no está implementada de la misma manera. Precisamente, tiene exactamente la misma funcionalidad que la estructura de control ```foreach``` del lenguage ```C#```. \n",
    "\n",
    "En efecto, la estructura está diseñada para iterar por los elementos de un iterador y ejecutar el bloque de código para la iteración correspondiente al elemento ```e```.\n",
    "\n",
    "Un iterador no es más que un partón de diseño \"Lazy\" el cual implementa un patrón productor-consumidor de elementos de una secuencia (explícita o implícita). Por ejemplo:"
   ]
  },
  {
   "cell_type": "code",
   "execution_count": 23,
   "metadata": {
    "colab": {
     "base_uri": "https://localhost:8080/"
    },
    "id": "EYIaZMDbgdBP",
    "outputId": "30edd844-8d55-4f8f-a757-e58b17a32a04"
   },
   "outputs": [
    {
     "name": "stdout",
     "output_type": "stream",
     "text": [
      "1\n",
      "2\n",
      "3\n",
      "4\n"
     ]
    }
   ],
   "source": [
    "for e in 1, 2, 3, 4:\n",
    "    print(e)"
   ]
  },
  {
   "cell_type": "markdown",
   "metadata": {
    "id": "NHGhv7Cxgmnv"
   },
   "source": [
    "en este ejemplo se asigna a la variable e uno de los elementos de la secuencia dada del 1 al 4, y se ejecuta un código con él.\n",
    "\n",
    "Quizás el más utilizado de los iteradores es el implementado por la función ```range``` que genera los números en un intervalo determinado $[a, b)$."
   ]
  },
  {
   "cell_type": "code",
   "execution_count": 24,
   "metadata": {
    "colab": {
     "base_uri": "https://localhost:8080/"
    },
    "id": "uVr5ixjShxHk",
    "outputId": "e2cb6486-b7dc-4785-9d24-bad89945d603"
   },
   "outputs": [
    {
     "name": "stdout",
     "output_type": "stream",
     "text": [
      "1\n",
      "2\n",
      "3\n",
      "4\n",
      "5\n",
      "6\n",
      "7\n",
      "8\n",
      "9\n",
      "10\n"
     ]
    }
   ],
   "source": [
    "for k in range(1, 11):\n",
    "    print(k)"
   ]
  },
  {
   "cell_type": "markdown",
   "metadata": {
    "id": "yiYHxljliU56"
   },
   "source": [
    "Esta es una de las razones por las que los ciclos de este tipo en Python son tan costosos computacionalmente hablando y deben de ser evitados siempre que sea posible.\n",
    "\n",
    "También existen instrucciones para controlar el flujo de las iteraciones:\n",
    "\n",
    "\n",
    "*   ```break```: Se utiliza para terminar las iteraciones y redirigir el flujo de ejecución hacia el ambiente \"padre\" o más próximo que contiene al bucle. \n",
    "*   ```continue```: Se utiliza para ignorar las restantes líneas de código del bloque de ```código``` que se está ejecutando en la actual iteración y continuar con la ejcución del código de la próxima iteración.\n",
    "\n",
    "#### Declaración de métodos y expresiones lambda\n",
    "\n",
    "Un método es una estructura de control que permite encapsular un bloque de código de manera que pueda ser reutilizado. Para ello define una etiqueta para univocamene identificarlo, parámetros de entrada y un resultado de salida si existen. \n",
    "\n",
    "Una función es aquel método que siempre devuelve un resultado."
   ]
  },
  {
   "cell_type": "code",
   "execution_count": 25,
   "metadata": {
    "id": "Rm6i_ZB8vy71"
   },
   "outputs": [],
   "source": [
    "def suma(a, b):\n",
    "    return a + b"
   ]
  },
  {
   "cell_type": "markdown",
   "metadata": {
    "id": "crbl-FgRv5IS"
   },
   "source": [
    "En el ejemplo anterior se ha definido una función etiquetada con el nombre ```suma```. Para ello se usa la palabra reservada del lenguaje ```def``` que es una abreviatura de \"definition\". Seguidamente de la etiqueta se declaran los parámetros de entrada entre paréntesis y separados por coma, en este caso ```a``` y ```b```. Para devolver un resultado se utiliza la palabra reservada ```return``` y seguidamente la expresión de retorno. Es importante destacar que el método no tiene necesariamente que retornar un valor."
   ]
  },
  {
   "cell_type": "code",
   "execution_count": 26,
   "metadata": {
    "colab": {
     "base_uri": "https://localhost:8080/"
    },
    "id": "BN8DUDa2wzr3",
    "outputId": "2514fdec-911a-412b-ddd5-53c687294564"
   },
   "outputs": [
    {
     "name": "stdout",
     "output_type": "stream",
     "text": [
      "Hola\n",
      "Hola\n",
      "Hola\n",
      "Hola\n",
      "Hola\n",
      "Hola\n",
      "Hola\n",
      "Hola\n",
      "Hola\n",
      "Hola\n",
      "5\n"
     ]
    }
   ],
   "source": [
    "def imprimir_10_veces(s):\n",
    "    for k in range(10):\n",
    "        print(s)\n",
    "\n",
    "\n",
    "imprimir_10_veces(\"Hola\")\n",
    "print(suma(2, 3))"
   ]
  },
  {
   "cell_type": "markdown",
   "metadata": {
    "id": "pzoFKIyZxHH8"
   },
   "source": [
    "Como se aprecia en el ejemplo anterior los métodos crean su propio ambiente de ejecución a través de la indentación. \n",
    "\n",
    "Por otra parte, cuando se desea ejecutar el método simplemente se utiliza la etiqueta y se le suministran los parámetros de entrada correspondientes entre paréntesis separados por coma.\n",
    "\n",
    "Las expresiones lambda permiten definir funciones de forma compacta en una linea o \"inline\" de forma muy similar a como se hace en Matlab"
   ]
  },
  {
   "cell_type": "code",
   "execution_count": 27,
   "metadata": {
    "colab": {
     "base_uri": "https://localhost:8080/",
     "height": 38
    },
    "id": "KrxQDoQMyBHN",
    "outputId": "e827575d-521d-4cda-8c25-9971c6c0b2ab"
   },
   "outputs": [
    {
     "data": {
      "text/latex": [
       "\\sqrt{x^2 + y^2} = 3"
      ],
      "text/plain": [
       "<IPython.core.display.Latex object>"
      ]
     },
     "metadata": {},
     "output_type": "display_data"
    }
   ],
   "source": [
    "import math\n",
    "\n",
    "m = lambda x, y: math.sqrt(x**2 + y**2)\n",
    "\n",
    "# Display latex inline\n",
    "from IPython.display import Latex, display\n",
    "\n",
    "display(Latex(\"\\sqrt{x^2 + y^2} = %d\" % (m(2, 3),)))"
   ]
  },
  {
   "cell_type": "markdown",
   "metadata": {
    "id": "opVyr0oCMn3X"
   },
   "source": [
    "## Listas, tuplas, conjuntos y diccionarios\n",
    "\n",
    "¿Cuál es la diferencia entre las estructuras de datos *Lista*, *Tupla*, *Conjunto* y *Diccionarios*?\n",
    "\n",
    "*   Las listas son estructuras de datos que permiten almacenar elementos y realizar ciertas operaciones sobre ellos que serán descritas debajo. Los elementos en las listas pueden ser modificados, de ahí que se les clasiique como estructuras mutables.\n",
    "*   Las tuplas son estructuras de datos que permiten almacenar elementos, pero una vez creadas no pueden ser modificadas, de ahí que se les clasifique como estructuras inmutables.\n",
    "*   Los conjuntos son estructuras de datos que representan conjuntos de elementos implementando las operaciones clásicas entre conjuntos. Estas estructuras son mutables.\n",
    "*   Los diccionarios son estructuras de datos que permiten relacionar pares de llave y valor correspondiente de una forma tal que es posible obtener nuevamente  el valor correspondiente a una llave rápidamente. La implementación hecha para Python es un tipo de [Tabla de Hash](https://peps.python.org/pep-0412).\n",
    "\n",
    "#### Listas\n",
    "\n",
    "Las listas son implementadas por la clase ```list```. Para construir un objeto ```list``` se utiliza el siguiente constructor:"
   ]
  },
  {
   "cell_type": "code",
   "execution_count": 28,
   "metadata": {
    "id": "xPd-BiROPKXm"
   },
   "outputs": [],
   "source": [
    "l = list()"
   ]
  },
  {
   "cell_type": "markdown",
   "metadata": {
    "id": "mxQQrwcjPc-R"
   },
   "source": [
    "Pero como Python es un lenguaje rico en azúcar sintáctica entonces se puede abreviar de la siguiente forma:"
   ]
  },
  {
   "cell_type": "code",
   "execution_count": 29,
   "metadata": {
    "id": "Llh5WNnfPo6L"
   },
   "outputs": [],
   "source": [
    "l = []"
   ]
  },
  {
   "cell_type": "markdown",
   "metadata": {
    "id": "0J39ZyDNQP7Q"
   },
   "source": [
    "Los ```[]``` simbolizan la lista en el lenguaje."
   ]
  },
  {
   "cell_type": "markdown",
   "metadata": {
    "id": "9nyexnkdP_nT"
   },
   "source": [
    "Veamos cuál es el tipo de una lista"
   ]
  },
  {
   "cell_type": "code",
   "execution_count": 30,
   "metadata": {
    "colab": {
     "base_uri": "https://localhost:8080/"
    },
    "id": "n747gXVLQHJQ",
    "outputId": "7abafdf3-23c6-4279-c699-fdbf680279c6"
   },
   "outputs": [
    {
     "data": {
      "text/plain": [
       "list"
      ]
     },
     "execution_count": 30,
     "metadata": {},
     "output_type": "execute_result"
    }
   ],
   "source": [
    "type(l)"
   ]
  },
  {
   "cell_type": "markdown",
   "metadata": {
    "id": "QCZ5JkfbPqe_"
   },
   "source": [
    " Una lista puede ser puede creada e inicializar la lista al mismo tiempo:"
   ]
  },
  {
   "cell_type": "code",
   "execution_count": 31,
   "metadata": {
    "colab": {
     "base_uri": "https://localhost:8080/"
    },
    "id": "xdfeoXvtP4bB",
    "outputId": "53602414-26b7-43bd-a2f7-66c990d99658"
   },
   "outputs": [
    {
     "name": "stdout",
     "output_type": "stream",
     "text": [
      "l = [1, 2, 3, 4]\n"
     ]
    }
   ],
   "source": [
    "l = [1, 2, 3, 4]\n",
    "print(\"l =\", l)"
   ]
  },
  {
   "cell_type": "markdown",
   "metadata": {
    "id": "To6WaInoQrk2"
   },
   "source": [
    "Los elementos de una lista pueden ser de cualquier tipo de datos."
   ]
  },
  {
   "cell_type": "code",
   "execution_count": 32,
   "metadata": {
    "colab": {
     "base_uri": "https://localhost:8080/"
    },
    "id": "ZQx0FLPVQ1CA",
    "outputId": "7e45b5df-1f7d-428f-f257-f4a7b08eb56d"
   },
   "outputs": [
    {
     "name": "stdout",
     "output_type": "stream",
     "text": [
      "l = ['a', 1, True, 30.56, 1e-40]\n"
     ]
    }
   ],
   "source": [
    "l = [\"a\", 1, True, 30.56, 1e-40]\n",
    "print(\"l =\", l)"
   ]
  },
  {
   "cell_type": "markdown",
   "metadata": {
    "id": "dyStvNcfZn2W"
   },
   "source": [
    "Para conocer la cantidad de elementos de una lista se utilizan la función ```len``` (proveniente de *length* en ingés)."
   ]
  },
  {
   "cell_type": "markdown",
   "metadata": {
    "id": "WTLeQnnJROlo"
   },
   "source": [
    "Una lista puede ser concatenada con otra lista. Para ello la clase list implementa  el operador ```+```."
   ]
  },
  {
   "cell_type": "code",
   "execution_count": 33,
   "metadata": {
    "colab": {
     "base_uri": "https://localhost:8080/"
    },
    "id": "tDCQDu3TRWRI",
    "outputId": "0994fbc3-1777-4218-f972-3dfe91944756"
   },
   "outputs": [
    {
     "name": "stdout",
     "output_type": "stream",
     "text": [
      "[1, 2, 3, 4, 5, 6, 7, 8]\n"
     ]
    }
   ],
   "source": [
    "a = [1, 2, 3, 4]\n",
    "b = [5, 6, 7, 8]\n",
    "c = a + b\n",
    "print(c)"
   ]
  },
  {
   "cell_type": "markdown",
   "metadata": {
    "id": "umxmM8PXRs3P"
   },
   "source": [
    "Otro operador a considerar es la multiplicación de una lista por un número natural ```[...] * n```. El resultado del mismo es repetir los elementos de la lista tantas veces como estipule el otro operando."
   ]
  },
  {
   "cell_type": "code",
   "execution_count": 34,
   "metadata": {
    "colab": {
     "base_uri": "https://localhost:8080/"
    },
    "id": "JjXynLP8SELT",
    "outputId": "72b6070b-72ca-4727-cbb9-8b4ef60f63dc"
   },
   "outputs": [
    {
     "data": {
      "text/plain": [
       "[1, 2, 3, 4, 1, 2, 3, 4]"
      ]
     },
     "execution_count": 34,
     "metadata": {},
     "output_type": "execute_result"
    }
   ],
   "source": [
    "a * 2  # Repitiendo la lista a dos veces"
   ]
  },
  {
   "cell_type": "markdown",
   "metadata": {
    "id": "4zIsog50THpV"
   },
   "source": [
    "Por supuesto que una lista puede contener otras listas como sus elementos y así de forma recurrente."
   ]
  },
  {
   "cell_type": "code",
   "execution_count": 35,
   "metadata": {
    "colab": {
     "base_uri": "https://localhost:8080/"
    },
    "id": "MMgv4J10TMol",
    "outputId": "950f0cef-4373-45b1-99aa-4573f2f0690c"
   },
   "outputs": [
    {
     "name": "stdout",
     "output_type": "stream",
     "text": [
      "[1, ['a', 'b'], 3]\n"
     ]
    }
   ],
   "source": [
    "a = [1, [\"a\", \"b\"], 3]\n",
    "print(a)"
   ]
  },
  {
   "cell_type": "markdown",
   "metadata": {
    "id": "9141fNQaTfep"
   },
   "source": [
    "¿Cómo acceder a los elementos de una lista? \n",
    "\n",
    "La clase lista implementa el operador de intezación de elementos para poder obtener un elemento de la lista a través de su índice. El mismo operador ```[]```es utilizado de la siguiente manera: "
   ]
  },
  {
   "cell_type": "code",
   "execution_count": 36,
   "metadata": {
    "colab": {
     "base_uri": "https://localhost:8080/"
    },
    "id": "sig0sf4CT_bV",
    "outputId": "99653dca-635c-4970-b651-b1db5645fac1"
   },
   "outputs": [
    {
     "name": "stdout",
     "output_type": "stream",
     "text": [
      "1\n",
      "['a', 'b']\n",
      "3\n"
     ]
    }
   ],
   "source": [
    "print(a[0])\n",
    "print(a[1])\n",
    "print(a[2])"
   ]
  },
  {
   "cell_type": "markdown",
   "metadata": {
    "id": "PdRwIFXWULgd"
   },
   "source": [
    "Los índices de las listas comienzan en el ```0```. \n",
    "\n",
    "Particularmente existe otra forma de indexación brindada por la azúcar sintáctica de Python que resulta muy útil y conveniente. Nos referimos a la indexación inversa.\n",
    "\n",
    "La indexación inversa permite indexar los elementos de una lista comenzando desde el último hasta el primero, usando números negativos. ```-1``` es el índice del último elemento, ```-2``` el del penúltimo elemento y así sigue descendiendo hasta el primero. Veamos mun ejemplo:"
   ]
  },
  {
   "cell_type": "code",
   "execution_count": 37,
   "metadata": {
    "colab": {
     "base_uri": "https://localhost:8080/"
    },
    "id": "GBPhInL4VKza",
    "outputId": "000f7232-dc5d-442d-d5b4-fc0cfc367d13"
   },
   "outputs": [
    {
     "name": "stdout",
     "output_type": "stream",
     "text": [
      "a = [0, 1, 2, 3, 4, 5, 6, 7, 8, 9]\n",
      "a[-1] = 9\n",
      "a[-1] = 8\n",
      "a[-1] = 7\n",
      "...\n",
      "a[-1] = 0\n"
     ]
    }
   ],
   "source": [
    "a = [0, 1, 2, 3, 4, 5, 6, 7, 8, 9]\n",
    "print(\"a =\", a)\n",
    "print(\"a[-1] =\", a[-1])\n",
    "print(\"a[-1] =\", a[-2])\n",
    "print(\"a[-1] =\", a[-3])\n",
    "print(\"...\")\n",
    "print(\"a[-1] =\", a[-10])"
   ]
  },
  {
   "cell_type": "markdown",
   "metadata": {
    "id": "CWixKxpMWDIh"
   },
   "source": [
    "Existen formas de seccionar grupos de elementos de una lista usando sus índices y el operador ```:```. La selección devuelve una nueva lista con los elementos pertenecientes al intervalo $[a, b)$ donde $a$ y $b$ son índices. "
   ]
  },
  {
   "cell_type": "code",
   "execution_count": 38,
   "metadata": {
    "colab": {
     "base_uri": "https://localhost:8080/"
    },
    "id": "ZKggkmTeWOfR",
    "outputId": "d66dd5ee-ca04-446d-b504-cc6bf7cba715"
   },
   "outputs": [
    {
     "name": "stdout",
     "output_type": "stream",
     "text": [
      "Elementos del 2 al 4\n",
      "[2, 3, 4]\n",
      "Elementos hasta el 5\n",
      "[0, 1, 2, 3, 4, 5]\n",
      "Elementos después del 2\n",
      "[2, 3, 4, 5, 6, 7, 8, 9]\n",
      "Elementos en índices pares\n",
      "[0, 2, 4, 6, 8]\n",
      "Tres últimos elementos\n",
      "[7, 8, 9]\n",
      "Todos los elementos menos el último\n",
      "[0, 1, 2, 3, 4, 5, 6, 7, 8]\n",
      "Elementos en reversa\n",
      "[9, 8, 7, 6, 5, 4, 3, 2, 1, 0]\n"
     ]
    }
   ],
   "source": [
    "print(\"Elementos del 2 al 4\")\n",
    "print(a[2:5])\n",
    "print(\"Elementos hasta el 5\")\n",
    "print(a[:6])\n",
    "print(\"Elementos después del 2\")\n",
    "print(a[2:])\n",
    "print(\"Elementos en índices pares\")\n",
    "print(a[::2])\n",
    "print(\"Tres últimos elementos\")\n",
    "print(a[-3:])\n",
    "print(\"Todos los elementos menos el último\")\n",
    "print(a[:-1])\n",
    "print(\"Elementos en reversa\")\n",
    "print(a[::-1])"
   ]
  },
  {
   "cell_type": "markdown",
   "metadata": {
    "id": "7Gms92xhY5N7"
   },
   "source": [
    "Una lista implementa también operaciones como\n",
    "\n",
    "Operación        | Descripción\n",
    "-----------------|------------------------------\n",
    "append           | Inserta un nuevo elemento después del último.\n",
    "pop              | Elimina un elemento de una posición determinada. Por defecto elimina el último.\n",
    "count            | Devuelve el número de repeticiones de un elemento en una lista.\n",
    "copy             | Devuelve una nueva instancia de la lista. Recordar que las listas son objetos por lo que son manejados por referencia. En este sentido es muy útil poder crear copias de los valores de la lista en una nueva y no de su referencia.\n",
    "clear            | Elimina todos los elementos de una lista.\n",
    "index            | Devuelve el índice del primero de los elementos de la lista que sea igual al dado.\n",
    "insert           | Inserta un nuevo elemento en una posición de la lista desplazando hacia detrás el que se encontraba en esa posición.\n",
    "remove           | Elimina la primera ocurrencia de un elemento dado.\n",
    "reverse          | Revierte el orden de los elementos de la lista (equivalente a ```[::-1]```).\n",
    "sort             | Ordena los elementos de una lista ascendente o descendentemente de a cuerdo a un criterio de orden dado. Por defecto el orden se lleva a cabo ascendentemente y la función usada para dar orden a los elementos es la definida por defecto en el tipo de dato del elemento."
   ]
  },
  {
   "cell_type": "markdown",
   "metadata": {
    "id": "xv-R_BPFeOzC"
   },
   "source": [
    "Veamos algunos ejemplos del uso de estas operaciones"
   ]
  },
  {
   "cell_type": "code",
   "execution_count": 39,
   "metadata": {
    "id": "8wQeeVaWeTsi"
   },
   "outputs": [],
   "source": [
    "a = [1, 5, 2, 3, 5, 7, 4, 3, 4, 6, 7, 6, 3, 2, 2]"
   ]
  },
  {
   "cell_type": "markdown",
   "metadata": {
    "id": "dIFrvHrBedHX"
   },
   "source": [
    "1.   Eliminar la primera aparición del número 7 de la lista.\n",
    "2.   Agregar el número 9 al final.\n",
    "3.   Insertar en la posicion 10 el número 1.\n",
    "4.   Eliminar el elemento de la posición 3.\n",
    "5.   ¿Cuál es la posición del primer 6?\n",
    "6.   Ordenar los elementos de la lista de forma ascendente de acuerdo a su cercanía al número 7."
   ]
  },
  {
   "cell_type": "code",
   "execution_count": 40,
   "metadata": {
    "colab": {
     "base_uri": "https://localhost:8080/"
    },
    "id": "elXS4cuZf0ka",
    "outputId": "c2373e88-76c7-41db-c68d-991ef7ebf379"
   },
   "outputs": [
    {
     "name": "stdout",
     "output_type": "stream",
     "text": [
      "[1, 5, 2, 3, 5, 4, 3, 4, 6, 7, 6, 3, 2, 2]\n"
     ]
    }
   ],
   "source": [
    "a.remove(7)\n",
    "print(a)"
   ]
  },
  {
   "cell_type": "code",
   "execution_count": 41,
   "metadata": {
    "colab": {
     "base_uri": "https://localhost:8080/"
    },
    "id": "UFgdUG56gNIG",
    "outputId": "9cd25d81-0219-4da0-ef74-2c13a0fe4f04"
   },
   "outputs": [
    {
     "name": "stdout",
     "output_type": "stream",
     "text": [
      "[1, 5, 2, 3, 5, 4, 3, 4, 6, 7, 6, 3, 2, 2, 9]\n"
     ]
    }
   ],
   "source": [
    "a.append(9)\n",
    "print(a)"
   ]
  },
  {
   "cell_type": "code",
   "execution_count": 42,
   "metadata": {
    "colab": {
     "base_uri": "https://localhost:8080/"
    },
    "id": "SPz_X-1VgZw1",
    "outputId": "9e744842-b25d-4501-b187-c8e64716ccba"
   },
   "outputs": [
    {
     "name": "stdout",
     "output_type": "stream",
     "text": [
      "[1, 5, 2, 3, 5, 4, 3, 4, 6, 7, 1, 6, 3, 2, 2, 9]\n"
     ]
    }
   ],
   "source": [
    "a.insert(10, 1)\n",
    "print(a)"
   ]
  },
  {
   "cell_type": "code",
   "execution_count": 43,
   "metadata": {
    "colab": {
     "base_uri": "https://localhost:8080/"
    },
    "id": "s5wQbZB6gkZY",
    "outputId": "49e17e57-fa5a-4541-e20b-43d0033b0817"
   },
   "outputs": [
    {
     "name": "stdout",
     "output_type": "stream",
     "text": [
      "[1, 5, 2, 5, 4, 3, 4, 6, 7, 1, 6, 3, 2, 2, 9]\n"
     ]
    }
   ],
   "source": [
    "a.pop(3)\n",
    "print(a)"
   ]
  },
  {
   "cell_type": "code",
   "execution_count": 44,
   "metadata": {
    "colab": {
     "base_uri": "https://localhost:8080/"
    },
    "id": "_g4VvP7Vgr2E",
    "outputId": "14b18e1f-2230-448c-815f-a8a1ddb76f86"
   },
   "outputs": [
    {
     "name": "stdout",
     "output_type": "stream",
     "text": [
      "7\n"
     ]
    }
   ],
   "source": [
    "print(a.index(6))"
   ]
  },
  {
   "cell_type": "code",
   "execution_count": 45,
   "metadata": {
    "colab": {
     "base_uri": "https://localhost:8080/"
    },
    "id": "S49_CToYg29n",
    "outputId": "b4542411-e2b1-4998-c487-6f4088082739"
   },
   "outputs": [
    {
     "name": "stdout",
     "output_type": "stream",
     "text": [
      "[7, 6, 6, 5, 5, 9, 4, 4, 3, 3, 2, 2, 2, 1, 1]\n"
     ]
    }
   ],
   "source": [
    "b = a.copy()  # no es necesario, solo para ilustrar\n",
    "\n",
    "\n",
    "# Calcular la distancia entre el número 7 y el elemento\n",
    "# (Solo para números enteros).\n",
    "def compare(e):\n",
    "    return abs(7 - e)  # abs devuelve el valor absoluto de la expresión matemática.\n",
    "\n",
    "\n",
    "b.sort(key=compare)\n",
    "print(b)"
   ]
  },
  {
   "cell_type": "markdown",
   "metadata": {
    "id": "Sly4cRkknOF6"
   },
   "source": [
    "Para comprobar si un elemento pertenece a una lista se usa el operador ```in```."
   ]
  },
  {
   "cell_type": "code",
   "execution_count": 46,
   "metadata": {
    "colab": {
     "base_uri": "https://localhost:8080/"
    },
    "id": "P_XVrOwInI9C",
    "outputId": "67531d4e-0f5e-4599-8e0c-74637f84f1b2"
   },
   "outputs": [
    {
     "data": {
      "text/plain": [
       "True"
      ]
     },
     "execution_count": 46,
     "metadata": {},
     "output_type": "execute_result"
    }
   ],
   "source": [
    "7 in a"
   ]
  },
  {
   "cell_type": "markdown",
   "metadata": {
    "id": "90gOc8dhiSuB"
   },
   "source": [
    "Las listas también es posible declararlas de forma implícita usando comprensión de listas. Esto también forma parte del azúcar sintáctica del lenguaje. Veamos un ejemplo:"
   ]
  },
  {
   "cell_type": "code",
   "execution_count": 47,
   "metadata": {
    "colab": {
     "base_uri": "https://localhost:8080/"
    },
    "id": "xrs06-mKilV_",
    "outputId": "637aaca0-7ae6-4aac-d013-5fbc7a0834dd"
   },
   "outputs": [
    {
     "name": "stdout",
     "output_type": "stream",
     "text": [
      "[1, 4, 9, 16, 25, 36, 49, 64, 81, 100]\n"
     ]
    }
   ],
   "source": [
    "a = [x**2 for x in range(1, 11)]\n",
    "print(a)"
   ]
  },
  {
   "cell_type": "markdown",
   "metadata": {
    "id": "e6A1rTY-jd4R"
   },
   "source": [
    "También se pueden adicionar condicionales"
   ]
  },
  {
   "cell_type": "code",
   "execution_count": 48,
   "metadata": {
    "colab": {
     "base_uri": "https://localhost:8080/"
    },
    "id": "M8lt86tejiFT",
    "outputId": "d8d88d55-3eb5-4921-fc83-d21638c25434"
   },
   "outputs": [
    {
     "name": "stdout",
     "output_type": "stream",
     "text": [
      "[5, 10, 15, 20, 25, 30, 35, 40, 45]\n"
     ]
    }
   ],
   "source": [
    "a = [x for x in range(1, 50) if x % 5 == 0]\n",
    "print(a)"
   ]
  },
  {
   "cell_type": "markdown",
   "metadata": {
    "id": "MJJBb3mtnlNS"
   },
   "source": [
    "### Tupas\n",
    "\n",
    "Las tuplas se crean creando una instancia de la clase ```Tuple``` del lenguaje de la siguiente forma"
   ]
  },
  {
   "cell_type": "code",
   "execution_count": 49,
   "metadata": {
    "id": "S5SB5_8Ipi_X"
   },
   "outputs": [],
   "source": [
    "a = tuple()"
   ]
  },
  {
   "cell_type": "markdown",
   "metadata": {
    "id": "bGD28eEUptTI"
   },
   "source": [
    "Haciendo uso del azúcar sintáctica:"
   ]
  },
  {
   "cell_type": "code",
   "execution_count": 50,
   "metadata": {
    "id": "n0PLwT_Pnvlt"
   },
   "outputs": [],
   "source": [
    "a = (\"azul\", \"verde\", \"rojo\", \"blanco\")"
   ]
  },
  {
   "cell_type": "markdown",
   "metadata": {
    "id": "qZU7msT2n4Yp"
   },
   "source": [
    "La misma es de tipo"
   ]
  },
  {
   "cell_type": "code",
   "execution_count": 51,
   "metadata": {
    "colab": {
     "base_uri": "https://localhost:8080/"
    },
    "id": "QzrvZ1-Xn6-n",
    "outputId": "2b158ae4-5ec2-4d33-9d47-7e10fb73b914"
   },
   "outputs": [
    {
     "data": {
      "text/plain": [
       "tuple"
      ]
     },
     "execution_count": 51,
     "metadata": {},
     "output_type": "execute_result"
    }
   ],
   "source": [
    "type(a)"
   ]
  },
  {
   "cell_type": "markdown",
   "metadata": {
    "id": "fK8cvMtkn-dv"
   },
   "source": [
    "Se utilizan normalmente para guardar información que no va a variar en el tiempo. Por tal motivo son bastante sencillas, solo implementan las funciones ```index``` y ```count```, las cuales se usan exactamente de la misma forma que para las listas.\n",
    "\n",
    "### Conjuntos\n",
    "\n",
    "Los conjuntos están implementados en la clase ```set``` del lenguaje. Las operaciones entre conjuntos que implementan son las usuales: unión, intersección y diferencia, además de las propias del lenguaje.\n",
    "\n",
    "Para crear un conjunto se utiliza el constructor de la clase set"
   ]
  },
  {
   "cell_type": "code",
   "execution_count": 52,
   "metadata": {
    "id": "khlie3vfoIeF"
   },
   "outputs": [],
   "source": [
    "s = set()"
   ]
  },
  {
   "cell_type": "markdown",
   "metadata": {
    "id": "mOZhck5ipX9A"
   },
   "source": [
    "Como en el caso de las lista y tuplas, también los conjuntos son creados a partir de azúcar sintáctica: "
   ]
  },
  {
   "cell_type": "code",
   "execution_count": 53,
   "metadata": {
    "id": "spuibvLCp9Rz"
   },
   "outputs": [],
   "source": [
    "s = {1, 2, 3, 4}"
   ]
  },
  {
   "cell_type": "markdown",
   "metadata": {
    "id": "x614X5hLqKGk"
   },
   "source": [
    "Y es posible saber cuantos elementos tiene"
   ]
  },
  {
   "cell_type": "code",
   "execution_count": 54,
   "metadata": {
    "colab": {
     "base_uri": "https://localhost:8080/"
    },
    "id": "1K934-zsqOs3",
    "outputId": "e25a9bfb-eb76-454f-d9d3-93b5e9a89eaa"
   },
   "outputs": [
    {
     "data": {
      "text/plain": [
       "4"
      ]
     },
     "execution_count": 54,
     "metadata": {},
     "output_type": "execute_result"
    }
   ],
   "source": [
    "len(s)"
   ]
  },
  {
   "cell_type": "markdown",
   "metadata": {
    "id": "GavVdGtyrNbp"
   },
   "source": [
    "Saber si un elemento pertenece al conjunto"
   ]
  },
  {
   "cell_type": "code",
   "execution_count": 55,
   "metadata": {
    "colab": {
     "base_uri": "https://localhost:8080/"
    },
    "id": "oZXXViYmrDvB",
    "outputId": "6a6edc00-cc77-4a25-b4a2-390ce1502101"
   },
   "outputs": [
    {
     "data": {
      "text/plain": [
       "True"
      ]
     },
     "execution_count": 55,
     "metadata": {},
     "output_type": "execute_result"
    }
   ],
   "source": [
    "3 in s"
   ]
  },
  {
   "cell_type": "markdown",
   "metadata": {
    "id": "mkaPE3vJ0ffy"
   },
   "source": [
    "Operaciones entre conjuntos"
   ]
  },
  {
   "cell_type": "code",
   "execution_count": 56,
   "metadata": {
    "id": "W8Nq_MsP0RfX"
   },
   "outputs": [],
   "source": [
    "r = {2, 4, 5, 6}"
   ]
  },
  {
   "cell_type": "code",
   "execution_count": 57,
   "metadata": {
    "colab": {
     "base_uri": "https://localhost:8080/"
    },
    "id": "TCtoQFSU0kDF",
    "outputId": "9010acf0-d5b3-46ad-a8a8-30aa67e56ba9"
   },
   "outputs": [
    {
     "name": "stdout",
     "output_type": "stream",
     "text": [
      "Unión entre s y r {1, 2, 3, 4, 5, 6}\n"
     ]
    }
   ],
   "source": [
    "print(\"Unión entre s y r\", s.union(r))"
   ]
  },
  {
   "cell_type": "code",
   "execution_count": 58,
   "metadata": {
    "colab": {
     "base_uri": "https://localhost:8080/"
    },
    "id": "eVgC2CNN1Nak",
    "outputId": "99ff807f-1cd4-4a20-f967-824011486f12"
   },
   "outputs": [
    {
     "name": "stdout",
     "output_type": "stream",
     "text": [
      "Intersección entre s y r {2, 4}\n"
     ]
    }
   ],
   "source": [
    "print(\"Intersección entre s y r\", s.intersection(r))"
   ]
  },
  {
   "cell_type": "code",
   "execution_count": 59,
   "metadata": {
    "colab": {
     "base_uri": "https://localhost:8080/"
    },
    "id": "ffprT0Qt1g34",
    "outputId": "4ff21fc9-8729-4f34-f2f5-258ed6be8bf8"
   },
   "outputs": [
    {
     "name": "stdout",
     "output_type": "stream",
     "text": [
      "Diferencia entre s y r {1, 3}\n"
     ]
    }
   ],
   "source": [
    "print(\"Diferencia entre s y r\", s.difference(r))"
   ]
  },
  {
   "cell_type": "markdown",
   "metadata": {
    "id": "UjvIo-gt8ZqM"
   },
   "source": [
    "Los conjuntos pueden aceptar nuevos elementos o eliminar elementos contenidos."
   ]
  },
  {
   "cell_type": "code",
   "execution_count": 60,
   "metadata": {
    "colab": {
     "base_uri": "https://localhost:8080/"
    },
    "id": "oqQNjXVE8T4J",
    "outputId": "4860b13c-5333-41ac-b788-a39b9a8b974c"
   },
   "outputs": [
    {
     "name": "stdout",
     "output_type": "stream",
     "text": [
      "{1, 2, 3, 4, 5}\n"
     ]
    }
   ],
   "source": [
    "s.add(5)\n",
    "print(s)"
   ]
  },
  {
   "cell_type": "code",
   "execution_count": 61,
   "metadata": {
    "colab": {
     "base_uri": "https://localhost:8080/"
    },
    "id": "zXjcvUdv8qdI",
    "outputId": "ab5e5894-e4a4-4311-82c4-bb94ec20d88a"
   },
   "outputs": [
    {
     "name": "stdout",
     "output_type": "stream",
     "text": [
      "Unión entre s y r {1, 2, 3, 4, 5, 6}\n"
     ]
    }
   ],
   "source": [
    "print(\"Unión entre s y r\", s.union(r))"
   ]
  },
  {
   "cell_type": "code",
   "execution_count": 62,
   "metadata": {
    "colab": {
     "base_uri": "https://localhost:8080/"
    },
    "id": "wXSM13bG86v-",
    "outputId": "8ffa8455-69a7-4a70-a066-54b0545e6c31"
   },
   "outputs": [
    {
     "name": "stdout",
     "output_type": "stream",
     "text": [
      "Intersección entre s y q set()\n"
     ]
    }
   ],
   "source": [
    "q = {8, 9, 10}\n",
    "print(\"Intersección entre s y q\", s.intersection(q))"
   ]
  },
  {
   "cell_type": "code",
   "execution_count": 63,
   "metadata": {
    "colab": {
     "base_uri": "https://localhost:8080/"
    },
    "id": "p6aJZlXL9gq1",
    "outputId": "7a34964a-3aab-4529-ca6a-5a7087ebe7af"
   },
   "outputs": [
    {
     "name": "stdout",
     "output_type": "stream",
     "text": [
      "¿Son conjuntos disjuntos s y r?\n",
      " False\n"
     ]
    }
   ],
   "source": [
    "print(\"¿Son conjuntos disjuntos s y r?\\n\", s.isdisjoint(r))"
   ]
  },
  {
   "cell_type": "code",
   "execution_count": 64,
   "metadata": {
    "colab": {
     "base_uri": "https://localhost:8080/"
    },
    "id": "5yrA4z2i9t3D",
    "outputId": "50246776-3ae7-4ad8-bfea-7de642e72e93"
   },
   "outputs": [
    {
     "name": "stdout",
     "output_type": "stream",
     "text": [
      "¿Son conjuntos disjuntos s y q\n",
      " True\n"
     ]
    }
   ],
   "source": [
    "print(\"¿Son conjuntos disjuntos s y q\\n\", s.isdisjoint(q))"
   ]
  },
  {
   "cell_type": "markdown",
   "metadata": {
    "id": "9ZXmTAezD8jA"
   },
   "source": [
    "### Diccionarios"
   ]
  },
  {
   "cell_type": "markdown",
   "metadata": {
    "id": "X7RPluz8EB9V"
   },
   "source": [
    "Para crear un objeto de tipo diccionario se utiliza la clase ```dict```"
   ]
  },
  {
   "cell_type": "code",
   "execution_count": 65,
   "metadata": {
    "id": "SDOu2PF-wPTI"
   },
   "outputs": [],
   "source": [
    "d = dict()"
   ]
  },
  {
   "cell_type": "markdown",
   "metadata": {
    "id": "yZLi5LvEwR82"
   },
   "source": [
    "Entre los parámetros del constructor de la clase se puede pasar una secuencia (Enumerador, iterador, lista, ...) de pares."
   ]
  },
  {
   "cell_type": "code",
   "execution_count": 66,
   "metadata": {
    "colab": {
     "base_uri": "https://localhost:8080/"
    },
    "id": "yETgWru4wepo",
    "outputId": "a7b28b92-6c00-4b44-b8a4-6e4016ea3625"
   },
   "outputs": [
    {
     "name": "stdout",
     "output_type": "stream",
     "text": [
      "{'a': 1, 'b': 2, 'c': 3}\n"
     ]
    }
   ],
   "source": [
    "d = dict([(\"a\", 1), (\"b\", 2), (\"c\", 3)])\n",
    "print(d)"
   ]
  },
  {
   "cell_type": "markdown",
   "metadata": {
    "id": "PPyWFk3BxHgo"
   },
   "source": [
    "Pero también pudiera ser inicializado usando el azúcar sintáctica del lenguaje:"
   ]
  },
  {
   "cell_type": "code",
   "execution_count": 67,
   "metadata": {
    "colab": {
     "base_uri": "https://localhost:8080/"
    },
    "id": "c9-SX5vfEC5Z",
    "outputId": "4eb63f24-b82e-4d29-a9b4-b885a0f0e3a2"
   },
   "outputs": [
    {
     "name": "stdout",
     "output_type": "stream",
     "text": [
      "{'a': 1, 'b': 2, 'c': 3}\n"
     ]
    }
   ],
   "source": [
    "a = {\"a\": 1, \"b\": 2, \"c\": 3}\n",
    "print(a)"
   ]
  },
  {
   "cell_type": "markdown",
   "metadata": {
    "id": "NaTc-S7jxb1C"
   },
   "source": [
    "Para acceder a uno de sus elementos se utiliza la llave asociada al mismo y el operador ```[]```."
   ]
  },
  {
   "cell_type": "code",
   "execution_count": 68,
   "metadata": {
    "colab": {
     "base_uri": "https://localhost:8080/"
    },
    "id": "QRLmyBSQxii0",
    "outputId": "cfb2b2ae-07d3-4f07-c248-80fcbbc4ab4b"
   },
   "outputs": [
    {
     "data": {
      "text/plain": [
       "2"
      ]
     },
     "execution_count": 68,
     "metadata": {},
     "output_type": "execute_result"
    }
   ],
   "source": [
    "a[\"b\"]"
   ]
  },
  {
   "cell_type": "markdown",
   "metadata": {
    "id": "eiE3Fanfx4KD"
   },
   "source": [
    "También se utiliza la llave para modificar los elementos"
   ]
  },
  {
   "cell_type": "code",
   "execution_count": 69,
   "metadata": {
    "colab": {
     "base_uri": "https://localhost:8080/"
    },
    "id": "0pG7tBsSx99X",
    "outputId": "be77da90-3cee-4126-86f2-103d9005eb57"
   },
   "outputs": [
    {
     "name": "stdout",
     "output_type": "stream",
     "text": [
      "{'a': 1, 'b': 2, 'c': 4}\n"
     ]
    }
   ],
   "source": [
    "a[\"c\"] = 4\n",
    "print(a)"
   ]
  },
  {
   "cell_type": "markdown",
   "metadata": {
    "id": "ZQ9QLVOkyD1r"
   },
   "source": [
    "Si se desea insertar un valor nuevo pudiera hacerse de forma directa usando la nueva llave y el mismo operador"
   ]
  },
  {
   "cell_type": "code",
   "execution_count": 70,
   "metadata": {
    "colab": {
     "base_uri": "https://localhost:8080/"
    },
    "id": "yNZoCVt2ySKd",
    "outputId": "db0cb46c-c835-403c-caa6-ec626b5b2fd4"
   },
   "outputs": [
    {
     "name": "stdout",
     "output_type": "stream",
     "text": [
      "{'a': 1, 'b': 2, 'c': 4, 'f': 5}\n"
     ]
    }
   ],
   "source": [
    "a[\"f\"] = 5\n",
    "print(a)"
   ]
  },
  {
   "cell_type": "markdown",
   "metadata": {
    "id": "DFz5RBfQyX0R"
   },
   "source": [
    "Para la eliminación se utiliza la operación ```del``` la cual libera intencionalmente el espacio en memoria que ocupaban los valores."
   ]
  },
  {
   "cell_type": "code",
   "execution_count": 71,
   "metadata": {
    "colab": {
     "base_uri": "https://localhost:8080/"
    },
    "id": "MZZ_h4v5yoBJ",
    "outputId": "1b6ef908-5c9a-4f73-b2df-c5cd16d71f6c"
   },
   "outputs": [
    {
     "name": "stdout",
     "output_type": "stream",
     "text": [
      "{'a': 1, 'b': 2, 'f': 5}\n"
     ]
    }
   ],
   "source": [
    "del a[\"c\"]\n",
    "print(a)"
   ]
  },
  {
   "cell_type": "markdown",
   "metadata": {
    "id": "hP2lUE0ayzfi"
   },
   "source": [
    "Se pueden obtener las llaves del diccionario en una lista en el mismo orden en que fueron insertadas:"
   ]
  },
  {
   "cell_type": "code",
   "execution_count": 72,
   "metadata": {
    "colab": {
     "base_uri": "https://localhost:8080/"
    },
    "id": "LDMofx_py_yB",
    "outputId": "22f61f8c-0026-49ce-e82f-831a1338d58c"
   },
   "outputs": [
    {
     "data": {
      "text/plain": [
       "['c', 'a', 'b']"
      ]
     },
     "execution_count": 72,
     "metadata": {},
     "output_type": "execute_result"
    }
   ],
   "source": [
    "b = {\"c\": 3, \"a\": 1, \"b\": 2}\n",
    "list(b)"
   ]
  },
  {
   "cell_type": "markdown",
   "metadata": {
    "id": "eEyDAy4izRYZ"
   },
   "source": [
    "También se pudieran ordenar"
   ]
  },
  {
   "cell_type": "code",
   "execution_count": 73,
   "metadata": {
    "colab": {
     "base_uri": "https://localhost:8080/"
    },
    "id": "G6fH1GuzzU2J",
    "outputId": "9d3ace69-2485-4103-d2b9-cb0b474772eb"
   },
   "outputs": [
    {
     "data": {
      "text/plain": [
       "['a', 'b', 'c']"
      ]
     },
     "execution_count": 73,
     "metadata": {},
     "output_type": "execute_result"
    }
   ],
   "source": [
    "sorted(b)"
   ]
  },
  {
   "cell_type": "markdown",
   "metadata": {
    "id": "g4UbTrNc1DRZ"
   },
   "source": [
    "Para actualizar los valores de las llaves de un diccionario utilize ```update```. Esta operación me resulta particularmente útil si se utiliza el diccionario como estructura de dato para el manejo de parámetros de un modelo matemático. El modelo pudiera tener una definición por defecto de parámetros y permitir una actualización de los mismos de forma opcional en el momento de la corrida de la simulación."
   ]
  },
  {
   "cell_type": "code",
   "execution_count": 74,
   "metadata": {
    "colab": {
     "base_uri": "https://localhost:8080/"
    },
    "id": "iWZRXO3109qu",
    "outputId": "256c1c4c-3d85-40cd-fac4-ef07fe3e2b8d"
   },
   "outputs": [
    {
     "name": "stdout",
     "output_type": "stream",
     "text": [
      "{'c': 3, 'a': 1, 'b': 2}\n",
      "{'c': 20, 'a': 1, 'b': 2, 'd': 30}\n"
     ]
    }
   ],
   "source": [
    "print(b)\n",
    "b.update({\"c\": 20, \"d\": 30})\n",
    "print(b)"
   ]
  },
  {
   "cell_type": "markdown",
   "metadata": {
    "id": "zeJ0-5LE0x6z"
   },
   "source": [
    "Para obtener una vista de las llave-valor contenidas en un diccionario se utiliza: "
   ]
  },
  {
   "cell_type": "code",
   "execution_count": 75,
   "metadata": {
    "colab": {
     "base_uri": "https://localhost:8080/"
    },
    "id": "pfehwJNB0IbV",
    "outputId": "9b648aad-50e3-4fb8-a3da-2a5e47aff4e5"
   },
   "outputs": [
    {
     "data": {
      "text/plain": [
       "dict_items([('c', 20), ('a', 1), ('b', 2), ('d', 30)])"
      ]
     },
     "execution_count": 75,
     "metadata": {},
     "output_type": "execute_result"
    }
   ],
   "source": [
    "b.items()"
   ]
  },
  {
   "cell_type": "markdown",
   "metadata": {
    "id": "b3c2s-LZ2Dzf"
   },
   "source": [
    "¿Cómo iterar por los elementos de un diccionario? "
   ]
  },
  {
   "cell_type": "code",
   "execution_count": 76,
   "metadata": {
    "colab": {
     "base_uri": "https://localhost:8080/"
    },
    "id": "V4V4M25B2KVJ",
    "outputId": "ceb03de6-070c-4cae-b821-a083fcd9c252"
   },
   "outputs": [
    {
     "name": "stdout",
     "output_type": "stream",
     "text": [
      "c --> 20\n",
      "a --> 1\n",
      "b --> 2\n",
      "d --> 30\n"
     ]
    }
   ],
   "source": [
    "for k, v in b.items():\n",
    "    print(k, \"-->\", v)"
   ]
  },
  {
   "cell_type": "markdown",
   "metadata": {
    "id": "BASlpvDWbq0h"
   },
   "source": [
    "También los diccionarios pueden ser generados utilizando comprensión de diccionarios"
   ]
  },
  {
   "cell_type": "code",
   "execution_count": 77,
   "metadata": {
    "colab": {
     "base_uri": "https://localhost:8080/"
    },
    "id": "Ks6IUnnqb4gN",
    "outputId": "5e15e388-fcd9-4317-c021-59697552350d"
   },
   "outputs": [
    {
     "name": "stdout",
     "output_type": "stream",
     "text": [
      "{0: 0, 1: 1, 2: 4, 3: 9, 4: 16}\n"
     ]
    }
   ],
   "source": [
    "d = {n: n**2 for n in range(5)}\n",
    "print(d)"
   ]
  },
  {
   "cell_type": "markdown",
   "metadata": {
    "id": "SMcwYqT6qooX"
   },
   "source": [
    "Para una mayor comprensión de las estructuras de  datos del lenguaje Python puede usted visitar el sitio [Data Structures](https://docs.python.org/3/tutorial/datastructures.html#sets) de la documentación oficial de Python."
   ]
  },
  {
   "cell_type": "markdown",
   "metadata": {
    "id": "AWJsLC2geMG1"
   },
   "source": [
    "## Ejercicios de consolidación\n",
    "Hacer juntos los ejercicios de nivelación en Python."
   ]
  },
  {
   "cell_type": "code",
   "execution_count": 78,
   "metadata": {
    "colab": {
     "base_uri": "https://localhost:8080/"
    },
    "id": "qJhIAs6qmbU8",
    "outputId": "1d191325-4c3e-4be6-d58b-6baf83efe512"
   },
   "outputs": [
    {
     "name": "stdout",
     "output_type": "stream",
     "text": [
      "Hola mundo\n"
     ]
    }
   ],
   "source": [
    "print(\"Hola mundo\")"
   ]
  },
  {
   "cell_type": "code",
   "execution_count": 79,
   "metadata": {
    "colab": {
     "base_uri": "https://localhost:8080/"
    },
    "id": "LlLIKh7SnVQ6",
    "outputId": "187f1538-18c8-4c62-e441-0573cb41b9fd"
   },
   "outputs": [
    {
     "name": "stdout",
     "output_type": "stream",
     "text": [
      "/usr/bin/python: No module named pip\n",
      "Note: you may need to restart the kernel to use updated packages.\n"
     ]
    }
   ],
   "source": [
    "pip list"
   ]
  },
  {
   "cell_type": "code",
   "execution_count": 80,
   "metadata": {
    "colab": {
     "base_uri": "https://localhost:8080/"
    },
    "id": "OdWSHoYkmpS5",
    "outputId": "6fbf02b4-4dcc-4a46-d1ab-89c6744c5790"
   },
   "outputs": [
    {
     "name": "stdout",
     "output_type": "stream",
     "text": [
      "zsh:1: command not found: pip\n"
     ]
    }
   ],
   "source": [
    "!(pip list)\n",
    "#!(python -m venv --system-site-packages env && source env/bin/activate && pip install numpy)"
   ]
  },
  {
   "cell_type": "markdown",
   "metadata": {
    "id": "K9P3TiavgWa0"
   },
   "source": [
    "**Ejercicio #1:** Es bisiesto\n",
    "\n",
    "Un año es bisiesto si es divisible entre 4 pero no divisible entre 100 a excepción que sea divisible entre 400.\n",
    "\n",
    "Implemente el siguiente método:"
   ]
  },
  {
   "cell_type": "code",
   "execution_count": 81,
   "metadata": {
    "colab": {
     "base_uri": "https://localhost:8080/"
    },
    "id": "w6hi1DpMonrX",
    "outputId": "5f46d051-2664-4bdf-f310-d816497e249f"
   },
   "outputs": [
    {
     "name": "stdout",
     "output_type": "stream",
     "text": [
      "Es divisible por 400\n"
     ]
    }
   ],
   "source": [
    "if 400 % 400 == 0:\n",
    "    print(\"Es divisible por 400\")"
   ]
  },
  {
   "cell_type": "code",
   "execution_count": 82,
   "metadata": {
    "colab": {
     "base_uri": "https://localhost:8080/"
    },
    "id": "HoefK8DHi2JX",
    "outputId": "283d71f5-63f4-421c-a4f3-dd6fbe2abd54"
   },
   "outputs": [
    {
     "name": "stdout",
     "output_type": "stream",
     "text": [
      "2000 es bisiesto? True\n",
      "2100 es bisiesto? True\n",
      "1988 es bisiesto? True\n",
      "2022 es bisiesto? False\n"
     ]
    }
   ],
   "source": [
    "def es_bisiesto(a):\n",
    "    return a % 400 == 0 or a % 4 == 0 and a % 100 != 100\n",
    "\n",
    "\n",
    "print(\"2000 es bisiesto?\", es_bisiesto(2000))\n",
    "print(\"2100 es bisiesto?\", es_bisiesto(2100))\n",
    "print(\"1988 es bisiesto?\", es_bisiesto(1988))\n",
    "print(\"2022 es bisiesto?\", es_bisiesto(2022))"
   ]
  },
  {
   "cell_type": "markdown",
   "metadata": {
    "id": "-VOextEvo58d"
   },
   "source": [
    "### Ejercicios de ciclos"
   ]
  },
  {
   "cell_type": "markdown",
   "metadata": {
    "id": "01Gb7302mlBl"
   },
   "source": [
    "**Ejercicio #2**: Imprimir los primeros 10 números enteros\n",
    "\n",
    "Imprima en la consola los primeros diéz números enteros."
   ]
  },
  {
   "cell_type": "code",
   "execution_count": 83,
   "metadata": {
    "colab": {
     "base_uri": "https://localhost:8080/"
    },
    "id": "ELxXEObQnW9T",
    "outputId": "5ab04ca9-d2fa-4c87-d5a7-70248fcc7eb7"
   },
   "outputs": [
    {
     "name": "stdout",
     "output_type": "stream",
     "text": [
      "1\n",
      "2\n",
      "3\n",
      "4\n",
      "5\n",
      "6\n",
      "7\n",
      "8\n",
      "9\n",
      "10\n"
     ]
    }
   ],
   "source": [
    "# Implementación:\n",
    "for k in range(1, 11):\n",
    "    print(k)"
   ]
  },
  {
   "cell_type": "markdown",
   "metadata": {
    "id": "uRzGRD20pEa7"
   },
   "source": [
    "**Ejercicio #3**: Patrón creciente\n",
    "\n",
    "Escriba un código que imprima en la consola el siguiente patrón creciente:\n",
    "\n",
    "```\n",
    "1\n",
    "1  2\n",
    "1  2  3\n",
    "1  2  3  4\n",
    ".          .\n",
    ".             .\n",
    ".                .\n",
    "1 ...................N\n",
    "```"
   ]
  },
  {
   "cell_type": "code",
   "execution_count": 84,
   "metadata": {
    "colab": {
     "base_uri": "https://localhost:8080/"
    },
    "id": "hsI4NJ4ypohw",
    "outputId": "9d149b19-d568-4af1-cab6-9abbfb2c0045"
   },
   "outputs": [
    {
     "name": "stdout",
     "output_type": "stream",
     "text": [
      "1 \n",
      "\n",
      "1 2 \n",
      "\n",
      "1 2 3 \n",
      "\n",
      "1 2 3 4 \n",
      "\n",
      "1 2 3 4 5 \n",
      "\n",
      "1 2 3 4 5 6 \n",
      "\n",
      "1 2 3 4 5 6 7 \n",
      "\n",
      "1 2 3 4 5 6 7 8 \n",
      "\n",
      "1 2 3 4 5 6 7 8 9 \n",
      "\n",
      "1 2 3 4 5 6 7 8 9 10 \n",
      "\n"
     ]
    }
   ],
   "source": [
    "# Implementación:\n",
    "for m in range(1, 11):\n",
    "    for k in range(1, m + 1):\n",
    "        print(k, end=\" \")\n",
    "    print(\"\\n\")"
   ]
  },
  {
   "cell_type": "markdown",
   "metadata": {
    "id": "UvZq43SbrHpg"
   },
   "source": [
    "**Ejercicio #4**: Suma\n",
    "Implemente un método que calcule la **suma** de la serie numérica \n",
    "\n",
    "$S_N = ∑_{i=1}^N i= \\frac{N*(N+1)}{2}$.\n",
    "\n"
   ]
  },
  {
   "cell_type": "code",
   "execution_count": 85,
   "metadata": {
    "colab": {
     "base_uri": "https://localhost:8080/"
    },
    "id": "Bkk20UnXsSAJ",
    "outputId": "ab55004e-5686-489d-9fc2-b05ca7675700"
   },
   "outputs": [
    {
     "name": "stdout",
     "output_type": "stream",
     "text": [
      "S_2 = 3.0  ==  3.0\n",
      "S_2 = 6.0  ==  6.0\n",
      "S_2 = 10.0  ==  10.0\n",
      "S_2 = 15.0  ==  15.0\n"
     ]
    }
   ],
   "source": [
    "def suma(N):\n",
    "    s = 0.0\n",
    "    for k in range(1, N + 1):\n",
    "        s = s + k\n",
    "    return s\n",
    "\n",
    "\n",
    "print(\"S_2 =\", suma(2), \" == \", (2 * 3) / 2)\n",
    "print(\"S_2 =\", suma(3), \" == \", (3 * 4) / 2)\n",
    "print(\"S_2 =\", suma(4), \" == \", (4 * 5) / 2)\n",
    "print(\"S_2 =\", suma(5), \" == \", (5 * 6) / 2)"
   ]
  },
  {
   "cell_type": "markdown",
   "metadata": {
    "id": "z0sw8O1Ktaxi"
   },
   "source": [
    "**Ejercicio #5**: Tabla de multiplicación del número n\n",
    "\n",
    "Imprima la tabla de multiplicación correspondiente al número n. Por ejemplo:\n",
    "\n",
    "\n",
    "```\n",
    "2X1=2\n",
    "2X2=4\n",
    "2X3=6\n",
    "2X4=8\n",
    "2X5=10\n",
    "2X6=12\n",
    "2X7=14\n",
    "2X8=16\n",
    "2X9=18\n",
    "2X10=20\n",
    "```\n",
    "\n"
   ]
  },
  {
   "cell_type": "code",
   "execution_count": 86,
   "metadata": {
    "colab": {
     "base_uri": "https://localhost:8080/"
    },
    "id": "gkz7Cjm_t0rI",
    "outputId": "ab800fea-ac2c-4387-c1f8-b3fc450beeb2"
   },
   "outputs": [
    {
     "name": "stdout",
     "output_type": "stream",
     "text": [
      "2 X 1 = 2\n",
      "2 X 2 = 4\n",
      "2 X 3 = 6\n",
      "2 X 4 = 8\n",
      "2 X 5 = 10\n",
      "2 X 6 = 12\n",
      "2 X 7 = 14\n",
      "2 X 8 = 16\n",
      "2 X 9 = 18\n",
      "2 X 10 = 20\n"
     ]
    }
   ],
   "source": [
    "# Implementación:\n",
    "for k in range(1, 11):\n",
    "    print(f\"2 X {k} = {2 * k}\")"
   ]
  },
  {
   "cell_type": "markdown",
   "metadata": {
    "id": "W2ft7KbBuaOx"
   },
   "source": [
    "### Trabajo con estructuras de datos"
   ]
  },
  {
   "cell_type": "markdown",
   "metadata": {
    "id": "yI_4-RCXueHf"
   },
   "source": [
    "**Ejercicio #6**: Imprime la lista\n",
    "\n",
    "Dada la lista:\n",
    "\n",
    "```l=['1', 2, 'Hola', 4, True]```,\n",
    "\n",
    "Imprima sus elementos en la consola uno debajo del otro."
   ]
  },
  {
   "cell_type": "code",
   "execution_count": 87,
   "metadata": {
    "colab": {
     "base_uri": "https://localhost:8080/"
    },
    "id": "CHeCg-iNvGV7",
    "outputId": "9f034cf4-4398-4062-e16b-c1043e56d75c"
   },
   "outputs": [
    {
     "name": "stdout",
     "output_type": "stream",
     "text": [
      "Lista es: ['1', 2, 'Hola', 4, True].\n",
      "El tamaño de la lista es: 5\n",
      "1\n",
      "2\n",
      "Hola\n",
      "4\n",
      "True\n"
     ]
    }
   ],
   "source": [
    "# Implementación:\n",
    "l = [\"1\", 2, \"Hola\", 4, True]\n",
    "print(f\"Lista es: {l}.\")\n",
    "print(f\"El tamaño de la lista es: {len(l)}\")\n",
    "# print(l[-1])\n",
    "\n",
    "for k in range(0, 5):\n",
    "    print(l[k])"
   ]
  },
  {
   "cell_type": "markdown",
   "metadata": {
    "id": "lVhost_MviMD"
   },
   "source": [
    "**Ejercicio #7**: Suma elementos de la lista\n",
    "\n",
    "Dada una lista de elementos numérios implemente el siguiente método que devuelva la suma de estos:"
   ]
  },
  {
   "cell_type": "code",
   "execution_count": 88,
   "metadata": {
    "colab": {
     "base_uri": "https://localhost:8080/"
    },
    "id": "Ms7ssQNZvzIn",
    "outputId": "9804b4d2-ed05-4470-a368-2d0b9c3c10c9"
   },
   "outputs": [
    {
     "data": {
      "text/plain": [
       "15.0"
      ]
     },
     "execution_count": 88,
     "metadata": {},
     "output_type": "execute_result"
    }
   ],
   "source": [
    "def suma_lista(l):\n",
    "    s = 0.0\n",
    "    for k in range(len(l)):\n",
    "        s += l[k]\n",
    "    return s\n",
    "\n",
    "\n",
    "l = [1, 2, 3, 4, 5]\n",
    "suma_lista(l)"
   ]
  },
  {
   "cell_type": "markdown",
   "metadata": {
    "id": "FtvYi5_GwpSh"
   },
   "source": [
    "**Ejercicio #8**: Suma y multiplica\n",
    "\n",
    "Implemente un método que sume si el índice del elemento de la lista es par o multiplique en el caso que sea impar.\n",
    "\n"
   ]
  },
  {
   "cell_type": "code",
   "execution_count": 89,
   "metadata": {
    "colab": {
     "base_uri": "https://localhost:8080/"
    },
    "id": "5WX-k2dnteRE",
    "outputId": "d2da3947-4e4a-4b24-ee73-5e2d4747608d"
   },
   "outputs": [
    {
     "name": "stdout",
     "output_type": "stream",
     "text": [
      "La suma-multiplicación= 56.0\n"
     ]
    }
   ],
   "source": [
    "def suma_multiplica(l):\n",
    "    s = 0.0\n",
    "    for k in range(len(l)):\n",
    "        if l[k] % 2 == 0:\n",
    "            s = s + l[k]\n",
    "        else:\n",
    "            s = s * l[k]\n",
    "    return s\n",
    "\n",
    "\n",
    "print(\"La suma-multiplicación=\", suma_multiplica([1, 2, 3, 4, 5, 6]))"
   ]
  },
  {
   "cell_type": "markdown",
   "metadata": {
    "id": "qP7rveT5vymN"
   },
   "source": [
    "**Ejercicio #9**: Es Palíndromo\n",
    "\n",
    "Una cadena de caracteres es un palíndromo si constituye la misma palabra al ser leída desde adelanta hacia atrás y viseversa. Un ejemplo son las palabras *AMA* y *SOMOS*.\n",
    "\n",
    "Escriba un método que detecte si una palabra es palíndromo o no."
   ]
  },
  {
   "cell_type": "code",
   "execution_count": 90,
   "metadata": {
    "colab": {
     "base_uri": "https://localhost:8080/"
    },
    "id": "MT9OdyKLv_vD",
    "outputId": "162b8ef6-5cfa-4f97-aa86-4c8546a82113"
   },
   "outputs": [
    {
     "name": "stdout",
     "output_type": "stream",
     "text": [
      "SOMOS S S O O\n"
     ]
    }
   ],
   "source": [
    "s = \"SOMOS\"\n",
    "print(s, s[0], s[-1], s[1], s[-2])"
   ]
  },
  {
   "cell_type": "code",
   "execution_count": 91,
   "metadata": {
    "colab": {
     "base_uri": "https://localhost:8080/"
    },
    "id": "nWBbkl6qxGTP",
    "outputId": "42f9d919-b6c4-43b1-dac5-7073b6f70c82"
   },
   "outputs": [
    {
     "name": "stdout",
     "output_type": "stream",
     "text": [
      "Es palíndromo SOMOS:  True\n",
      "Es palíndromo AMA:  True\n",
      "Es palíndromo OLLA:  False\n",
      "Es palíndromo ALLA:  True\n",
      "Es palíndromo SEVERLAALREVES:  True\n"
     ]
    }
   ],
   "source": [
    "def es_palindromo(s):\n",
    "    for i in range(int(len(s) / 2 + 1)):\n",
    "        if s[i] != s[-(i + 1)]:\n",
    "            return False\n",
    "    return True\n",
    "\n",
    "\n",
    "print(\"Es palíndromo SOMOS: \", es_palindromo(\"SOMOS\"))\n",
    "print(\"Es palíndromo AMA: \", es_palindromo(\"AMA\"))\n",
    "print(\"Es palíndromo OLLA: \", es_palindromo(\"OLLA\"))\n",
    "print(\"Es palíndromo ALLA: \", es_palindromo(\"ALLA\"))\n",
    "print(\"Es palíndromo SEVERLAALREVES: \", es_palindromo(\"SEVERLAALREVES\"))"
   ]
  },
  {
   "cell_type": "markdown",
   "metadata": {
    "id": "-yLN-RwU0wCs"
   },
   "source": [
    "**Ejercicio #10**: Es palíndromo recursivo\n",
    "\n",
    "Implemente una solución como la anterior pero sin hacer uso de ciclos. "
   ]
  },
  {
   "cell_type": "code",
   "execution_count": 92,
   "metadata": {
    "id": "5rXGSIA51DJR"
   },
   "outputs": [
    {
     "name": "stdout",
     "output_type": "stream",
     "text": [
      "Es palíndromo SOMOS:  True\n",
      "Es palíndromo AMA:  True\n",
      "Es palíndromo OLLA:  False\n",
      "Es palíndromo ALLA:  True\n",
      "Es palíndromo SEVERLAALREVES:  True\n"
     ]
    }
   ],
   "source": [
    "def es_palindromo_rec(s):\n",
    "    if len(s) <= 1:\n",
    "        return True\n",
    "    if s[0] != s[-1]:\n",
    "        return False\n",
    "    return es_palindromo_rec(s[1:-1])\n",
    "\n",
    "\n",
    "print(\"Es palíndromo SOMOS: \", es_palindromo(\"SOMOS\"))\n",
    "print(\"Es palíndromo AMA: \", es_palindromo(\"AMA\"))\n",
    "print(\"Es palíndromo OLLA: \", es_palindromo(\"OLLA\"))\n",
    "print(\"Es palíndromo ALLA: \", es_palindromo(\"ALLA\"))\n",
    "print(\"Es palíndromo SEVERLAALREVES: \", es_palindromo(\"SEVERLAALREVES\"))"
   ]
  },
  {
   "cell_type": "markdown",
   "metadata": {
    "id": "9LJwie_82CBf"
   },
   "source": [
    "**Ejercicio #11**: Es número primo\n",
    "\n",
    "Implemente un método que permita determinar si un número es primo. Un nùmero b es primo si solo es divisible por 1 o b."
   ]
  },
  {
   "cell_type": "code",
   "execution_count": 93,
   "metadata": {
    "id": "ckOOPdlW2eO3"
   },
   "outputs": [
    {
     "name": "stdout",
     "output_type": "stream",
     "text": [
      "Es primo 1? False\n",
      "Es primo 2? True\n",
      "Es primo 3? True\n",
      "Es primo 4? False\n",
      "Es primo 5? True\n",
      "Es primo 6? False\n",
      "Es primo 7? True\n",
      "Es primo 8? False\n",
      "Es primo 9? False\n",
      "Es primo 10? False\n",
      "Es primo 11? True\n",
      "Es primo 12? False\n",
      "Es primo 13? True\n",
      "Es primo 14? False\n",
      "Es primo 15? False\n",
      "Es primo 16? False\n",
      "Es primo 17? True\n",
      "Es primo 18? False\n",
      "Es primo 19? True\n",
      "Es primo 20? False\n",
      "Es primo 21? False\n",
      "Es primo 22? False\n",
      "Es primo 23? True\n",
      "Es primo 24? False\n",
      "Es primo 25? False\n",
      "Es primo 26? False\n",
      "Es primo 27? False\n",
      "Es primo 28? False\n",
      "Es primo 29? True\n"
     ]
    }
   ],
   "source": [
    "import math\n",
    "\n",
    "\n",
    "def EsPrimo(b):\n",
    "    if b == 1:\n",
    "        return False\n",
    "    if b == 2:\n",
    "        return True\n",
    "    for d in range(2, int(math.sqrt(b)) + 1):\n",
    "        if b % d == 0:\n",
    "            return False\n",
    "    return True\n",
    "\n",
    "\n",
    "for b in range(1, 30):\n",
    "    print(\"Es primo {0}?\".format(b), EsPrimo(b))"
   ]
  },
  {
   "cell_type": "markdown",
   "metadata": {
    "id": "tWw5CoMT43Eb"
   },
   "source": [
    "**Ejercicio #12**: Secuencia de Fibonacci\n",
    "\n",
    "La secuencia de Fibonacci está definida por los números de la siguiente manera:\n",
    "\n",
    "$f(n) = f(n - 1) + f(n - 2)$ teniendo como casos base\n",
    "$f(0) = f(1) = 1$\n",
    "\n",
    "Implemente la secuencia usando ciclos y sin su uso."
   ]
  },
  {
   "cell_type": "code",
   "execution_count": 94,
   "metadata": {
    "colab": {
     "base_uri": "https://localhost:8080/"
    },
    "id": "u2iS1vPO5ulh",
    "outputId": "6e39c9dc-fff7-4b02-e28e-dfed2a966c40"
   },
   "outputs": [
    {
     "name": "stdout",
     "output_type": "stream",
     "text": [
      "1\n",
      "2\n",
      "3\n",
      "5\n",
      "8\n",
      "13\n"
     ]
    }
   ],
   "source": [
    "def fibonacci(n):\n",
    "    if n == 0 or n == 1:\n",
    "        return 1\n",
    "    return fibonacci(n - 1) + fibonacci(n - 2)\n",
    "\n",
    "\n",
    "print(fibonacci(1))\n",
    "print(fibonacci(2))\n",
    "print(fibonacci(3))\n",
    "print(fibonacci(4))\n",
    "print(fibonacci(5))\n",
    "print(fibonacci(6))"
   ]
  },
  {
   "cell_type": "markdown",
   "metadata": {
    "id": "9r5100bvyKkJ"
   },
   "source": [
    "**Ejercicio #13**: Conjetura de Collatz\n",
    "\n",
    "Esta conjetura comienza con un número natural. Si este es par entonces se divide por 2, de otra forma se multiplica por 3 y se le suma 1. Seguir de forma recursiva hasta llegar al 1.\n",
    "\n",
    "Implemente un método sin usar ciclos que verifique la conjetura de Collatz dado un valor n natural."
   ]
  },
  {
   "cell_type": "code",
   "execution_count": 95,
   "metadata": {
    "id": "bCMBZVZJzSUp"
   },
   "outputs": [],
   "source": [
    "def conjetura_collatz(n):\n",
    "    if n == 1:\n",
    "        return\n",
    "        if n % 2 == 0:\n",
    "            conjetura_collatz(int(n / 2))\n",
    "        return conjetura_collatz(n * 3 + 1)\n",
    "\n",
    "\n",
    "conjetura_collatz(10)"
   ]
  },
  {
   "cell_type": "markdown",
   "metadata": {
    "id": "NJlFmOoM6zdl"
   },
   "source": [
    "**Ejercicio #14**: Revertir número\n",
    "\n",
    "Implemente un algoritmo que invierta los dígitos de un número entero dado (ignorar ceros a la izquierda). Por ejemplo, 1053 se convierte en 3501."
   ]
  },
  {
   "cell_type": "code",
   "execution_count": 96,
   "metadata": {
    "id": "UG7oabqD7RVq"
   },
   "outputs": [
    {
     "name": "stdout",
     "output_type": "stream",
     "text": [
      "10478353 <>  35387401\n",
      "3487634000 <>  4367843\n"
     ]
    }
   ],
   "source": [
    "def revertir_numero(b):\n",
    "    m = 0\n",
    "    n = b\n",
    "    while True:\n",
    "        if n < 10:\n",
    "            break\n",
    "        else:\n",
    "            r = n % 10\n",
    "            n = int(n / 10)\n",
    "            m = 10 * m + r\n",
    "\n",
    "    return 10 * m + n\n",
    "\n",
    "\n",
    "print(\"10478353 <> \", revertir_numero(10478353))\n",
    "print(\"3487634000 <> \", revertir_numero(3487634000))"
   ]
  },
  {
   "cell_type": "markdown",
   "metadata": {
    "id": "Nb2b94UAqTU_"
   },
   "source": [
    "**Ejemplo #15**: Contar ocurrencias de un número entero en una lista\n",
    "\n",
    "Dada una lista de números enteros cuente la cantidad de elementos iguales al dado."
   ]
  },
  {
   "cell_type": "code",
   "execution_count": 97,
   "metadata": {
    "id": "6UqDkMLUrLs9"
   },
   "outputs": [
    {
     "name": "stdout",
     "output_type": "stream",
     "text": [
      "5\n",
      "2\n",
      "5\n"
     ]
    }
   ],
   "source": [
    "def ocurrencias(l, c):\n",
    "    cont = 0\n",
    "    for i in range(len(l)):\n",
    "        if l[i] == c:\n",
    "            cont += 1\n",
    "    return cont\n",
    "\n",
    "\n",
    "l = [1, 2, 4, 6, 3, 4, 3, 2, 4, 5, 5, 4, 43, 2, 2, 2, 4]\n",
    "\n",
    "print(ocurrencias(l, 2))\n",
    "print(ocurrencias(l, 3))\n",
    "print(ocurrencias(l, 4))"
   ]
  },
  {
   "cell_type": "markdown",
   "metadata": {
    "id": "OzPBhR_aspeG"
   },
   "source": [
    "**Ejercicio #16**: Has pares\n",
    "\n",
    "Dadas dos listas ```l1``` y ```l2``` elabore una lista ```l3``` donde sus elementos sean de la siguiente forma:\n",
    "\n",
    "```\n",
    "l3 = [(l1_1, l2_1), (l1_2, l2_2), ... , (l1_i, l2_i), ... , (l1_n, l2_n)]\n",
    "```"
   ]
  },
  {
   "cell_type": "code",
   "execution_count": 98,
   "metadata": {
    "id": "fQJN63KouypJ"
   },
   "outputs": [
    {
     "name": "stdout",
     "output_type": "stream",
     "text": [
      "Utilizando la compresión de listas = [(1, 'a'), (2, 'b'), (3, 'c'), (4, 'd')]\n",
      "Utilizando la función zip = [(1, 'a'), (2, 'b'), (3, 'c'), (4, 'd')]\n",
      "Sin utilizar * = [<zip object at 0x7fcee7f59c40>]\n"
     ]
    }
   ],
   "source": [
    "l1 = [1, 2, 3, 4]\n",
    "l2 = [\"a\", \"b\", \"c\", \"d\"]\n",
    "\n",
    "l3 = [(l1[i], l2[i]) for i in range(len(l1))]\n",
    "\n",
    "print(\"Utilizando la compresión de listas =\", l3)\n",
    "print(\n",
    "    \"Utilizando la función zip =\", [*zip(l1, l2)]\n",
    ")  # Importancia del * para iterar sobre el objeto zip (enumerador)\n",
    "print(\"Sin utilizar * =\", [zip(l1, l2)])"
   ]
  },
  {
   "cell_type": "markdown",
   "metadata": {
    "id": "DzHRE6Y16S02"
   },
   "source": [
    "**Ejercicio #17**: Calculador de Pila\n",
    "\n",
    "Implemente un pequeño compilador de pila para un lenguaje libre del contexto que dada una secuencia de números y operaciones devuelve su resultado. Por simplicidad asuma que la secuencia dada siempre es correcta.\n",
    "\n",
    "Un compilador de pila se basa lógicamente en una estructura de dato llamada pila (primer elemento que entra a la pila es el último que sale). La idea del funcionamiento es la siguiente:\n",
    "\n",
    "\n",
    "*   Los operandos son insertados en la pila\n",
    "*   Los operadores también son insertados en la pila\n",
    "*   Antes de realizar la inserción en la pila se comprueba si es posible ejecutar alguna de las operaciones. De ser posible, se ejecuta y el resultado vuelve a ser insertado en la pila.\n",
    "*   El programa termina cuando se hayan agotado los elementos de la secuencia y la pila esté vacía.\n",
    "*   El símbolo de ```$``` significa el final de la secuencia (solo con el propósito de simplificar).\n",
    "\n",
    "Por ejemplo:\n",
    "\n",
    "Sea la secuencia ```s=[1, '+', 2, '*', 3, '$']``` y la pila ```p = []```. Entonces los pasos serían como sigue:\n",
    "\n",
    "\n",
    "1.   Insertar ```1``` en la pila.\n",
    "2.   Insertar ```+``` en la pila.\n",
    "3.   Insertar ```2``` en la pila.\n",
    "4.   Insertar ```*``` en la pila.\n",
    "5.   Insertar ```3``` en la pila.\n",
    "\n",
    " Como el símbolo que queda en ```s``` es ```$``` entonces todas las operaciones y operandos ya fueron ejecutadas las que queden están en la pila por lo que:\n",
    "6.   Extraer  ```3```, ```*``` y ```2``` de la pila y ejecutar la operación. El resultado colocarlo de vuelta en la pila. ```p=[1, '+', 6]```.\n",
    "7.   Extraer ```6```, ```+``` y ```1``` y efectuar la suma. Colocar el resultado en la pila. ```p=[7]```.\n",
    "8.   FIN.\n",
    "\n",
    "Ejemplos de resultados:\n",
    "\n",
    "*   ```s=[1, '+', 2, '*', 3, '$'] => 7```\n",
    "*   ```s=[1, '+', 2, '*', 3, '+', 5, '$'] => 12```\n",
    "*   ```s=[1, '+', 2, '*', 3, '*', 5, '$'] => 31```\n",
    "*   ```s=[3, '*', 4, '+', 3, '$'] => 15```\n",
    "*   ```s=[1, '+', 2, '*', 3, '+', 4, '*', 5, '$'] => 27```\n",
    "\n",
    "\n",
    "\n",
    "\n"
   ]
  },
  {
   "cell_type": "code",
   "execution_count": 99,
   "metadata": {
    "colab": {
     "base_uri": "https://localhost:8080/"
    },
    "id": "Ke0HZolZ1ryK",
    "outputId": "32290f3c-05d4-44ba-86b6-a6139a30526e"
   },
   "outputs": [
    {
     "name": "stdout",
     "output_type": "stream",
     "text": [
      "[1, 2]\n",
      "[1, 2, 3]\n"
     ]
    }
   ],
   "source": [
    "lista = [1, 2]\n",
    "print(lista)\n",
    "lista.append(3)\n",
    "print(lista)"
   ]
  },
  {
   "cell_type": "code",
   "execution_count": 100,
   "metadata": {
    "colab": {
     "base_uri": "https://localhost:8080/"
    },
    "id": "zoLKiJDy1A9x",
    "outputId": "3929e221-d2a8-4821-dc0f-f2453b52a2e5"
   },
   "outputs": [
    {
     "name": "stdout",
     "output_type": "stream",
     "text": [
      "[1, '+', 2, '*', 3, '$']\n",
      "[1, '+', 2, '*', 3]\n",
      "[1, '+', 2, '*']\n",
      "[1, '+', 2]\n",
      "[]\n"
     ]
    }
   ],
   "source": [
    "s = [1, \"+\", 2, \"*\", 3, \"$\"]\n",
    "print(s)\n",
    "s.pop()\n",
    "print(s)\n",
    "s.pop()\n",
    "print(s)\n",
    "s.pop()\n",
    "print(s)\n",
    "s.pop()\n",
    "s.pop()\n",
    "s.pop()\n",
    "print(s)"
   ]
  },
  {
   "cell_type": "code",
   "execution_count": 101,
   "metadata": {
    "colab": {
     "base_uri": "https://localhost:8080/"
    },
    "id": "m9gMuqAu93Hd",
    "outputId": "b01e7663-6181-41b5-830e-011b72e22fd6"
   },
   "outputs": [
    {
     "name": "stdout",
     "output_type": "stream",
     "text": [
      "Los resultados obtenidos son:\n",
      "[1, '+', 2, '*', 3, '$'] = 7\n",
      "[1, '+', 2, '*', 3, '+', 5, '$'] = 12\n",
      "[1, '+', 2, '*', 3, '*', 5, '$'] = 31\n",
      "[3, '*', 4, '+', 3, '$'] = 15\n",
      "[1, '+', 2, '*', 3, '+', 4, '*', 5, '$'] = 27\n",
      "¿Son iguales todos a los dados en el ejemplo?\n"
     ]
    }
   ],
   "source": [
    "def compilar(s):\n",
    "    # Inicialización de la pila\n",
    "    p = []\n",
    "\n",
    "    # Índice de la secuencia\n",
    "    i = 0\n",
    "\n",
    "    # Ciclo principal para recorrer la secuencia.\n",
    "    # Termina cuando encuentra el caracter final.\n",
    "    while s[i] != \"$\":\n",
    "        if s[i] == \"+\":\n",
    "            # El operador + es el de menor prioridad por lo que siempre puede\n",
    "            # ejecutar su antecesor en la pila. Esto es porque si es un * entonces\n",
    "            # tiene más prioridad que él y se debe calcular primero. En el caso que\n",
    "            # sea + entonces tendría la misma prioridad y también puede ser calculado.\n",
    "            # Al final se inserta en el tope de la pila restante.\n",
    "            if len(p) >= 3:\n",
    "                op2 = p.pop()  # sacar del tope de la pila el operando 2\n",
    "                o = p.pop()  # sacar del tope de la pila el operador (* o +)\n",
    "                op1 = p.pop()  # sacar del tope de la pila el operando 1\n",
    "                p.append(o(op1, op2))  # Operar y colocar el resultado en el tope\n",
    "            p.append(lambda a, b: a + b)  # adicionar al tope el operador +\n",
    "        elif s[i] == \"*\":\n",
    "            # El operador * es el de mayor prioridad por lo que siempre tiene que\n",
    "            # colocarse en la pila a esperar que el próximo operando en la secuencia\n",
    "            # sea puesto en la pila y luego ser ejecutado.\n",
    "            p.append(lambda a, b: a * b)\n",
    "        else:  # Los números siempre son insertados como operandos en la pila\n",
    "            p.append(s[i])\n",
    "        i += 1\n",
    "\n",
    "    # Ciclo secundario para ejecutar lo que quedó en la pila.\n",
    "    # Lo que queda está en orden de operaciones correcto por lo que simplemente\n",
    "    # se extraen, se evaluan y se coloca nuevamente el resultado hasta\n",
    "    # que quede un solo valor en la pila.\n",
    "    while len(p) > 1:\n",
    "        op2 = p.pop()\n",
    "        o = p.pop()\n",
    "        op1 = p.pop()\n",
    "        p.append(o(op1, op2))\n",
    "\n",
    "    # Imprimir el resultado final del cálculo.\n",
    "    return p[0]\n",
    "\n",
    "\n",
    "# Comprobando resultados\n",
    "s = [1, \"+\", 2, \"*\", 3, \"$\"]\n",
    "p = []\n",
    "i = 0\n",
    "\n",
    "while s[i] != \"$\":\n",
    "    if len(p) >= 3:\n",
    "        op2 = p.pop()\n",
    "        o = p.pop()\n",
    "        op1 = p.pop()\n",
    "        p\n",
    "    i = i + 1\n",
    "\n",
    "\n",
    "# Secuencia\n",
    "s1 = [1, \"+\", 2, \"*\", 3, \"$\"]\n",
    "s2 = [1, \"+\", 2, \"*\", 3, \"+\", 5, \"$\"]\n",
    "s3 = [1, \"+\", 2, \"*\", 3, \"*\", 5, \"$\"]\n",
    "s4 = [3, \"*\", 4, \"+\", 3, \"$\"]\n",
    "s5 = [1, \"+\", 2, \"*\", 3, \"+\", 4, \"*\", 5, \"$\"]\n",
    "\n",
    "print(\"Los resultados obtenidos son:\")\n",
    "print(\"[1, '+', 2, '*', 3, '$'] =\", compilar(s1))\n",
    "print(\"[1, '+', 2, '*', 3, '+', 5, '$'] =\", compilar(s2))\n",
    "print(\"[1, '+', 2, '*', 3, '*', 5, '$'] =\", compilar(s3))\n",
    "print(\"[3, '*', 4, '+', 3, '$'] =\", compilar(s4))\n",
    "print(\"[1, '+', 2, '*', 3, '+', 4, '*', 5, '$'] =\", compilar(s5))\n",
    "\n",
    "print(\"¿Son iguales todos a los dados en el ejemplo?\")"
   ]
  }
 ],
 "metadata": {
  "colab": {
   "collapsed_sections": [],
   "include_colab_link": true,
   "name": "Clase#1 - Introducci贸n a la programaci贸n en lenguaje Python.ipynb",
   "provenance": []
  },
  "kernelspec": {
   "display_name": "Python 3 (ipykernel)",
   "language": "python",
   "name": "python3"
  },
  "language_info": {
   "codemirror_mode": {
    "name": "ipython",
    "version": 3
   },
   "file_extension": ".py",
   "mimetype": "text/x-python",
   "name": "python",
   "nbconvert_exporter": "python",
   "pygments_lexer": "ipython3",
   "version": "3.11.6"
  }
 },
 "nbformat": 4,
 "nbformat_minor": 0
}
