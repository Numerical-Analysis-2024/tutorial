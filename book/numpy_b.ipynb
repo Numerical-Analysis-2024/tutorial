{
 "cells": [
  {
   "cell_type": "markdown",
   "metadata": {
    "id": "7Q9C4Tq0HGku"
   },
   "source": [
    "# Manejo de vectores y matrices en Python: Módulo Numpy Parte 2\n",
    "\n",
    "![numpy_img.png](https://raw.githubusercontent.com/numpy/numpy/main/branding/logo/primary/numpylogodark.png)"
   ]
  },
  {
   "cell_type": "code",
   "execution_count": 1,
   "metadata": {
    "id": "zVSfwy4tb4d7"
   },
   "outputs": [],
   "source": [
    "import numpy as np"
   ]
  },
  {
   "cell_type": "markdown",
   "metadata": {
    "id": "MHZik24Su0P4"
   },
   "source": [
    "## Generando Matrices\n",
    "\n",
    "Las matrices en Python numéro pueden ser representadas de varias formas. Una de ellas es mediante el uso de vectores 2-dimensionales o 2darray. Más adelante se mostrará otra estructura de dato para representarlas. Seguidamente se brindan algunos ejemplos de cómo generar matrices con vectores bidimensionales.\n",
    "\n",
    "Generar la matriz identidad"
   ]
  },
  {
   "cell_type": "code",
   "execution_count": 2,
   "metadata": {
    "colab": {
     "base_uri": "https://localhost:8080/"
    },
    "id": "uE7_mCL7UBbX",
    "outputId": "e4ffb0d0-6477-4809-9266-e5ad4372ef65"
   },
   "outputs": [
    {
     "name": "stdout",
     "output_type": "stream",
     "text": [
      "El tipo es: <class 'numpy.ndarray'>\n",
      "[[1. 0. 0. 0.]\n",
      " [0. 1. 0. 0.]\n",
      " [0. 0. 1. 0.]\n",
      " [0. 0. 0. 1.]]\n"
     ]
    }
   ],
   "source": [
    "ident = np.identity(4)\n",
    "print(\"El tipo es:\", type(ident))\n",
    "print(ident)"
   ]
  },
  {
   "cell_type": "markdown",
   "metadata": {
    "id": "rM66Ii33UBbX"
   },
   "source": [
    "Generando matrices que poseen 1 en una de sus diagonales. El parámetro k representa la posición de la diagonal seleccionada"
   ]
  },
  {
   "cell_type": "code",
   "execution_count": 3,
   "metadata": {
    "colab": {
     "base_uri": "https://localhost:8080/"
    },
    "id": "C6uYACobUBbX",
    "outputId": "8ecaf50b-4998-44a6-abf3-5946ebe0790e"
   },
   "outputs": [
    {
     "name": "stdout",
     "output_type": "stream",
     "text": [
      "Diagonal superior:\n",
      " [[0. 1. 0. 0. 0. 0. 0. 0. 0. 0.]\n",
      " [0. 0. 1. 0. 0. 0. 0. 0. 0. 0.]\n",
      " [0. 0. 0. 1. 0. 0. 0. 0. 0. 0.]\n",
      " [0. 0. 0. 0. 1. 0. 0. 0. 0. 0.]\n",
      " [0. 0. 0. 0. 0. 1. 0. 0. 0. 0.]\n",
      " [0. 0. 0. 0. 0. 0. 1. 0. 0. 0.]\n",
      " [0. 0. 0. 0. 0. 0. 0. 1. 0. 0.]\n",
      " [0. 0. 0. 0. 0. 0. 0. 0. 1. 0.]\n",
      " [0. 0. 0. 0. 0. 0. 0. 0. 0. 1.]\n",
      " [0. 0. 0. 0. 0. 0. 0. 0. 0. 0.]]\n",
      "Diagonal inferior:\n",
      " [[0. 0. 0. 0. 0. 0. 0. 0. 0. 0.]\n",
      " [1. 0. 0. 0. 0. 0. 0. 0. 0. 0.]\n",
      " [0. 1. 0. 0. 0. 0. 0. 0. 0. 0.]\n",
      " [0. 0. 1. 0. 0. 0. 0. 0. 0. 0.]\n",
      " [0. 0. 0. 1. 0. 0. 0. 0. 0. 0.]\n",
      " [0. 0. 0. 0. 1. 0. 0. 0. 0. 0.]\n",
      " [0. 0. 0. 0. 0. 1. 0. 0. 0. 0.]\n",
      " [0. 0. 0. 0. 0. 0. 1. 0. 0. 0.]\n",
      " [0. 0. 0. 0. 0. 0. 0. 1. 0. 0.]\n",
      " [0. 0. 0. 0. 0. 0. 0. 0. 1. 0.]]\n"
     ]
    }
   ],
   "source": [
    "uno_sup = np.eye(10, k=1)  # Seleccionar la diagonal superior a la diagonal principal\n",
    "print(\"Diagonal superior:\\n\", uno_sup)\n",
    "\n",
    "uno_inf = np.eye(10, k=-1)  # Seleccionar la diagonal inferior a la diagonal principal\n",
    "print(\"Diagonal inferior:\\n\", uno_inf)"
   ]
  },
  {
   "cell_type": "markdown",
   "metadata": {
    "id": "gDyiGW_UUBbY"
   },
   "source": [
    "Una forma más general de generar una matriz diagonal es usando la función ```np.diag```. Esta permite especificar cada uno de los elementos de la diagional y su posición con respecto a la diagonal principal con el parámetro ```k```."
   ]
  },
  {
   "cell_type": "code",
   "execution_count": 4,
   "metadata": {
    "colab": {
     "base_uri": "https://localhost:8080/"
    },
    "id": "wn2yZDg2UBbY",
    "outputId": "9d6550ca-1c14-4298-f1c4-f94cc4e7d0d7"
   },
   "outputs": [
    {
     "name": "stdout",
     "output_type": "stream",
     "text": [
      "[[0 1 0 0 0 0 0 0 0]\n",
      " [0 0 4 0 0 0 0 0 0]\n",
      " [0 0 0 1 0 0 0 0 0]\n",
      " [0 0 0 0 4 0 0 0 0]\n",
      " [0 0 0 0 0 1 0 0 0]\n",
      " [0 0 0 0 0 0 4 0 0]\n",
      " [0 0 0 0 0 0 0 1 0]\n",
      " [0 0 0 0 0 0 0 0 4]\n",
      " [0 0 0 0 0 0 0 0 0]]\n"
     ]
    }
   ],
   "source": [
    "diag = np.diag(np.array([1, 4, 1, 4, 1, 4, 1, 4]), k=1)\n",
    "print(diag)"
   ]
  },
  {
   "cell_type": "markdown",
   "metadata": {
    "id": "M10Ur9JvUBbY"
   },
   "source": [
    "El proceso inverso es también posible, obtener un vector con los valores de una diagonal de la matriz considerando su desplazamiento."
   ]
  },
  {
   "cell_type": "code",
   "execution_count": 5,
   "metadata": {
    "colab": {
     "base_uri": "https://localhost:8080/"
    },
    "id": "PsFPPzOSUBbY",
    "outputId": "1c2b3752-c68f-47ec-9ea9-ba16f0b3281c"
   },
   "outputs": [
    {
     "name": "stdout",
     "output_type": "stream",
     "text": [
      "[1 4 1 4 1 4 1 4]\n"
     ]
    }
   ],
   "source": [
    "print(np.diagonal(diag, offset=1))"
   ]
  },
  {
   "cell_type": "markdown",
   "metadata": {
    "id": "LzCf_AiDUBbY"
   },
   "source": [
    "Otras funciones útiles ya se encuentran diseñadas en la biblioteca Numpy para obtener información de los elementos de una matriz evitando ciclos explícitos en Python."
   ]
  },
  {
   "cell_type": "code",
   "execution_count": 6,
   "metadata": {
    "colab": {
     "base_uri": "https://localhost:8080/"
    },
    "id": "14v2nCsTUd-S",
    "outputId": "7bbcd235-2178-4468-a6a5-995a187b578c"
   },
   "outputs": [
    {
     "name": "stdout",
     "output_type": "stream",
     "text": [
      "Matriz_ej:\n",
      " [[11 12 13 14 15]\n",
      " [21 22 23 24 25]\n",
      " [31 32 33 34 35]\n",
      " [41 42 43 44 45]\n",
      " [51 52 53 54 55]]\n"
     ]
    }
   ],
   "source": [
    "m = np.array(\n",
    "    [\n",
    "        [11, 12, 13, 14, 15],\n",
    "        [21, 22, 23, 24, 25],\n",
    "        [31, 32, 33, 34, 35],\n",
    "        [41, 42, 43, 44, 45],\n",
    "        [51, 52, 53, 54, 55],\n",
    "    ]\n",
    ")\n",
    "print(\"Matriz_ej:\\n\", m)"
   ]
  },
  {
   "cell_type": "markdown",
   "metadata": {
    "id": "ni_Z7JRmUhcZ"
   },
   "source": [
    "Un ejemplo de ello es la traza de la matriz la cual suma los elementos de la diagonal."
   ]
  },
  {
   "cell_type": "code",
   "execution_count": 7,
   "metadata": {
    "colab": {
     "base_uri": "https://localhost:8080/"
    },
    "id": "_yDhHar2Va8Z",
    "outputId": "c99349c8-8a02-43ef-f0f0-e0f374e396be"
   },
   "outputs": [
    {
     "name": "stdout",
     "output_type": "stream",
     "text": [
      "Suma de la diagonal principal: 165\n"
     ]
    }
   ],
   "source": [
    "print(\"Suma de la diagonal principal:\", m.trace())"
   ]
  },
  {
   "cell_type": "markdown",
   "metadata": {
    "id": "rha_UzkVVsFX"
   },
   "source": [
    "También se pueden citar otros dos ejemplos, ```triu``` y ```tril```. La primera devuelve la correspondiente matriz triangular superior. La segunda devuelve la correspondiente matriz triangular inferior."
   ]
  },
  {
   "cell_type": "code",
   "execution_count": 8,
   "metadata": {
    "colab": {
     "base_uri": "https://localhost:8080/"
    },
    "id": "PV34BDnVVrG1",
    "outputId": "1bb258ff-3d94-4588-e8fc-2cc9662b1647"
   },
   "outputs": [
    {
     "data": {
      "text/plain": [
       "array([[11, 12, 13, 14, 15],\n",
       "       [ 0, 22, 23, 24, 25],\n",
       "       [ 0,  0, 33, 34, 35],\n",
       "       [ 0,  0,  0, 44, 45],\n",
       "       [ 0,  0,  0,  0, 55]])"
      ]
     },
     "execution_count": 8,
     "metadata": {},
     "output_type": "execute_result"
    }
   ],
   "source": [
    "np.triu(m)"
   ]
  },
  {
   "cell_type": "code",
   "execution_count": 9,
   "metadata": {
    "colab": {
     "base_uri": "https://localhost:8080/"
    },
    "id": "_NHgfGQ7XAMI",
    "outputId": "3c152f6f-c913-43d0-e832-50f98af0dd23"
   },
   "outputs": [
    {
     "data": {
      "text/plain": [
       "array([[11,  0,  0,  0,  0],\n",
       "       [21, 22,  0,  0,  0],\n",
       "       [31, 32, 33,  0,  0],\n",
       "       [41, 42, 43, 44,  0],\n",
       "       [51, 52, 53, 54, 55]])"
      ]
     },
     "execution_count": 9,
     "metadata": {},
     "output_type": "execute_result"
    }
   ],
   "source": [
    "np.tril(m)"
   ]
  },
  {
   "cell_type": "markdown",
   "metadata": {
    "id": "C6V1QI07yeXx"
   },
   "source": [
    "#### Vistas de vectores\n",
    "Al realizar una selección en un vector el resultado no se almacena en un nuevo vector directamente sino que se crea una vista del vector. Esto significa que en la memoria los elementos de la nueva selección son exactamente los elementos seleccionados del vector y no se ocupa memoria adicional. Por tal motivo, si se modifica alguno de ellos en una vista entonces se modificarán en el propio vector también. En otras palabras, la vista es una estrctura lógica que contiene una configuración diferente de los elementos del vector al que apunta. Por ejemplo:"
   ]
  },
  {
   "cell_type": "markdown",
   "metadata": {
    "id": "925tMrYNzjXo"
   },
   "source": [
    "Creemos una matriz usando un listado de números y la operación ```np.reshape``` la cual realiza un cambio de tamaño de las dimensiones de los elementos (esta función será explicada más adelante)."
   ]
  },
  {
   "cell_type": "code",
   "execution_count": 10,
   "metadata": {
    "colab": {
     "base_uri": "https://localhost:8080/"
    },
    "id": "wu9SMj8rzaqi",
    "outputId": "7dbdb6fa-ab49-4dac-aca0-f96aa75ca2d9"
   },
   "outputs": [
    {
     "data": {
      "text/plain": [
       "array([[ 1,  2,  3,  4,  5],\n",
       "       [ 6,  7,  8,  9, 10],\n",
       "       [11, 12, 13, 14, 15],\n",
       "       [16, 17, 18, 19, 20],\n",
       "       [21, 22, 23, 24, 25]])"
      ]
     },
     "execution_count": 10,
     "metadata": {},
     "output_type": "execute_result"
    }
   ],
   "source": [
    "A = np.arange(1, 26, 1).reshape(\n",
    "    (5, 5)\n",
    ")  # La secuencia [ 1  2  3  4  5  6  7  8  9 10 11 12 13 14 15 16 17 18 19 20 21 22 23 24 25]\n",
    "# es reconfigurada en una matriz de 5 x 5 elementos.\n",
    "A"
   ]
  },
  {
   "cell_type": "markdown",
   "metadata": {
    "id": "w2fobBNO0Ykk"
   },
   "source": [
    "Realicemos una selección de la submatriz (vista) comprendida entre $1\\leq i\\leq 3$ y $1\\leq j\\leq 3$:"
   ]
  },
  {
   "cell_type": "code",
   "execution_count": 11,
   "metadata": {
    "colab": {
     "base_uri": "https://localhost:8080/"
    },
    "id": "dofyCnbg0YP3",
    "outputId": "93ed2022-3efb-46a9-831c-834184e8eab2"
   },
   "outputs": [
    {
     "data": {
      "text/plain": [
       "array([[ 7,  8,  9],\n",
       "       [12, 13, 14],\n",
       "       [17, 18, 19]])"
      ]
     },
     "execution_count": 11,
     "metadata": {},
     "output_type": "execute_result"
    }
   ],
   "source": [
    "B = A[1:4, 1:4]\n",
    "B"
   ]
  },
  {
   "cell_type": "markdown",
   "metadata": {
    "id": "AdLHhroa08yI"
   },
   "source": [
    "Asignemos a el valor 0 a cada elemento de la vista B"
   ]
  },
  {
   "cell_type": "code",
   "execution_count": 12,
   "metadata": {
    "id": "aGIrAIqf1HJu"
   },
   "outputs": [
    {
     "data": {
      "text/plain": [
       "array([[0, 0, 0],\n",
       "       [0, 0, 0],\n",
       "       [0, 0, 0]])"
      ]
     },
     "execution_count": 12,
     "metadata": {},
     "output_type": "execute_result"
    }
   ],
   "source": [
    "B[:, :] = 0\n",
    "B"
   ]
  },
  {
   "cell_type": "markdown",
   "metadata": {
    "id": "7R4NA5K71N3p"
   },
   "source": [
    "Entonces la matriz A tendrá los 0s en los valores seleccionados por la vista"
   ]
  },
  {
   "cell_type": "code",
   "execution_count": 13,
   "metadata": {
    "colab": {
     "base_uri": "https://localhost:8080/"
    },
    "id": "ELy_YMwz1VI2",
    "outputId": "f1cf0468-1052-4e60-d6d2-d610ef3828e8"
   },
   "outputs": [
    {
     "data": {
      "text/plain": [
       "array([[ 1,  2,  3,  4,  5],\n",
       "       [ 6,  0,  0,  0, 10],\n",
       "       [11,  0,  0,  0, 15],\n",
       "       [16,  0,  0,  0, 20],\n",
       "       [21, 22, 23, 24, 25]])"
      ]
     },
     "execution_count": 13,
     "metadata": {},
     "output_type": "execute_result"
    }
   ],
   "source": [
    "A"
   ]
  },
  {
   "cell_type": "markdown",
   "metadata": {
    "id": "gjsSDsgO1h-C"
   },
   "source": [
    "¿Cuál es la diferencia entre escribir ```B[:, :] = 0``` y ```B=0```?"
   ]
  },
  {
   "cell_type": "code",
   "execution_count": 14,
   "metadata": {
    "colab": {
     "base_uri": "https://localhost:8080/"
    },
    "id": "OLTtxuNt1d4k",
    "outputId": "3856fe2c-2491-4022-ddae-949397a9b4ea"
   },
   "outputs": [
    {
     "name": "stdout",
     "output_type": "stream",
     "text": [
      "B: [[0 0 0]\n",
      " [0 0 0]\n",
      " [0 0 0]]\n",
      "Tipo de B: <class 'numpy.ndarray'>\n",
      "A: [[ 1  2  3  4  5]\n",
      " [ 6  0  0  0 10]\n",
      " [11  0  0  0 15]\n",
      " [16  0  0  0 20]\n",
      " [21 22 23 24 25]]\n"
     ]
    }
   ],
   "source": [
    "# B = 0\n",
    "print(\"B:\", B)\n",
    "print(\"Tipo de B:\", type(B))\n",
    "print(\"A:\", A)"
   ]
  },
  {
   "cell_type": "markdown",
   "metadata": {
    "id": "mdMFTl9L2O-o"
   },
   "source": [
    "Ahora, cómo se puede crear una nueva matriz a partir de la vista resultado de una selección. "
   ]
  },
  {
   "cell_type": "code",
   "execution_count": 15,
   "metadata": {
    "colab": {
     "base_uri": "https://localhost:8080/"
    },
    "id": "qrjTu3532jYV",
    "outputId": "8025a2c9-7d63-41ae-8d9d-960783180e54"
   },
   "outputs": [
    {
     "data": {
      "text/plain": [
       "array([[0, 0, 0],\n",
       "       [0, 0, 0],\n",
       "       [0, 0, 0]])"
      ]
     },
     "execution_count": 15,
     "metadata": {},
     "output_type": "execute_result"
    }
   ],
   "source": [
    "C = np.copy(B)\n",
    "C"
   ]
  },
  {
   "cell_type": "markdown",
   "metadata": {
    "id": "BOWqcwOW2vhm"
   },
   "source": [
    "Comprobando volvemos a crear la matriz A y ejecutamos nuevamente la vista. Luego asignamos a la vista B el valor 0."
   ]
  },
  {
   "cell_type": "code",
   "execution_count": 16,
   "metadata": {
    "colab": {
     "base_uri": "https://localhost:8080/"
    },
    "id": "XBPa0j2J26fg",
    "outputId": "4a856072-d67e-4ad0-a6ef-e598aa467ce0"
   },
   "outputs": [
    {
     "name": "stdout",
     "output_type": "stream",
     "text": [
      "A:\n",
      " [[ 1  2  3  4  5]\n",
      " [ 6  0  0  0 10]\n",
      " [11  0  0  0 15]\n",
      " [16  0  0  0 20]\n",
      " [21 22 23 24 25]]\n",
      "B:\n",
      " [[0 0 0]\n",
      " [0 0 0]\n",
      " [0 0 0]]\n",
      "C:\n",
      " [[0 0 0]\n",
      " [0 0 0]\n",
      " [0 0 0]]\n"
     ]
    }
   ],
   "source": [
    "A = np.arange(1, 26, 1).reshape((5, 5))\n",
    "B = A[1:4, 1:4]\n",
    "\n",
    "B[:, :] = 0\n",
    "\n",
    "print(\"A:\\n\", A)\n",
    "print(\"B:\\n\", B)\n",
    "print(\"C:\\n\", C)"
   ]
  },
  {
   "cell_type": "markdown",
   "metadata": {
    "id": "CwrM3WYX3XaK"
   },
   "source": [
    "¿Si quisiera volver a restaurar los datos anulados de A utilizando la información de C qué podría hacer?"
   ]
  },
  {
   "cell_type": "code",
   "execution_count": 17,
   "metadata": {
    "colab": {
     "base_uri": "https://localhost:8080/"
    },
    "id": "B39Lce2N3k85",
    "outputId": "0c8cd0be-b7f8-4833-c247-815231001540"
   },
   "outputs": [
    {
     "data": {
      "text/plain": [
       "array([[ 1,  2,  3,  4,  5],\n",
       "       [ 6,  0,  0,  0, 10],\n",
       "       [11,  0,  0,  0, 15],\n",
       "       [16,  0,  0,  0, 20],\n",
       "       [21, 22, 23, 24, 25]])"
      ]
     },
     "execution_count": 17,
     "metadata": {},
     "output_type": "execute_result"
    }
   ],
   "source": [
    "A[1:4, 1:4] = C[:, :]\n",
    "A"
   ]
  },
  {
   "cell_type": "markdown",
   "metadata": {
    "id": "3enCRgG434Xf"
   },
   "source": [
    "¿La siguiente línea de código también funcionará de la misma manera? ¿Lanzará algún error?"
   ]
  },
  {
   "cell_type": "code",
   "execution_count": 18,
   "metadata": {
    "colab": {
     "base_uri": "https://localhost:8080/"
    },
    "id": "cjYlgpTt4LkP",
    "outputId": "ac4cbf63-055a-4cfe-9f35-51501063eb5b"
   },
   "outputs": [
    {
     "data": {
      "text/plain": [
       "array([[ 1,  2,  3,  4,  5],\n",
       "       [ 6,  0,  0,  0, 10],\n",
       "       [11,  0,  0,  0, 15],\n",
       "       [16,  0,  0,  0, 20],\n",
       "       [21, 22, 23, 24, 25]])"
      ]
     },
     "execution_count": 18,
     "metadata": {},
     "output_type": "execute_result"
    }
   ],
   "source": [
    "A[1:4, 1:4] = C\n",
    "A"
   ]
  },
  {
   "cell_type": "markdown",
   "metadata": {
    "id": "QXf7LSw64QRX"
   },
   "source": [
    "La operación de asignación ```=``` se ha redefinido en el la biblioteca NumPy para que tengan un comportamiento igual al de la línea [139](https://colab.research.google.com/drive/1d5T9fcnaIvKOELRXUNE2PjVKHMVdmdeA#scrollTo=B39Lce2N3k85&line=2&uniqifier=1)."
   ]
  },
  {
   "cell_type": "markdown",
   "metadata": {
    "id": "54jjuafA4xSu"
   },
   "source": [
    "¿Qué pasaría si ahora se modifica uno de los valores de la matriz C?"
   ]
  },
  {
   "cell_type": "code",
   "execution_count": 19,
   "metadata": {},
   "outputs": [
    {
     "data": {
      "text/plain": [
       "array([[0, 0, 0],\n",
       "       [0, 0, 0],\n",
       "       [0, 0, 0]])"
      ]
     },
     "execution_count": 19,
     "metadata": {},
     "output_type": "execute_result"
    }
   ],
   "source": [
    "C"
   ]
  },
  {
   "cell_type": "code",
   "execution_count": 20,
   "metadata": {
    "colab": {
     "base_uri": "https://localhost:8080/"
    },
    "id": "FIOkyH9A5gpQ",
    "outputId": "4674da32-1b8c-45b2-da67-8a6662b90919"
   },
   "outputs": [
    {
     "name": "stdout",
     "output_type": "stream",
     "text": [
      "A:\n",
      " [[ 1  2  3  4  5]\n",
      " [ 6  0  0  0 10]\n",
      " [11  0  0  0 15]\n",
      " [16  0  0  0 20]\n",
      " [21 22 23 24 25]]\n",
      "C:\n",
      " [[  0   0   0]\n",
      " [  0   0   0]\n",
      " [  0   0 100]]\n"
     ]
    }
   ],
   "source": [
    "C[2, 2] = 100\n",
    "print(\"A:\\n\", A)\n",
    "print(\"C:\\n\", C)"
   ]
  },
  {
   "cell_type": "markdown",
   "metadata": {
    "id": "Il7_mkIq6CMb"
   },
   "source": [
    "#### Indexación avanzada\n",
    "\n",
    "Hasta el momento la selección se ha ido realizando especificando números e intervalos en las expresiones de selección para cada una de las dimensiones pero existen otras formas más avanzadas de seleccionar elementos las cuales mostraremos en esta sección"
   ]
  },
  {
   "cell_type": "markdown",
   "metadata": {
    "id": "1vV_n17p7h4O"
   },
   "source": [
    "Es posible realizar selección de índices previamente especificados en una secuencia (lista, tupla, vector, etc.). Veamos un ejemplo"
   ]
  },
  {
   "cell_type": "markdown",
   "metadata": {
    "id": "2IsrSHce7yTv"
   },
   "source": [
    "Supongamos que se quieren seleccionar los elementos con los índices 0, 2 y 4 de un vector"
   ]
  },
  {
   "cell_type": "code",
   "execution_count": 21,
   "metadata": {
    "colab": {
     "base_uri": "https://localhost:8080/"
    },
    "id": "Woo-BITo8hH5",
    "outputId": "caf55c82-e64f-4c9e-a71e-af371b958d00"
   },
   "outputs": [
    {
     "data": {
      "text/plain": [
       "array([ 1,  2,  3,  4,  5,  6,  7,  8,  9, 10])"
      ]
     },
     "execution_count": 21,
     "metadata": {},
     "output_type": "execute_result"
    }
   ],
   "source": [
    "vec = np.arange(1, 11, 1)\n",
    "vec"
   ]
  },
  {
   "cell_type": "markdown",
   "metadata": {
    "id": "Rb8Ejq_m8rJ7"
   },
   "source": [
    "el vector de indices de interés es"
   ]
  },
  {
   "cell_type": "code",
   "execution_count": 22,
   "metadata": {
    "colab": {
     "base_uri": "https://localhost:8080/"
    },
    "id": "NqCl6owq8yQb",
    "outputId": "bc749485-316e-4068-dc12-f48d20b8722c"
   },
   "outputs": [
    {
     "data": {
      "text/plain": [
       "array([0, 2, 4])"
      ]
     },
     "execution_count": 22,
     "metadata": {},
     "output_type": "execute_result"
    }
   ],
   "source": [
    "idx = np.array([0, 2, 4])\n",
    "idx"
   ]
  },
  {
   "cell_type": "markdown",
   "metadata": {
    "id": "0ztliZTf84nw"
   },
   "source": [
    "luego la selección se realiza al pasar en el operador de selección ```[ ]``` la secuencia de índices"
   ]
  },
  {
   "cell_type": "code",
   "execution_count": 23,
   "metadata": {
    "colab": {
     "base_uri": "https://localhost:8080/"
    },
    "id": "NJnTswBB9SDS",
    "outputId": "2ac44d68-88bc-4dac-ed16-db110bc3edf6"
   },
   "outputs": [
    {
     "data": {
      "text/plain": [
       "array([1, 3, 5])"
      ]
     },
     "execution_count": 23,
     "metadata": {},
     "output_type": "execute_result"
    }
   ],
   "source": [
    "vec[idx]"
   ]
  },
  {
   "cell_type": "markdown",
   "metadata": {
    "id": "0cx3kG5S9bAJ"
   },
   "source": [
    "Lo mismo puede ser llevado a cabo con una lista"
   ]
  },
  {
   "cell_type": "code",
   "execution_count": 24,
   "metadata": {
    "colab": {
     "base_uri": "https://localhost:8080/"
    },
    "id": "5GuDU7i69fBb",
    "outputId": "ba09c3c8-2c6e-4abf-fd6a-5e9650ac4c56"
   },
   "outputs": [
    {
     "data": {
      "text/plain": [
       "array([1, 3, 5])"
      ]
     },
     "execution_count": 24,
     "metadata": {},
     "output_type": "execute_result"
    }
   ],
   "source": [
    "vec[[0, 2, 4]]"
   ]
  },
  {
   "cell_type": "markdown",
   "metadata": {
    "id": "nl9jgpuN9sHI"
   },
   "source": [
    "Otra de las variantes de selección es la selección condicional. En este caso se puede establecer una condición booleana la cual es evaluada en cada uno de los elementos del vector, retornando un vector de valores booleanos con cada uno de los resultados de la evaluación en sus correspondientes índices."
   ]
  },
  {
   "cell_type": "markdown",
   "metadata": {
    "id": "6Xo0t-Mh-csE"
   },
   "source": [
    "Por ejemplo, supongamos que del vector ```vec``` quiesiera saber cuáles son los elementos mayores que 5"
   ]
  },
  {
   "cell_type": "code",
   "execution_count": 25,
   "metadata": {
    "colab": {
     "base_uri": "https://localhost:8080/"
    },
    "id": "swEa1XOP-n3e",
    "outputId": "56f5d4cb-d1e2-4680-f8fc-bd5b68c404ed"
   },
   "outputs": [
    {
     "data": {
      "text/plain": [
       "array([False, False, False, False, False,  True,  True,  True,  True,\n",
       "        True])"
      ]
     },
     "execution_count": 25,
     "metadata": {},
     "output_type": "execute_result"
    }
   ],
   "source": [
    "vec > 5"
   ]
  },
  {
   "cell_type": "markdown",
   "metadata": {
    "id": "RgGZJgco-rAu"
   },
   "source": [
    "Ahora combinando con lo explicado en [146](https://colab.research.google.com/drive/1d5T9fcnaIvKOELRXUNE2PjVKHMVdmdeA#scrollTo=NJnTswBB9SDS&line=1&uniqifier=1) se obtienen solo aquellos valores para los que la condición fue verdadera, aquellos mayores que 5."
   ]
  },
  {
   "cell_type": "code",
   "execution_count": 26,
   "metadata": {
    "colab": {
     "base_uri": "https://localhost:8080/"
    },
    "id": "lIe4tKv7-7DG",
    "outputId": "4875ea60-2fcc-4a57-c485-7b57a86c5de7"
   },
   "outputs": [
    {
     "data": {
      "text/plain": [
       "array([ 6,  7,  8,  9, 10])"
      ]
     },
     "execution_count": 26,
     "metadata": {},
     "output_type": "execute_result"
    }
   ],
   "source": [
    "vec[vec > 5]"
   ]
  },
  {
   "cell_type": "markdown",
   "metadata": {
    "id": "97ZbAC5q_iJO"
   },
   "source": [
    "En este caso, es importante aclarar que la indexación avanzada **NO** es una vista. Al asignar el resultado de la indexación avanzada a una nueva variable esta creará un nuevo vector con su propio espacio reservado en memoria."
   ]
  },
  {
   "cell_type": "code",
   "execution_count": 27,
   "metadata": {
    "colab": {
     "base_uri": "https://localhost:8080/"
    },
    "id": "UzxhoOt5AB5A",
    "outputId": "1759ef47-98b7-437d-c867-e31f927367e1"
   },
   "outputs": [
    {
     "name": "stdout",
     "output_type": "stream",
     "text": [
      "A:\n",
      " [-1  7  8  9 -1]\n",
      "vec:\n",
      " [ 1  2  3  4  5  6  7  8  9 10]\n"
     ]
    }
   ],
   "source": [
    "A = vec[vec > 5]\n",
    "A[0] = -1\n",
    "A[-1] = -1\n",
    "print(\"A:\\n\", A)\n",
    "print(\"vec:\\n\", vec)"
   ]
  },
  {
   "cell_type": "markdown",
   "metadata": {
    "id": "QDgpfeaZAe_m"
   },
   "source": [
    "Pero a su vez es posible hacer cambios en el vector ```vec``` usando indexación avanzada. Véase el siguiente ejemplo:"
   ]
  },
  {
   "cell_type": "code",
   "execution_count": 28,
   "metadata": {
    "colab": {
     "base_uri": "https://localhost:8080/"
    },
    "id": "at1yC8iZBPnd",
    "outputId": "dc22673f-57d9-4f51-bdea-ca49e916dc27"
   },
   "outputs": [
    {
     "name": "stdout",
     "output_type": "stream",
     "text": [
      "vec:\n",
      " [ 1  2  3  4  5 -1  7  8  9 -1]\n"
     ]
    }
   ],
   "source": [
    "vec[[5, -1]] = -1\n",
    "print(\"vec:\\n\", vec)"
   ]
  },
  {
   "cell_type": "markdown",
   "metadata": {
    "id": "V9Mx6HVtBNHh"
   },
   "source": [
    "O también para indexación condicional:"
   ]
  },
  {
   "cell_type": "code",
   "execution_count": 29,
   "metadata": {
    "colab": {
     "base_uri": "https://localhost:8080/"
    },
    "id": "dNN2bbLFAr6u",
    "outputId": "c4dbb822-518e-40e1-e23b-abb12072bdb4"
   },
   "outputs": [
    {
     "name": "stdout",
     "output_type": "stream",
     "text": [
      "vec:\n",
      " [ 1  2  3  4  5 -1 -1 -1 -1 -1]\n"
     ]
    }
   ],
   "source": [
    "vec[vec > 5] = -1\n",
    "print(\"vec:\\n\", vec)"
   ]
  },
  {
   "cell_type": "markdown",
   "metadata": {
    "id": "PSYZuzWXCGiX"
   },
   "source": [
    "### Reconfiguración y redimensionalización de vectores\n",
    "\n",
    "Una situación muy usual cuando se trabaja con vectores y matrices es la reconfiguración de la disposicón de sus elementos o la redimensionalización de sus dimensiones. Por ejemplo, un vector bidimenional de $NxN$ pudiera ser redimensionado en uno vector unidimensional de $N^2$ o pudiera ser reconfigurado uniendo varios vectores o apilandolos vertical- o horizontalmente. La biblioteca Numpy brinda un amplio listado de funciones para manipular vectores.\n",
    "\n",
    "Resumen de funciones para manipular vectores\n",
    "\n",
    "Función                | Descripción\n",
    "-----------------------|-------------------------------------------------------\n",
    "```np.reshape```       | Redimensiona el array manteniendo la misma cantidad de elementos. Esto indica que $i * j = n$.\n",
    "```np.flatten```       | Crea un vector unidimensional a partir de un vector n-dimensional. Dicho de otra forma, la posición en el vector unidimensional del elemento ```nd-vec```$[k_{d1}, k_{d2}, \\dots, k_{dN}]$ = ```1d-vec```$[k_{d1} + \\sum_{r=2}^N k_{dr} N_r]$.\n",
    "```np.ravel```         | Crea una vista unidimensional de un vector n-dimensional siempre que sea posible. De otra forma crea un nuevo vector. La indexación ocurre de igual forma que en ```np.flatten```.\n",
    "```np.transpose```     | Devuelve la transpuesta de un vector bidimensional.\n",
    "```np.hstack```        | Apila (en la dimensión 1) una lista de vectores de forma horizontal, de izquierda a derecha. Devuelve una matriz con los mismos apilados\n",
    "```np.vstack```        | Apila (en la dimensión 0) una lista de vectores de forma vertical, de arriba hacia abajo.\n",
    "```np.concatenate```   | Crea un nuevo vector que es la concatenación de un listado de vectores. **Es muy utilizado en conformación de matrices en PDEs solvers*. \n",
    "```np.resize```        | Crea un nuevo vector como el original pero con dimensiones de tamaño diferente. Si el tamaño es mayor que el del vector original entonces los elementos sobrantes serán \n",
    "                    |rellenados con los elementos del vector original siguiendo el mismo orden y comenzando desde el primero. **Esta también es muy útil en la conformación de matrices sobre todo en PDEs solvers de dimensión mayor que 1*.\n",
    "```np.append```        | Crea un **nuevo** vector con un elemento adicionado al final. **Esta operación es computacionalmente costosa** por lo que debe evitarse.\n",
    "```np.insert```        | Crea un **nuevo** vector con un elemento insertado en una posición determinada. **Esta operación es computacionalmente costosa** por lo que debe evitarse.\n",
    "```np.delete```        | Crea un **nuevo** vector eliminando uno de los elementos del vector original. **Esta operación es computacionalmente costosa** por lo que debe evitarse.\n",
    "\n",
    "Veamos algunos ejemplos del uso de estas funciones"
   ]
  },
  {
   "cell_type": "code",
   "execution_count": 30,
   "metadata": {
    "colab": {
     "base_uri": "https://localhost:8080/"
    },
    "id": "yUFrqzSQg-NQ",
    "outputId": "4859d3cf-192d-4b17-be97-71dc77b6ac36"
   },
   "outputs": [
    {
     "data": {
      "text/plain": [
       "array([[0],\n",
       "       [0],\n",
       "       [0],\n",
       "       [0],\n",
       "       [0],\n",
       "       [0],\n",
       "       [0],\n",
       "       [0],\n",
       "       [0],\n",
       "       [0],\n",
       "       [0],\n",
       "       [0],\n",
       "       [0],\n",
       "       [0],\n",
       "       [0]])"
      ]
     },
     "execution_count": 30,
     "metadata": {},
     "output_type": "execute_result"
    }
   ],
   "source": [
    "np.resize(B[:, 0], (B.shape[0] * A.shape[0], 1))"
   ]
  },
  {
   "cell_type": "markdown",
   "metadata": {
    "id": "P-FiVqk-Mqck"
   },
   "source": [
    "### Vectorización de funciones y operadores\n",
    "\n",
    "El sentido de utilizar esta clase ```ndArray``` es poder utilizar las operaciones vectoriales que ejecutan rutinas eficientes para los elementos del vector que están implementadas a bajo nivel.\n",
    "\n",
    "Por ejemplo, considérese la siguiente operación suma entre dos elementos:"
   ]
  },
  {
   "cell_type": "code",
   "execution_count": 31,
   "metadata": {
    "id": "guRb_J5ONDP7"
   },
   "outputs": [],
   "source": [
    "def suma(x, y):\n",
    "    return x + y"
   ]
  },
  {
   "cell_type": "markdown",
   "metadata": {
    "id": "bi_5Z2c-d09T"
   },
   "source": [
    "si se utiliza para sumar dos elementos funcinona de acuerdo a lo esperado:"
   ]
  },
  {
   "cell_type": "code",
   "execution_count": 32,
   "metadata": {
    "colab": {
     "base_uri": "https://localhost:8080/"
    },
    "id": "yNbBf2LCd_Gn",
    "outputId": "19b83e71-7836-4a57-de87-bf778debdfd3"
   },
   "outputs": [
    {
     "data": {
      "text/plain": [
       "5"
      ]
     },
     "execution_count": 32,
     "metadata": {},
     "output_type": "execute_result"
    }
   ],
   "source": [
    "suma(2, 3)"
   ]
  },
  {
   "cell_type": "markdown",
   "metadata": {
    "id": "g6TD0oGXeDJX"
   },
   "source": [
    "Pero si se desea ejecutar sobre cada par correspondientes de elementos de suna lista entonces se esperaría que sume cada par de números correspondientes, uno de una y el otro de la otra. Pero el resultado no es el esperado:"
   ]
  },
  {
   "cell_type": "code",
   "execution_count": 33,
   "metadata": {
    "colab": {
     "base_uri": "https://localhost:8080/"
    },
    "id": "nS9DlDJ1ebZr",
    "outputId": "b725a814-6bd6-4d38-dcc0-9b892f38a435"
   },
   "outputs": [
    {
     "data": {
      "text/plain": [
       "[1, 2, 3, 3, 2, 1]"
      ]
     },
     "execution_count": 33,
     "metadata": {},
     "output_type": "execute_result"
    }
   ],
   "source": [
    "a = [1, 2, 3]\n",
    "b = [3, 2, 1]\n",
    "\n",
    "suma(a, b)"
   ]
  },
  {
   "cell_type": "markdown",
   "metadata": {
    "id": "I0KiQMHLel-5"
   },
   "source": [
    "En efecto, las estructuras de datos utilizadas son listas por lo que la operación ```+``` está definida como una unión entre listas de elementos.\n",
    "\n",
    "Veamos el ejemplo de una función que dada la comparación entre a y b decide sumarlos o restarlos. (Tomado de la documentación de NumPy)"
   ]
  },
  {
   "cell_type": "code",
   "execution_count": 34,
   "metadata": {
    "id": "e0BSfWrpfTwV"
   },
   "outputs": [],
   "source": [
    "def fun(a, b):\n",
    "    \"Return a-b if a>b, otherwise return a+b\"\n",
    "    if a > b:\n",
    "        return a - b\n",
    "    else:\n",
    "        return a + b"
   ]
  },
  {
   "cell_type": "markdown",
   "metadata": {
    "id": "jgIYWRIKSe_d"
   },
   "source": [
    "Este es un caso bien sencillo para el caso en el que no ha sido vectorializado:"
   ]
  },
  {
   "cell_type": "code",
   "execution_count": 35,
   "metadata": {
    "colab": {
     "base_uri": "https://localhost:8080/"
    },
    "id": "2W4n9bBASq11",
    "outputId": "ef3d15d4-3ecf-4fbd-d0d1-e9f76f0767ba"
   },
   "outputs": [
    {
     "name": "stdout",
     "output_type": "stream",
     "text": [
      "1 < 4 => 5\n",
      "4 > 2 => 2\n"
     ]
    }
   ],
   "source": [
    "print(\"1 < 4 =>\", fun(1, 4))\n",
    "print(\"4 > 2 =>\", fun(4, 2))"
   ]
  },
  {
   "cell_type": "markdown",
   "metadata": {
    "id": "pak3eEmpS_Is"
   },
   "source": [
    "¿Pero qué sucederá si se vectoriza esta función?"
   ]
  },
  {
   "cell_type": "code",
   "execution_count": 36,
   "metadata": {
    "id": "8uAQrOcgjBMa"
   },
   "outputs": [],
   "source": [
    "_fun = np.vectorize(fun)"
   ]
  },
  {
   "cell_type": "markdown",
   "metadata": {
    "id": "Yy_4VzezgfD_"
   },
   "source": [
    "Veamos el resultado del mismo ejemplo anterior pero esta vez con la versión vectorizada:"
   ]
  },
  {
   "cell_type": "code",
   "execution_count": 37,
   "metadata": {
    "colab": {
     "base_uri": "https://localhost:8080/"
    },
    "id": "2E0cN_MpTUW7",
    "outputId": "7b0c6a9d-8be7-4f9b-f592-d840fef8b757"
   },
   "outputs": [
    {
     "name": "stdout",
     "output_type": "stream",
     "text": [
      "1 < 4 => 5\n",
      "4 > 2 => 2\n"
     ]
    }
   ],
   "source": [
    "print(\"1 < 4 =>\", _fun(1, 4))\n",
    "print(\"4 > 2 =>\", _fun(4, 2))"
   ]
  },
  {
   "cell_type": "markdown",
   "metadata": {
    "id": "ncrGCuLyhuX7"
   },
   "source": [
    "La función ```np.vectorize``` es una herramienta para \"convertir\" estas funciones en expresiones que utilicen las ventajas de los ndarrays.\n",
    "\n",
    "El resultado del ejemplo anterior es exactamente el mismo resultado obtenido para el caso no vectorizado, pero que pasa si extendemos los parámetros de entrada a secuencias de números:"
   ]
  },
  {
   "cell_type": "code",
   "execution_count": 38,
   "metadata": {
    "colab": {
     "base_uri": "https://localhost:8080/"
    },
    "id": "RrvX9Nt1TtKj",
    "outputId": "cb38df17-3792-43bd-aeb5-433c87324871"
   },
   "outputs": [
    {
     "data": {
      "text/plain": [
       "array([3, 4, 1, 2])"
      ]
     },
     "execution_count": 38,
     "metadata": {},
     "output_type": "execute_result"
    }
   ],
   "source": [
    "a = [1, 2, 3, 4]\n",
    "b = 2\n",
    "_fun(a, b)"
   ]
  },
  {
   "cell_type": "markdown",
   "metadata": {
    "id": "ox9b5PQBT3EI"
   },
   "source": [
    "En este caso la operación definida en la función fue vectorizada y repetida por cada elemento de ```a```.\n",
    "\n",
    "¿Pero qué sucederá si también ```b``` es un listado de números (misma longitud que ```a```)?"
   ]
  },
  {
   "cell_type": "code",
   "execution_count": 39,
   "metadata": {
    "colab": {
     "base_uri": "https://localhost:8080/"
    },
    "id": "-TTggg0jifth",
    "outputId": "43448829-9515-46d1-fa90-6bee2319413e"
   },
   "outputs": [
    {
     "data": {
      "text/plain": [
       "array([3, 1, 3, 3])"
      ]
     },
     "execution_count": 39,
     "metadata": {},
     "output_type": "execute_result"
    }
   ],
   "source": [
    "b = [2, 1, 0, 1]\n",
    "_fun(a, b)"
   ]
  },
  {
   "cell_type": "markdown",
   "metadata": {
    "id": "duCkf0oyiqs6"
   },
   "source": [
    "Efectivamente, se ejecutó la operación definida en ```fun``` para cada par correspondientes de elementos de ```a``` y ```b``` resultando en un nuevo array con el resultado de cada operación en su índice correspondiente:\n",
    "\n",
    "Este es precisamente el concepto que se encuentra detrás de las operaciones vectorizadas que ya se encuentran implementadas en ```Numpy```.\n",
    "\n",
    "Entre ellas se encuentran las operaciones aritméticas entre los operandos ```a``` y ```b```, vector-escalar y vector-vector:\n",
    "\n",
    "Operators       |  Description\n",
    "----------------|--------------------\n",
    "+, -, \\*, /, \\**  | Operadores suma, resta, multiplicación división y potencia los cuales operan sobre cada par de operandos correspondientes de la forma $c_i = a_i$ op $b_i, i=0, 1, \\dots, len(c)$ (para la potencia sería $c_i = {a_i}^{b_i}$).\n",
    "\n",
    "Pero NumPy implementa una gran cantidad de funciones vectoriales. A continuación listo una selección resumen de las mismas:\n",
    "\n",
    "función                                      |   Description\n",
    "---------------------------------------------|-------------------------------------------------\n",
    "```np.sin```, ```np.cos```, ```p.tan```                        | Funciones trigonométricas.\n",
    "```np.arcsin```, ```np.arccos```, ```np.arctan```              | Funciones trigonométricas inversas.\n",
    "```np.sqrt```                                      | Raíz cuadrada.\n",
    "```np.exp```                                       | Función expotencial.\n",
    "```np.log```, ```np.log2```, ```np.log10```                    | Función logaritmo de base $e$, $2$ y $10$ respectivamente.\n",
    "np.remainder | Calcula el resto de la división entre dos arrays.\n",
    "np.reciprocal   | Calcula el número recíproco de los números.\n",
    "np.sign   | Devuelve el signo del número ($+, -$).\n",
    "np.abs    | Calcula el valor absoluto de cada número.\n",
    "np.floor  | Devuelve el valor $x_{floor} = \\lfloor x\\rfloor$.\n",
    "np.ceil   | Devuelve el valor $x_{ceil} = \\lceil x \\rceil$.\n",
    "np.rint   | Redondea por defecto el número de punto flotante a su entero más cercano de la siguiente manera: $x = \\begin{cases} \\lfloor x \\rfloor ,& \\lfloor x \\rfloor \\geq x -\\frac{1}{2} \\\\ \\lceil x \\rceil ,& \\lfloor x \\rfloor \\le x -\\frac{1}{2}\\end{cases}$.\n",
    "np.round    | Redondea un número de punto flotante a un cierto número de decimales.\n"
   ]
  },
  {
   "cell_type": "markdown",
   "metadata": {
    "id": "QSOgaYjdCwhP"
   },
   "source": [
    "# Ejemplo #1: Infiltración de Agua en el suelo.\n",
    "\n",
    "<img src=\"https://www.frontiersin.org/files/Articles/1258148/fmicb-14-1258148-HTML-r1/image_m/fmicb-14-1258148-g001.jpg\" width=350 heigth=150>\n",
    "\n",
    "En este simple ejemplo se simulará la infiltración de agua en un acuífero confinado *hipotético*. El mismo fue diseñado de forma como un area cuadrada que representa un corte vertical lateral, inpermeable en sus fronteras excepto la superior donde se define un flujo de agua entrante. \n",
    "\n",
    "En la imagen se muestra una representación. Las lineas rojisas representan fronteras impermeables, la verde representa la frontera de intercambio y las flechas azules el flujo dentro de la grava.\n",
    "\n",
    "Para modelar este problema se utilizará la Ley de Darcy que se expresa en la siguiente ecuación diferencial difusiva: \n",
    "\n",
    "$S_{s} \\dfrac{\\partial u}{\\partial t} = K \\Delta u$,\n",
    "\n",
    "donde $u$ representa la concentración de agua dentro del dominio, $K$ es el coeficiente de conductividad hidráulica y $S_s$ es el almacenamiento específico del acuífero en cuestión.\n",
    "\n",
    "En este caso el espesor del acuífero $\\mu$ será fijado en $1$ metro y el coeficiente de almacenamiento $S=5e-5$ dado que es un suelo de gravilla. Entonces se tiene \n",
    "\n",
    "$S_s = \\frac{S}{\\mu}$.\n",
    "\n",
    "Luego, la conductividad hidráulica para ese tipo de suelo es $K=1e-1$ $m/\\text{días}$ que llevándolo a segundos es $K \\approx 1.574e-6$ $m/s$.\n",
    "\n",
    "Replanteando la ecuación se obtiene que para el dominio $\\Omega = x, y \\in (0, Nx)\\times (0, N_y)$ y tiempo $t \\in [0, T)$ se cumple \n",
    "\n",
    "$\\dfrac{\\partial u}{\\partial t} - D \\Delta u = 0$,\n",
    "\n",
    "siendo $D = \\frac{K \\mu}{S}$ el coeficiente de difusión en $m^2/s$.\n",
    "\n",
    "Con respecto a las condiciones iniciales se considerará que no existe concentración de agua alguna en el dominio. De esta forma\n",
    "\n",
    "$u(t=0, x, y) = 0, \\, ∀ x, y \\in \\Omega$\n",
    "\n",
    "Con respecto a las condiciones de frontera:\n",
    "\n",
    "\n",
    "*   Fronteras impermeables: $\\dfrac{\\partial u(t > 0, 0, y)}{\\partial \\vec{n}} = \\dfrac{\\partial u(t > 0, N_x, y)}{\\partial \\vec{n}} = \\dfrac{\\partial u(t > 0, x, 0)}{\\partial \\vec{n}} = 0, \\,  ∀ x \\in [0, N_x], ∀ y \\in [0, N_y]$ \n",
    "\n",
    "*   Frontera de intercambio: $\\dfrac{\\partial u(t > 0, x, N_y)}{\\partial \\vec{n}} = D(u(x, N_y) - g(t > 0, x)), \\, ∀ x \\in [1, N_x-1]$.\n",
    "\n",
    "Note que las primeras tres definiciones se clasifican como condiciones de frontera de Neumann homogéneas. En el caso de la última, se clasifica como condicion de frontera de Neumann pero en este caso es heterogénea. O sea, se ha definido un flujo en la misma el cual tiene una tasa de intercambio definida por el coeficiente de difusión $D$ y donde $g$ representa el valor de la concentración en el exterior de la frontera.\n",
    "\n",
    "Para resolver este problema numéricamente se utilizará un esquema de integración numérica explícito basado en diferencias finitas. \n",
    "\n",
    "La discretización de las variables es como sigue:\n",
    "\n",
    "\n",
    "*   Tiempo: $t_n = n \\Delta t, \\, n=0, 1, \\dots, T$\n",
    "*   Espacio: $x_j = j \\Delta x, \\, y_k = k \\Delta y : j = 0, 1, \\dots N_x$  y  $k = 0, 1, \\dots, N_y$\n",
    "\n",
    "En este caso por simplicidad asumiremos que $\\Delta x = \\Delta y$ y $N_x = N_y$.\n",
    "\n",
    "Se representa la discretización de los operadores diferenciales en el siguiente esquema en diferencias:\n",
    "\n",
    "$\\frac{u^{n+1}_{jk} - u^{n}_{jk}}{\\Delta t} - \\frac{u^n_{j-1\\,k} - 2 u^n_{jk} + u^n_{j+1\\,k}}{\\Delta x^2} - \\frac{u^n_{j\\, k-1} - 2 u^n_{jk} + u^n_{j\\, k+1}}{\\Delta y^2} = 0$\n",
    "\n",
    "Es importante destacar que este esquema explícito (uno de los más simples) para que brinde soluciones estables debe de cumplir la siguiente condición CFL (Courant-Friedrichs-Levy):\n",
    "\n",
    "$D\\frac{\\Delta t}{\\Delta x^2} + D\\frac{\\Delta t}{\\Delta y^2} ≤ \\frac{1}{2}$\n",
    "\n",
    "lo cual para nuestro problema significa\n",
    "\n",
    "$2 D \\frac{\\Delta t}{\\Delta x^2} = 2 r \\le \\frac{1}{2}$\n",
    "\n",
    "$r \\le \\frac{1}{4}$.\n",
    "\n",
    "Por tal razón se fijó $r=0.2$ y $\\Delta x = 0.1$ y se calcula el valor de $\\Delta t$ de manera que sea estable la solución:\n",
    "\n",
    "$\\Delta t = \\frac{r \\Delta x^2}{D}$.\n",
    "\n",
    "Para el caso de las condiciones de frontera se utilizó una aproximación de segundo orden (esquema en diferencias centradas) para calcular la derivada con respecto al vector normal en cada uno de los casos de condiciones de Neumann homogéneas.\n",
    "\n",
    "En este caso, en la ecuación resultante se hallará una variable que se encuentra fuera de $\\bar\\Omega$. Para resolver este problema se asume que la ecuación de Laplace continúa siendo válida en la frontera (como de hecho lo es) y se elimina este término \"*indeseable*\".\n",
    "\n",
    "Para el caso de la frontera con condiciones de Neumann hererogeneas entonces se define el flujo y se sustituye en la ecuación de Laplace correspondiente dando lugar a un término no asociado a ninguna variable. Este será sumado al final de la operación.\n",
    "\n",
    "El método puede finalmente plantearse de forma matricial de la siguiente manera:\n",
    "\n",
    "$u^{n+1} = (A + R) u^n + r$\n",
    "\n",
    "El vector de soluciones $u$ está definido para $\\bar{\\Omega}$ de la siguiente manera:\n",
    "\n",
    "$u^n = \\begin{bmatrix}\n",
    "u^n_{00} & u^n_{01} & \\dots & u^n_{0N_y} & u^n_{10} & u^n_{11} & \\dots & u^n_{1N_y} & \\dots & u^n_{N_x0} & u^n_{N_x1} & \\dots & u^n_{N_xN_y}\n",
    "\\end{bmatrix}^T$.\n",
    "\n",
    "La matriz A es una matriz pentadiagonal de bloques. La misma se puede explicar de la siguiente forma:\n",
    "\n",
    "$A = \\begin{bmatrix}\n",
    "B        & 2 r I  &   0    &        &        & \\dots  & 0       \\\\\n",
    "rI       &   B    &  rI    & 0      &        & \\dots  & 0       \\\\\n",
    "0        &  rI    &   B    & rI     &  0     & \\dots  & 0       \\\\\n",
    "\\vdots   & \\ddots & \\ddots & \\ddots & \\ddots & \\ddots & \\vdots  \\\\\n",
    "0        & \\dots  &    0   &    rI  &   B    &   rI   &  0      \\\\\n",
    "0        & \\dots  &        &    0   &   rI   &   B    & rI      \\\\\n",
    "0        & \\dots  &        &        &   0    &   2rI  & B\n",
    "\\end{bmatrix}$,\n",
    "\n",
    "donde $I$ es la matriz identidad y $B$ es una matriz tridiagonal definida asi\n",
    "\n",
    "$B = \\begin{bmatrix}\n",
    "1 - 4r  &   2r     &          &          &        \\\\\n",
    "r       & 1 - 4r   &   r      &          &        \\\\\n",
    "        &  \\ddots  & \\ddots   & \\ddots   &        \\\\\n",
    "        &          &   r      &  1 - 4r  & r      \\\\\n",
    "        &          &          &    2r    & 1 - 4r \n",
    "\\end{bmatrix}$."
   ]
  },
  {
   "cell_type": "markdown",
   "metadata": {
    "id": "KCGVHs35PIM5"
   },
   "source": []
  },
  {
   "cell_type": "markdown",
   "metadata": {
    "id": "j_Ke4BMhUfP1"
   },
   "source": [
    "En el caso de la matriz R esta solo constará con el aporte que realiza la parte que calcula el flujo de intercamio asociada a las correspondientes variables $u^n_{j\\, N_y}$.\n",
    "\n",
    "$R = \\begin{bmatrix}\n",
    "0 &           &              &   &        &   &              \\\\\n",
    "  & \\ddots    &              &   &        &   &              \\\\\n",
    "  &       & 0 &              &   &        &   &              \\\\\n",
    "  &       &   & 2r\\Delta x D &   &        &   &              \\\\\n",
    "  &       &   &              & 0 &        &   &              \\\\\n",
    "  &       &   &              &   & \\ddots &   &              \\\\\n",
    "  &       &   &              &   &        & 0 &              \\\\\n",
    "  &       &   &              &   &        &   & 2r\\Delta x D\n",
    "\\end{bmatrix}$\n",
    "\n",
    "Para el otro término relacionado con el flujo se construye el siguiente vector:\n",
    "\n",
    "$r = \\begin{bmatrix}\n",
    "0                            \\\\\n",
    "\\vdots                       \\\\\n",
    "0                            \\\\\n",
    "2 r \\Delta x D g^n_1         \\\\\n",
    "0                            \\\\\n",
    "\\vdots                       \\\\\n",
    "0                            \\\\\n",
    "2 r \\Delta x D g^n_2         \\\\\n",
    "0                            \\\\\n",
    "\\vdots                       \\\\\n",
    "0                            \\\\\n",
    "2 r \\Delta x D g^n_{N_x - 1} \\\\\n",
    "0                            \\\\\n",
    "\\vdots                       \\\\\n",
    "0\n",
    "\\end{bmatrix}$\n",
    "\n",
    "Comencemos el código de Python para resolver este problema. *Lo más importante a destacar en él es la conformación de las matrices y vectores utilizando la biblioteca numpy.*"
   ]
  },
  {
   "cell_type": "code",
   "execution_count": 40,
   "metadata": {
    "colab": {
     "base_uri": "https://localhost:8080/"
    },
    "id": "OfOwMEneC7Y1",
    "outputId": "575293c8-408b-4e86-fea1-d7d522a02589"
   },
   "outputs": [],
   "source": [
    "import matplotlib.cm as cm\n",
    "\n",
    "# Módulos para representación gráfica en 3D\n",
    "import matplotlib.pyplot as plt\n",
    "\n",
    "# Módulo para análisis simbólico\n",
    "# (En este código se utiliza para representar las matrices)\n",
    "import sympy as sy\n",
    "from mpl_toolkits.mplot3d import Axes3D\n",
    "\n",
    "# Módulo de scipy que permite trabajo con matrices sparse\n",
    "from scipy.sparse import spdiags"
   ]
  },
  {
   "cell_type": "markdown",
   "metadata": {
    "id": "odjgPHXKF16O"
   },
   "source": [
    "Creación de la matriz A que contiene los coeficientes de cada ecuación que describe el problema:"
   ]
  },
  {
   "cell_type": "code",
   "execution_count": 41,
   "metadata": {
    "id": "j1BhrpvsPyCb"
   },
   "outputs": [],
   "source": [
    "def Creating_Matrix_A(Nx, Ny, r):\n",
    "    # Diagonal principal\n",
    "    diag0 = np.tile(np.full(Nx, 1 - 4 * r), Nx)\n",
    "    # Diagonal principal superior\n",
    "    diag1 = np.tile(np.concatenate((np.array([0.0, 2 * r]), np.full(Nx - 2, r))), Nx)\n",
    "    # Diagonal principal inferior\n",
    "    diag_1 = np.flip(diag1)\n",
    "\n",
    "    # Diagonal superior\n",
    "    diag_sup = np.concatenate(\n",
    "        (np.zeros(Nx), np.full(Nx, 2 * r), np.tile(np.full(Nx, r), Nx - 2))\n",
    "    )\n",
    "    # Diagonal inferior\n",
    "    diag_inf = np.flip(diag_sup)\n",
    "\n",
    "    # Retornando Matriz sparse\n",
    "    return spdiags(\n",
    "        [diag_inf, diag_1, diag0, diag1, diag_sup],\n",
    "        [-Nx, -1, 0, 1, Nx],\n",
    "        Nx**2,\n",
    "        Ny**2,\n",
    "    ).tocsr()"
   ]
  },
  {
   "cell_type": "markdown",
   "metadata": {
    "id": "1Un9bJeZGJOO"
   },
   "source": [
    "Visualicémosla a un nivel pequeño de $5X5$ con la ayuda de la biblioteca Sympy."
   ]
  },
  {
   "cell_type": "code",
   "execution_count": 42,
   "metadata": {
    "colab": {
     "base_uri": "https://localhost:8080/",
     "height": 200
    },
    "id": "M2zE5v7CQoj9",
    "outputId": "e3c82e9d-c7ad-4a1c-fc4a-6b4032506ead"
   },
   "outputs": [
    {
     "data": {
      "text/latex": [
       "$\\displaystyle \\left[\\begin{matrix}-1.0 & 1.0 & 0 & 1.0 & 0 & 0 & 0 & 0 & 0\\\\0.5 & -1.0 & 0.5 & 0 & 1.0 & 0 & 0 & 0 & 0\\\\0 & 1.0 & -1.0 & 0 & 0 & 1.0 & 0 & 0 & 0\\\\0.5 & 0 & 0 & -1.0 & 1.0 & 0 & 0.5 & 0 & 0\\\\0 & 0.5 & 0 & 0.5 & -1.0 & 0.5 & 0 & 0.5 & 0\\\\0 & 0 & 0.5 & 0 & 1.0 & -1.0 & 0 & 0 & 0.5\\\\0 & 0 & 0 & 1.0 & 0 & 0 & -1.0 & 1.0 & 0\\\\0 & 0 & 0 & 0 & 1.0 & 0 & 0.5 & -1.0 & 0.5\\\\0 & 0 & 0 & 0 & 0 & 1.0 & 0 & 1.0 & -1.0\\end{matrix}\\right]$"
      ],
      "text/plain": [
       "Matrix([\n",
       "[-1.0,  1.0,    0,  1.0,    0,    0,    0,    0,    0],\n",
       "[ 0.5, -1.0,  0.5,    0,  1.0,    0,    0,    0,    0],\n",
       "[   0,  1.0, -1.0,    0,    0,  1.0,    0,    0,    0],\n",
       "[ 0.5,    0,    0, -1.0,  1.0,    0,  0.5,    0,    0],\n",
       "[   0,  0.5,    0,  0.5, -1.0,  0.5,    0,  0.5,    0],\n",
       "[   0,    0,  0.5,    0,  1.0, -1.0,    0,    0,  0.5],\n",
       "[   0,    0,    0,  1.0,    0,    0, -1.0,  1.0,    0],\n",
       "[   0,    0,    0,    0,  1.0,    0,  0.5, -1.0,  0.5],\n",
       "[   0,    0,    0,    0,    0,  1.0,    0,  1.0, -1.0]])"
      ]
     },
     "execution_count": 42,
     "metadata": {},
     "output_type": "execute_result"
    }
   ],
   "source": [
    "# Creando matriz de prueba A\n",
    "import numpy as np\n",
    "\n",
    "A = Creating_Matrix_A(3, 3, 0.5)\n",
    "\n",
    "# Imprimiendo matriz de prueba A con Sympy\n",
    "Ap = sy.Matrix(A.todense())\n",
    "Ap"
   ]
  },
  {
   "cell_type": "markdown",
   "metadata": {
    "id": "pjWLAN_UGXF5"
   },
   "source": [
    "Vamos la estructura que tiene la matriz A ploteandola con la función ```spy``` del módulo ```matplotlib```."
   ]
  },
  {
   "cell_type": "code",
   "execution_count": 43,
   "metadata": {
    "colab": {
     "base_uri": "https://localhost:8080/",
     "height": 279
    },
    "id": "TZu62mAODYHj",
    "outputId": "3ef0835c-ae50-4c9e-cb41-35dadfadf769"
   },
   "outputs": [
    {
     "data": {
      "image/png": "[encoded data removed]",
      "text/plain": [
       "<Figure size 640x480 with 1 Axes>"
      ]
     },
     "metadata": {},
     "output_type": "display_data"
    }
   ],
   "source": [
    "plt.spy(A, markersize=2)\n",
    "plt.title(\"Estructura de la matriz A\")\n",
    "plt.show()"
   ]
  },
  {
   "cell_type": "markdown",
   "metadata": {
    "id": "oalOvqnzGxzr"
   },
   "source": [
    "Creemos la matriz $R$ que contiene parte de las condiciones de frontera de Neumann no homogéneas que definen el flujo entrante de agua por la parte superior del dominio:"
   ]
  },
  {
   "cell_type": "code",
   "execution_count": 44,
   "metadata": {
    "id": "5cwFknieWxq0"
   },
   "outputs": [],
   "source": [
    "def creating_matrix_R(Nx, Ny, dx, r, D):\n",
    "    # Crear vector completo de ceros\n",
    "    R = np.zeros(Nx * Ny)\n",
    "    # Sustituir a partir del segundo bloque hasta el penúltimo, el último\n",
    "    # elemento con el valor del flujo de las condiciones de fronteras\n",
    "    # de Nuemann.\n",
    "    R[2 * Nx - 1 : Nx * Ny - 1 : Nx] = -2.0 * r * dx * D\n",
    "\n",
    "    return spdiags([R], [0], Nx**2, Ny**2)"
   ]
  },
  {
   "cell_type": "markdown",
   "metadata": {
    "id": "S7KUas7SHcHR"
   },
   "source": [
    "Con el uso de ```Sympy``` podemos visualizarlos en este ejemplo reducido"
   ]
  },
  {
   "cell_type": "code",
   "execution_count": 45,
   "metadata": {
    "colab": {
     "base_uri": "https://localhost:8080/",
     "height": 201
    },
    "id": "aKRlOMdBYbDr",
    "outputId": "5700cb3e-9aa9-4a6c-858a-ca2dad6bfcc9"
   },
   "outputs": [
    {
     "data": {
      "text/latex": [
       "$\\displaystyle \\left[\\begin{matrix}0 & 0 & 0 & 0 & 0 & 0 & 0 & 0 & 0\\\\0 & 0 & 0 & 0 & 0 & 0 & 0 & 0 & 0\\\\0 & 0 & 0 & 0 & 0 & 0 & 0 & 0 & 0\\\\0 & 0 & 0 & 0 & 0 & 0 & 0 & 0 & 0\\\\0 & 0 & 0 & 0 & 0 & 0 & 0 & 0 & 0\\\\0 & 0 & 0 & 0 & 0 & -0.02 & 0 & 0 & 0\\\\0 & 0 & 0 & 0 & 0 & 0 & 0 & 0 & 0\\\\0 & 0 & 0 & 0 & 0 & 0 & 0 & 0 & 0\\\\0 & 0 & 0 & 0 & 0 & 0 & 0 & 0 & 0\\end{matrix}\\right]$"
      ],
      "text/plain": [
       "Matrix([\n",
       "[0, 0, 0, 0, 0,     0, 0, 0, 0],\n",
       "[0, 0, 0, 0, 0,     0, 0, 0, 0],\n",
       "[0, 0, 0, 0, 0,     0, 0, 0, 0],\n",
       "[0, 0, 0, 0, 0,     0, 0, 0, 0],\n",
       "[0, 0, 0, 0, 0,     0, 0, 0, 0],\n",
       "[0, 0, 0, 0, 0, -0.02, 0, 0, 0],\n",
       "[0, 0, 0, 0, 0,     0, 0, 0, 0],\n",
       "[0, 0, 0, 0, 0,     0, 0, 0, 0],\n",
       "[0, 0, 0, 0, 0,     0, 0, 0, 0]])"
      ]
     },
     "execution_count": 45,
     "metadata": {},
     "output_type": "execute_result"
    }
   ],
   "source": [
    "R = creating_matrix_R(3, 3, 0.1, 0.5, 0.2)\n",
    "sy.Matrix(R.todense())"
   ]
  },
  {
   "cell_type": "markdown",
   "metadata": {
    "id": "7f_vcv67HRqh"
   },
   "source": [
    "Si observamos la estructura de esta matriz veremos que solo tiene valores distintos de cero en su diagonal y muy esparcidos."
   ]
  },
  {
   "cell_type": "code",
   "execution_count": 46,
   "metadata": {
    "colab": {
     "base_uri": "https://localhost:8080/",
     "height": 279
    },
    "id": "g858fj_RHN4t",
    "outputId": "a68e09de-e986-4bfa-ddf4-9877e7ad65a3"
   },
   "outputs": [
    {
     "data": {
      "image/png": "[encoded data removed]",
      "text/plain": [
       "<Figure size 640x480 with 1 Axes>"
      ]
     },
     "metadata": {},
     "output_type": "display_data"
    }
   ],
   "source": [
    "plt.spy(R, markersize=2)\n",
    "plt.title(\"Estructura de la matriz R\")\n",
    "plt.show()"
   ]
  },
  {
   "cell_type": "markdown",
   "metadata": {
    "id": "IY6_MW8rHoKM"
   },
   "source": [
    "La estructura de la matriz $(A + R)$ sigue siendo la misma pero con la adición de las valores de $R$ en los lugares correspondientes de la diagonal."
   ]
  },
  {
   "cell_type": "code",
   "execution_count": 47,
   "metadata": {
    "colab": {
     "base_uri": "https://localhost:8080/",
     "height": 201
    },
    "id": "JsidhMpbbDoK",
    "outputId": "7f770a87-ddae-4007-a9f2-a0b62a706951"
   },
   "outputs": [
    {
     "data": {
      "text/latex": [
       "$\\displaystyle \\left[\\begin{matrix}-1.0 & 1.0 & 0 & 1.0 & 0 & 0 & 0 & 0 & 0\\\\0.5 & -1.0 & 0.5 & 0 & 1.0 & 0 & 0 & 0 & 0\\\\0 & 1.0 & -1.0 & 0 & 0 & 1.0 & 0 & 0 & 0\\\\0.5 & 0 & 0 & -1.0 & 1.0 & 0 & 0.5 & 0 & 0\\\\0 & 0.5 & 0 & 0.5 & -1.0 & 0.5 & 0 & 0.5 & 0\\\\0 & 0 & 0.5 & 0 & 1.0 & -1.02 & 0 & 0 & 0.5\\\\0 & 0 & 0 & 1.0 & 0 & 0 & -1.0 & 1.0 & 0\\\\0 & 0 & 0 & 0 & 1.0 & 0 & 0.5 & -1.0 & 0.5\\\\0 & 0 & 0 & 0 & 0 & 1.0 & 0 & 1.0 & -1.0\\end{matrix}\\right]$"
      ],
      "text/plain": [
       "Matrix([\n",
       "[-1.0,  1.0,    0,  1.0,    0,     0,    0,    0,    0],\n",
       "[ 0.5, -1.0,  0.5,    0,  1.0,     0,    0,    0,    0],\n",
       "[   0,  1.0, -1.0,    0,    0,   1.0,    0,    0,    0],\n",
       "[ 0.5,    0,    0, -1.0,  1.0,     0,  0.5,    0,    0],\n",
       "[   0,  0.5,    0,  0.5, -1.0,   0.5,    0,  0.5,    0],\n",
       "[   0,    0,  0.5,    0,  1.0, -1.02,    0,    0,  0.5],\n",
       "[   0,    0,    0,  1.0,    0,     0, -1.0,  1.0,    0],\n",
       "[   0,    0,    0,    0,  1.0,     0,  0.5, -1.0,  0.5],\n",
       "[   0,    0,    0,    0,    0,   1.0,    0,  1.0, -1.0]])"
      ]
     },
     "execution_count": 47,
     "metadata": {},
     "output_type": "execute_result"
    }
   ],
   "source": [
    "sy.Matrix((A + R).todense())"
   ]
  },
  {
   "cell_type": "markdown",
   "metadata": {
    "id": "Cy0P3nkxIMcW"
   },
   "source": [
    "Como parte del flujo definido en la parte superior del dominio se tiene también estos valores que no son coeficientes de las variables involucradas. Precisamente representa la cantidad de líquido que se está aportando al sistema en el tiempo ($g$)."
   ]
  },
  {
   "cell_type": "code",
   "execution_count": 48,
   "metadata": {
    "id": "cDk-clIgcFtu"
   },
   "outputs": [],
   "source": [
    "def creating_vector_b(Nx, Ny, dx, r, D, g):\n",
    "    # Crear vector completo de ceros\n",
    "    b = np.zeros(Nx * Ny)\n",
    "    # Sustituir a partir del segundo bloque hasta el penúltimo, el último\n",
    "    # elemento con el valor del flujo de las condiciones de fronteras\n",
    "    # de Nuemann.\n",
    "    b[2 * Nx - 1 : Nx * Ny - 1 : Nx] += 2.0 * r * dx * D * g\n",
    "    return b"
   ]
  },
  {
   "cell_type": "markdown",
   "metadata": {
    "id": "NddO-exhIpvm"
   },
   "source": [
    "Igualmente se puede visualizar con el módulo ```Sympy```. Esta vez es un vector."
   ]
  },
  {
   "cell_type": "code",
   "execution_count": 49,
   "metadata": {
    "colab": {
     "base_uri": "https://localhost:8080/",
     "height": 201
    },
    "id": "Z2PGN0pUe6tR",
    "outputId": "d70ef988-d829-4ddf-8fd6-d0c8d3545ac2"
   },
   "outputs": [
    {
     "data": {
      "text/latex": [
       "$\\displaystyle \\left[\\begin{matrix}0\\\\0\\\\0\\\\0\\\\0\\\\0.04\\\\0\\\\0\\\\0\\end{matrix}\\right]$"
      ],
      "text/plain": [
       "Matrix([\n",
       "[   0],\n",
       "[   0],\n",
       "[   0],\n",
       "[   0],\n",
       "[   0],\n",
       "[0.04],\n",
       "[   0],\n",
       "[   0],\n",
       "[   0]])"
      ]
     },
     "execution_count": 49,
     "metadata": {},
     "output_type": "execute_result"
    }
   ],
   "source": [
    "b = creating_vector_b(3, 3, 0.1, 0.5, 0.2, np.full(1, 2))\n",
    "sy.Matrix(b)"
   ]
  },
  {
   "cell_type": "markdown",
   "metadata": {
    "id": "c-amLNCMI0ly"
   },
   "source": [
    "Ahora realicemos el ejemplo con dimensiones más grandes y veamos que sucede. El flujo de entrada está diseñado para que sea constante durante $0.3$ minutos y luego nulo. Veamos que es lo que sucede."
   ]
  },
  {
   "cell_type": "code",
   "execution_count": 50,
   "metadata": {},
   "outputs": [],
   "source": [
    "import os\n",
    "\n",
    "folder_name = \"Infiltration\"\n",
    "\n",
    "try:\n",
    "    os.makedirs(folder_name)\n",
    "except FileExistsError:\n",
    "    pass"
   ]
  },
  {
   "cell_type": "code",
   "execution_count": 51,
   "metadata": {
    "colab": {
     "base_uri": "https://localhost:8080/",
     "height": 1000
    },
    "id": "lKhdl5bGfyZl",
    "outputId": "8bb29ef2-f46a-4335-bd83-a06f95e5476a"
   },
   "outputs": [],
   "source": [
    "def gfun(t, x):\n",
    "    if t < 1.0:\n",
    "        return np.concatenate(\n",
    "            (np.zeros(Nx // 2 - 4), np.full(6, 1e-4), np.zeros(Nx // 2 - 4))\n",
    "        )\n",
    "    else:\n",
    "        return np.zeros(Nx - 2)\n",
    "\n",
    "\n",
    "# Coeficiente de almacenamiento [-]\n",
    "S = 5e-5\n",
    "# Espesor   [m]\n",
    "mu = 1.0\n",
    "# Conductividad Hidráulica  [m/day] --> [m/s]\n",
    "K = 1e-1 / (24 * 3600)\n",
    "# infiltración del flujo de agua en la superficie [m/s]\n",
    "fg = 1e-4\n",
    "\n",
    "# Coeficiente de difusión\n",
    "D = K * mu / S\n",
    "\n",
    "r = 0.2\n",
    "dx = 0.1\n",
    "dy = 0.1\n",
    "\n",
    "Nx = 50\n",
    "Ny = 50\n",
    "\n",
    "dx = 0.1\n",
    "dy = 0.1\n",
    "\n",
    "x = np.arange(0, Nx)\n",
    "y = np.arange(0, Ny)\n",
    "\n",
    "X, Y = np.meshgrid(x, y)\n",
    "\n",
    "g = gfun(0.0, x)\n",
    "\n",
    "u_n = np.zeros((Nx, Ny)).flatten()\n",
    "\n",
    "dt = r * dx**2 / D  # CFL - Condition\n",
    "\n",
    "t = 0.0\n",
    "T = 8000\n",
    "\n",
    "A = Creating_Matrix_A(Nx, Ny, r)\n",
    "R = creating_matrix_R(Nx, Ny, dx, r, D)\n",
    "b = creating_vector_b(Nx, Ny, dx, r, D, g)\n",
    "\n",
    "for k in range(1, T):\n",
    "    t += dt\n",
    "    g = gfun(t, x)\n",
    "    b = creating_vector_b(Nx, Ny, dx, r, D, g)\n",
    "\n",
    "    u_n = (A + R) * u_n + b\n",
    "\n",
    "    Z = u_n.reshape((Nx, Ny))\n",
    "\n",
    "    if k % 100 == 0:\n",
    "        cm_size = 1 / 2.54\n",
    "\n",
    "        fig = plt.figure(\n",
    "            tight_layout=True,\n",
    "            figsize=(40 * cm_size, 23 * cm_size),\n",
    "        )\n",
    "        ax = fig.add_subplot(1, 1, 1, projection=\"3d\")\n",
    "\n",
    "        surf = ax.plot_surface(\n",
    "            X, Y, Z, cmap=cm.gist_earth, linewidth=0, antialiased=False, alpha=0.5\n",
    "        )\n",
    "\n",
    "        ax.view_init(75, 230)\n",
    "        # plt.draw()\n",
    "\n",
    "        ax.grid()\n",
    "        ax.set_xlabel(\"prof\")\n",
    "        ax.set_ylabel(\"x\")\n",
    "        ax.set_zlim3d([1e-10, 4e-8])\n",
    "\n",
    "        ax.set_title(\n",
    "            \"Infiltración de agua en grava (2D)\\nt={0} min, D={1} $m^2/s$, dx={2} $m$, dt={3} $s$\\n\"\n",
    "            \"S={4} [-], K={5} $m/s$, g={6} $m/s$, $\\mu=${7} m\".format(\n",
    "                np.round(t / 60, 2),\n",
    "                np.format_float_scientific(D, 3),\n",
    "                dx,\n",
    "                np.round(dt, 2),\n",
    "                np.format_float_scientific(S, 2),\n",
    "                np.format_float_scientific(K, 2),\n",
    "                np.format_float_scientific(fg, 2),\n",
    "                mu,\n",
    "            )\n",
    "        )\n",
    "\n",
    "        plt.savefig(\"Infiltration/time_%05d.png\" % k)\n",
    "        plt.close()\n",
    "\n",
    "    # print(\"time =\", t)"
   ]
  },
  {
   "cell_type": "markdown",
   "metadata": {
    "id": "Q4sam8N8xMUX"
   },
   "source": [
    "# Ejercicios de la clase"
   ]
  },
  {
   "cell_type": "markdown",
   "metadata": {
    "id": "sRlIJxrpxHFo"
   },
   "source": [
    "## Ejercicio #1: Calculando función en 3D.\n",
    "\n",
    "En este ejercicio usted deberá de implementar el método ```fro``` el cual se encuentra en blanco debajo. Este método calcula la función $\\text{fro}$ en el dominio $x, y \\in [-1, 1]\\times[-1, 1]$ tal que\n",
    "\n",
    "$fro(x, y) = \\frac{\\left|\\left(x^2 - 1\\right)\\left(y^2 - 1\\right)\\right|}{x^2 + y^2 + 1}$.\n",
    "\n",
    "Pasos para la resolución del ejercicio:\n",
    "\n",
    "\n",
    "1.   Crear una rejilla que discretize el dominio $[-1, 1]\\times[-1, 1]$.\n",
    "2.   Implementar la función en el método ```fro```.\n",
    "3.   Vectorizar el método ```fro``` y calcular los valores para cada elemento de la rejilla (matriz ```Z```).\n",
    "4.   Utilizar el método llamado ```plotea``` proporcionado para mostrar el resultado. \n",
    "\n",
    "\n"
   ]
  },
  {
   "cell_type": "markdown",
   "metadata": {
    "id": "DcCTedaIzlnX"
   },
   "source": [
    "¡El método ```plotea``` ya está hecho! No tiene que modificar nada en él."
   ]
  },
  {
   "cell_type": "code",
   "execution_count": 59,
   "metadata": {
    "id": "NYMuaO6Oy_vw"
   },
   "outputs": [],
   "source": [
    "def plotea(X, Y, Z):\n",
    "    fig = plt.figure(tight_layout=True)\n",
    "    ax = fig.add_subplot(1, 1, 1, projection=\"3d\")\n",
    "\n",
    "    surf = ax.plot_surface(\n",
    "        X, Y, Z, cmap=cm.rainbow, linewidth=0, antialiased=False, alpha=0.8\n",
    "    )\n",
    "    ax.view_init(45, 230)\n",
    "    # plt.draw()\n",
    "    ax.grid()\n",
    "    ax.set_xlabel(\"X\")\n",
    "    ax.set_ylabel(\"Y\")\n",
    "    # ax.set_zlim3d([1e-10, 4e-8])\n",
    "    ax.set_title(\"Función FRO\")\n",
    "    plt.show()\n",
    "    plt.close()"
   ]
  },
  {
   "cell_type": "markdown",
   "metadata": {
    "id": "UiKyYFEjz03A"
   },
   "source": [
    "Función ```fro``` que deberá de implementar"
   ]
  },
  {
   "cell_type": "code",
   "execution_count": 53,
   "metadata": {
    "id": "atL4dUZHy7OM"
   },
   "outputs": [],
   "source": [
    "def fro(X, Y):\n",
    "    return np.abs((X**2 - 1) * (Y**2 - 1)) / (1 + X**2 + Y**2)\n",
    "    pass"
   ]
  },
  {
   "cell_type": "markdown",
   "metadata": {
    "id": "gzJGQlYRz6w8"
   },
   "source": [
    "Código principal del ejercicio. Solo tiene que seguir las instrucciones de los comentarios."
   ]
  },
  {
   "cell_type": "code",
   "execution_count": 54,
   "metadata": {
    "colab": {
     "base_uri": "https://localhost:8080/",
     "height": 297
    },
    "id": "ts7ZoaUg0Eqf",
    "outputId": "eb4bf00e-dd1a-4d6c-a629-a1d3dff24fc4"
   },
   "outputs": [
    {
     "data": {
      "image/png": "[encoded data removed]",
      "text/plain": [
       "<Figure size 640x480 with 1 Axes>"
      ]
     },
     "metadata": {},
     "output_type": "display_data"
    }
   ],
   "source": [
    "# Crear una rejilla. Nota: usar la función ```np.meshgrid``` para ello.\n",
    "x = np.linspace(-1, 1, 100)\n",
    "y = np.linspace(-1, 1, 100)\n",
    "\n",
    "X, Y = np.meshgrid(x, y)\n",
    "\n",
    "# Obtener una versión vectorizada de la función ```fro```.\n",
    "fro = np.vectorize(fro)\n",
    "\n",
    "# Calcular la matriz Z evaluando la rejilla en la función ```fro```.\n",
    "Z = fro(X, Y)\n",
    "\n",
    "# Ejecutar la función ```plotea``` con la rejilla y la matriz Z\n",
    "plotea(X, Y, Z)"
   ]
  },
  {
   "cell_type": "markdown",
   "metadata": {
    "id": "bUpE5u7ZUdq3"
   },
   "source": [
    "## Ejercicio #2: \n",
    "\n",
    "Implemente los métodos ```create_A``` y ```create_B_hat``` correspondientes a la implementación del método de Crank Nicolson para la resolución del problema de Poison con condiciones de frontera de Dirichlet homogéneas y las condiciones iniciales que se especifican a continuación."
   ]
  },
  {
   "cell_type": "markdown",
   "metadata": {
    "id": "rdpWOmf3VGza"
   },
   "source": [
    "El problema se define de la siguiente manera: \n",
    "\n",
    "Sean $x, y \\in \\bar{\\Omega}([-1, 1]\\times[-1, 1])$ y $t \\in [0, T)$ tales que se cumple\n",
    "\n",
    "$\\dfrac{\\partial u}{\\partial t} - D \\Delta u = 0$\n",
    "\n",
    "$u(t=0, x, y) = \\frac{\\left|\\left(x^2 - 1\\right)\\left(y^2 - 1\\right)\\right|}{x^2 + y^2 + 1},\\, ∀ x, y \\in \\Omega$\n",
    "\n",
    "$u(t > 0, x, y) = 0, \\, ∀ x, y \\in \\partial \\Omega$"
   ]
  },
  {
   "cell_type": "markdown",
   "metadata": {
    "id": "aGXuzQ2tXTrl"
   },
   "source": [
    "El método de Crank Nicolson es un método implícito en el cual se utiliza un parámetro $\\Theta = 1/2$ que describe una regla de los trapecios en el tiempo para realizar una integración temporal de segundo orden. En el caso del espacio también utiliza un esquema de diferencias centradas que es de segundo orden. Este método a diferencia del anterior es incondicionalmente estable por lo que es adecuado para problemas grandes o de larga simulación temporal porque brinda más posibilidades de escoger un $dt$ más grande.\n"
   ]
  },
  {
   "cell_type": "markdown",
   "metadata": {
    "id": "0kPps8OiYuIR"
   },
   "source": [
    "La forma matricial de este método pudiera definirse de la siguiente forma:\n",
    "\n",
    "$u^{n+1} = A^{-1} (\\hat{B} \\, u^n)$\n",
    "\n",
    "Al ser $A_{Nx\\times Ny}$ y $\\hat{B}_{Nx\\times Ny}$ matrices *sparse* se utiliza la función ```scipy.sparse.linalg.spsolve```. El vector $u^n$ continua siendo el mismo descrito en el ejemplo #1 de la clase."
   ]
  },
  {
   "cell_type": "markdown",
   "metadata": {
    "id": "t-zR1kF_Zgen"
   },
   "source": [
    "Las matrices se definen de la siguiente manera\n",
    "\n",
    "$A= \\begin{bmatrix}\n",
    "L               &  -\\frac{r}{2} I  &                 &       \\\\\n",
    "-\\frac{r}{2} I  & L                & -\\frac{r}{2} I  &       \\\\\n",
    "                & \\ddots           & \\ddots          & \\ddots  \\\\\n",
    "                &                  & -\\frac{r}{2} I & L & -\\frac{r}{2} I\\\\\n",
    "                &                 &                 & -\\frac{r}{2} I & L\n",
    "\\end{bmatrix}$ \n",
    "\n",
    "y\n",
    "\n",
    "$\\hat{B}= \\begin{bmatrix}\n",
    "Q               &  \\frac{r}{2} I  &                 &       \\\\\n",
    "\\frac{r}{2} I  & Q                & \\frac{r}{2} I  &       \\\\\n",
    "                & \\ddots           & \\ddots          & \\ddots  \\\\\n",
    "                &                  & \\frac{r}{2} I & Q & \\frac{r}{2} I\\\\\n",
    "                &                 &                 & \\frac{r}{2} I & Q\n",
    "\\end{bmatrix}$,\n",
    "\n",
    "donde \n",
    "\n",
    "$L = \\begin{bmatrix}\n",
    "1 + 2r       & -\\frac{r}{2}  &              &        &\\\\\n",
    "-\\frac{r}{2} & 1 + 2r        & -\\frac{r}{2} &        &\\\\\n",
    "             & \\ddots        & \\ddots       & \\ddots &\\\\\n",
    "             &               & -\\frac{r}{2} & 1 + 2r & -\\frac{r}{2}\\\\\n",
    "             &              &               & -\\frac{r}{2} & 1+2r\n",
    "\\end{bmatrix}$\n",
    "\n",
    "$Q = \\begin{bmatrix}\n",
    "1 - 2r       & \\frac{r}{2}  &              &        &\\\\\n",
    "\\frac{r}{2} & 1 - 2r        & \\frac{r}{2} &        &\\\\\n",
    "             & \\ddots        & \\ddots       & \\ddots &\\\\\n",
    "             &               & \\frac{r}{2} & 1 - 2r & \\frac{r}{2}\\\\\n",
    "             &              &               & \\frac{r}{2} & 1-2r\n",
    "\\end{bmatrix}$"
   ]
  },
  {
   "cell_type": "markdown",
   "metadata": {
    "id": "55O0nt6FdCk8"
   },
   "source": [
    "El código que verá a continuación ya está pre-hecho. Solo usted deberá de escribir el código que genere las matrices $A$ y $\\hat{B}$."
   ]
  },
  {
   "cell_type": "code",
   "execution_count": 55,
   "metadata": {
    "id": "y4HLWSNaxar0"
   },
   "outputs": [],
   "source": [
    "import matplotlib.pyplot as plt\n",
    "import numpy as np\n",
    "\n",
    "# Ploteo de soluciones\n",
    "from matplotlib import cm\n",
    "from mpl_toolkits.mplot3d import Axes3D\n",
    "\n",
    "# Matrices sparse\n",
    "from scipy.sparse import spdiags\n",
    "from scipy.sparse.linalg import spsolve"
   ]
  },
  {
   "cell_type": "markdown",
   "metadata": {
    "id": "-bjblzPlvAMD"
   },
   "source": [
    "Creando la matriz $A$:"
   ]
  },
  {
   "cell_type": "code",
   "execution_count": 56,
   "metadata": {
    "colab": {
     "base_uri": "https://localhost:8080/",
     "height": 546
    },
    "id": "Nb_FXjQdxhKm",
    "outputId": "49f9091c-a64c-4dfd-a8e7-8b0f15084f2f"
   },
   "outputs": [
    {
     "data": {
      "text/latex": [
       "$\\displaystyle \\left[\\begin{array}{ccccccccccccccccccccccccc}2.0 & -0.25 & 0 & 0 & 0 & -0.25 & 0 & 0 & 0 & 0 & 0 & 0 & 0 & 0 & 0 & 0 & 0 & 0 & 0 & 0 & 0 & 0 & 0 & 0 & 0\\\\-0.25 & 2.0 & -0.25 & 0 & 0 & 0 & -0.25 & 0 & 0 & 0 & 0 & 0 & 0 & 0 & 0 & 0 & 0 & 0 & 0 & 0 & 0 & 0 & 0 & 0 & 0\\\\0 & -0.25 & 2.0 & -0.25 & 0 & 0 & 0 & -0.25 & 0 & 0 & 0 & 0 & 0 & 0 & 0 & 0 & 0 & 0 & 0 & 0 & 0 & 0 & 0 & 0 & 0\\\\0 & 0 & -0.25 & 2.0 & -0.25 & 0 & 0 & 0 & -0.25 & 0 & 0 & 0 & 0 & 0 & 0 & 0 & 0 & 0 & 0 & 0 & 0 & 0 & 0 & 0 & 0\\\\0 & 0 & 0 & -0.25 & 2.0 & 0 & 0 & 0 & 0 & -0.25 & 0 & 0 & 0 & 0 & 0 & 0 & 0 & 0 & 0 & 0 & 0 & 0 & 0 & 0 & 0\\\\-0.25 & 0 & 0 & 0 & 0 & 2.0 & -0.25 & 0 & 0 & 0 & -0.25 & 0 & 0 & 0 & 0 & 0 & 0 & 0 & 0 & 0 & 0 & 0 & 0 & 0 & 0\\\\0 & -0.25 & 0 & 0 & 0 & -0.25 & 2.0 & -0.25 & 0 & 0 & 0 & -0.25 & 0 & 0 & 0 & 0 & 0 & 0 & 0 & 0 & 0 & 0 & 0 & 0 & 0\\\\0 & 0 & -0.25 & 0 & 0 & 0 & -0.25 & 2.0 & -0.25 & 0 & 0 & 0 & -0.25 & 0 & 0 & 0 & 0 & 0 & 0 & 0 & 0 & 0 & 0 & 0 & 0\\\\0 & 0 & 0 & -0.25 & 0 & 0 & 0 & -0.25 & 2.0 & -0.25 & 0 & 0 & 0 & -0.25 & 0 & 0 & 0 & 0 & 0 & 0 & 0 & 0 & 0 & 0 & 0\\\\0 & 0 & 0 & 0 & -0.25 & 0 & 0 & 0 & -0.25 & 2.0 & 0 & 0 & 0 & 0 & -0.25 & 0 & 0 & 0 & 0 & 0 & 0 & 0 & 0 & 0 & 0\\\\0 & 0 & 0 & 0 & 0 & -0.25 & 0 & 0 & 0 & 0 & 2.0 & -0.25 & 0 & 0 & 0 & -0.25 & 0 & 0 & 0 & 0 & 0 & 0 & 0 & 0 & 0\\\\0 & 0 & 0 & 0 & 0 & 0 & -0.25 & 0 & 0 & 0 & -0.25 & 2.0 & -0.25 & 0 & 0 & 0 & -0.25 & 0 & 0 & 0 & 0 & 0 & 0 & 0 & 0\\\\0 & 0 & 0 & 0 & 0 & 0 & 0 & -0.25 & 0 & 0 & 0 & -0.25 & 2.0 & -0.25 & 0 & 0 & 0 & -0.25 & 0 & 0 & 0 & 0 & 0 & 0 & 0\\\\0 & 0 & 0 & 0 & 0 & 0 & 0 & 0 & -0.25 & 0 & 0 & 0 & -0.25 & 2.0 & -0.25 & 0 & 0 & 0 & -0.25 & 0 & 0 & 0 & 0 & 0 & 0\\\\0 & 0 & 0 & 0 & 0 & 0 & 0 & 0 & 0 & -0.25 & 0 & 0 & 0 & -0.25 & 2.0 & 0 & 0 & 0 & 0 & -0.25 & 0 & 0 & 0 & 0 & 0\\\\0 & 0 & 0 & 0 & 0 & 0 & 0 & 0 & 0 & 0 & -0.25 & 0 & 0 & 0 & 0 & 2.0 & -0.25 & 0 & 0 & 0 & -0.25 & 0 & 0 & 0 & 0\\\\0 & 0 & 0 & 0 & 0 & 0 & 0 & 0 & 0 & 0 & 0 & -0.25 & 0 & 0 & 0 & -0.25 & 2.0 & -0.25 & 0 & 0 & 0 & -0.25 & 0 & 0 & 0\\\\0 & 0 & 0 & 0 & 0 & 0 & 0 & 0 & 0 & 0 & 0 & 0 & -0.25 & 0 & 0 & 0 & -0.25 & 2.0 & -0.25 & 0 & 0 & 0 & -0.25 & 0 & 0\\\\0 & 0 & 0 & 0 & 0 & 0 & 0 & 0 & 0 & 0 & 0 & 0 & 0 & -0.25 & 0 & 0 & 0 & -0.25 & 2.0 & -0.25 & 0 & 0 & 0 & -0.25 & 0\\\\0 & 0 & 0 & 0 & 0 & 0 & 0 & 0 & 0 & 0 & 0 & 0 & 0 & 0 & -0.25 & 0 & 0 & 0 & -0.25 & 2.0 & 0 & 0 & 0 & 0 & -0.25\\\\0 & 0 & 0 & 0 & 0 & 0 & 0 & 0 & 0 & 0 & 0 & 0 & 0 & 0 & 0 & -0.25 & 0 & 0 & 0 & 0 & 2.0 & -0.25 & 0 & 0 & 0\\\\0 & 0 & 0 & 0 & 0 & 0 & 0 & 0 & 0 & 0 & 0 & 0 & 0 & 0 & 0 & 0 & -0.25 & 0 & 0 & 0 & -0.25 & 2.0 & -0.25 & 0 & 0\\\\0 & 0 & 0 & 0 & 0 & 0 & 0 & 0 & 0 & 0 & 0 & 0 & 0 & 0 & 0 & 0 & 0 & -0.25 & 0 & 0 & 0 & -0.25 & 2.0 & -0.25 & 0\\\\0 & 0 & 0 & 0 & 0 & 0 & 0 & 0 & 0 & 0 & 0 & 0 & 0 & 0 & 0 & 0 & 0 & 0 & -0.25 & 0 & 0 & 0 & -0.25 & 2.0 & -0.25\\\\0 & 0 & 0 & 0 & 0 & 0 & 0 & 0 & 0 & 0 & 0 & 0 & 0 & 0 & 0 & 0 & 0 & 0 & 0 & -0.25 & 0 & 0 & 0 & -0.25 & 2.0\\end{array}\\right]$"
      ],
      "text/plain": [
       "Matrix([\n",
       "[  2.0, -0.25,     0,     0,     0, -0.25,     0,     0,     0,     0,     0,     0,     0,     0,     0,     0,     0,     0,     0,     0,     0,     0,     0,     0,     0],\n",
       "[-0.25,   2.0, -0.25,     0,     0,     0, -0.25,     0,     0,     0,     0,     0,     0,     0,     0,     0,     0,     0,     0,     0,     0,     0,     0,     0,     0],\n",
       "[    0, -0.25,   2.0, -0.25,     0,     0,     0, -0.25,     0,     0,     0,     0,     0,     0,     0,     0,     0,     0,     0,     0,     0,     0,     0,     0,     0],\n",
       "[    0,     0, -0.25,   2.0, -0.25,     0,     0,     0, -0.25,     0,     0,     0,     0,     0,     0,     0,     0,     0,     0,     0,     0,     0,     0,     0,     0],\n",
       "[    0,     0,     0, -0.25,   2.0,     0,     0,     0,     0, -0.25,     0,     0,     0,     0,     0,     0,     0,     0,     0,     0,     0,     0,     0,     0,     0],\n",
       "[-0.25,     0,     0,     0,     0,   2.0, -0.25,     0,     0,     0, -0.25,     0,     0,     0,     0,     0,     0,     0,     0,     0,     0,     0,     0,     0,     0],\n",
       "[    0, -0.25,     0,     0,     0, -0.25,   2.0, -0.25,     0,     0,     0, -0.25,     0,     0,     0,     0,     0,     0,     0,     0,     0,     0,     0,     0,     0],\n",
       "[    0,     0, -0.25,     0,     0,     0, -0.25,   2.0, -0.25,     0,     0,     0, -0.25,     0,     0,     0,     0,     0,     0,     0,     0,     0,     0,     0,     0],\n",
       "[    0,     0,     0, -0.25,     0,     0,     0, -0.25,   2.0, -0.25,     0,     0,     0, -0.25,     0,     0,     0,     0,     0,     0,     0,     0,     0,     0,     0],\n",
       "[    0,     0,     0,     0, -0.25,     0,     0,     0, -0.25,   2.0,     0,     0,     0,     0, -0.25,     0,     0,     0,     0,     0,     0,     0,     0,     0,     0],\n",
       "[    0,     0,     0,     0,     0, -0.25,     0,     0,     0,     0,   2.0, -0.25,     0,     0,     0, -0.25,     0,     0,     0,     0,     0,     0,     0,     0,     0],\n",
       "[    0,     0,     0,     0,     0,     0, -0.25,     0,     0,     0, -0.25,   2.0, -0.25,     0,     0,     0, -0.25,     0,     0,     0,     0,     0,     0,     0,     0],\n",
       "[    0,     0,     0,     0,     0,     0,     0, -0.25,     0,     0,     0, -0.25,   2.0, -0.25,     0,     0,     0, -0.25,     0,     0,     0,     0,     0,     0,     0],\n",
       "[    0,     0,     0,     0,     0,     0,     0,     0, -0.25,     0,     0,     0, -0.25,   2.0, -0.25,     0,     0,     0, -0.25,     0,     0,     0,     0,     0,     0],\n",
       "[    0,     0,     0,     0,     0,     0,     0,     0,     0, -0.25,     0,     0,     0, -0.25,   2.0,     0,     0,     0,     0, -0.25,     0,     0,     0,     0,     0],\n",
       "[    0,     0,     0,     0,     0,     0,     0,     0,     0,     0, -0.25,     0,     0,     0,     0,   2.0, -0.25,     0,     0,     0, -0.25,     0,     0,     0,     0],\n",
       "[    0,     0,     0,     0,     0,     0,     0,     0,     0,     0,     0, -0.25,     0,     0,     0, -0.25,   2.0, -0.25,     0,     0,     0, -0.25,     0,     0,     0],\n",
       "[    0,     0,     0,     0,     0,     0,     0,     0,     0,     0,     0,     0, -0.25,     0,     0,     0, -0.25,   2.0, -0.25,     0,     0,     0, -0.25,     0,     0],\n",
       "[    0,     0,     0,     0,     0,     0,     0,     0,     0,     0,     0,     0,     0, -0.25,     0,     0,     0, -0.25,   2.0, -0.25,     0,     0,     0, -0.25,     0],\n",
       "[    0,     0,     0,     0,     0,     0,     0,     0,     0,     0,     0,     0,     0,     0, -0.25,     0,     0,     0, -0.25,   2.0,     0,     0,     0,     0, -0.25],\n",
       "[    0,     0,     0,     0,     0,     0,     0,     0,     0,     0,     0,     0,     0,     0,     0, -0.25,     0,     0,     0,     0,   2.0, -0.25,     0,     0,     0],\n",
       "[    0,     0,     0,     0,     0,     0,     0,     0,     0,     0,     0,     0,     0,     0,     0,     0, -0.25,     0,     0,     0, -0.25,   2.0, -0.25,     0,     0],\n",
       "[    0,     0,     0,     0,     0,     0,     0,     0,     0,     0,     0,     0,     0,     0,     0,     0,     0, -0.25,     0,     0,     0, -0.25,   2.0, -0.25,     0],\n",
       "[    0,     0,     0,     0,     0,     0,     0,     0,     0,     0,     0,     0,     0,     0,     0,     0,     0,     0, -0.25,     0,     0,     0, -0.25,   2.0, -0.25],\n",
       "[    0,     0,     0,     0,     0,     0,     0,     0,     0,     0,     0,     0,     0,     0,     0,     0,     0,     0,     0, -0.25,     0,     0,     0, -0.25,   2.0]])"
      ]
     },
     "execution_count": 56,
     "metadata": {},
     "output_type": "execute_result"
    }
   ],
   "source": [
    "def create_A(r, N):\n",
    "    diag_0 = np.full((N * N), 1.0 + 2.0 * r)\n",
    "\n",
    "    diag1 = np.tile(np.concatenate((np.array([0.0]), np.full(N - 1, -r / 2.0))), N)\n",
    "    diag_1 = np.tile(np.concatenate((np.full(N - 1, -r / 2.0), np.array([0.0]))), N)\n",
    "\n",
    "    diag_N = np.full((N * N), -1 * r / 2.0)\n",
    "\n",
    "    return spdiags(\n",
    "        [diag_N, diag_1, diag_0, diag1, diag_N], [-N, -1, 0, 1, N], N**2, N**2\n",
    "    ).tocsr()\n",
    "\n",
    "\n",
    "import sympy as sy\n",
    "\n",
    "A = sy.Matrix(create_A(0.5, 5).todense())\n",
    "A"
   ]
  },
  {
   "cell_type": "markdown",
   "metadata": {
    "id": "DrDRu4QUvFq8"
   },
   "source": [
    "Creando la matriz $\\hat{B}$:"
   ]
  },
  {
   "cell_type": "code",
   "execution_count": 57,
   "metadata": {
    "colab": {
     "base_uri": "https://localhost:8080/",
     "height": 526
    },
    "id": "atj41t4jxlf8",
    "outputId": "2d0e0771-8b28-4c6e-89ef-f80a7f099eaf"
   },
   "outputs": [
    {
     "data": {
      "text/latex": [
       "$\\displaystyle \\left[\\begin{array}{ccccccccccccccccccccccccc}0 & 0.25 & 0 & 0 & 0 & 0.25 & 0 & 0 & 0 & 0 & 0 & 0 & 0 & 0 & 0 & 0 & 0 & 0 & 0 & 0 & 0 & 0 & 0 & 0 & 0\\\\0.25 & 0 & 0.25 & 0 & 0 & 0 & 0.25 & 0 & 0 & 0 & 0 & 0 & 0 & 0 & 0 & 0 & 0 & 0 & 0 & 0 & 0 & 0 & 0 & 0 & 0\\\\0 & 0.25 & 0 & 0.25 & 0 & 0 & 0 & 0.25 & 0 & 0 & 0 & 0 & 0 & 0 & 0 & 0 & 0 & 0 & 0 & 0 & 0 & 0 & 0 & 0 & 0\\\\0 & 0 & 0.25 & 0 & 0.25 & 0 & 0 & 0 & 0.25 & 0 & 0 & 0 & 0 & 0 & 0 & 0 & 0 & 0 & 0 & 0 & 0 & 0 & 0 & 0 & 0\\\\0 & 0 & 0 & 0.25 & 0 & 0 & 0 & 0 & 0 & 0.25 & 0 & 0 & 0 & 0 & 0 & 0 & 0 & 0 & 0 & 0 & 0 & 0 & 0 & 0 & 0\\\\0.25 & 0 & 0 & 0 & 0 & 0 & 0.25 & 0 & 0 & 0 & 0.25 & 0 & 0 & 0 & 0 & 0 & 0 & 0 & 0 & 0 & 0 & 0 & 0 & 0 & 0\\\\0 & 0.25 & 0 & 0 & 0 & 0.25 & 0 & 0.25 & 0 & 0 & 0 & 0.25 & 0 & 0 & 0 & 0 & 0 & 0 & 0 & 0 & 0 & 0 & 0 & 0 & 0\\\\0 & 0 & 0.25 & 0 & 0 & 0 & 0.25 & 0 & 0.25 & 0 & 0 & 0 & 0.25 & 0 & 0 & 0 & 0 & 0 & 0 & 0 & 0 & 0 & 0 & 0 & 0\\\\0 & 0 & 0 & 0.25 & 0 & 0 & 0 & 0.25 & 0 & 0.25 & 0 & 0 & 0 & 0.25 & 0 & 0 & 0 & 0 & 0 & 0 & 0 & 0 & 0 & 0 & 0\\\\0 & 0 & 0 & 0 & 0.25 & 0 & 0 & 0 & 0.25 & 0 & 0 & 0 & 0 & 0 & 0.25 & 0 & 0 & 0 & 0 & 0 & 0 & 0 & 0 & 0 & 0\\\\0 & 0 & 0 & 0 & 0 & 0.25 & 0 & 0 & 0 & 0 & 0 & 0.25 & 0 & 0 & 0 & 0.25 & 0 & 0 & 0 & 0 & 0 & 0 & 0 & 0 & 0\\\\0 & 0 & 0 & 0 & 0 & 0 & 0.25 & 0 & 0 & 0 & 0.25 & 0 & 0.25 & 0 & 0 & 0 & 0.25 & 0 & 0 & 0 & 0 & 0 & 0 & 0 & 0\\\\0 & 0 & 0 & 0 & 0 & 0 & 0 & 0.25 & 0 & 0 & 0 & 0.25 & 0 & 0.25 & 0 & 0 & 0 & 0.25 & 0 & 0 & 0 & 0 & 0 & 0 & 0\\\\0 & 0 & 0 & 0 & 0 & 0 & 0 & 0 & 0.25 & 0 & 0 & 0 & 0.25 & 0 & 0.25 & 0 & 0 & 0 & 0.25 & 0 & 0 & 0 & 0 & 0 & 0\\\\0 & 0 & 0 & 0 & 0 & 0 & 0 & 0 & 0 & 0.25 & 0 & 0 & 0 & 0.25 & 0 & 0 & 0 & 0 & 0 & 0.25 & 0 & 0 & 0 & 0 & 0\\\\0 & 0 & 0 & 0 & 0 & 0 & 0 & 0 & 0 & 0 & 0.25 & 0 & 0 & 0 & 0 & 0 & 0.25 & 0 & 0 & 0 & 0.25 & 0 & 0 & 0 & 0\\\\0 & 0 & 0 & 0 & 0 & 0 & 0 & 0 & 0 & 0 & 0 & 0.25 & 0 & 0 & 0 & 0.25 & 0 & 0.25 & 0 & 0 & 0 & 0.25 & 0 & 0 & 0\\\\0 & 0 & 0 & 0 & 0 & 0 & 0 & 0 & 0 & 0 & 0 & 0 & 0.25 & 0 & 0 & 0 & 0.25 & 0 & 0.25 & 0 & 0 & 0 & 0.25 & 0 & 0\\\\0 & 0 & 0 & 0 & 0 & 0 & 0 & 0 & 0 & 0 & 0 & 0 & 0 & 0.25 & 0 & 0 & 0 & 0.25 & 0 & 0.25 & 0 & 0 & 0 & 0.25 & 0\\\\0 & 0 & 0 & 0 & 0 & 0 & 0 & 0 & 0 & 0 & 0 & 0 & 0 & 0 & 0.25 & 0 & 0 & 0 & 0.25 & 0 & 0 & 0 & 0 & 0 & 0.25\\\\0 & 0 & 0 & 0 & 0 & 0 & 0 & 0 & 0 & 0 & 0 & 0 & 0 & 0 & 0 & 0.25 & 0 & 0 & 0 & 0 & 0 & 0.25 & 0 & 0 & 0\\\\0 & 0 & 0 & 0 & 0 & 0 & 0 & 0 & 0 & 0 & 0 & 0 & 0 & 0 & 0 & 0 & 0.25 & 0 & 0 & 0 & 0.25 & 0 & 0.25 & 0 & 0\\\\0 & 0 & 0 & 0 & 0 & 0 & 0 & 0 & 0 & 0 & 0 & 0 & 0 & 0 & 0 & 0 & 0 & 0.25 & 0 & 0 & 0 & 0.25 & 0 & 0.25 & 0\\\\0 & 0 & 0 & 0 & 0 & 0 & 0 & 0 & 0 & 0 & 0 & 0 & 0 & 0 & 0 & 0 & 0 & 0 & 0.25 & 0 & 0 & 0 & 0.25 & 0 & 0.25\\\\0 & 0 & 0 & 0 & 0 & 0 & 0 & 0 & 0 & 0 & 0 & 0 & 0 & 0 & 0 & 0 & 0 & 0 & 0 & 0.25 & 0 & 0 & 0 & 0.25 & 0\\end{array}\\right]$"
      ],
      "text/plain": [
       "Matrix([\n",
       "[   0, 0.25,    0,    0,    0, 0.25,    0,    0,    0,    0,    0,    0,    0,    0,    0,    0,    0,    0,    0,    0,    0,    0,    0,    0,    0],\n",
       "[0.25,    0, 0.25,    0,    0,    0, 0.25,    0,    0,    0,    0,    0,    0,    0,    0,    0,    0,    0,    0,    0,    0,    0,    0,    0,    0],\n",
       "[   0, 0.25,    0, 0.25,    0,    0,    0, 0.25,    0,    0,    0,    0,    0,    0,    0,    0,    0,    0,    0,    0,    0,    0,    0,    0,    0],\n",
       "[   0,    0, 0.25,    0, 0.25,    0,    0,    0, 0.25,    0,    0,    0,    0,    0,    0,    0,    0,    0,    0,    0,    0,    0,    0,    0,    0],\n",
       "[   0,    0,    0, 0.25,    0,    0,    0,    0,    0, 0.25,    0,    0,    0,    0,    0,    0,    0,    0,    0,    0,    0,    0,    0,    0,    0],\n",
       "[0.25,    0,    0,    0,    0,    0, 0.25,    0,    0,    0, 0.25,    0,    0,    0,    0,    0,    0,    0,    0,    0,    0,    0,    0,    0,    0],\n",
       "[   0, 0.25,    0,    0,    0, 0.25,    0, 0.25,    0,    0,    0, 0.25,    0,    0,    0,    0,    0,    0,    0,    0,    0,    0,    0,    0,    0],\n",
       "[   0,    0, 0.25,    0,    0,    0, 0.25,    0, 0.25,    0,    0,    0, 0.25,    0,    0,    0,    0,    0,    0,    0,    0,    0,    0,    0,    0],\n",
       "[   0,    0,    0, 0.25,    0,    0,    0, 0.25,    0, 0.25,    0,    0,    0, 0.25,    0,    0,    0,    0,    0,    0,    0,    0,    0,    0,    0],\n",
       "[   0,    0,    0,    0, 0.25,    0,    0,    0, 0.25,    0,    0,    0,    0,    0, 0.25,    0,    0,    0,    0,    0,    0,    0,    0,    0,    0],\n",
       "[   0,    0,    0,    0,    0, 0.25,    0,    0,    0,    0,    0, 0.25,    0,    0,    0, 0.25,    0,    0,    0,    0,    0,    0,    0,    0,    0],\n",
       "[   0,    0,    0,    0,    0,    0, 0.25,    0,    0,    0, 0.25,    0, 0.25,    0,    0,    0, 0.25,    0,    0,    0,    0,    0,    0,    0,    0],\n",
       "[   0,    0,    0,    0,    0,    0,    0, 0.25,    0,    0,    0, 0.25,    0, 0.25,    0,    0,    0, 0.25,    0,    0,    0,    0,    0,    0,    0],\n",
       "[   0,    0,    0,    0,    0,    0,    0,    0, 0.25,    0,    0,    0, 0.25,    0, 0.25,    0,    0,    0, 0.25,    0,    0,    0,    0,    0,    0],\n",
       "[   0,    0,    0,    0,    0,    0,    0,    0,    0, 0.25,    0,    0,    0, 0.25,    0,    0,    0,    0,    0, 0.25,    0,    0,    0,    0,    0],\n",
       "[   0,    0,    0,    0,    0,    0,    0,    0,    0,    0, 0.25,    0,    0,    0,    0,    0, 0.25,    0,    0,    0, 0.25,    0,    0,    0,    0],\n",
       "[   0,    0,    0,    0,    0,    0,    0,    0,    0,    0,    0, 0.25,    0,    0,    0, 0.25,    0, 0.25,    0,    0,    0, 0.25,    0,    0,    0],\n",
       "[   0,    0,    0,    0,    0,    0,    0,    0,    0,    0,    0,    0, 0.25,    0,    0,    0, 0.25,    0, 0.25,    0,    0,    0, 0.25,    0,    0],\n",
       "[   0,    0,    0,    0,    0,    0,    0,    0,    0,    0,    0,    0,    0, 0.25,    0,    0,    0, 0.25,    0, 0.25,    0,    0,    0, 0.25,    0],\n",
       "[   0,    0,    0,    0,    0,    0,    0,    0,    0,    0,    0,    0,    0,    0, 0.25,    0,    0,    0, 0.25,    0,    0,    0,    0,    0, 0.25],\n",
       "[   0,    0,    0,    0,    0,    0,    0,    0,    0,    0,    0,    0,    0,    0,    0, 0.25,    0,    0,    0,    0,    0, 0.25,    0,    0,    0],\n",
       "[   0,    0,    0,    0,    0,    0,    0,    0,    0,    0,    0,    0,    0,    0,    0,    0, 0.25,    0,    0,    0, 0.25,    0, 0.25,    0,    0],\n",
       "[   0,    0,    0,    0,    0,    0,    0,    0,    0,    0,    0,    0,    0,    0,    0,    0,    0, 0.25,    0,    0,    0, 0.25,    0, 0.25,    0],\n",
       "[   0,    0,    0,    0,    0,    0,    0,    0,    0,    0,    0,    0,    0,    0,    0,    0,    0,    0, 0.25,    0,    0,    0, 0.25,    0, 0.25],\n",
       "[   0,    0,    0,    0,    0,    0,    0,    0,    0,    0,    0,    0,    0,    0,    0,    0,    0,    0,    0, 0.25,    0,    0,    0, 0.25,    0]])"
      ]
     },
     "execution_count": 57,
     "metadata": {},
     "output_type": "execute_result"
    }
   ],
   "source": [
    "def create_B_hat(r, N):\n",
    "    diag_0 = np.full((N * N), 1.0 - 2.0 * r)\n",
    "\n",
    "    diag1 = np.tile(np.concatenate((np.array([0.0]), np.full((N - 1,), r / 2.0))), N)\n",
    "    diag_1 = np.tile(np.concatenate((np.full((N - 1,), r / 2.0), np.array([0.0]))), N)\n",
    "\n",
    "    diag_N = np.full((N * N), r / 2.0)\n",
    "\n",
    "    return spdiags(\n",
    "        [diag_N, diag_1, diag_0, diag1, diag_N], [-N, -1, 0, 1, N], N**2, N**2\n",
    "    ).tocsr()\n",
    "\n",
    "\n",
    "B_hat = sy.Matrix(create_B_hat(0.5, 5).todense())\n",
    "B_hat"
   ]
  },
  {
   "cell_type": "markdown",
   "metadata": {
    "id": "PVXBvHXOwEGS"
   },
   "source": [
    "Función $u(x, y) = \\frac{\\left|\\left(x^2 - 1\\right)\\left(y^2 - 1\\right)\\right|}{x^2 + y^2 + 1}$ utilizada para inicializar el dominio en el $t=0$."
   ]
  },
  {
   "cell_type": "code",
   "execution_count": 58,
   "metadata": {
    "id": "4x79fqh7xqG1"
   },
   "outputs": [],
   "source": [
    "def fro(X, Y):\n",
    "    return np.abs((X**2 - 1) * (Y**2 - 1)) / (1 + X**2 + Y**2)"
   ]
  },
  {
   "cell_type": "markdown",
   "metadata": {
    "id": "mSNMfAjv2-_E"
   },
   "source": [
    "Código principal del ejercicio. El único cambio que usted debe realizar es la dirección en donde desea salvar los png resultantes.\n",
    "\n",
    "Solo tiene que poner la dirección correcta y completa de la carpeta local en su computadora, como un string en la variable "
   ]
  },
  {
   "cell_type": "code",
   "execution_count": 59,
   "metadata": {},
   "outputs": [],
   "source": [
    "# Modificar la dirección de salva !!!\n",
    "folder_name = \"PeC3\"\n",
    "\n",
    "try:\n",
    "    os.makedirs(folder_name)\n",
    "except FileExistsError:\n",
    "    pass"
   ]
  },
  {
   "cell_type": "code",
   "execution_count": 60,
   "metadata": {
    "colab": {
     "base_uri": "https://localhost:8080/"
    },
    "id": "R8aaynK_xuWr",
    "outputId": "0ddd3855-64f1-466e-9f6f-38edded2f98a"
   },
   "outputs": [],
   "source": [
    "# Vectorizando la función de mcondiciones iniciales\n",
    "fro = np.vectorize(fro)\n",
    "\n",
    "# Discretización del dominio\n",
    "\n",
    "dx = dy = 1 / 5.0\n",
    "\n",
    "x = np.arange(-1, 1 + dx, dx)\n",
    "y = np.arange(-1, 1 + dx, dy)\n",
    "\n",
    "Nx = x.shape[0]\n",
    "Ny = y.shape[0]\n",
    "\n",
    "XX, YY = np.meshgrid(x, y)\n",
    "\n",
    "# Coeficiente de estabilización (CFL)\n",
    "r = 0.25\n",
    "\n",
    "# Coeficiente de difusión\n",
    "D = 1e-3\n",
    "\n",
    "# Calculando dt\n",
    "dt = r * dx**2 / D\n",
    "\n",
    "# Tiempo inicial\n",
    "t = 0.0\n",
    "# Tiempo total\n",
    "T = 77\n",
    "\n",
    "# Inicialización de variable para condiciones iniciales.\n",
    "# Las fronteras serán iguales a cero\n",
    "u = np.zeros((Nx, Ny))\n",
    "\n",
    "# Aplicar función de condiciones iniciales a u\n",
    "u = fro(XX, YY) * 200.0\n",
    "\n",
    "# Crear matriz A\n",
    "A = create_A(r, u.shape[0] - 2)\n",
    "\n",
    "# Crear matriz B sombrero\n",
    "B_hat = create_B_hat(r, u.shape[0] - 2)\n",
    "\n",
    "# Ciclo principal\n",
    "for k in range(1, T):\n",
    "    # Convertir u de 2D a 1D usando función aplanar (flatten)\n",
    "    u_flat = u[1:-1, 1:-1].flatten()\n",
    "\n",
    "    # Creando vector de carga (load vector en inglés)\n",
    "    b = B_hat * u_flat\n",
    "\n",
    "    # Resolución del sistema de ecuaciones para matrices sparse.\n",
    "    # Se obtiene la nueva solución en el timepo t + dt * k\n",
    "    u_flat = spsolve(A, b)\n",
    "\n",
    "    # Convertir u de 1D a 2D nuevamente\n",
    "    u[1:-1, 1:-1] = u_flat.reshape((u.shape[0] - 2, u.shape[1] - 2))\n",
    "\n",
    "    # Avanzar en el tiempo\n",
    "    t += k * dt\n",
    "\n",
    "    # Plotear solución y salvarla como png\n",
    "    fig = plt.figure()\n",
    "    ax = fig.add_subplot(111)\n",
    "    cb = ax.contourf(\n",
    "        XX, YY, u, cmap=cm.jet, levels=np.linspace(0, 200 + dt, 50), alpha=0.5\n",
    "    )\n",
    "    ax.set_xticks(x)\n",
    "    ax.set_yticks(y)\n",
    "    ax.set_xlim([-1.1, 1.1])\n",
    "    ax.set_ylim([-1.1, 1.1])\n",
    "    ax.set_xlabel(\"X\")\n",
    "    ax.set_ylabel(\"Y\")\n",
    "    plt.colorbar(cb)\n",
    "    plt.grid()\n",
    "    plt.title(\"t%f\" % t)\n",
    "\n",
    "    plt.savefig(\"%s/time_%05d.png\" % (folder_name, k))\n",
    "    plt.close()"
   ]
  }
 ],
 "metadata": {
  "celltoolbar": "Slideshow",
  "colab": {
   "collapsed_sections": [],
   "include_colab_link": true,
   "name": "Clase#2 - M贸dulo Numpy Parte2 (Completa).ipynb",
   "provenance": []
  },
  "kernelspec": {
   "display_name": "Python 3 (ipykernel)",
   "language": "python",
   "name": "python3"
  },
  "language_info": {
   "codemirror_mode": {
    "name": "ipython",
    "version": 3
   },
   "file_extension": ".py",
   "mimetype": "text/x-python",
   "name": "python",
   "nbconvert_exporter": "python",
   "pygments_lexer": "ipython3",
   "version": "3.11.6"
  }
 },
 "nbformat": 4,
 "nbformat_minor": 0
}
