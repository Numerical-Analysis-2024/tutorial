{
 "cells": [
  {
   "cell_type": "markdown",
   "metadata": {
    "id": "VhwHakGYkA_5"
   },
   "source": [
    "# Álgebra Lineal\n",
    "\n",
    "<img src=\"https://asm86.files.wordpress.com/2011/10/matv.jpg\">"
   ]
  },
  {
   "cell_type": "code",
   "execution_count": 1,
   "metadata": {
    "id": "5-LBcdT6XBTM"
   },
   "outputs": [],
   "source": [
    "import numpy as np\n",
    "import matplotlib\n",
    "import matplotlib.pyplot as plt\n",
    "\n",
    "# Modulo para resolver ecuaciones diferenciales ordinarias.\n",
    "from scipy.integrate import odeint\n",
    "\n",
    "# Importar la biblioteca de álgebra lineal de scipy\n",
    "from scipy import linalg as la"
   ]
  },
  {
   "cell_type": "markdown",
   "metadata": {
    "id": "-4c3Is0xW4p-"
   },
   "source": [
    "## Operaciones de matrices y vectores\n",
    "\n",
    "Si A y B son dos matrices que se definien de la siguiente forma:"
   ]
  },
  {
   "cell_type": "code",
   "execution_count": 2,
   "metadata": {
    "id": "3QdiV4tcCBUN"
   },
   "outputs": [],
   "source": [
    "A = np.array([[3, 6, 2], [-4, 6, 1], [8, -2, 3]])\n",
    "B = np.array([[4, 7, 1], [3, 4, 8], [9, 5, 6]])"
   ]
  },
  {
   "cell_type": "markdown",
   "metadata": {
    "id": "vhjJXU3XCCpE"
   },
   "source": [
    "La suma se realiza con en operador +."
   ]
  },
  {
   "cell_type": "code",
   "execution_count": 3,
   "metadata": {
    "colab": {
     "base_uri": "https://localhost:8080/"
    },
    "id": "a-avvWCPBtEi",
    "outputId": "b644569c-2bd7-4fe1-c704-e48ec07c8a1e"
   },
   "outputs": [
    {
     "data": {
      "text/plain": [
       "array([[ 7, 13,  3],\n",
       "       [-1, 10,  9],\n",
       "       [17,  3,  9]])"
      ]
     },
     "execution_count": 3,
     "metadata": {},
     "output_type": "execute_result"
    }
   ],
   "source": [
    "A + B"
   ]
  },
  {
   "cell_type": "markdown",
   "metadata": {
    "id": "nW_V2DVlChG6"
   },
   "source": [
    "En el caso de la multiplicación entre matrices **NO** se utiliza el operador ```*```. El mismo lo que efectúa es una multiplicación entre **```ndarray``` no entre matrices** por lo que resultará en $c_ij = a_{ij}*b_{ij}$.\n",
    "\n",
    "Para multiplicar matrices se utiliza la función ```np.matmul``` o el operador especial ```@``` de la siguiente forma:"
   ]
  },
  {
   "cell_type": "code",
   "execution_count": 4,
   "metadata": {
    "colab": {
     "base_uri": "https://localhost:8080/"
    },
    "id": "VkKiIoJqDfcA",
    "outputId": "46f23163-24f9-4c2e-f45f-f29644bc4636"
   },
   "outputs": [
    {
     "name": "stdout",
     "output_type": "stream",
     "text": [
      "Multiplicación entre ndarrays:\n",
      " [[ 12  42   2]\n",
      " [-12  24   8]\n",
      " [ 72 -10  18]]\n",
      "Multiplicación entre matrices:\n",
      " [[48 55 63]\n",
      " [11  1 50]\n",
      " [53 63 10]]\n",
      "O también\n",
      " [[48 55 63]\n",
      " [11  1 50]\n",
      " [53 63 10]]\n"
     ]
    }
   ],
   "source": [
    "print(\"Multiplicación entre ndarrays:\\n\", A * B)\n",
    "print(\"Multiplicación entre matrices:\\n\", A @ B)\n",
    "print(\"O también\\n\", np.matmul(A, B))"
   ]
  },
  {
   "cell_type": "markdown",
   "metadata": {
    "id": "qpPzyJrqEBXe"
   },
   "source": [
    "Pero además la multiplicación se pudiera expresar directamente como un producto interno usando la función ```np.dot``` de la cual hablaremos seguidamente.\n",
    "\n",
    "Sean las siguientes matrices A y B representadas en ```ndarrays```:"
   ]
  },
  {
   "cell_type": "code",
   "execution_count": 5,
   "metadata": {
    "colab": {
     "base_uri": "https://localhost:8080/"
    },
    "id": "Fo9jQdVwWqcZ",
    "outputId": "db531863-07ea-4e81-d1fa-7044c59e97b9"
   },
   "outputs": [
    {
     "data": {
      "text/plain": [
       "array([[1, 2, 3],\n",
       "       [4, 5, 6]])"
      ]
     },
     "execution_count": 5,
     "metadata": {},
     "output_type": "execute_result"
    }
   ],
   "source": [
    "A = np.arange(1, 7).reshape(2, 3)\n",
    "A"
   ]
  },
  {
   "cell_type": "code",
   "execution_count": 6,
   "metadata": {
    "colab": {
     "base_uri": "https://localhost:8080/"
    },
    "id": "WWS_WjfuXL-c",
    "outputId": "08d3d9c4-09f4-4f42-e8a0-f930afd7f17e"
   },
   "outputs": [
    {
     "data": {
      "text/plain": [
       "array([[1, 2],\n",
       "       [3, 4],\n",
       "       [5, 6]])"
      ]
     },
     "execution_count": 6,
     "metadata": {},
     "output_type": "execute_result"
    }
   ],
   "source": [
    "B = np.arange(1, 7).reshape(3, 2)\n",
    "B"
   ]
  },
  {
   "cell_type": "markdown",
   "metadata": {
    "id": "hVcSinfiXWl2"
   },
   "source": [
    "El producto **dot** entre dos matrices $A_{M \\times P}$ y $B_{P \\times N}$ se define como $(A \\bullet B)_{M \\times N} = \\sum_{r=1}^P a_{ir} b_{rj}$. Para ello se utiliza la función ```numpy.dot```."
   ]
  },
  {
   "cell_type": "code",
   "execution_count": 7,
   "metadata": {
    "colab": {
     "base_uri": "https://localhost:8080/"
    },
    "id": "cu4r9wVSY_qB",
    "outputId": "32a17480-9424-4f0f-c7c7-9eb5e3c2fab3"
   },
   "outputs": [
    {
     "data": {
      "text/plain": [
       "array([[22, 28],\n",
       "       [49, 64]])"
      ]
     },
     "execution_count": 7,
     "metadata": {},
     "output_type": "execute_result"
    }
   ],
   "source": [
    "np.dot(A, B)"
   ]
  },
  {
   "cell_type": "code",
   "execution_count": 8,
   "metadata": {
    "colab": {
     "base_uri": "https://localhost:8080/"
    },
    "id": "PUlwJxPeZJ4U",
    "outputId": "36d7251f-6efb-4d65-be73-a42ef57675df"
   },
   "outputs": [
    {
     "data": {
      "text/plain": [
       "array([[ 9, 12, 15],\n",
       "       [19, 26, 33],\n",
       "       [29, 40, 51]])"
      ]
     },
     "execution_count": 8,
     "metadata": {},
     "output_type": "execute_result"
    }
   ],
   "source": [
    "np.dot(B, A)"
   ]
  },
  {
   "cell_type": "markdown",
   "metadata": {
    "id": "zZECBp-HZTpL"
   },
   "source": [
    "En el caso del producto **dot** entre una matriz y un vector $A_{M \\times N} \\bullet \\vec{v}_{N} = \\sum_{r=1}^N a_{ir} \\vec{v}_r, \\, ∀ i = 1, \\dots, M$ se puede implementar de la siguiente forma:"
   ]
  },
  {
   "cell_type": "code",
   "execution_count": 9,
   "metadata": {
    "colab": {
     "base_uri": "https://localhost:8080/"
    },
    "id": "dMkckaIXciiu",
    "outputId": "0675c52d-19dd-430d-a832-40181e8f091b"
   },
   "outputs": [
    {
     "data": {
      "text/plain": [
       "array([0, 1, 2])"
      ]
     },
     "execution_count": 9,
     "metadata": {},
     "output_type": "execute_result"
    }
   ],
   "source": [
    "v = np.arange(3)\n",
    "v"
   ]
  },
  {
   "cell_type": "code",
   "execution_count": 10,
   "metadata": {
    "colab": {
     "base_uri": "https://localhost:8080/"
    },
    "id": "7cNKvBUVcY1l",
    "outputId": "a6988baa-e1ce-4f07-9e0a-1a1e6f03713a"
   },
   "outputs": [
    {
     "data": {
      "text/plain": [
       "array([ 8, 17])"
      ]
     },
     "execution_count": 10,
     "metadata": {},
     "output_type": "execute_result"
    }
   ],
   "source": [
    "np.dot(A, v)"
   ]
  },
  {
   "cell_type": "markdown",
   "metadata": {
    "id": "8t82o7shdwMA"
   },
   "source": [
    "También la función ```numpy.dot``` pudiera ser llamada desde la propia instancia del objeto ```ndarray``` de la siguiente forma:"
   ]
  },
  {
   "cell_type": "code",
   "execution_count": 11,
   "metadata": {
    "colab": {
     "base_uri": "https://localhost:8080/"
    },
    "id": "DLm-4zkheB09",
    "outputId": "292ed9d8-1375-41ff-fa40-608204323bdb"
   },
   "outputs": [
    {
     "data": {
      "text/plain": [
       "array([ 8, 17])"
      ]
     },
     "execution_count": 11,
     "metadata": {},
     "output_type": "execute_result"
    }
   ],
   "source": [
    "A.dot(v)"
   ]
  },
  {
   "cell_type": "markdown",
   "metadata": {
    "id": "6E8HoejRhJzP"
   },
   "source": [
    "La función ```numpy.inner``` no es más que la implementación del producto interno entre dos vetores. Esta función está implícita en la función ```numpy.dot```."
   ]
  },
  {
   "cell_type": "code",
   "execution_count": 12,
   "metadata": {},
   "outputs": [
    {
     "data": {
      "text/plain": [
       "\u001b[0;31mSignature:\u001b[0m       \u001b[0mnp\u001b[0m\u001b[0;34m.\u001b[0m\u001b[0mflip\u001b[0m\u001b[0;34m(\u001b[0m\u001b[0mm\u001b[0m\u001b[0;34m,\u001b[0m \u001b[0maxis\u001b[0m\u001b[0;34m=\u001b[0m\u001b[0;32mNone\u001b[0m\u001b[0;34m)\u001b[0m\u001b[0;34m\u001b[0m\u001b[0;34m\u001b[0m\u001b[0m\n",
       "\u001b[0;31mCall signature:\u001b[0m  \u001b[0mnp\u001b[0m\u001b[0;34m.\u001b[0m\u001b[0mflip\u001b[0m\u001b[0;34m(\u001b[0m\u001b[0;34m*\u001b[0m\u001b[0margs\u001b[0m\u001b[0;34m,\u001b[0m \u001b[0;34m**\u001b[0m\u001b[0mkwargs\u001b[0m\u001b[0;34m)\u001b[0m\u001b[0;34m\u001b[0m\u001b[0;34m\u001b[0m\u001b[0m\n",
       "\u001b[0;31mType:\u001b[0m            _ArrayFunctionDispatcher\n",
       "\u001b[0;31mString form:\u001b[0m     <function flip at 0x7f121c2202c0>\n",
       "\u001b[0;31mFile:\u001b[0m            /usr/lib/python3.11/site-packages/numpy/lib/function_base.py\n",
       "\u001b[0;31mDocstring:\u001b[0m      \n",
       "Reverse the order of elements in an array along the given axis.\n",
       "\n",
       "The shape of the array is preserved, but the elements are reordered.\n",
       "\n",
       ".. versionadded:: 1.12.0\n",
       "\n",
       "Parameters\n",
       "----------\n",
       "m : array_like\n",
       "    Input array.\n",
       "axis : None or int or tuple of ints, optional\n",
       "     Axis or axes along which to flip over. The default,\n",
       "     axis=None, will flip over all of the axes of the input array.\n",
       "     If axis is negative it counts from the last to the first axis.\n",
       "\n",
       "     If axis is a tuple of ints, flipping is performed on all of the axes\n",
       "     specified in the tuple.\n",
       "\n",
       "     .. versionchanged:: 1.15.0\n",
       "        None and tuples of axes are supported\n",
       "\n",
       "Returns\n",
       "-------\n",
       "out : array_like\n",
       "    A view of `m` with the entries of axis reversed.  Since a view is\n",
       "    returned, this operation is done in constant time.\n",
       "\n",
       "See Also\n",
       "--------\n",
       "flipud : Flip an array vertically (axis=0).\n",
       "fliplr : Flip an array horizontally (axis=1).\n",
       "\n",
       "Notes\n",
       "-----\n",
       "flip(m, 0) is equivalent to flipud(m).\n",
       "\n",
       "flip(m, 1) is equivalent to fliplr(m).\n",
       "\n",
       "flip(m, n) corresponds to ``m[...,::-1,...]`` with ``::-1`` at position n.\n",
       "\n",
       "flip(m) corresponds to ``m[::-1,::-1,...,::-1]`` with ``::-1`` at all\n",
       "positions.\n",
       "\n",
       "flip(m, (0, 1)) corresponds to ``m[::-1,::-1,...]`` with ``::-1`` at\n",
       "position 0 and position 1.\n",
       "\n",
       "Examples\n",
       "--------\n",
       ">>> A = np.arange(8).reshape((2,2,2))\n",
       ">>> A\n",
       "array([[[0, 1],\n",
       "        [2, 3]],\n",
       "       [[4, 5],\n",
       "        [6, 7]]])\n",
       ">>> np.flip(A, 0)\n",
       "array([[[4, 5],\n",
       "        [6, 7]],\n",
       "       [[0, 1],\n",
       "        [2, 3]]])\n",
       ">>> np.flip(A, 1)\n",
       "array([[[2, 3],\n",
       "        [0, 1]],\n",
       "       [[6, 7],\n",
       "        [4, 5]]])\n",
       ">>> np.flip(A)\n",
       "array([[[7, 6],\n",
       "        [5, 4]],\n",
       "       [[3, 2],\n",
       "        [1, 0]]])\n",
       ">>> np.flip(A, (0, 2))\n",
       "array([[[5, 4],\n",
       "        [7, 6]],\n",
       "       [[1, 0],\n",
       "        [3, 2]]])\n",
       ">>> A = np.random.randn(3,4,5)\n",
       ">>> np.all(np.flip(A,2) == A[:,:,::-1,...])\n",
       "True\n",
       "\u001b[0;31mClass docstring:\u001b[0m\n",
       "Class to wrap functions with checks for __array_function__ overrides.\n",
       "\n",
       "All arguments are required, and can only be passed by position.\n",
       "\n",
       "Parameters\n",
       "----------\n",
       "dispatcher : function or None\n",
       "    The dispatcher function that returns a single sequence-like object\n",
       "    of all arguments relevant.  It must have the same signature (except\n",
       "    the default values) as the actual implementation.\n",
       "    If ``None``, this is a ``like=`` dispatcher and the\n",
       "    ``_ArrayFunctionDispatcher`` must be called with ``like`` as the\n",
       "    first (additional and positional) argument.\n",
       "implementation : function\n",
       "    Function that implements the operation on NumPy arrays without\n",
       "    overrides.  Arguments passed calling the ``_ArrayFunctionDispatcher``\n",
       "    will be forwarded to this (and the ``dispatcher``) as if using\n",
       "    ``*args, **kwargs``.\n",
       "\n",
       "Attributes\n",
       "----------\n",
       "_implementation : function\n",
       "    The original implementation passed in."
      ]
     },
     "metadata": {},
     "output_type": "display_data"
    }
   ],
   "source": [
    "np.flip?"
   ]
  },
  {
   "cell_type": "code",
   "execution_count": 13,
   "metadata": {
    "colab": {
     "base_uri": "https://localhost:8080/"
    },
    "id": "WKDSGJ9ff12E",
    "outputId": "7ceed5a5-0195-4cf7-9a92-4fa6ba8e6dfa"
   },
   "outputs": [
    {
     "data": {
      "text/plain": [
       "1"
      ]
     },
     "execution_count": 13,
     "metadata": {},
     "output_type": "execute_result"
    }
   ],
   "source": [
    "u = np.flip(v)\n",
    "np.inner(v, u)"
   ]
  },
  {
   "cell_type": "markdown",
   "metadata": {
    "id": "fEp57AdciGCO"
   },
   "source": [
    "El **producto externo** entre dos vectores se define como $x_{M} \\bigotimes y_{N} = C_{M\\times N}$ tal que $c_{i, j} = x_{i} * y_{j}, \\, i=1, \\dots, M; j=1, \\dots, N$."
   ]
  },
  {
   "cell_type": "code",
   "execution_count": 14,
   "metadata": {
    "colab": {
     "base_uri": "https://localhost:8080/"
    },
    "id": "agI7NUzHjxSd",
    "outputId": "3d15a681-6301-4e90-e117-cb24279b3b3e"
   },
   "outputs": [
    {
     "data": {
      "text/plain": [
       "array([[3, 2],\n",
       "       [6, 4]])"
      ]
     },
     "execution_count": 14,
     "metadata": {},
     "output_type": "execute_result"
    }
   ],
   "source": [
    "x = np.array([1, 2])\n",
    "y = np.array([3, 2])\n",
    "\n",
    "np.outer(x, y)"
   ]
  },
  {
   "cell_type": "markdown",
   "metadata": {
    "id": "lsK6hAEtlPzF"
   },
   "source": [
    "El [producto de kronecker](https://es.wikipedia.org/wiki/Producto_de_Kronecker) entre dos matrices se obtiene a través de la funció ```numpy.kron``` y retorna como resultado una matriz de bloques como sigue:"
   ]
  },
  {
   "cell_type": "code",
   "execution_count": 15,
   "metadata": {},
   "outputs": [
    {
     "data": {
      "text/plain": [
       "\u001b[0;31mSignature:\u001b[0m       \u001b[0mnp\u001b[0m\u001b[0;34m.\u001b[0m\u001b[0mkron\u001b[0m\u001b[0;34m(\u001b[0m\u001b[0ma\u001b[0m\u001b[0;34m,\u001b[0m \u001b[0mb\u001b[0m\u001b[0;34m)\u001b[0m\u001b[0;34m\u001b[0m\u001b[0;34m\u001b[0m\u001b[0m\n",
       "\u001b[0;31mCall signature:\u001b[0m  \u001b[0mnp\u001b[0m\u001b[0;34m.\u001b[0m\u001b[0mkron\u001b[0m\u001b[0;34m(\u001b[0m\u001b[0;34m*\u001b[0m\u001b[0margs\u001b[0m\u001b[0;34m,\u001b[0m \u001b[0;34m**\u001b[0m\u001b[0mkwargs\u001b[0m\u001b[0;34m)\u001b[0m\u001b[0;34m\u001b[0m\u001b[0;34m\u001b[0m\u001b[0m\n",
       "\u001b[0;31mType:\u001b[0m            _ArrayFunctionDispatcher\n",
       "\u001b[0;31mString form:\u001b[0m     <function kron at 0x7f121c22bce0>\n",
       "\u001b[0;31mFile:\u001b[0m            /usr/lib/python3.11/site-packages/numpy/lib/shape_base.py\n",
       "\u001b[0;31mDocstring:\u001b[0m      \n",
       "Kronecker product of two arrays.\n",
       "\n",
       "Computes the Kronecker product, a composite array made of blocks of the\n",
       "second array scaled by the first.\n",
       "\n",
       "Parameters\n",
       "----------\n",
       "a, b : array_like\n",
       "\n",
       "Returns\n",
       "-------\n",
       "out : ndarray\n",
       "\n",
       "See Also\n",
       "--------\n",
       "outer : The outer product\n",
       "\n",
       "Notes\n",
       "-----\n",
       "The function assumes that the number of dimensions of `a` and `b`\n",
       "are the same, if necessary prepending the smallest with ones.\n",
       "If ``a.shape = (r0,r1,..,rN)`` and ``b.shape = (s0,s1,...,sN)``,\n",
       "the Kronecker product has shape ``(r0*s0, r1*s1, ..., rN*SN)``.\n",
       "The elements are products of elements from `a` and `b`, organized\n",
       "explicitly by::\n",
       "\n",
       "    kron(a,b)[k0,k1,...,kN] = a[i0,i1,...,iN] * b[j0,j1,...,jN]\n",
       "\n",
       "where::\n",
       "\n",
       "    kt = it * st + jt,  t = 0,...,N\n",
       "\n",
       "In the common 2-D case (N=1), the block structure can be visualized::\n",
       "\n",
       "    [[ a[0,0]*b,   a[0,1]*b,  ... , a[0,-1]*b  ],\n",
       "     [  ...                              ...   ],\n",
       "     [ a[-1,0]*b,  a[-1,1]*b, ... , a[-1,-1]*b ]]\n",
       "\n",
       "\n",
       "Examples\n",
       "--------\n",
       ">>> np.kron([1,10,100], [5,6,7])\n",
       "array([  5,   6,   7, ..., 500, 600, 700])\n",
       ">>> np.kron([5,6,7], [1,10,100])\n",
       "array([  5,  50, 500, ...,   7,  70, 700])\n",
       "\n",
       ">>> np.kron(np.eye(2), np.ones((2,2)))\n",
       "array([[1.,  1.,  0.,  0.],\n",
       "       [1.,  1.,  0.,  0.],\n",
       "       [0.,  0.,  1.,  1.],\n",
       "       [0.,  0.,  1.,  1.]])\n",
       "\n",
       ">>> a = np.arange(100).reshape((2,5,2,5))\n",
       ">>> b = np.arange(24).reshape((2,3,4))\n",
       ">>> c = np.kron(a,b)\n",
       ">>> c.shape\n",
       "(2, 10, 6, 20)\n",
       ">>> I = (1,3,0,2)\n",
       ">>> J = (0,2,1)\n",
       ">>> J1 = (0,) + J             # extend to ndim=4\n",
       ">>> S1 = (1,) + b.shape\n",
       ">>> K = tuple(np.array(I) * np.array(S1) + np.array(J1))\n",
       ">>> c[K] == a[I]*b[J]\n",
       "True\n",
       "\u001b[0;31mClass docstring:\u001b[0m\n",
       "Class to wrap functions with checks for __array_function__ overrides.\n",
       "\n",
       "All arguments are required, and can only be passed by position.\n",
       "\n",
       "Parameters\n",
       "----------\n",
       "dispatcher : function or None\n",
       "    The dispatcher function that returns a single sequence-like object\n",
       "    of all arguments relevant.  It must have the same signature (except\n",
       "    the default values) as the actual implementation.\n",
       "    If ``None``, this is a ``like=`` dispatcher and the\n",
       "    ``_ArrayFunctionDispatcher`` must be called with ``like`` as the\n",
       "    first (additional and positional) argument.\n",
       "implementation : function\n",
       "    Function that implements the operation on NumPy arrays without\n",
       "    overrides.  Arguments passed calling the ``_ArrayFunctionDispatcher``\n",
       "    will be forwarded to this (and the ``dispatcher``) as if using\n",
       "    ``*args, **kwargs``.\n",
       "\n",
       "Attributes\n",
       "----------\n",
       "_implementation : function\n",
       "    The original implementation passed in."
      ]
     },
     "metadata": {},
     "output_type": "display_data"
    }
   ],
   "source": [
    "np.kron?"
   ]
  },
  {
   "cell_type": "code",
   "execution_count": 16,
   "metadata": {
    "colab": {
     "base_uri": "https://localhost:8080/"
    },
    "id": "IVxflV1vl2Ht",
    "outputId": "fda07fcb-152b-49b4-ba2d-d7026da632c4"
   },
   "outputs": [
    {
     "name": "stdout",
     "output_type": "stream",
     "text": [
      "Matriz A\n",
      " [[4 1]\n",
      " [1 4]]\n",
      "Matriz I\n",
      " [[1. 0. 0. 0. 0. 0.]\n",
      " [0. 1. 0. 0. 0. 0.]\n",
      " [0. 0. 1. 0. 0. 0.]\n",
      " [0. 0. 0. 1. 0. 0.]\n",
      " [0. 0. 0. 0. 1. 0.]\n",
      " [0. 0. 0. 0. 0. 1.]]\n",
      "Producto Kronecker $I \\bigotimes A$\n",
      " [[4. 1. 0. 0. 0. 0. 0. 0. 0. 0. 0. 0.]\n",
      " [1. 4. 0. 0. 0. 0. 0. 0. 0. 0. 0. 0.]\n",
      " [0. 0. 4. 1. 0. 0. 0. 0. 0. 0. 0. 0.]\n",
      " [0. 0. 1. 4. 0. 0. 0. 0. 0. 0. 0. 0.]\n",
      " [0. 0. 0. 0. 4. 1. 0. 0. 0. 0. 0. 0.]\n",
      " [0. 0. 0. 0. 1. 4. 0. 0. 0. 0. 0. 0.]\n",
      " [0. 0. 0. 0. 0. 0. 4. 1. 0. 0. 0. 0.]\n",
      " [0. 0. 0. 0. 0. 0. 1. 4. 0. 0. 0. 0.]\n",
      " [0. 0. 0. 0. 0. 0. 0. 0. 4. 1. 0. 0.]\n",
      " [0. 0. 0. 0. 0. 0. 0. 0. 1. 4. 0. 0.]\n",
      " [0. 0. 0. 0. 0. 0. 0. 0. 0. 0. 4. 1.]\n",
      " [0. 0. 0. 0. 0. 0. 0. 0. 0. 0. 1. 4.]]\n"
     ]
    }
   ],
   "source": [
    "# Matriz de discretización del operador diferencial de la ecuación de Laplace\n",
    "A = np.array([[4, 1], [1, 4]])\n",
    "# Matriz identidad\n",
    "I = np.eye(A.shape[0] * 3)\n",
    "\n",
    "# Producto Kronecker\n",
    "print(\"Matriz A\\n\", A)\n",
    "print(\"Matriz I\\n\", I)\n",
    "print(\"Producto Kronecker $I \\\\bigotimes A$\\n\", np.kron(I, A))"
   ]
  },
  {
   "cell_type": "markdown",
   "metadata": {
    "id": "30qnMLNJh0mG"
   },
   "source": [
    "Para calcular la inversa de una matriz se puede utilizar la función ```inv``` que está implementada tanto en ```numpy.linalg.inv``` como en ```scipy.linalg.inv```."
   ]
  },
  {
   "cell_type": "code",
   "execution_count": 17,
   "metadata": {
    "colab": {
     "base_uri": "https://localhost:8080/"
    },
    "id": "4GF7fI87iLeI",
    "outputId": "ac452b86-1fd1-4a3c-ef26-0c2246cd6fc9"
   },
   "outputs": [
    {
     "name": "stdout",
     "output_type": "stream",
     "text": [
      "A=\n",
      " [[ 1 -1]\n",
      " [ 2  4]]\n",
      "A' A=\n",
      " [[1.00000000e+00 1.11022302e-16]\n",
      " [0.00000000e+00 1.00000000e+00]]\n",
      "A' A ~=\n",
      " [[1. 0.]\n",
      " [0. 1.]]\n"
     ]
    }
   ],
   "source": [
    "A = np.array([[1, -1], [2, 4]])\n",
    "Ap = np.linalg.inv(A)\n",
    "print(\"A=\\n\", A)\n",
    "print(\"A' A=\\n\", np.dot(Ap, A))\n",
    "print(\"A' A ~=\\n\", np.rint(np.dot(Ap, A)))"
   ]
  },
  {
   "cell_type": "code",
   "execution_count": 18,
   "metadata": {
    "colab": {
     "base_uri": "https://localhost:8080/"
    },
    "id": "keOLXN5Li1TR",
    "outputId": "d3f148e3-531d-4c62-b4fc-4345e2d6aac5"
   },
   "outputs": [
    {
     "name": "stdout",
     "output_type": "stream",
     "text": [
      "A' A ~=\n",
      " [[1. 0.]\n",
      " [0. 1.]]\n"
     ]
    }
   ],
   "source": [
    "Ap = la.inv(A)\n",
    "print(\"A' A ~=\\n\", np.rint(np.dot(Ap, A)))"
   ]
  },
  {
   "cell_type": "markdown",
   "metadata": {
    "id": "Vwgtf0_yOcCV"
   },
   "source": [
    "Veamos el siguiente **ejemplo**: \n",
    "\n",
    "Supongamos que tenemos $A_{M \\times N}$, $\\Lambda_{M \\times N}$ y $B_{M \\times N}$\n"
   ]
  },
  {
   "cell_type": "code",
   "execution_count": 19,
   "metadata": {
    "colab": {
     "base_uri": "https://localhost:8080/"
    },
    "id": "59Mdqf2JPZfh",
    "outputId": "0df6bfe0-4fe0-4bde-a7d2-eadf6a73d3aa"
   },
   "outputs": [
    {
     "name": "stdout",
     "output_type": "stream",
     "text": [
      "A=\n",
      " [[ 1 -1]\n",
      " [ 2  4]]\n",
      "B=\n",
      " [[-0.5  0.3]\n",
      " [ 0.5 -0.7]]\n",
      "L=\n",
      " [[2. 0.]\n",
      " [0. 3.]]\n"
     ]
    }
   ],
   "source": [
    "A = np.array([[1, -1], [2, 4]])\n",
    "B = np.array([[-0.5, 1.0 / 3.0], [0.5, -2.0 / 3.0]])\n",
    "L = np.diag([2.0, 3.0])\n",
    "\n",
    "print(\"A=\\n\", A)\n",
    "print(\"B=\\n\", np.round(B, 1))\n",
    "print(\"L=\\n\", L)"
   ]
  },
  {
   "cell_type": "markdown",
   "metadata": {
    "id": "ucL41zhgPaqH"
   },
   "source": [
    "y se desea realizar la siguiente operación:\n",
    "\n",
    "$B \\Lambda B^{-1} = A$\n",
    "\n",
    "¿Cómo se pudiera realizar en una sola línea de código?\n"
   ]
  },
  {
   "cell_type": "code",
   "execution_count": 20,
   "metadata": {
    "colab": {
     "base_uri": "https://localhost:8080/"
    },
    "id": "mBtD3-PAPLin",
    "outputId": "a11dea90-aaa5-4e74-f442-f3babe60ec20"
   },
   "outputs": [
    {
     "name": "stdout",
     "output_type": "stream",
     "text": [
      "B L B' = A =\n",
      " [[ 1. -1.]\n",
      " [ 2.  4.]]\n"
     ]
    }
   ],
   "source": [
    "print(\"B L B' = A =\\n\", np.matmul(B, np.matmul(L, la.inv(B))))"
   ]
  },
  {
   "cell_type": "markdown",
   "metadata": {
    "id": "LjTHxmDshLYV"
   },
   "source": [
    "O utilizando el producto **dot** se puede plantear"
   ]
  },
  {
   "cell_type": "code",
   "execution_count": 21,
   "metadata": {
    "colab": {
     "base_uri": "https://localhost:8080/"
    },
    "id": "iVZG1x9thVXy",
    "outputId": "eef08a4f-ad1f-4400-afe4-1a34159322b8"
   },
   "outputs": [
    {
     "name": "stdout",
     "output_type": "stream",
     "text": [
      "B L B' = A =\n",
      " [[ 1. -1.]\n",
      " [ 2.  4.]]\n"
     ]
    }
   ],
   "source": [
    "print(\"B L B' = A =\\n\", np.dot(B, np.dot(L, la.inv(B))))"
   ]
  },
  {
   "cell_type": "markdown",
   "metadata": {
    "id": "3LAMJ9JcFGer"
   },
   "source": [
    "O utilizamos el símbolo ```@```:"
   ]
  },
  {
   "cell_type": "code",
   "execution_count": 22,
   "metadata": {
    "colab": {
     "base_uri": "https://localhost:8080/"
    },
    "id": "-G77oMnkFLoE",
    "outputId": "34f0b0d0-30eb-4d72-c353-72c93b0350d2"
   },
   "outputs": [
    {
     "name": "stdout",
     "output_type": "stream",
     "text": [
      "B L B' = A =\n",
      " [[ 1. -1.]\n",
      " [ 2.  4.]]\n"
     ]
    }
   ],
   "source": [
    "print(\"B L B' = A =\\n\", B @ L @ la.inv(B))"
   ]
  },
  {
   "cell_type": "markdown",
   "metadata": {
    "id": "Ix7PQ1LokYVd"
   },
   "source": [
    "### El tipo Matrix\n",
    "\n",
    "Las operaciones que realizamos en la sección anterior son todavía un poco extensas porque son en realidad operaciones entre ndArrays. Por tal motivo, en el módulo ```numpy``` existe una clase llamda ```matrix``` la cual encapsula las propiedades y comportamientos de una matriz.\n",
    "\n",
    "Con esta clase es posible hacer operaciones como estas:"
   ]
  },
  {
   "cell_type": "code",
   "execution_count": 23,
   "metadata": {
    "colab": {
     "base_uri": "https://localhost:8080/"
    },
    "id": "2ruusXMolN3c",
    "outputId": "386d778a-dbe4-4e26-de97-20f7c3cc170f"
   },
   "outputs": [
    {
     "name": "stdout",
     "output_type": "stream",
     "text": [
      "[[ 1. -1.]\n",
      " [ 2.  4.]]\n"
     ]
    }
   ],
   "source": [
    "A_ = np.matrix(A)\n",
    "B_ = np.matrix(B)\n",
    "L_ = np.matrix(L)\n",
    "\n",
    "Ap_ = B_ * L_ * B_.I\n",
    "\n",
    "print(Ap_)"
   ]
  },
  {
   "cell_type": "markdown",
   "metadata": {
    "id": "k5UWimBZx-kR"
   },
   "source": [
    "de donde ```B.I``` calcula directamente la inversa de la matriz ```B```.\n",
    "\n",
    "También es posible hacer la transformación de la siguiente forma:"
   ]
  },
  {
   "cell_type": "code",
   "execution_count": 24,
   "metadata": {
    "colab": {
     "base_uri": "https://localhost:8080/"
    },
    "id": "5julFCK7yPRZ",
    "outputId": "a6510ef1-73a2-4a44-8d99-394dc1373813"
   },
   "outputs": [
    {
     "name": "stdout",
     "output_type": "stream",
     "text": [
      "Tipo de A_: <class 'numpy.matrix'>\n",
      "Tipo de A: <class 'numpy.ndarray'>\n"
     ]
    }
   ],
   "source": [
    "A_ = np.asmatrix(A)\n",
    "print(\"Tipo de A_:\", type(A_))\n",
    "print(\"Tipo de A:\", type(A))"
   ]
  },
  {
   "cell_type": "markdown",
   "metadata": {
    "id": "tQKBeEdDzL_s"
   },
   "source": [
    "Y de igual manera se puede transformar de una ```matrix``` a un ```ndarray```."
   ]
  },
  {
   "cell_type": "code",
   "execution_count": 25,
   "metadata": {
    "colab": {
     "base_uri": "https://localhost:8080/"
    },
    "id": "2Krk1tZzzTp8",
    "outputId": "941c1871-6497-45cc-97e6-6e265c77c9fc"
   },
   "outputs": [
    {
     "name": "stdout",
     "output_type": "stream",
     "text": [
      "[[ 1. -1.]\n",
      " [ 2.  4.]]\n",
      "Tipo de Ap: <class 'numpy.ndarray'>\n"
     ]
    }
   ],
   "source": [
    "Ap = np.asarray(Ap_)\n",
    "print(Ap)\n",
    "print(\"Tipo de Ap:\", type(Ap))"
   ]
  },
  {
   "cell_type": "markdown",
   "metadata": {
    "id": "bfsUBiXzkEQZ"
   },
   "source": [
    "## Sistemas de ecuaciones\n",
    "\n",
    "### Sistemas de ecuaciones cuadrados\n",
    "\n",
    "La resolución del problema:\n",
    "\n",
    "$Ax=b$.\n",
    "\n",
    "### El módulo SymPy\n",
    "\n",
    "Este módulo de python permite hacer cálculo simbólico lo cual es útil en muchos de los escenarios. Veremos algunos de sus usos en el álgebra lineal y concretamente en la resolución de sistemas de ecuaciones cuadrados."
   ]
  },
  {
   "cell_type": "code",
   "execution_count": 26,
   "metadata": {
    "id": "mlOGF7M30b3w"
   },
   "outputs": [],
   "source": [
    "import sympy\n",
    "\n",
    "sympy.init_printing()  # Para imprimir los resultados de forma más estética"
   ]
  },
  {
   "cell_type": "markdown",
   "metadata": {
    "id": "-orbKTjl07Ec"
   },
   "source": [
    "Creemos la matriz $\\begin{bmatrix}\n",
    "2 & 3\\\\\n",
    "5 & 4\n",
    "\\end{bmatrix}$ utilizando el módulo sympy"
   ]
  },
  {
   "cell_type": "code",
   "execution_count": 27,
   "metadata": {
    "colab": {
     "base_uri": "https://localhost:8080/"
    },
    "id": "_DNqFS381MjV",
    "outputId": "141ed026-4d3c-420a-8ba3-e0cfca2862a1"
   },
   "outputs": [
    {
     "name": "stdout",
     "output_type": "stream",
     "text": [
      "A=\n",
      " Matrix([[2, 3], [5, 4]])\n",
      "Tipo de A: <class 'sympy.matrices.dense.MutableDenseMatrix'>\n"
     ]
    }
   ],
   "source": [
    "A = sympy.Matrix([[2, 3], [5, 4]])\n",
    "print(\"A=\\n\", A)\n",
    "print(\"Tipo de A:\", type(A))"
   ]
  },
  {
   "cell_type": "code",
   "execution_count": 28,
   "metadata": {
    "colab": {
     "base_uri": "https://localhost:8080/",
     "height": 58
    },
    "id": "3iIPbH0r1gc5",
    "outputId": "00906e49-25ca-4b25-bb8f-cfe2f64e4f91"
   },
   "outputs": [
    {
     "data": {
      "image/png": "[encoded data removed]",
      "text/latex": [
       "$\\displaystyle \\left[\\begin{matrix}2 & 3\\\\5 & 4\\end{matrix}\\right]$"
      ],
      "text/plain": [
       "⎡2  3⎤\n",
       "⎢    ⎥\n",
       "⎣5  4⎦"
      ]
     },
     "execution_count": 28,
     "metadata": {},
     "output_type": "execute_result"
    }
   ],
   "source": [
    "A"
   ]
  },
  {
   "cell_type": "markdown",
   "metadata": {
    "id": "9fzbxPic1pxu"
   },
   "source": [
    "El **rango de una matriz** A indica la cantidad de vectores fila o columna linealmente independiente que forman parte de la matriz. \n",
    "\n",
    "Si el rango no coincide con la dimensión de la matriz cuadrada A entonces se dice que tiene rango deficiente y la solución del sistema ya no será única en caso de tener."
   ]
  },
  {
   "cell_type": "code",
   "execution_count": 29,
   "metadata": {
    "colab": {
     "base_uri": "https://localhost:8080/",
     "height": 37
    },
    "id": "uZsGsbaq2BAy",
    "outputId": "f14fb066-1893-4a79-ce05-9642736e578f"
   },
   "outputs": [
    {
     "data": {
      "image/png": "[encoded data removed]",
      "text/latex": [
       "$\\displaystyle 2$"
      ],
      "text/plain": [
       "2"
      ]
     },
     "execution_count": 29,
     "metadata": {},
     "output_type": "execute_result"
    }
   ],
   "source": [
    "A.rank()"
   ]
  },
  {
   "cell_type": "markdown",
   "metadata": {
    "id": "xhLHWiZ92VYj"
   },
   "source": [
    "Por otra parte, la **condición de la matriz** permite saber si el problema es bien-planteado o no y así decidir cuáles son los mejores métodos a utilizar para su resolución.  \n",
    "\n",
    "$cond(a) ≡ ||A^{-1}||\\bullet ||A||$."
   ]
  },
  {
   "cell_type": "code",
   "execution_count": 30,
   "metadata": {
    "colab": {
     "base_uri": "https://localhost:8080/",
     "height": 66
    },
    "id": "B7uiPNK43A9s",
    "outputId": "3b24d5e8-edfb-4907-8333-d24b4c199980"
   },
   "outputs": [
    {
     "data": {
      "image/png": "[encoded data removed]",
      "text/latex": [
       "$\\displaystyle \\frac{\\sqrt{2 \\sqrt{170} + 27}}{\\sqrt{27 - 2 \\sqrt{170}}}$"
      ],
      "text/plain": [
       "  _____________\n",
       "╲╱ 2⋅√170 + 27 \n",
       "───────────────\n",
       "  _____________\n",
       "╲╱ 27 - 2⋅√170 "
      ]
     },
     "execution_count": 30,
     "metadata": {},
     "output_type": "execute_result"
    }
   ],
   "source": [
    "A.condition_number()"
   ]
  },
  {
   "cell_type": "markdown",
   "metadata": {
    "id": "13R5d1R33H7n"
   },
   "source": [
    "Claro que el número de condición anterior está dado de forma simbólica porque así es calculado por ```sympy```. Para evaluarlo se usa"
   ]
  },
  {
   "cell_type": "code",
   "execution_count": 31,
   "metadata": {
    "colab": {
     "base_uri": "https://localhost:8080/",
     "height": 37
    },
    "id": "DpIi4v_c3V9q",
    "outputId": "a243b145-32bb-45f9-ff3d-1bb887837441"
   },
   "outputs": [
    {
     "data": {
      "image/png": "[encoded data removed]",
      "text/latex": [
       "$\\displaystyle 7.58240137440151$"
      ],
      "text/plain": [
       "7.58240137440151"
      ]
     },
     "execution_count": 31,
     "metadata": {},
     "output_type": "execute_result"
    }
   ],
   "source": [
    "sympy.N(A.condition_number())"
   ]
  },
  {
   "cell_type": "markdown",
   "metadata": {
    "id": "Pa71tCGU3gR4"
   },
   "source": [
    "Si hablamos de la norma que ```sympy``` implementa por defecto es la norma de Frobenius\n",
    "\n",
    "$||A||_{F} = \\sqrt{\\sum_{i,j} |a_{ij}|^2 }$."
   ]
  },
  {
   "cell_type": "code",
   "execution_count": 32,
   "metadata": {
    "colab": {
     "base_uri": "https://localhost:8080/",
     "height": 38
    },
    "id": "uo9U0Ehk4Mxv",
    "outputId": "9c5a0b54-d0a5-4cef-d59b-14b4464939f9"
   },
   "outputs": [
    {
     "data": {
      "image/png": "[encoded data removed]",
      "text/latex": [
       "$\\displaystyle 3 \\sqrt{6}$"
      ],
      "text/plain": [
       "3⋅√6"
      ]
     },
     "execution_count": 32,
     "metadata": {},
     "output_type": "execute_result"
    }
   ],
   "source": [
    "A.norm()"
   ]
  },
  {
   "cell_type": "markdown",
   "metadata": {
    "id": "uhXngGlY4uC8"
   },
   "source": [
    "Para calcular otras normas usar el parámetro ```ord```:"
   ]
  },
  {
   "cell_type": "code",
   "execution_count": 33,
   "metadata": {
    "colab": {
     "base_uri": "https://localhost:8080/",
     "height": 37
    },
    "id": "KIslWJxW4Rlq",
    "outputId": "cf1117bf-decf-4100-bb75-9a8c26241c31"
   },
   "outputs": [
    {
     "data": {
      "image/png": "[encoded data removed]",
      "text/latex": [
       "$\\displaystyle 7.28538328578604$"
      ],
      "text/plain": [
       "7.28538328578604"
      ]
     },
     "execution_count": 33,
     "metadata": {},
     "output_type": "execute_result"
    }
   ],
   "source": [
    "sympy.N(A.norm(2))"
   ]
  },
  {
   "cell_type": "markdown",
   "metadata": {
    "id": "miPZuM0p5OBG"
   },
   "source": [
    "Tambien permite el cálculo de determinante"
   ]
  },
  {
   "cell_type": "code",
   "execution_count": 34,
   "metadata": {
    "colab": {
     "base_uri": "https://localhost:8080/",
     "height": 37
    },
    "id": "-CYWbHac42NP",
    "outputId": "49761d41-0021-4086-824e-5eafa296bc0f"
   },
   "outputs": [
    {
     "data": {
      "image/png": "[encoded data removed]",
      "text/latex": [
       "$\\displaystyle -7$"
      ],
      "text/plain": [
       "-7"
      ]
     },
     "execution_count": 34,
     "metadata": {},
     "output_type": "execute_result"
    }
   ],
   "source": [
    "sympy.det(A)"
   ]
  },
  {
   "cell_type": "code",
   "execution_count": 35,
   "metadata": {
    "colab": {
     "base_uri": "https://localhost:8080/",
     "height": 37
    },
    "id": "N2IWxqHWH39x",
    "outputId": "1d624eb5-a5a3-4f1f-acd6-d4dd8c62c17c"
   },
   "outputs": [
    {
     "data": {
      "image/png": "[encoded data removed]",
      "text/latex": [
       "$\\displaystyle -7$"
      ],
      "text/plain": [
       "-7"
      ]
     },
     "execution_count": 35,
     "metadata": {},
     "output_type": "execute_result"
    }
   ],
   "source": [
    "A.det()"
   ]
  },
  {
   "cell_type": "markdown",
   "metadata": {
    "id": "ndu2PZKH6y3f"
   },
   "source": [
    "También es muy útil la función ```sympy.nullspace``` la cual devuelve el espacio nulo de la matriz:\n",
    "\n",
    "El espacio no trivial en el cual $∀ x : A x = \\vec{0}$."
   ]
  },
  {
   "cell_type": "code",
   "execution_count": 36,
   "metadata": {
    "colab": {
     "base_uri": "https://localhost:8080/",
     "height": 58
    },
    "id": "DGr-BRAF5ixM",
    "outputId": "a7a5c5ea-de38-4bc4-eb4d-1c843094a837"
   },
   "outputs": [
    {
     "data": {
      "image/png": "[encoded data removed]",
      "text/latex": [
       "$\\displaystyle \\left[\\begin{matrix}1 & -1\\\\2 & 4\\end{matrix}\\right]$"
      ],
      "text/plain": [
       "⎡1  -1⎤\n",
       "⎢     ⎥\n",
       "⎣2  4 ⎦"
      ]
     },
     "execution_count": 36,
     "metadata": {},
     "output_type": "execute_result"
    }
   ],
   "source": [
    "A = sympy.Matrix(np.array([[1, -1], [2, 4]]))\n",
    "A"
   ]
  },
  {
   "cell_type": "markdown",
   "metadata": {
    "id": "rGMqBktl7v7K"
   },
   "source": [
    "Calcular $(A - 2 I) x = \\vec{0}$"
   ]
  },
  {
   "cell_type": "code",
   "execution_count": 37,
   "metadata": {
    "colab": {
     "base_uri": "https://localhost:8080/",
     "height": 58
    },
    "id": "ORuoFJkG8U91",
    "outputId": "0f085588-40d0-4416-b28e-cca9a068daa2"
   },
   "outputs": [
    {
     "data": {
      "image/png": "[encoded data removed]",
      "text/latex": [
       "$\\displaystyle \\left[\\begin{matrix}-1.0 & -1\\\\2 & 2.0\\end{matrix}\\right]$"
      ],
      "text/plain": [
       "⎡-1.0  -1 ⎤\n",
       "⎢         ⎥\n",
       "⎣ 2    2.0⎦"
      ]
     },
     "execution_count": 37,
     "metadata": {},
     "output_type": "execute_result"
    }
   ],
   "source": [
    "M = A - sympy.Matrix(np.diag([2.0, 2.0]))\n",
    "M"
   ]
  },
  {
   "cell_type": "code",
   "execution_count": 38,
   "metadata": {
    "colab": {
     "base_uri": "https://localhost:8080/",
     "height": 58
    },
    "id": "ArSfQU-H8Ykn",
    "outputId": "8eacc78f-403b-4054-c88c-bc4f15ee9e95"
   },
   "outputs": [
    {
     "data": {
      "image/png": "[encoded data removed]",
      "text/latex": [
       "$\\displaystyle \\left[ \\left[\\begin{matrix}-1.0\\\\1\\end{matrix}\\right]\\right]$"
      ],
      "text/plain": [
       "⎡⎡-1.0⎤⎤\n",
       "⎢⎢    ⎥⎥\n",
       "⎣⎣ 1  ⎦⎦"
      ]
     },
     "execution_count": 38,
     "metadata": {},
     "output_type": "execute_result"
    }
   ],
   "source": [
    "M.nullspace()"
   ]
  },
  {
   "cell_type": "markdown",
   "metadata": {
    "id": "766H4kn48Khb"
   },
   "source": [
    "Y también $(A - 3 I) x = \\vec{0}$"
   ]
  },
  {
   "cell_type": "code",
   "execution_count": 39,
   "metadata": {
    "colab": {
     "base_uri": "https://localhost:8080/",
     "height": 58
    },
    "id": "zBeg3ANp6JhZ",
    "outputId": "2ca0cc93-1503-46e7-d2c1-ff169d2d5503"
   },
   "outputs": [
    {
     "data": {
      "image/png": "[encoded data removed]",
      "text/latex": [
       "$\\displaystyle \\left[\\begin{matrix}-2.0 & -1\\\\2 & 1.0\\end{matrix}\\right]$"
      ],
      "text/plain": [
       "⎡-2.0  -1 ⎤\n",
       "⎢         ⎥\n",
       "⎣ 2    1.0⎦"
      ]
     },
     "execution_count": 39,
     "metadata": {},
     "output_type": "execute_result"
    }
   ],
   "source": [
    "M = A - sympy.Matrix(np.diag([3.0, 3.0]))\n",
    "M"
   ]
  },
  {
   "cell_type": "code",
   "execution_count": 40,
   "metadata": {
    "colab": {
     "base_uri": "https://localhost:8080/",
     "height": 58
    },
    "id": "TQqNVCNN6eBc",
    "outputId": "1e77e233-9c4b-4e13-8ec3-7e8988637e0b"
   },
   "outputs": [
    {
     "data": {
      "image/png": "[encoded data removed]",
      "text/latex": [
       "$\\displaystyle \\left[ \\left[\\begin{matrix}-0.5\\\\1\\end{matrix}\\right]\\right]$"
      ],
      "text/plain": [
       "⎡⎡-0.5⎤⎤\n",
       "⎢⎢    ⎥⎥\n",
       "⎣⎣ 1  ⎦⎦"
      ]
     },
     "execution_count": 40,
     "metadata": {},
     "output_type": "execute_result"
    }
   ],
   "source": [
    "M.nullspace()"
   ]
  },
  {
   "cell_type": "markdown",
   "metadata": {
    "id": "MS_mOc-C8gkF"
   },
   "source": [
    "Más adelante veremos que son los valores y vectores propios de $A$.\n",
    "\n",
    "#### Descomposiciones de matrices y Cálculo simbólico\n",
    "\n",
    "Factorización $A = L U$. Esta descomposición de una matriz $A_{M\\times N}$ está definida como $PA=LU$, donde la $P$ es una matriz de permutaciones, $L$ una matriz triangular inferior (ceros por encima de la diagonal, unos en la diagonal y distinto de cero debajo de la diagonal) y $U$ es una matriz triangular superior (ceros debajo de la diagonal). \n",
    "\n",
    "Estas matrices son calculadas en el prioceso de eliminación de Gauss. La descomposición $L U$ se calcula reduciendo la matriz $A$ a una matriz triangular superior.\n",
    "\n",
    "Veamos como se puede realizar esta descomposición utilizando ```sympy```:"
   ]
  },
  {
   "cell_type": "code",
   "execution_count": 41,
   "metadata": {
    "colab": {
     "base_uri": "https://localhost:8080/",
     "height": 78
    },
    "id": "ZMzusHdh_C-T",
    "outputId": "03e589c6-3deb-47dd-9c52-8e0aefc932bd"
   },
   "outputs": [
    {
     "data": {
      "image/png": "[encoded data removed]",
      "text/latex": [
       "$\\displaystyle \\left[\\begin{matrix}4 & 4 & 8\\\\2 & 8 & 7\\\\1 & 3 & 6\\end{matrix}\\right]$"
      ],
      "text/plain": [
       "⎡4  4  8⎤\n",
       "⎢       ⎥\n",
       "⎢2  8  7⎥\n",
       "⎢       ⎥\n",
       "⎣1  3  6⎦"
      ]
     },
     "execution_count": 41,
     "metadata": {},
     "output_type": "execute_result"
    }
   ],
   "source": [
    "A = sympy.Matrix([[4, 4, 8], [2, 8, 7], [1, 3, 6]])\n",
    "A"
   ]
  },
  {
   "cell_type": "code",
   "execution_count": 42,
   "metadata": {
    "colab": {
     "base_uri": "https://localhost:8080/",
     "height": 78
    },
    "id": "sRSWLsSs_XJ1",
    "outputId": "8db771b4-4168-42cd-eb8a-47220a109f64"
   },
   "outputs": [
    {
     "data": {
      "image/png": "[encoded data removed]",
      "text/latex": [
       "$\\displaystyle \\left( \\left[\\begin{matrix}1 & 0 & 0\\\\\\frac{1}{2} & 1 & 0\\\\\\frac{1}{4} & \\frac{1}{3} & 1\\end{matrix}\\right], \\  \\left[\\begin{matrix}4 & 4 & 8\\\\0 & 6 & 3\\\\0 & 0 & 3\\end{matrix}\\right], \\  \\left[ \\right]\\right)$"
      ],
      "text/plain": [
       "⎛⎡ 1    0   0⎤  ⎡4  4  8⎤    ⎞\n",
       "⎜⎢           ⎥  ⎢       ⎥    ⎟\n",
       "⎜⎢1/2   1   0⎥, ⎢0  6  3⎥, []⎟\n",
       "⎜⎢           ⎥  ⎢       ⎥    ⎟\n",
       "⎝⎣1/4  1/3  1⎦  ⎣0  0  3⎦    ⎠"
      ]
     },
     "execution_count": 42,
     "metadata": {},
     "output_type": "execute_result"
    }
   ],
   "source": [
    "A.LUdecomposition()"
   ]
  },
  {
   "cell_type": "markdown",
   "metadata": {
    "id": "lA4jvp2B_oe0"
   },
   "source": [
    "De esta forma se obtiene $\\left(L, U, P\\right)$. En este caso no fue necesario ning[un intercambio de ecuaciones por lo que la matriz $P$ está vacía."
   ]
  },
  {
   "cell_type": "code",
   "execution_count": 43,
   "metadata": {
    "id": "PGVbGQD__znf"
   },
   "outputs": [],
   "source": [
    "L, U, P = A.LUdecomposition()"
   ]
  },
  {
   "cell_type": "code",
   "execution_count": 44,
   "metadata": {
    "colab": {
     "base_uri": "https://localhost:8080/",
     "height": 78
    },
    "id": "ouTwEfaA_7FN",
    "outputId": "72df2093-293c-4c89-e1f0-4de207ee529d"
   },
   "outputs": [
    {
     "data": {
      "image/png": "[encoded data removed]",
      "text/latex": [
       "$\\displaystyle \\left[\\begin{matrix}4 & 4 & 8\\\\2 & 8 & 7\\\\1 & 3 & 6\\end{matrix}\\right]$"
      ],
      "text/plain": [
       "⎡4  4  8⎤\n",
       "⎢       ⎥\n",
       "⎢2  8  7⎥\n",
       "⎢       ⎥\n",
       "⎣1  3  6⎦"
      ]
     },
     "execution_count": 44,
     "metadata": {},
     "output_type": "execute_result"
    }
   ],
   "source": [
    "L * U"
   ]
  },
  {
   "cell_type": "markdown",
   "metadata": {
    "id": "X-E6xznbBDZu"
   },
   "source": [
    "Si lo que se necesita es resolver el sistema entonces se pueden usar las siguientes variantes"
   ]
  },
  {
   "cell_type": "code",
   "execution_count": 45,
   "metadata": {
    "colab": {
     "base_uri": "https://localhost:8080/",
     "height": 78
    },
    "id": "8pUbDD0vBLGC",
    "outputId": "d31a4821-7505-4071-da71-c69642c725a9"
   },
   "outputs": [
    {
     "data": {
      "image/png": "[encoded data removed]",
      "text/latex": [
       "$\\displaystyle \\left[\\begin{matrix}1\\\\2\\\\1\\end{matrix}\\right]$"
      ],
      "text/plain": [
       "⎡1⎤\n",
       "⎢ ⎥\n",
       "⎢2⎥\n",
       "⎢ ⎥\n",
       "⎣1⎦"
      ]
     },
     "execution_count": 45,
     "metadata": {},
     "output_type": "execute_result"
    }
   ],
   "source": [
    "b = sympy.Matrix([[1], [2], [1]])\n",
    "b"
   ]
  },
  {
   "cell_type": "code",
   "execution_count": 46,
   "metadata": {
    "colab": {
     "base_uri": "https://localhost:8080/",
     "height": 78
    },
    "id": "G4sa2kY3BkXJ",
    "outputId": "d4eddfaa-7a8e-4756-d881-bdc0794cf128"
   },
   "outputs": [
    {
     "data": {
      "image/png": "[encoded data removed]",
      "text/latex": [
       "$\\displaystyle \\left[\\begin{matrix}- \\frac{1}{8}\\\\\\frac{5}{24}\\\\\\frac{1}{12}\\end{matrix}\\right]$"
      ],
      "text/plain": [
       "⎡-1/8⎤\n",
       "⎢    ⎥\n",
       "⎢5/24⎥\n",
       "⎢    ⎥\n",
       "⎣1/12⎦"
      ]
     },
     "execution_count": 46,
     "metadata": {},
     "output_type": "execute_result"
    }
   ],
   "source": [
    "A.solve(b)"
   ]
  },
  {
   "cell_type": "markdown",
   "metadata": {
    "id": "BLTY221BB7eI"
   },
   "source": [
    "O lo que sería lo mismo"
   ]
  },
  {
   "cell_type": "code",
   "execution_count": 47,
   "metadata": {
    "colab": {
     "base_uri": "https://localhost:8080/",
     "height": 78
    },
    "id": "6NFxiTTGBrio",
    "outputId": "86fdc4ea-3247-4f3a-c6b0-879448b8018e"
   },
   "outputs": [
    {
     "data": {
      "image/png": "[encoded data removed]",
      "text/latex": [
       "$\\displaystyle \\left[\\begin{matrix}- \\frac{1}{8}\\\\\\frac{5}{24}\\\\\\frac{1}{12}\\end{matrix}\\right]$"
      ],
      "text/plain": [
       "⎡-1/8⎤\n",
       "⎢    ⎥\n",
       "⎢5/24⎥\n",
       "⎢    ⎥\n",
       "⎣1/12⎦"
      ]
     },
     "execution_count": 47,
     "metadata": {},
     "output_type": "execute_result"
    }
   ],
   "source": [
    "A.LUsolve(b)"
   ]
  },
  {
   "cell_type": "markdown",
   "metadata": {
    "id": "pqO5ocg9KU_X"
   },
   "source": [
    "Evaluando la expresión anterior se obtiene:"
   ]
  },
  {
   "cell_type": "code",
   "execution_count": 48,
   "metadata": {
    "colab": {
     "base_uri": "https://localhost:8080/",
     "height": 78
    },
    "id": "kBlKWHrPKMeh",
    "outputId": "be3a4f2c-a8ea-48c6-989d-93bab6c8634c"
   },
   "outputs": [
    {
     "data": {
      "image/png": "[encoded data removed]",
      "text/latex": [
       "$\\displaystyle \\left[\\begin{matrix}-0.125\\\\0.208333333333333\\\\0.0833333333333333\\end{matrix}\\right]$"
      ],
      "text/plain": [
       "⎡      -0.125      ⎤\n",
       "⎢                  ⎥\n",
       "⎢0.208333333333333 ⎥\n",
       "⎢                  ⎥\n",
       "⎣0.0833333333333333⎦"
      ]
     },
     "execution_count": 48,
     "metadata": {},
     "output_type": "execute_result"
    }
   ],
   "source": [
    "sympy.N(_)"
   ]
  },
  {
   "cell_type": "markdown",
   "metadata": {
    "id": "kjO7H7QHCk-U"
   },
   "source": [
    "La factorización $A = L L^T$ es un caso especial de la $A = LU$. En este caso se explota el hecho que la matriz sea real simétrica y definida positiva para aplicar la descomposición de Cholesky.\n",
    "\n",
    "La matriz $L$ sigue siendo la matriz triangular inferior pero en este caso la matriz $U$ es igual a la transpuesta de $L$. También está el caso de que $LDL^T$ donde $D$ es una matriz diagonal."
   ]
  },
  {
   "cell_type": "code",
   "execution_count": 49,
   "metadata": {
    "colab": {
     "base_uri": "https://localhost:8080/",
     "height": 78
    },
    "id": "O-QvklFqDhl5",
    "outputId": "69bb432b-ac8a-4f6c-9b59-4baca8414d21"
   },
   "outputs": [
    {
     "data": {
      "image/png": "[encoded data removed]",
      "text/latex": [
       "$\\displaystyle \\left[\\begin{matrix}10 & 2 & 1\\\\2 & 1 & -2\\\\1 & -2 & 10\\end{matrix}\\right]$"
      ],
      "text/plain": [
       "⎡10  2   1 ⎤\n",
       "⎢          ⎥\n",
       "⎢2   1   -2⎥\n",
       "⎢          ⎥\n",
       "⎣1   -2  10⎦"
      ]
     },
     "execution_count": 49,
     "metadata": {},
     "output_type": "execute_result"
    }
   ],
   "source": [
    "A = sympy.Matrix([[10, 2, 1], [2, 1, -2], [1, -2, 10]])\n",
    "A"
   ]
  },
  {
   "cell_type": "markdown",
   "metadata": {
    "id": "TNziJzIyE-EN"
   },
   "source": [
    "La matriz A es claramente simétrica. ¿Pero será definida positiva? "
   ]
  },
  {
   "cell_type": "markdown",
   "metadata": {
    "id": "L8RCszs-FJhu"
   },
   "source": [
    "Para saberlo calculemos sus valores propios los cuales son reales y positivos en caso de que la matriz sea definida positiva."
   ]
  },
  {
   "cell_type": "code",
   "execution_count": 50,
   "metadata": {
    "colab": {
     "base_uri": "https://localhost:8080/",
     "height": 47
    },
    "id": "2KkGUuwwEuJt",
    "outputId": "88cf8d9b-aa33-4833-fd94-a085318b814b"
   },
   "outputs": [
    {
     "data": {
      "image/png": "[encoded data removed]",
      "text/latex": [
       "$\\displaystyle \\left\\{ 11 : 1, \\  5 - 2 \\sqrt{6} : 1, \\  2 \\sqrt{6} + 5 : 1\\right\\}$"
      ],
      "text/plain": [
       "{11: 1, 5 - 2⋅√6: 1, 2⋅√6 + 5: 1}"
      ]
     },
     "execution_count": 50,
     "metadata": {},
     "output_type": "execute_result"
    }
   ],
   "source": [
    "A.eigenvals()"
   ]
  },
  {
   "cell_type": "markdown",
   "metadata": {
    "id": "dNvPZrDmFWmS"
   },
   "source": [
    "Cumpliéndose las condiciones podemos proceder a calcular la descomposición de Cholesky:"
   ]
  },
  {
   "cell_type": "code",
   "execution_count": 51,
   "metadata": {
    "id": "Lol0lfJzExMw"
   },
   "outputs": [],
   "source": [
    "L = A.cholesky()"
   ]
  },
  {
   "cell_type": "code",
   "execution_count": 52,
   "metadata": {
    "colab": {
     "base_uri": "https://localhost:8080/",
     "height": 88
    },
    "id": "LVdS7Q1pFsro",
    "outputId": "ea847dbc-aac7-4b34-b3a7-38428347aa15"
   },
   "outputs": [
    {
     "data": {
      "image/png": "[encoded data removed]",
      "text/latex": [
       "$\\displaystyle \\left[\\begin{matrix}\\sqrt{10} & 0 & 0\\\\\\frac{\\sqrt{10}}{5} & \\frac{\\sqrt{15}}{5} & 0\\\\\\frac{\\sqrt{10}}{10} & - \\frac{11 \\sqrt{15}}{15} & \\frac{\\sqrt{66}}{6}\\end{matrix}\\right]$"
      ],
      "text/plain": [
       "⎡√10     0       0 ⎤\n",
       "⎢                  ⎥\n",
       "⎢√10    √15        ⎥\n",
       "⎢───    ───      0 ⎥\n",
       "⎢ 5      5         ⎥\n",
       "⎢                  ⎥\n",
       "⎢√10  -11⋅√15   √66⎥\n",
       "⎢───  ────────  ───⎥\n",
       "⎣ 10     15      6 ⎦"
      ]
     },
     "execution_count": 52,
     "metadata": {},
     "output_type": "execute_result"
    }
   ],
   "source": [
    "L"
   ]
  },
  {
   "cell_type": "code",
   "execution_count": 53,
   "metadata": {
    "colab": {
     "base_uri": "https://localhost:8080/",
     "height": 88
    },
    "id": "BqBT01xzFzHx",
    "outputId": "f257784d-7fde-4385-df8e-270ec85979fb"
   },
   "outputs": [
    {
     "data": {
      "image/png": "[encoded data removed]",
      "text/latex": [
       "$\\displaystyle \\left[\\begin{matrix}\\sqrt{10} & \\frac{\\sqrt{10}}{5} & \\frac{\\sqrt{10}}{10}\\\\0 & \\frac{\\sqrt{15}}{5} & - \\frac{11 \\sqrt{15}}{15}\\\\0 & 0 & \\frac{\\sqrt{66}}{6}\\end{matrix}\\right]$"
      ],
      "text/plain": [
       "⎡     √10    √10   ⎤\n",
       "⎢√10  ───    ───   ⎥\n",
       "⎢      5      10   ⎥\n",
       "⎢                  ⎥\n",
       "⎢     √15  -11⋅√15 ⎥\n",
       "⎢ 0   ───  ────────⎥\n",
       "⎢      5      15   ⎥\n",
       "⎢                  ⎥\n",
       "⎢            √66   ⎥\n",
       "⎢ 0    0     ───   ⎥\n",
       "⎣             6    ⎦"
      ]
     },
     "execution_count": 53,
     "metadata": {},
     "output_type": "execute_result"
    }
   ],
   "source": [
    "L.T"
   ]
  },
  {
   "cell_type": "code",
   "execution_count": 54,
   "metadata": {
    "colab": {
     "base_uri": "https://localhost:8080/",
     "height": 78
    },
    "id": "HOWt9cycF1xL",
    "outputId": "82c1399f-2188-4ceb-99a9-66ab16c3e635"
   },
   "outputs": [
    {
     "data": {
      "image/png": "[encoded data removed]",
      "text/latex": [
       "$\\displaystyle \\left[\\begin{matrix}10 & 2 & 1\\\\2 & 1 & -2\\\\1 & -2 & 10\\end{matrix}\\right]$"
      ],
      "text/plain": [
       "⎡10  2   1 ⎤\n",
       "⎢          ⎥\n",
       "⎢2   1   -2⎥\n",
       "⎢          ⎥\n",
       "⎣1   -2  10⎦"
      ]
     },
     "execution_count": 54,
     "metadata": {},
     "output_type": "execute_result"
    }
   ],
   "source": [
    "L * L.T"
   ]
  },
  {
   "cell_type": "markdown",
   "metadata": {
    "id": "XoFf_ei8GCQz"
   },
   "source": [
    "### El módulo linalg de NumPy y SciPy"
   ]
  },
  {
   "cell_type": "markdown",
   "metadata": {
    "id": "rYT-7JTOGPgt"
   },
   "source": [
    "Veamos cómo hacer las descomposiciones anteriores usando el módulo ```linalg``` de ```numpy``` y ```scipy```.\n",
    "\n",
    "Descomposición $PA=LU$:"
   ]
  },
  {
   "cell_type": "code",
   "execution_count": 55,
   "metadata": {
    "id": "ogGog2QLHQpC"
   },
   "outputs": [],
   "source": [
    "A = np.array([[4, 4, 8], [2, 8, 7], [1, 3, 6]])"
   ]
  },
  {
   "cell_type": "code",
   "execution_count": 56,
   "metadata": {
    "id": "I2xICEO_Hab7"
   },
   "outputs": [],
   "source": [
    "P, L, U = la.lu(A)"
   ]
  },
  {
   "cell_type": "code",
   "execution_count": 57,
   "metadata": {
    "colab": {
     "base_uri": "https://localhost:8080/"
    },
    "id": "on0gVMCFHmDA",
    "outputId": "68f64557-ff60-4a1a-c72b-b8b293a378a8"
   },
   "outputs": [
    {
     "name": "stdout",
     "output_type": "stream",
     "text": [
      "P=\n",
      " [[1. 0. 0.]\n",
      " [0. 1. 0.]\n",
      " [0. 0. 1.]]\n",
      "L=\n",
      " [[1.         0.         0.        ]\n",
      " [0.5        1.         0.        ]\n",
      " [0.25       0.33333333 1.        ]]\n",
      "U=\n",
      " [[4. 4. 8.]\n",
      " [0. 6. 3.]\n",
      " [0. 0. 3.]]\n"
     ]
    }
   ],
   "source": [
    "print(\"P=\\n\", P)\n",
    "print(\"L=\\n\", L)\n",
    "print(\"U=\\n\", U)"
   ]
  },
  {
   "cell_type": "markdown",
   "metadata": {
    "id": "hQF1UwIsIeWK"
   },
   "source": [
    "Para resolver un sistema de ecuaciones se utiliza la siguiente función"
   ]
  },
  {
   "cell_type": "code",
   "execution_count": 58,
   "metadata": {
    "id": "6V0L-RABIZ7i"
   },
   "outputs": [],
   "source": [
    "b = np.array([[1], [2], [1]])"
   ]
  },
  {
   "cell_type": "code",
   "execution_count": 59,
   "metadata": {
    "colab": {
     "base_uri": "https://localhost:8080/"
    },
    "id": "6ECJwcCaInuK",
    "outputId": "6436449a-7b85-4e65-d09e-4226609001f6"
   },
   "outputs": [
    {
     "data": {
      "text/plain": [
       "array([[-0.125     ],\n",
       "       [ 0.20833333],\n",
       "       [ 0.08333333]])"
      ]
     },
     "execution_count": 59,
     "metadata": {},
     "output_type": "execute_result"
    }
   ],
   "source": [
    "la.solve(A, b)"
   ]
  },
  {
   "cell_type": "markdown",
   "metadata": {
    "id": "Kt37JCZSI6dq"
   },
   "source": [
    "En el caso de la descomposición de Cholesky"
   ]
  },
  {
   "cell_type": "code",
   "execution_count": 60,
   "metadata": {
    "colab": {
     "base_uri": "https://localhost:8080/"
    },
    "id": "r8IXivBvJIvI",
    "outputId": "e21213bc-f719-4972-b57b-eba234d53b02"
   },
   "outputs": [
    {
     "name": "stdout",
     "output_type": "stream",
     "text": [
      "L=\n",
      " [[ 3.16227766  0.          0.        ]\n",
      " [ 0.63245553  0.77459667  0.        ]\n",
      " [ 0.31622777 -2.84018779  1.3540064 ]]\n",
      "A = L L.T =\n",
      " [[10.  2.  1.]\n",
      " [ 2.  1. -2.]\n",
      " [ 1. -2. 10.]]\n"
     ]
    }
   ],
   "source": [
    "A = np.array([[10, 2, 1], [2, 1, -2], [1, -2, 10]])\n",
    "L = la.cholesky(A, lower=True)\n",
    "print(\"L=\\n\", L)\n",
    "print(\"A = L L.T =\\n\", np.matmul(L, L.T))"
   ]
  },
  {
   "cell_type": "markdown",
   "metadata": {
    "id": "35MZ_dy2NGCL"
   },
   "source": [
    "#### Métodos iterativos"
   ]
  },
  {
   "cell_type": "code",
   "execution_count": 61,
   "metadata": {
    "id": "5LYXhelrQPHi"
   },
   "outputs": [],
   "source": [
    "from scipy.sparse import linalg as splin"
   ]
  },
  {
   "cell_type": "markdown",
   "metadata": {
    "id": "yV97k3jfNKgb"
   },
   "source": [
    "**Ejemplo:** \n",
    "\n",
    "Método del gradiente conjugado. Este es elegible cuando:\n",
    "\n",
    "*   La matriz es simétrica y definida positiva.\n",
    "*   La matriz es simétrica y no definida positiva peri bien condicionada.\n",
    "*   La matriz no es simétrica pero es bien condicionada."
   ]
  },
  {
   "cell_type": "code",
   "execution_count": 62,
   "metadata": {
    "colab": {
     "base_uri": "https://localhost:8080/"
    },
    "id": "yVDH5NatPPEz",
    "outputId": "cd36af05-21c5-41de-f676-c212a061105b"
   },
   "outputs": [
    {
     "data": {
      "text/plain": [
       "array([-1.,  2.])"
      ]
     },
     "execution_count": 62,
     "metadata": {},
     "output_type": "execute_result"
    }
   ],
   "source": [
    "A = np.array([[2, 3], [5, 4]])\n",
    "b = np.array([4, 3])\n",
    "la.solve(A, b)"
   ]
  },
  {
   "cell_type": "markdown",
   "metadata": {
    "id": "wvflXzHfObHX"
   },
   "source": [
    "Definiendo función delegado para calcular error en cada iteración del método"
   ]
  },
  {
   "cell_type": "code",
   "execution_count": 63,
   "metadata": {
    "id": "JQXRHbDUV9uw"
   },
   "outputs": [],
   "source": [
    "# Solución conocida\n",
    "s = np.array([-1.0, 2.0])"
   ]
  },
  {
   "cell_type": "code",
   "execution_count": 64,
   "metadata": {
    "id": "jSB4ZpnOOaG2"
   },
   "outputs": [],
   "source": [
    "# Almacenar resultado por iteración\n",
    "iterationes = []\n",
    "# Almacenar el error en cada interación\n",
    "norm_dif = []\n",
    "\n",
    "# Definición del método delegado o \"callback\" que será\n",
    "# ejecutado en cada una de las interaciones del método\n",
    "\n",
    "\n",
    "def delegate(xk):\n",
    "    iterationes.append(xk)\n",
    "    norm_dif.append(np.linalg.norm(s - xk))"
   ]
  },
  {
   "cell_type": "markdown",
   "metadata": {
    "id": "WJHCyWyOPGAE"
   },
   "source": [
    "Una implementación del método del gradiente conjugado se encuentra en"
   ]
  },
  {
   "cell_type": "code",
   "execution_count": 65,
   "metadata": {
    "colab": {
     "base_uri": "https://localhost:8080/"
    },
    "id": "ydgkm2eNPGer",
    "outputId": "42d65f15-2ff4-4cb2-edf1-d076bd7fd549"
   },
   "outputs": [
    {
     "data": {
      "text/plain": [
       "(array([-0.99999724,  1.99999715]), 0)"
      ]
     },
     "execution_count": 65,
     "metadata": {},
     "output_type": "execute_result"
    }
   ],
   "source": [
    "splin.cg(A, b, maxiter=1000, tol=1e-6, callback=delegate)"
   ]
  },
  {
   "cell_type": "code",
   "execution_count": 66,
   "metadata": {
    "colab": {
     "base_uri": "https://localhost:8080/",
     "height": 521
    },
    "id": "LSznn8ncT41a",
    "outputId": "6f31d110-79ec-410d-82f9-9ef242ab7bf0"
   },
   "outputs": [
    {
     "data": {
      "image/png": "[encoded data removed]",
      "text/plain": [
       "<Figure size 1000x800 with 1 Axes>"
      ]
     },
     "metadata": {},
     "output_type": "display_data"
    }
   ],
   "source": [
    "iters = np.arange(len(iterationes))\n",
    "\n",
    "fig = plt.figure(figsize=(10, 8))\n",
    "plt.grid()\n",
    "plt.plot(iters, norm_dif, \"k-\", lw=2, label=\"Norma del error\")\n",
    "plt.xlabel(r\"Iteraciones\", fontsize=18)\n",
    "plt.ylabel(r\"$\\left\\|s_{k}-s^{\\ast}\\right\\|_{2}$\", fontsize=18)\n",
    "# plt.xlim(-5, 240)\n",
    "# plt.ylim(-0.3, 2.5)\n",
    "plt.legend(loc=1, fontsize=18)\n",
    "plt.title(\"Norma del error vs iteraciones\")\n",
    "plt.show()\n",
    "plt.close()"
   ]
  },
  {
   "cell_type": "markdown",
   "metadata": {
    "id": "SCKBvnetW8pN"
   },
   "source": [
    "El problema de convergencia del método radica en que la matriz no es ni simétrica ni definida positiva. Sus valores propios son $\\lambda_1 = -1$ y $\\lambda_2 = 7$. Si no son todos positivos no se cumple la condición de definida positiva. \n",
    "\n",
    "Veamos que ocurre si los:"
   ]
  },
  {
   "cell_type": "code",
   "execution_count": 67,
   "metadata": {
    "colab": {
     "base_uri": "https://localhost:8080/"
    },
    "id": "te8I6qjMXKXy",
    "outputId": "c22147b7-25e4-4a96-bec8-f7712543067f"
   },
   "outputs": [
    {
     "data": {
      "text/plain": [
       "array([[3, 1, 0],\n",
       "       [1, 3, 1],\n",
       "       [0, 1, 3]])"
      ]
     },
     "execution_count": 67,
     "metadata": {},
     "output_type": "execute_result"
    }
   ],
   "source": [
    "A = np.array([[3, 1, 0], [1, 3, 1], [0, 1, 3]])\n",
    "A"
   ]
  },
  {
   "cell_type": "code",
   "execution_count": 68,
   "metadata": {
    "colab": {
     "base_uri": "https://localhost:8080/"
    },
    "id": "xOL9AsY6X9Pj",
    "outputId": "1c9d62cf-bb1e-47a2-b142-fb261654ed48"
   },
   "outputs": [
    {
     "data": {
      "text/plain": [
       "array([4., 5., 4.])"
      ]
     },
     "execution_count": 68,
     "metadata": {},
     "output_type": "execute_result"
    }
   ],
   "source": [
    "b = np.array([4.0, 5.0, 4.0])\n",
    "b"
   ]
  },
  {
   "cell_type": "markdown",
   "metadata": {
    "id": "fo0FnjcpYClT"
   },
   "source": [
    "Sus valores propios esta vez son todos positivos: $ \\lambda_1 = 1.58578644$, $ \\lambda_2 = 3$ y $ \\lambda_3 = 4.41421356$."
   ]
  },
  {
   "cell_type": "code",
   "execution_count": 69,
   "metadata": {
    "id": "DbeTLWhpX-pZ"
   },
   "outputs": [],
   "source": [
    "s = np.array([1.0, 1.0, 1.0])\n",
    "\n",
    "# Almacenar resultado por iteración\n",
    "iterationes = []\n",
    "# Almacenar el error en cada interación\n",
    "norm_dif = []"
   ]
  },
  {
   "cell_type": "code",
   "execution_count": 70,
   "metadata": {
    "colab": {
     "base_uri": "https://localhost:8080/"
    },
    "id": "lw3kt2WOZAZx",
    "outputId": "79d9a5e4-95ce-4ed3-ae88-5f0f3a450603"
   },
   "outputs": [
    {
     "data": {
      "text/plain": [
       "(array([1., 1., 1.]), 0)"
      ]
     },
     "execution_count": 70,
     "metadata": {},
     "output_type": "execute_result"
    }
   ],
   "source": [
    "splin.cg(A, b, maxiter=1000, tol=1e-6, callback=delegate)"
   ]
  },
  {
   "cell_type": "code",
   "execution_count": 71,
   "metadata": {
    "colab": {
     "base_uri": "https://localhost:8080/",
     "height": 521
    },
    "id": "qNg94KcMZJ8w",
    "outputId": "b86b907e-be7c-4fb6-db2c-ce99cd76b984"
   },
   "outputs": [
    {
     "data": {
      "image/png": "[encoded data removed]",
      "text/plain": [
       "<Figure size 1000x800 with 1 Axes>"
      ]
     },
     "metadata": {},
     "output_type": "display_data"
    }
   ],
   "source": [
    "iters = np.arange(len(iterationes))\n",
    "\n",
    "fig = plt.figure(figsize=(10, 8))\n",
    "plt.grid()\n",
    "plt.plot(iters, norm_dif, \"k-\", lw=2, label=\"Norma del error\")\n",
    "plt.xlabel(r\"Iteraciones\", fontsize=18)\n",
    "plt.ylabel(r\"$\\left\\|s_{k}-s^{\\ast}\\right\\|_{2}$\", fontsize=18)\n",
    "# plt.xlim(-5, 240)\n",
    "# plt.ylim(-0.3, 2.5)\n",
    "plt.legend(loc=1, fontsize=18)\n",
    "plt.title(\"Norma del error vs Iteraciones\")\n",
    "plt.show()\n",
    "plt.close()"
   ]
  },
  {
   "cell_type": "markdown",
   "metadata": {
    "id": "DSnBSF9bZdwS"
   },
   "source": [
    "También existen implementaciones de los métodos iterativos usuales:"
   ]
  },
  {
   "cell_type": "code",
   "execution_count": 72,
   "metadata": {
    "colab": {
     "base_uri": "https://localhost:8080/"
    },
    "id": "s20fF5ApZo0X",
    "outputId": "b523ae8a-b703-4d9d-eef7-348fdd485a22"
   },
   "outputs": [
    {
     "data": {
      "text/plain": [
       "(array([1., 1., 1.]), 0)"
      ]
     },
     "execution_count": 72,
     "metadata": {},
     "output_type": "execute_result"
    }
   ],
   "source": [
    "splin.cgs(A, b, maxiter=1000, tol=1e-6)"
   ]
  },
  {
   "cell_type": "code",
   "execution_count": 73,
   "metadata": {
    "colab": {
     "base_uri": "https://localhost:8080/"
    },
    "id": "xVENC7-taCzO",
    "outputId": "21010027-854d-40cb-8069-b6503e5d830b"
   },
   "outputs": [
    {
     "data": {
      "text/plain": [
       "(array([1., 1., 1.]), 0)"
      ]
     },
     "execution_count": 73,
     "metadata": {},
     "output_type": "execute_result"
    }
   ],
   "source": [
    "splin.bicg(A, b, maxiter=1000, tol=1e-6)"
   ]
  },
  {
   "cell_type": "code",
   "execution_count": 74,
   "metadata": {
    "colab": {
     "base_uri": "https://localhost:8080/"
    },
    "id": "4pME5cjyZtOG",
    "outputId": "96e0cd3c-11c0-4694-ec32-a172d4bf4e62"
   },
   "outputs": [
    {
     "data": {
      "text/plain": [
       "(array([1., 1., 1.]), 0)"
      ]
     },
     "execution_count": 74,
     "metadata": {},
     "output_type": "execute_result"
    }
   ],
   "source": [
    "splin.gmres(A, b, maxiter=1000, tol=1e-6)"
   ]
  },
  {
   "cell_type": "markdown",
   "metadata": {
    "id": "QLb7n8A6aQtk"
   },
   "source": [
    "#### Análisis de sensibilidad\n",
    "Sea el siguiente sistema:\n",
    "\n",
    "$\\begin{bmatrix}\n",
    "1 & \\sqrt{p}\\\\\n",
    "1 & \\frac{1}{\\sqrt{p}}\n",
    "\\end{bmatrix}\n",
    "\\begin{bmatrix}\n",
    "x_1\\\\\n",
    "x_2\n",
    "\\end{bmatrix} = \n",
    "\\begin{bmatrix}\n",
    "1\\\\\n",
    "2\n",
    "\\end{bmatrix}$"
   ]
  },
  {
   "cell_type": "code",
   "execution_count": 75,
   "metadata": {
    "colab": {
     "base_uri": "https://localhost:8080/",
     "height": 61
    },
    "id": "TripnPBCaT3h",
    "outputId": "b3aa350b-035b-498b-f8fa-16da46653b53"
   },
   "outputs": [
    {
     "data": {
      "image/png": "[encoded data removed]",
      "text/latex": [
       "$\\displaystyle \\left[\\begin{matrix}1 & \\sqrt{p}\\\\1 & \\frac{1}{\\sqrt{p}}\\end{matrix}\\right]$"
      ],
      "text/plain": [
       "⎡1  √p⎤\n",
       "⎢     ⎥\n",
       "⎢   1 ⎥\n",
       "⎢1  ──⎥\n",
       "⎣   √p⎦"
      ]
     },
     "execution_count": 75,
     "metadata": {},
     "output_type": "execute_result"
    }
   ],
   "source": [
    "p = sympy.symbols(\"p\", positive=True)\n",
    "A = sympy.Matrix([[1, sympy.sqrt(p)], [1, 1 / sympy.sqrt(p)]])\n",
    "b = sympy.Matrix([1, 2])\n",
    "A"
   ]
  },
  {
   "cell_type": "code",
   "execution_count": 76,
   "metadata": {
    "colab": {
     "base_uri": "https://localhost:8080/",
     "height": 68
    },
    "id": "GvwLU4Eoa9Ky",
    "outputId": "0f0768a0-abab-446d-8475-38c89f8c3ffb"
   },
   "outputs": [
    {
     "data": {
      "image/png": "[encoded data removed]",
      "text/latex": [
       "$\\displaystyle \\left[\\begin{matrix}\\frac{2 p - 1}{p - 1}\\\\\\frac{1}{- \\sqrt{p} + \\frac{1}{\\sqrt{p}}}\\end{matrix}\\right]$"
      ],
      "text/plain": [
       "⎡2⋅p - 1 ⎤\n",
       "⎢─────── ⎥\n",
       "⎢ p - 1  ⎥\n",
       "⎢        ⎥\n",
       "⎢   1    ⎥\n",
       "⎢────────⎥\n",
       "⎢      1 ⎥\n",
       "⎢-√p + ──⎥\n",
       "⎣      √p⎦"
      ]
     },
     "execution_count": 76,
     "metadata": {},
     "output_type": "execute_result"
    }
   ],
   "source": [
    "x = A.solve(b)\n",
    "x"
   ]
  },
  {
   "cell_type": "markdown",
   "metadata": {
    "id": "HoFkH3DGeJrJ"
   },
   "source": [
    "El problema es que en la medida que $p$ se aproxime al valor $1$ entonces la matriz $A$ se vuelve singular. Esto hace que $A$ sea una matriz *mal condicionada*."
   ]
  },
  {
   "cell_type": "code",
   "execution_count": 77,
   "metadata": {
    "colab": {
     "base_uri": "https://localhost:8080/",
     "height": 106
    },
    "id": "qoISVyVCcRzk",
    "outputId": "fca27a30-05c1-4029-9d67-5d00a69bd389"
   },
   "outputs": [
    {
     "data": {
      "image/png": "[encoded data removed]",
      "text/latex": [
       "$\\displaystyle \\frac{\\max\\left(\\frac{\\sqrt{2} \\sqrt{\\left(p + 1\\right)^{2} - \\sqrt{p^{4} + 14 p^{2} + 1}}}{2 \\sqrt{p}}, \\frac{\\sqrt{2} \\sqrt{\\left(p + 1\\right)^{2} + \\sqrt{p^{4} + 14 p^{2} + 1}}}{2 \\sqrt{p}}\\right)}{\\min\\left(\\frac{\\sqrt{2} \\sqrt{\\left(p + 1\\right)^{2} - \\sqrt{p^{4} + 14 p^{2} + 1}}}{2 \\sqrt{p}}, \\frac{\\sqrt{2} \\sqrt{\\left(p + 1\\right)^{2} + \\sqrt{p^{4} + 14 p^{2} + 1}}}{2 \\sqrt{p}}\\right)}$"
      ],
      "text/plain": [
       "Max(sqrt(2)*sqrt((p + 1)**2 - sqrt(p**4 + 14*p**2 + 1))/(2*sqrt(p)), sqrt(2)*sqrt((p + 1)**2 + sqrt(p**4 + 14*p**2 + 1))/(2*sqrt(p)))\n",
       "─────────────────────────────────────────────────────────────────────────────────────────────────────────────────────────────────────\n",
       "Min(sqrt(2)*sqrt((p + 1)**2 - sqrt(p**4 + 14*p**2 + 1))/(2*sqrt(p)), sqrt(2)*sqrt((p + 1)**2 + sqrt(p**4 + 14*p**2 + 1))/(2*sqrt(p)))"
      ]
     },
     "execution_count": 77,
     "metadata": {},
     "output_type": "execute_result"
    }
   ],
   "source": [
    "A_cond = A.condition_number().simplify()\n",
    "A_cond"
   ]
  },
  {
   "cell_type": "code",
   "execution_count": 78,
   "metadata": {
    "colab": {
     "base_uri": "https://localhost:8080/",
     "height": 37
    },
    "id": "iSuthD76cdhr",
    "outputId": "5d771dc1-d5f5-408d-f9da-83b8905b3c94"
   },
   "outputs": [
    {
     "data": {
      "image/png": "[encoded data removed]",
      "text/latex": [
       "$\\displaystyle \\tilde{\\infty}$"
      ],
      "text/plain": [
       "zoo"
      ]
     },
     "execution_count": 78,
     "metadata": {},
     "output_type": "execute_result"
    }
   ],
   "source": [
    "A_cond.subs(p, 1)"
   ]
  },
  {
   "cell_type": "code",
   "execution_count": 79,
   "metadata": {
    "colab": {
     "base_uri": "https://localhost:8080/",
     "height": 37
    },
    "id": "0CAh0y18d0Q0",
    "outputId": "1248506b-6f48-4d85-9e2b-e9a32bce2578"
   },
   "outputs": [
    {
     "data": {
      "image/png": "[encoded data removed]",
      "text/latex": [
       "$\\displaystyle \\tilde{\\infty}$"
      ],
      "text/plain": [
       "zoo"
      ]
     },
     "execution_count": 79,
     "metadata": {},
     "output_type": "execute_result"
    }
   ],
   "source": [
    "A_cond.subs(p, 1 + 1e-10)"
   ]
  },
  {
   "cell_type": "code",
   "execution_count": 80,
   "metadata": {
    "colab": {
     "base_uri": "https://localhost:8080/",
     "height": 37
    },
    "id": "h3kndtzyd6Vx",
    "outputId": "85f9c81e-b424-4739-8b40-e31b925808b3"
   },
   "outputs": [
    {
     "data": {
      "image/png": "[encoded data removed]",
      "text/latex": [
       "$\\displaystyle 10.1072685627991$"
      ],
      "text/plain": [
       "10.1072685627991"
      ]
     },
     "execution_count": 80,
     "metadata": {},
     "output_type": "execute_result"
    }
   ],
   "source": [
    "A_cond.subs(p, 1.5)"
   ]
  },
  {
   "cell_type": "markdown",
   "metadata": {
    "id": "A7PNPmhOeih_"
   },
   "source": [
    "Hagamos un análisis numérico del problema. El siguiente código resolverá el sistema para un valor dado de $p$."
   ]
  },
  {
   "cell_type": "code",
   "execution_count": 81,
   "metadata": {
    "id": "d86_leT-fFFs"
   },
   "outputs": [],
   "source": [
    "AA = lambda p: np.array([[1, np.sqrt(p)], [1, 1 / np.sqrt(p)]])\n",
    "bb = np.array([1, 2])\n",
    "x_num_sol = lambda p: np.linalg.solve(AA(p), bb)"
   ]
  },
  {
   "cell_type": "code",
   "execution_count": 82,
   "metadata": {
    "id": "ZK8eA6fbf157"
   },
   "outputs": [],
   "source": [
    "x_sym_sol = x"
   ]
  },
  {
   "cell_type": "code",
   "execution_count": 83,
   "metadata": {
    "colab": {
     "base_uri": "https://localhost:8080/",
     "height": 328
    },
    "id": "he5a2CLFfS7-",
    "outputId": "c5d8bcee-c0f6-466a-94e4-dbbbafe88fad"
   },
   "outputs": [
    {
     "data": {
      "image/png": "[encoded data removed]",
      "text/plain": [
       "<Figure size 1200x400 with 2 Axes>"
      ]
     },
     "metadata": {},
     "output_type": "display_data"
    }
   ],
   "source": [
    "# Valores de prueba\n",
    "p_vec = np.linspace(0.9, 1.1, 200)\n",
    "\n",
    "fig, axes = plt.subplots(1, 2, figsize=(12, 4))\n",
    "\n",
    "# Calcular error relativo\n",
    "for n in range(2):\n",
    "    x_sym = np.array([x_sym_sol[n].subs(p, pp).evalf() for pp in p_vec])\n",
    "    x_num = np.array([x_num_sol(pp)[n] for pp in p_vec])\n",
    "\n",
    "    axes[0].plot(p_vec, (x_num - x_sym) / x_sym, \"--\")\n",
    "\n",
    "axes[0].set_title(\"Error relativo de la solución\\n(simbólico - numérico)\", fontsize=18)\n",
    "axes[0].set_xlabel(\"$x$\", fontsize=18)\n",
    "axes[0].set_xlim(0.9, 1.10)\n",
    "\n",
    "# Condición de la matriz\n",
    "axes[1].plot(p_vec, [A_cond.subs(p, pp).evalf() for pp in p_vec], \"-g\")\n",
    "axes[1].set_title(\"Número de condición\", fontsize=18)\n",
    "axes[1].set_xlabel(\"$x$\", fontsize=18)\n",
    "axes[1].set_xlim(0.9, 1.10)\n",
    "\n",
    "plt.show()\n",
    "plt.close()"
   ]
  },
  {
   "cell_type": "markdown",
   "metadata": {
    "id": "crvQnFqZlZWp"
   },
   "source": [
    "### Sistemas de ecuaciones rectangulares"
   ]
  },
  {
   "cell_type": "code",
   "execution_count": 84,
   "metadata": {
    "id": "383vLccAeAc4"
   },
   "outputs": [],
   "source": [
    "x_vars = sympy.symbols(\"x_1, x_2, x_3\")\n",
    "A = sympy.Matrix([[1, 2, 3], [4, 5, 6]])\n",
    "x = sympy.Matrix(x_vars)\n",
    "b = sympy.Matrix([7, 8])"
   ]
  },
  {
   "cell_type": "code",
   "execution_count": 85,
   "metadata": {
    "colab": {
     "base_uri": "https://localhost:8080/",
     "height": 58
    },
    "id": "4_6bXotfeKxX",
    "outputId": "e3efb01d-5b0e-4d7a-92cf-dd0e2542c947"
   },
   "outputs": [
    {
     "data": {
      "image/png": "[encoded data removed]",
      "text/latex": [
       "$\\displaystyle \\left[\\begin{matrix}1 & 2 & 3\\\\4 & 5 & 6\\end{matrix}\\right]$"
      ],
      "text/plain": [
       "⎡1  2  3⎤\n",
       "⎢       ⎥\n",
       "⎣4  5  6⎦"
      ]
     },
     "execution_count": 85,
     "metadata": {},
     "output_type": "execute_result"
    }
   ],
   "source": [
    "A"
   ]
  },
  {
   "cell_type": "code",
   "execution_count": 86,
   "metadata": {
    "colab": {
     "base_uri": "https://localhost:8080/",
     "height": 58
    },
    "id": "4Dpl1yk6eNqp",
    "outputId": "476daad1-3eb2-4043-f2ca-2f7a35644452"
   },
   "outputs": [
    {
     "data": {
      "image/png": "[encoded data removed]",
      "text/latex": [
       "$\\displaystyle \\left[\\begin{matrix}7\\\\8\\end{matrix}\\right]$"
      ],
      "text/plain": [
       "⎡7⎤\n",
       "⎢ ⎥\n",
       "⎣8⎦"
      ]
     },
     "execution_count": 86,
     "metadata": {},
     "output_type": "execute_result"
    }
   ],
   "source": [
    "b"
   ]
  },
  {
   "cell_type": "code",
   "execution_count": 87,
   "metadata": {
    "colab": {
     "base_uri": "https://localhost:8080/",
     "height": 78
    },
    "id": "y4_0JCmiePQa",
    "outputId": "dfaae008-afe4-4740-d0d1-f567e7538f82"
   },
   "outputs": [
    {
     "data": {
      "image/png": "[encoded data removed]",
      "text/latex": [
       "$\\displaystyle \\left[\\begin{matrix}x_{1}\\\\x_{2}\\\\x_{3}\\end{matrix}\\right]$"
      ],
      "text/plain": [
       "⎡x₁⎤\n",
       "⎢  ⎥\n",
       "⎢x₂⎥\n",
       "⎢  ⎥\n",
       "⎣x₃⎦"
      ]
     },
     "execution_count": 87,
     "metadata": {},
     "output_type": "execute_result"
    }
   ],
   "source": [
    "x"
   ]
  },
  {
   "cell_type": "code",
   "execution_count": 88,
   "metadata": {
    "colab": {
     "base_uri": "https://localhost:8080/",
     "height": 58
    },
    "id": "P2DVrpsyfo02",
    "outputId": "fa0804c0-6967-4563-d5f3-06aad559bb1f"
   },
   "outputs": [
    {
     "data": {
      "image/png": "[encoded data removed]",
      "text/latex": [
       "$\\displaystyle \\left\\{ x_{1} : x_{3} - \\frac{19}{3}, \\  x_{2} : \\frac{20}{3} - 2 x_{3}\\right\\}$"
      ],
      "text/plain": [
       "{x₁: x₃ - 19/3, x₂: 20/3 - 2⋅x₃}"
      ]
     },
     "execution_count": 88,
     "metadata": {},
     "output_type": "execute_result"
    }
   ],
   "source": [
    "sympy.solve(A * x - b, x_vars)"
   ]
  },
  {
   "cell_type": "markdown",
   "metadata": {
    "id": "L3ZZItb-n-me"
   },
   "source": [
    "### Problemas de valores y vectores propios\n",
    "\n",
    "El problema de los valores y vectores propios se refiere a la solución del problema $A\\vec{v} = \\lambda \\vec{v}$. \n",
    "\n",
    "Referencia documental: \n",
    "Implementación en scipy https://docs.scipy.org/doc/scipy/reference/generated/scipy.linalg.eig.html\n",
    "\n",
    "Implementación en numpy: https://numpy.org/doc/stable/reference/generated/numpy.linalg.eig.html\n",
    "\n",
    "Por supuesto que pudiera pensarse en diagonalizar la matriz para simplificar el problema pero esto *cambia los valores propios* cosa que no es deseable.\n",
    "\n",
    "En su lugar se reagrupan los terminos para tener \n",
    "\n",
    "$(A - \\lambda I) \\vec{v} = 0$\n",
    "\n",
    "lo cual permite un mejor análisis. Obviando la solución trivial $\\vec{v} = 0$ entonces nos enfocamos en el determinado por el polinómio característico:\n",
    "\n",
    "$det(A - \\lambda I)=0$.\n",
    "\n",
    "Las raíces de este polinomio permiten conocer los valores propios $\\lambda$ y a partir de ellos los espacios de vectores propios asociados que conforman el espacio nulo de la matriz resultante\n",
    "\n",
    "$(A - \\lambda I) \\vec{v} = 0$.\n",
    "\n",
    "En el módulo ```linalg``` de ```scipy``` se encuentran algunas funciones que permiten calcular los vectores y valores propios de forma eficiente (usando rutinas implementadas en la biblioteca ```LAPACK``` de FORTRAN).\n",
    "\n",
    "función                      | Descripción\n",
    "-----------------------------|--------------------------------------\n",
    "```scipy.linalg.eigvals```   | Calcula los valores propios de un problema ordinario o generalizado (ver ejemplos debajo) de valores propios.\n",
    "```scipy.linalg.eig```       | Calcula los valores propios como el anterior pero también brinda los vectores propios asociados (contiguos si vienen en pares).\n",
    "```scipy.linalg.eigh```      | Realiza la misma función que el anterior pero con la particularidad de que está optimizado para matrices simétricas. La implementación en ```LAPACK``` utiliza una descomposición $QR$.\n",
    "```scipy.linalg.eigh_tridiagonal``` |  Resuelve el problema para matrices simétricas tri-diagonales (interesante en el área de las ecuaciones diferenciales en derivadas parciales).\n",
    "\n",
    "**Demo #1:** Veamos un ejemplo de un problema ordinario donde se tiene una matriz $A=\\begin{bmatrix}\n",
    "0 & -1\\\\\n",
    "1 & 0\n",
    "\\end{bmatrix}$.\n"
   ]
  },
  {
   "cell_type": "code",
   "execution_count": 89,
   "metadata": {
    "colab": {
     "base_uri": "https://localhost:8080/"
    },
    "id": "jFHxp4NiY58a",
    "outputId": "a84e4f33-8e0e-4247-f1dd-2658204f9920"
   },
   "outputs": [
    {
     "name": "stdout",
     "output_type": "stream",
     "text": [
      "Valores propios  [0.+1.j 0.-1.j]\n"
     ]
    }
   ],
   "source": [
    "A = np.array([[0.0, -1.0], [1.0, 0.0]])\n",
    "print(\"Valores propios \", la.eigvals(A))"
   ]
  },
  {
   "cell_type": "markdown",
   "metadata": {
    "id": "36pHlZppb3M6"
   },
   "source": [
    "Al calcular los valores propios, estos son números complejos. \n",
    "\n",
    "*Como posible aplicación se puede decir que sus vectores propios asociados definen transformaciones rotatorias en el espacio.*\n",
    "\n",
    "**Demo #2:** Si calculamos un problema general donde definimos otra transformación lineal $B = \\begin{bmatrix}\n",
    "0 & 1 \\\\\n",
    "1 & 1 \n",
    "\\end{bmatrix}$ entonces se tiene el siguiente problema\n",
    "\n",
    "$ A\\vec{v} = \\lambda B\\vec{v} $,\n",
    "\n",
    "$(A-\\lambda B)\\vec{v} = 0$.\n",
    "En el siguiente ejemplo se muestra como resolver este problema."
   ]
  },
  {
   "cell_type": "code",
   "execution_count": 90,
   "metadata": {
    "colab": {
     "base_uri": "https://localhost:8080/"
    },
    "id": "STNAhz3tbKHv",
    "outputId": "97b76828-6f36-4569-b2d2-3e86ff25a876"
   },
   "outputs": [
    {
     "name": "stdout",
     "output_type": "stream",
     "text": [
      "Valores propios  [ 1.+0.j -1.+0.j]\n"
     ]
    }
   ],
   "source": [
    "B = np.array([[0.0, 1.0], [1.0, 1.0]])\n",
    "print(\"Valores propios \", la.eigvals(A, B))"
   ]
  },
  {
   "cell_type": "markdown",
   "metadata": {
    "id": "yeVZNhPbcw9p"
   },
   "source": [
    "En este caso los valores propios son  números reales.\n",
    "\n",
    "**Demo #3:** Supongamos ahora que queremos calcular además los vectores propios asociados. Entonces podemos utilizar la función general ```scipy.linalg.eig```:"
   ]
  },
  {
   "cell_type": "code",
   "execution_count": 91,
   "metadata": {
    "colab": {
     "base_uri": "https://localhost:8080/"
    },
    "id": "BzlD6BI8kPNo",
    "outputId": "ad5e4e34-1268-47f3-b114-f7d7810d74a6"
   },
   "outputs": [
    {
     "name": "stdout",
     "output_type": "stream",
     "text": [
      "Valores propios: [2.+0.j 3.+0.j]\n",
      "Vectores propios normalizados:\n",
      " [[-0.5         0.31622777]\n",
      " [ 0.5        -0.63245553]]\n"
     ]
    }
   ],
   "source": [
    "A2 = np.array([[1, -1], [2, 4]])\n",
    "\n",
    "# Calculando valores y vectores propios\n",
    "e = la.eig(A2)\n",
    "\n",
    "print(\"Valores propios:\", e[0])\n",
    "print(\"Vectores propios normalizados:\\n\", e[1] / la.norm(e[1]))"
   ]
  },
  {
   "cell_type": "markdown",
   "metadata": {
    "id": "AmyfxPv4kxBN"
   },
   "source": [
    "En este acaso se devuelve un array con dos elementos ```[valores propios, vectores propios]```. \n",
    "\n",
    "En el caso anterior el polinomio característico queda \n",
    "\n",
    "$\\lambda^2 - 5 \\lambda + 6 = 0$ \n",
    "\n",
    "con soluciones $\\lambda_1 = 3$ y $\\lambda_2 = 2$.\n",
    "\n",
    "Si se calculan analíticamente los espacios de vectores propios se obtiene \n",
    "\n",
    "$\\vec{v}_{\\lambda_1} = \n",
    "\\begin{bmatrix}\n",
    "-\\frac{1}{2} \\\\\n",
    "\\frac{1}{2}\n",
    "\\end{bmatrix}$ y \n",
    "$\\vec{v}_{\\lambda_2} = \n",
    "\\begin{bmatrix}\n",
    "\\frac{1}{3} \\\\\n",
    "-\\frac{2}{3}\n",
    "\\end{bmatrix}$.\n",
    "\n",
    "Es importante notar que la función ```scipy.linalg.eig``` tiene los parámetros ```left``` y ```right```. Esto significa que\n",
    "\n",
    "*   Si ```left=True``` entonces la matriz de vectores propios $S$ dada será de acuerdo a $A = S \\mathcal{Λ} S^{-1}$.\n",
    "*   Si ```right=True``` entonces la matriz de vectores propios $S$ dada será de acuerdo a $A = S^{-1} \\mathcal{Λ} S$.\n",
    "\n",
    "La diferencia que se muestra en el segundo vector está dada por aproximaciones numéricas."
   ]
  },
  {
   "cell_type": "markdown",
   "metadata": {
    "id": "mQqFsj8lU7gj"
   },
   "source": [
    "## Ejercicios\n",
    "\n",
    "### Ejercicio #1: Resolviendo sistema de ecuaciones con descomposición LU.\n",
    "\n",
    "Dado el siguiente sistema de ecuaciones \n",
    "\n",
    "$\n",
    "\\begin{bmatrix}\n",
    " 1 & 4 & 5 \\\\\n",
    " 6 & 8 & 22\\\\\n",
    "32 & 5 & 5\n",
    "\\end{bmatrix} x = \\begin{bmatrix}\n",
    "1\\\\\n",
    "2\\\\\n",
    "3\n",
    "\\end{bmatrix}\n",
    "$:\n"
   ]
  },
  {
   "cell_type": "code",
   "execution_count": 92,
   "metadata": {
    "id": "BV29gzOv9rXX"
   },
   "outputs": [],
   "source": [
    "# Creando matriz A\n",
    "A = np.array([[1, 4, 5], [6, 8, 22], [32, 5, 5]], dtype=np.float64)\n",
    "# Creando vector b\n",
    "b = np.array([1, 2, 3])"
   ]
  },
  {
   "cell_type": "markdown",
   "metadata": {
    "id": "PxpjUILr7bYP"
   },
   "source": [
    "Descompóngalo en las matrices P, L y U e imprímalas:"
   ]
  },
  {
   "cell_type": "code",
   "execution_count": 93,
   "metadata": {
    "colab": {
     "base_uri": "https://localhost:8080/"
    },
    "id": "U2S6a6Vo7e0O",
    "outputId": "9604f767-aea7-44b2-eb46-fa1ff1dd6842"
   },
   "outputs": [
    {
     "name": "stdout",
     "output_type": "stream",
     "text": [
      "P =\n",
      " [[0. 0. 1.]\n",
      " [0. 1. 0.]\n",
      " [1. 0. 0.]]\n",
      "L =\n",
      " [[1.         0.         0.        ]\n",
      " [0.1875     1.         0.        ]\n",
      " [0.03125    0.54424779 1.        ]]\n",
      "U =\n",
      " [[32.          5.          5.        ]\n",
      " [ 0.          7.0625     21.0625    ]\n",
      " [ 0.          0.         -6.61946903]]\n"
     ]
    }
   ],
   "source": [
    "# Calculando la descomposición LU\n",
    "P, L, U = la.lu(A)\n",
    "\n",
    "print(\"P =\\n\", P)\n",
    "print(\"L =\\n\", L)\n",
    "print(\"U =\\n\", U)"
   ]
  },
  {
   "cell_type": "markdown",
   "metadata": {
    "id": "WV7OZl7yCu57"
   },
   "source": [
    "¿Es A \"igual\" a LU(A)? Utilice la función ```np.allclose``` para ello o la norma de la diferencia entre matrices con una tolerancia de ```ϵ=1e-10```."
   ]
  },
  {
   "cell_type": "code",
   "execution_count": 94,
   "metadata": {
    "colab": {
     "base_uri": "https://localhost:8080/"
    },
    "id": "vOjkbBCZC9GH",
    "outputId": "4b903717-012c-42c4-e8b3-a91081631881"
   },
   "outputs": [
    {
     "name": "stdout",
     "output_type": "stream",
     "text": [
      "¿Es A 'igual' a LU(A)? True\n",
      "También ||A - PLU(A)|| = True\n"
     ]
    }
   ],
   "source": [
    "print(\"¿Es A 'igual' a LU(A)?\", np.allclose(A, P @ L @ U))\n",
    "print(\"También ||A - PLU(A)|| =\", la.norm(A - P @ L @ U) < 1e-10)"
   ]
  },
  {
   "cell_type": "markdown",
   "metadata": {
    "id": "eCOArlIIDXoO"
   },
   "source": [
    "Calcule el determinante de la matriz A usando la función ```la.det```."
   ]
  },
  {
   "cell_type": "code",
   "execution_count": 95,
   "metadata": {
    "colab": {
     "base_uri": "https://localhost:8080/"
    },
    "id": "nKjmXmRNDg1n",
    "outputId": "a9aa1ade-5113-4abf-bad6-82df617a0e71"
   },
   "outputs": [
    {
     "data": {
      "image/png": "[encoded data removed]",
      "text/latex": [
       "$\\displaystyle 1496.0$"
      ],
      "text/plain": [
       "1496.0000000000002"
      ]
     },
     "execution_count": 95,
     "metadata": {},
     "output_type": "execute_result"
    }
   ],
   "source": [
    "la.det(A)"
   ]
  },
  {
   "cell_type": "markdown",
   "metadata": {
    "id": "3bVMYyihm5l3"
   },
   "source": [
    "Calcule ahora el determinante de la matriz $A$ utilizando la descomposición $ LU$ de $A$ sin usar la función ```det```. Recuerde que el determinante de una matriz es igual a la multiplicación de los determinantes de su descomposición. Tenga en cuenta también las permutaciones contenidas en la matriz $P$. "
   ]
  },
  {
   "cell_type": "code",
   "execution_count": 96,
   "metadata": {
    "colab": {
     "base_uri": "https://localhost:8080/"
    },
    "id": "6EKlVAhqDkYQ",
    "outputId": "7e3df8cf-e5aa-4eff-cf45-4ca7e0fdb3b8"
   },
   "outputs": [
    {
     "name": "stdout",
     "output_type": "stream",
     "text": [
      "Determinante de A = 1495.9999999999998\n"
     ]
    }
   ],
   "source": [
    "detL = 1.0\n",
    "detU = np.prod(np.diagonal(U))\n",
    "swaps = (np.diagonal(P).size - np.sum(np.diagonal(P))) - 1\n",
    "detP = np.power(-1, swaps)\n",
    "\n",
    "print(\"Determinante de A =\", detP * detL * detU)"
   ]
  },
  {
   "cell_type": "markdown",
   "metadata": {
    "id": "pkoqcUvrFspw"
   },
   "source": [
    "### Ejercicio #2: Calculando inversa de la matriz A utilizando la descomposición $LU$.\n",
    "\n",
    "Para calcular la matriz inversa de $A$ seguiremos el algoritmo basado en la propiedad\n",
    "\n",
    "$AA^{-1}=I$ donde \n",
    "\n",
    "$\n",
    "A = \\begin{bmatrix}\n",
    "a_{00}      &  \\dots  &  a_{0 n}       \\\\\n",
    "\\vdots &  \\ddots &  \\vdots  \\\\\n",
    "a_{n 0}      &  \\dots  &  a_{nn}  \n",
    "\\end{bmatrix}\n",
    "$ y $ A^{-1} = \\begin{bmatrix}\n",
    "\\sigma_{00}      &  \\dots  &  \\sigma_{0 n}       \\\\\n",
    "\\vdots &  \\ddots &  \\vdots  \\\\\n",
    "\\sigma_{n 0}      &  \\dots  &  \\sigma_{nn}  \n",
    "\\end{bmatrix}\n",
    "$, la cual cumple que\n",
    "\n",
    "$\n",
    "\\begin{bmatrix}\n",
    "a_{00}      &  \\dots  &  a_{0 n}       \\\\\n",
    "\\vdots &  \\ddots &  \\vdots  \\\\\n",
    "a_{n 0}      &  \\dots  &  a_{nn}  \n",
    "\\end{bmatrix}\n",
    "\\begin{bmatrix}\n",
    "\\sigma_{0 j}  \\\\\n",
    "\\vdots        \\\\\n",
    "\\sigma_{n, j} \\\\\n",
    "\\end{bmatrix} = \n",
    "I_j \\, j = 0, \\dots, n\n",
    "$ \n",
    "\n",
    "donde $I_{j}$ es la columna j-ésima de la matriz identidad.\n",
    "\n",
    "Y para ello vamos a aprovechar los beneficios que nos brinda la descomposición $LU$ de la siguiente forma:\n",
    "\n",
    "Primero que todo descompongamos $A$ en las matrices $PA=LU$. Entonces la columna $j$-ésima de la matriz inversa se calcula resolviendo el siguiente sistema\n",
    "\n",
    "$LU \n",
    "\\begin{bmatrix}\n",
    "\\sigma_{0 j}  \\\\\n",
    "\\vdots        \\\\\n",
    "\\sigma_{n, j} \\\\\n",
    "\\end{bmatrix} = P I_j\n",
    "$.\n",
    "\n",
    "Calcule las columnas de la matriz $A^{-1}$ implementando los siguientes algoritmos de \"sustitución hacia adelante\" y \"sustitución hacia atrás\":\n",
    "\n",
    "**Sustitución hacia adelante:**\n",
    "\n",
    "$\\quad  y_{i}=\\dfrac{\\left(I_{ij}-\\sum_{j=0}^{i-1}l_{ij}y_j\\right)}{l_{ii}}$ para $ i=0,1,\\dots,n$"
   ]
  },
  {
   "cell_type": "code",
   "execution_count": 97,
   "metadata": {
    "id": "E1FcBVq09Mpy"
   },
   "outputs": [],
   "source": [
    "def forward_substitution(L, Pb):\n",
    "    # Inicializar la variable y que es igual a Ux.\n",
    "    y = np.zeros_like(Pb, dtype=np.double)\n",
    "\n",
    "    # Por cada fila despejar todas las variables y coeficientes que\n",
    "    # estén situados delante de la diagonal (que tiene valor 1)\n",
    "    # hacia el miembro derecho y dividirlo por el coeficiente de la\n",
    "    # diagonal que es 1. HINT: Para ello utilice el producto interno.\n",
    "    for i in range(0, L.shape[0]):\n",
    "        y[i] = Pb[i] - np.dot(L[i, :i], y[:i])\n",
    "\n",
    "    return y"
   ]
  },
  {
   "cell_type": "markdown",
   "metadata": {
    "id": "_IoSe_QJ9NHw"
   },
   "source": [
    "**Sustitución hacia atrás:**\n",
    "\n",
    "$A^{-1}_{ij}=\\dfrac{\\left(y_{i}-\\sum_{k=i+1}^{n}u_{i k}A^{-1}_{ik}\\right)}{u_{ii}}$\n",
    "\n",
    "donde el índice $j$ se refiere a la columna j-ésima de la matriz $A^{-1}_{ij}$ y el índice $k$ es utilizado por el algoritmo para referirse a las columnas de $U$."
   ]
  },
  {
   "cell_type": "code",
   "execution_count": 98,
   "metadata": {
    "id": "Bs1KqUY8eQJ-"
   },
   "outputs": [],
   "source": [
    "def back_substitution(U, y):\n",
    "    # Iniciar la variable x con zeros del mismo tamaño que y\n",
    "    x = np.zeros_like(y, dtype=np.double)\n",
    "\n",
    "    # Por cada fila en orden inverso, se despejan las variables y\n",
    "    # coeficientes que estén situados detrás de la diagonal.\n",
    "    # Dividir por el valor del elemento en la diagonal.\n",
    "    # HINT: Usar el producto interno.\n",
    "    for i in range(U.shape[0] - 1, -1, -1):\n",
    "        x[i] = (y[i] - np.dot(U[i, i:], x[i:])) / U[i, i]\n",
    "\n",
    "    return x"
   ]
  },
  {
   "cell_type": "markdown",
   "metadata": {
    "id": "8OAhN9sKxamT"
   },
   "source": [
    "Calculando la inversa de la forma:\n",
    "\n",
    "$LU A^{-1}_{j} = P I_{j}$\n",
    "\n",
    "para lo cual hacemos la sustitución \n",
    "\n",
    "$U A^{-1}_{j} = y_{j}$ y quedaría\n",
    "\n",
    "$L y_{j} = P I_{j}$ que pudiera ser resulto con el algoritmo de sustitución hacia adelante.\n",
    "\n",
    "Luego, sustituimos el valor de $y_j$ en la ecuación anterior resolviendo\n",
    "\n",
    "$U A^{-1}_{j} = y_{j}$\n",
    "\n",
    "utilizando el algoritmo de sustitución hacia atrás obteniendo la columna $A^{-1}_{j}$ de la matriz inversa de A.\n",
    "\n",
    "Implemente este algoritmo."
   ]
  },
  {
   "cell_type": "code",
   "execution_count": 99,
   "metadata": {
    "colab": {
     "base_uri": "https://localhost:8080/"
    },
    "id": "yfrNNo-0eSgg",
    "outputId": "41d20b35-d6c0-4a8f-e686-be06baafaea7"
   },
   "outputs": [
    {
     "name": "stdout",
     "output_type": "stream",
     "text": [
      "A_-1 =\n",
      " [[-0.04679144  0.00334225  0.03208556]\n",
      " [ 0.45053476 -0.10360963  0.00534759]\n",
      " [-0.15106952  0.08221925 -0.01069519]]\n",
      "inv(A) =\n",
      " [[-0.04679144  0.00334225  0.03208556]\n",
      " [ 0.45053476 -0.10360963  0.00534759]\n",
      " [-0.15106952  0.08221925 -0.01069519]]\n",
      "A_-1 == inv(A)? True\n"
     ]
    }
   ],
   "source": [
    "# Crear matriz identidad\n",
    "I = np.identity(A.shape[0])\n",
    "\n",
    "# Crear matriz inversa resultante inicialmente vacía\n",
    "A_1 = np.empty_like(I)\n",
    "\n",
    "# Iterar por las columnas de la matriz A_1\n",
    "for j in range(A_1.shape[1]):\n",
    "    # Hacer sustitución hacia adelante (L y = P I_j)\n",
    "    y = forward_substitution(L, P @ I[:, j])\n",
    "    # Hacer sustitución hacia atrás (U x = y)\n",
    "    x = back_substitution(U, y)\n",
    "    # Reemplazar columna de la matriz inversa\n",
    "    A_1[:, j] = x\n",
    "\n",
    "# Calcular inversa de A usando la función del módulo scipy.linalg para comprobación\n",
    "Ap_1 = la.inv(A)\n",
    "\n",
    "# Imprimir los resultados\n",
    "print(\"A_-1 =\\n\", A_1)\n",
    "print(\"inv(A) =\\n\", Ap_1)\n",
    "# Comparar los resultados\n",
    "print(\"A_-1 == inv(A)?\", np.allclose(A_1, Ap_1))"
   ]
  }
 ],
 "metadata": {
  "colab": {
   "collapsed_sections": [],
   "include_colab_link": true,
   "name": "Clase#4 - Álgebra Lineal.ipynb",
   "provenance": [],
   "toc_visible": true
  },
  "kernelspec": {
   "display_name": "Python 3 (ipykernel)",
   "language": "python",
   "name": "python3"
  },
  "language_info": {
   "codemirror_mode": {
    "name": "ipython",
    "version": 3
   },
   "file_extension": ".py",
   "mimetype": "text/x-python",
   "name": "python",
   "nbconvert_exporter": "python",
   "pygments_lexer": "ipython3",
   "version": "3.11.6"
  }
 },
 "nbformat": 4,
 "nbformat_minor": 0
}
