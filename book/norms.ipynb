{
 "cells": [
  {
   "cell_type": "markdown",
   "id": "2f9db9e1",
   "metadata": {},
   "source": [
    "# Normas"
   ]
  },
  {
   "cell_type": "code",
   "execution_count": 1,
   "id": "6998abf2-73ea-4a25-84a4-f6e0056d8fe0",
   "metadata": {},
   "outputs": [],
   "source": [
    "import numpy as np\n",
    "import numpy.linalg as la"
   ]
  },
  {
   "cell_type": "code",
   "execution_count": 11,
   "id": "be6269a2-7acb-474f-80ee-574cc838a264",
   "metadata": {},
   "outputs": [],
   "source": [
    "x = np.random.randint(10, size=(5, 5))"
   ]
  },
  {
   "cell_type": "code",
   "execution_count": 12,
   "id": "8b74535a-0510-441b-9c3c-be8073214579",
   "metadata": {},
   "outputs": [
    {
     "data": {
      "text/plain": [
       "array([[7, 8, 2, 7, 8],\n",
       "       [3, 6, 5, 8, 9],\n",
       "       [8, 4, 5, 3, 2],\n",
       "       [3, 7, 4, 2, 9],\n",
       "       [2, 5, 7, 9, 5]])"
      ]
     },
     "execution_count": 12,
     "metadata": {},
     "output_type": "execute_result"
    }
   ],
   "source": [
    "x"
   ]
  },
  {
   "cell_type": "code",
   "execution_count": 15,
   "id": "f6b3a4ba-3823-4bd1-b611-4cf3204a0535",
   "metadata": {},
   "outputs": [
    {
     "data": {
      "text/plain": [
       "30.099833886584822"
      ]
     },
     "execution_count": 15,
     "metadata": {},
     "output_type": "execute_result"
    }
   ],
   "source": [
    "la.norm(x)"
   ]
  },
  {
   "cell_type": "code",
   "execution_count": 19,
   "id": "fd983f3e-5214-4dab-b369-cc2556ada69f",
   "metadata": {},
   "outputs": [
    {
     "data": {
      "text/plain": [
       "32.0"
      ]
     },
     "execution_count": 19,
     "metadata": {},
     "output_type": "execute_result"
    }
   ],
   "source": [
    "la.norm(x=x, ord=np.inf)"
   ]
  },
  {
   "cell_type": "code",
   "execution_count": 30,
   "id": "c32405e5-354a-4423-b6e6-792baef46514",
   "metadata": {},
   "outputs": [
    {
     "data": {
      "text/plain": [
       "array([32, 31, 22, 25, 28])"
      ]
     },
     "execution_count": 30,
     "metadata": {},
     "output_type": "execute_result"
    }
   ],
   "source": [
    "np.sum(a=x, axis=1)  # por filas"
   ]
  },
  {
   "cell_type": "code",
   "execution_count": 28,
   "id": "d4c616f7-c3d2-4648-8591-9edc43165442",
   "metadata": {},
   "outputs": [
    {
     "data": {
      "text/plain": [
       "28"
      ]
     },
     "execution_count": 28,
     "metadata": {},
     "output_type": "execute_result"
    }
   ],
   "source": [
    "np.sum(x[-1, :])  # Primera fila"
   ]
  },
  {
   "cell_type": "code",
   "execution_count": 31,
   "id": "2484146d-b9b8-4e1b-b17f-6c240e715bf1",
   "metadata": {},
   "outputs": [
    {
     "data": {
      "text/plain": [
       "22.0"
      ]
     },
     "execution_count": 31,
     "metadata": {},
     "output_type": "execute_result"
    }
   ],
   "source": [
    "la.norm(x=x, ord=-np.inf)"
   ]
  },
  {
   "cell_type": "code",
   "execution_count": 47,
   "id": "d06f8013-6b49-4661-89c1-8b81df04f635",
   "metadata": {},
   "outputs": [],
   "source": [
    "A = np.random.randint(10, size=(5, 5))\n",
    "dA = np.random.random(size=(5, 5)) * 1e-2"
   ]
  },
  {
   "cell_type": "code",
   "execution_count": 48,
   "id": "9f0ba960-f0f1-4719-b137-4bd4372cbaa4",
   "metadata": {},
   "outputs": [
    {
     "data": {
      "text/plain": [
       "array([[3, 3, 1, 2, 6],\n",
       "       [8, 1, 8, 5, 9],\n",
       "       [1, 9, 0, 7, 7],\n",
       "       [9, 3, 0, 8, 5],\n",
       "       [1, 4, 5, 4, 4]])"
      ]
     },
     "execution_count": 48,
     "metadata": {},
     "output_type": "execute_result"
    }
   ],
   "source": [
    "A"
   ]
  },
  {
   "cell_type": "code",
   "execution_count": 49,
   "id": "b762148c-c658-4d58-87c2-adb90bc50bc3",
   "metadata": {},
   "outputs": [
    {
     "data": {
      "text/plain": [
       "array([[0.00533732, 0.00698019, 0.00984993, 0.00077721, 0.00865641],\n",
       "       [0.00063524, 0.00260379, 0.00617104, 0.00080314, 0.00774337],\n",
       "       [0.00028186, 0.0023061 , 0.00368198, 0.00443478, 0.00720759],\n",
       "       [0.00589447, 0.00624625, 0.00610618, 0.00218517, 0.00882065],\n",
       "       [0.00548409, 0.00539404, 0.00330818, 0.00436213, 0.00898157]])"
      ]
     },
     "execution_count": 49,
     "metadata": {},
     "output_type": "execute_result"
    }
   ],
   "source": [
    "dA"
   ]
  },
  {
   "cell_type": "code",
   "execution_count": 50,
   "id": "9daba8cb-eac0-4aa6-82be-154886179571",
   "metadata": {},
   "outputs": [
    {
     "data": {
      "text/plain": [
       "array([[3.00533732e+00, 3.00698019e+00, 1.00984993e+00, 2.00077721e+00,\n",
       "        6.00865641e+00],\n",
       "       [8.00063524e+00, 1.00260379e+00, 8.00617104e+00, 5.00080314e+00,\n",
       "        9.00774337e+00],\n",
       "       [1.00028186e+00, 9.00230610e+00, 3.68197812e-03, 7.00443478e+00,\n",
       "        7.00720759e+00],\n",
       "       [9.00589447e+00, 3.00624625e+00, 6.10617649e-03, 8.00218517e+00,\n",
       "        5.00882065e+00],\n",
       "       [1.00548409e+00, 4.00539404e+00, 5.00330818e+00, 4.00436213e+00,\n",
       "        4.00898157e+00]])"
      ]
     },
     "execution_count": 50,
     "metadata": {},
     "output_type": "execute_result"
    }
   ],
   "source": [
    "A + dA"
   ]
  },
  {
   "cell_type": "code",
   "execution_count": 55,
   "id": "3e16b07e-5d0d-451e-8f95-f5a435ebf2fb",
   "metadata": {},
   "outputs": [],
   "source": [
    "b = np.random.randint(10, size=5)\n",
    "db = np.random.random(size=5) * 1e-2"
   ]
  },
  {
   "cell_type": "code",
   "execution_count": 71,
   "id": "caa0adc8-5bb3-4ef4-9f35-f5c9af24ee9e",
   "metadata": {},
   "outputs": [],
   "source": [
    "b = b.reshape(5, 1)"
   ]
  },
  {
   "cell_type": "code",
   "execution_count": 58,
   "id": "55fb0c1b-0e0c-431d-be64-3f0d8f1de317",
   "metadata": {},
   "outputs": [
    {
     "data": {
      "text/plain": [
       "array([0.00179124, 0.00447149, 0.0010013 , 0.00929676, 0.00411637])"
      ]
     },
     "execution_count": 58,
     "metadata": {},
     "output_type": "execute_result"
    }
   ],
   "source": [
    "db"
   ]
  },
  {
   "cell_type": "code",
   "execution_count": 59,
   "id": "25f26836-5752-4dda-9fe6-a00f088b8fea",
   "metadata": {},
   "outputs": [
    {
     "data": {
      "text/plain": [
       "array([3.00179124, 3.00447149, 6.0010013 , 8.00929676, 3.00411637])"
      ]
     },
     "execution_count": 59,
     "metadata": {},
     "output_type": "execute_result"
    }
   ],
   "source": [
    "b + db"
   ]
  },
  {
   "cell_type": "code",
   "execution_count": 73,
   "id": "38f2a6db-b76a-420a-9bfe-4f558356cdfb",
   "metadata": {},
   "outputs": [
    {
     "data": {
      "text/plain": [
       "array([[3, 3, 1, 2, 6, 3],\n",
       "       [8, 1, 8, 5, 9, 3],\n",
       "       [1, 9, 0, 7, 7, 6],\n",
       "       [9, 3, 0, 8, 5, 8],\n",
       "       [1, 4, 5, 4, 4, 3]])"
      ]
     },
     "execution_count": 73,
     "metadata": {},
     "output_type": "execute_result"
    }
   ],
   "source": [
    "np.concatenate((A, b), axis=1 # matriz aumentada"
   ]
  },
  {
   "cell_type": "code",
   "execution_count": 65,
   "id": "c403c8eb-06d8-4166-87ed-c5ab8059a8d0",
   "metadata": {},
   "outputs": [
    {
     "data": {
      "text/plain": [
       "(5, 5)"
      ]
     },
     "execution_count": 65,
     "metadata": {},
     "output_type": "execute_result"
    }
   ],
   "source": [
    "A.shape"
   ]
  },
  {
   "cell_type": "code",
   "execution_count": 72,
   "id": "68ab2738-2709-49e7-b383-7d36da9207d2",
   "metadata": {},
   "outputs": [
    {
     "data": {
      "text/plain": [
       "(5, 1)"
      ]
     },
     "execution_count": 72,
     "metadata": {},
     "output_type": "execute_result"
    }
   ],
   "source": [
    "b.shape"
   ]
  },
  {
   "cell_type": "code",
   "execution_count": 74,
   "id": "7f8c1c4a-d1a6-4101-b7e8-a458934786cb",
   "metadata": {},
   "outputs": [
    {
     "data": {
      "text/plain": [
       "array([[3],\n",
       "       [3],\n",
       "       [6],\n",
       "       [8],\n",
       "       [3]])"
      ]
     },
     "execution_count": 74,
     "metadata": {},
     "output_type": "execute_result"
    }
   ],
   "source": [
    "b"
   ]
  },
  {
   "cell_type": "code",
   "execution_count": 76,
   "id": "9e5653ef-1b22-4123-86b4-82f0bf67dd97",
   "metadata": {},
   "outputs": [
    {
     "data": {
      "text/plain": [
       "60.930772057178615"
      ]
     },
     "execution_count": 76,
     "metadata": {},
     "output_type": "execute_result"
    }
   ],
   "source": [
    "la.cond(A)"
   ]
  },
  {
   "cell_type": "code",
   "execution_count": 77,
   "id": "f49f5e99-24e4-4b12-bec7-12e2358809ff",
   "metadata": {},
   "outputs": [
    {
     "data": {
      "text/plain": [
       "60.21344278652582"
      ]
     },
     "execution_count": 77,
     "metadata": {},
     "output_type": "execute_result"
    }
   ],
   "source": [
    "la.cond(A + dA)"
   ]
  },
  {
   "cell_type": "markdown",
   "id": "0d70489f-8737-47c4-937b-104fe42141cc",
   "metadata": {},
   "source": [
    "$$\n",
    "\\frac{\\|\\Delta \\mathbf{x}\\|}{\\|\\mathbf{x}+\\Delta \\mathbf{x}\\|} \\leq\\|\\mathbf{A}\\|\\left\\|\\mathbf{A}^{-1}\\right\\| \\frac{\\|\\Delta \\mathbf{A}\\|}{\\|\\mathbf{A}\\|}\n",
    "$$"
   ]
  },
  {
   "cell_type": "code",
   "execution_count": 79,
   "id": "58211323-0d05-4864-b8f0-9c9f35c3cebc",
   "metadata": {},
   "outputs": [
    {
     "data": {
      "text/plain": [
       "0.00044789747999778414"
      ]
     },
     "execution_count": 79,
     "metadata": {},
     "output_type": "execute_result"
    }
   ],
   "source": [
    "la.norm(db) / la.norm(b + db)"
   ]
  },
  {
   "cell_type": "code",
   "execution_count": 80,
   "id": "cab9037b-14bf-4e3f-b6a7-6eb7dee8f71c",
   "metadata": {},
   "outputs": [
    {
     "data": {
      "text/plain": [
       "0.07290285213747842"
      ]
     },
     "execution_count": 80,
     "metadata": {},
     "output_type": "execute_result"
    }
   ],
   "source": [
    "la.norm(A) * la.norm(la.inv(A)) * la.norm(dA) / la.norm(A)"
   ]
  },
  {
   "cell_type": "code",
   "execution_count": 81,
   "id": "31b14a96-885e-4125-93ec-ea58e4ec3bc7",
   "metadata": {},
   "outputs": [],
   "source": [
    "M = np.zeros((8, 8))"
   ]
  },
  {
   "cell_type": "code",
   "execution_count": 84,
   "id": "babf23cc-cb23-4f31-8c21-3b6791ec596a",
   "metadata": {},
   "outputs": [
    {
     "data": {
      "text/plain": [
       "array([[0.1, 0.1, 0.1, 0.1, 0.1, 0.1, 0.1, 0.1],\n",
       "       [0.1, 0.1, 0.1, 0.1, 0.1, 0.1, 0.1, 0.1],\n",
       "       [0.1, 0.1, 0.1, 0.1, 0.1, 0.1, 0.1, 0.1],\n",
       "       [0.1, 0.1, 0.1, 0.1, 0.1, 0.1, 0.1, 0.1],\n",
       "       [0.1, 0.1, 0.1, 0.1, 0.1, 0.1, 0.1, 0.1],\n",
       "       [0.1, 0.1, 0.1, 0.1, 0.1, 0.1, 0.1, 0.1],\n",
       "       [0.1, 0.1, 0.1, 0.1, 0.1, 0.1, 0.1, 0.1],\n",
       "       [0.1, 0.1, 0.1, 0.1, 0.1, 0.1, 0.1, 0.1]])"
      ]
     },
     "execution_count": 84,
     "metadata": {},
     "output_type": "execute_result"
    }
   ],
   "source": [
    "M + 0.1"
   ]
  },
  {
   "cell_type": "markdown",
   "id": "c81d7ae8-089a-46bf-827b-76f78bbab9c3",
   "metadata": {},
   "source": [
    "# La próxima sesión es el miércoles a las 6:00 pm"
   ]
  },
  {
   "cell_type": "code",
   "execution_count": null,
   "id": "55097b1d-8ed3-409b-abce-f68dbddd359e",
   "metadata": {},
   "outputs": [],
   "source": []
  }
 ],
 "metadata": {
  "kernelspec": {
   "display_name": "Python 3 (ipykernel)",
   "language": "python",
   "name": "python3"
  },
  "language_info": {
   "codemirror_mode": {
    "name": "ipython",
    "version": 3
   },
   "file_extension": ".py",
   "mimetype": "text/x-python",
   "name": "python",
   "nbconvert_exporter": "python",
   "pygments_lexer": "ipython3",
   "version": "3.11.6"
  }
 },
 "nbformat": 4,
 "nbformat_minor": 5
}
